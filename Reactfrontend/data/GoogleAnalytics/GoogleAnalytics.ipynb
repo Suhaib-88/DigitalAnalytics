{
 "cells": [
  {
   "cell_type": "code",
   "execution_count": 1,
   "id": "867ab6b3",
   "metadata": {},
   "outputs": [],
   "source": [
    "import os\n",
    "import pandas as pd\n",
    "import seaborn as sns\n",
    "import matplotlib.pyplot as plt\n",
    "import numpy as np"
   ]
  },
  {
   "cell_type": "code",
   "execution_count": 2,
   "id": "b7adaad7",
   "metadata": {},
   "outputs": [
    {
     "data": {
      "text/plain": [
       "['.git',\n",
       " '.ipynb_checkpoints',\n",
       " 'avg_sess_month.jpg',\n",
       " 'avg_sess_month.png',\n",
       " 'avg_sess_quarter.jpg',\n",
       " 'bounceMonthly.jpg',\n",
       " 'bounceQuarterly.jpg',\n",
       " 'channelRev.jpg',\n",
       " 'channelRev24.jpg',\n",
       " 'Channels.jpg',\n",
       " 'Channels24.jpg',\n",
       " 'conversionMonthly.jpg',\n",
       " 'conversionQuarterly.jpg',\n",
       " 'Final_data_analytics.csv',\n",
       " 'GA.csv',\n",
       " 'GoogleAnalytics.ipynb',\n",
       " 'LICENSE',\n",
       " 'monthly_sess.png',\n",
       " 'monthly_sess1.png',\n",
       " 'pageViews.jpg',\n",
       " 'Pageviews24.jpg',\n",
       " 'quarterlySess.jpg',\n",
       " 'quarterlySess1.jpg',\n",
       " 'README.md',\n",
       " 'rev.jpg',\n",
       " 'revDaily.jpg',\n",
       " 'revMonth.jpg',\n",
       " 'revQuart.jpg',\n",
       " 'revQuarter.jpg',\n",
       " 'RevSess.jpg',\n",
       " 'RevSess1.jpg',\n",
       " 'RevSess42.jpg',\n",
       " 'sessions.jpg',\n",
       " 'timeViews.jpg',\n",
       " 'views_per_sess42.jpg',\n",
       " 'yearlySess.jpg']"
      ]
     },
     "execution_count": 2,
     "metadata": {},
     "output_type": "execute_result"
    }
   ],
   "source": [
    "os.listdir()"
   ]
  },
  {
   "cell_type": "code",
   "execution_count": 3,
   "id": "db653034",
   "metadata": {},
   "outputs": [],
   "source": [
    "df=pd.read_csv('Final_data_analytics.csv')"
   ]
  },
  {
   "cell_type": "code",
   "execution_count": 18,
   "id": "31f457d2",
   "metadata": {},
   "outputs": [
    {
     "data": {
      "text/html": [
       "<div>\n",
       "<style scoped>\n",
       "    .dataframe tbody tr th:only-of-type {\n",
       "        vertical-align: middle;\n",
       "    }\n",
       "\n",
       "    .dataframe tbody tr th {\n",
       "        vertical-align: top;\n",
       "    }\n",
       "\n",
       "    .dataframe thead th {\n",
       "        text-align: right;\n",
       "    }\n",
       "</style>\n",
       "<table border=\"1\" class=\"dataframe\">\n",
       "  <thead>\n",
       "    <tr style=\"text-align: right;\">\n",
       "      <th></th>\n",
       "      <th>date</th>\n",
       "      <th>Sessions</th>\n",
       "      <th>Page_Views</th>\n",
       "      <th>New_Visitors</th>\n",
       "      <th>Hits</th>\n",
       "      <th>Time_onsite(minutes)</th>\n",
       "      <th>bounces_offsite</th>\n",
       "      <th>Revenue(Rs/.)</th>\n",
       "      <th>Total_Revenues</th>\n",
       "      <th>is_direct</th>\n",
       "      <th>is_mobile</th>\n",
       "      <th>Session_qual</th>\n",
       "      <th>Avg_session_duration(minutes)</th>\n",
       "      <th>Bounce_Rate(%age)</th>\n",
       "      <th>Conversion_Rate(%age)</th>\n",
       "      <th>Channel</th>\n",
       "      <th>day</th>\n",
       "      <th>year</th>\n",
       "      <th>month</th>\n",
       "    </tr>\n",
       "  </thead>\n",
       "  <tbody>\n",
       "    <tr>\n",
       "      <th>0</th>\n",
       "      <td>2020-08-01</td>\n",
       "      <td>1</td>\n",
       "      <td>4</td>\n",
       "      <td>1</td>\n",
       "      <td>7</td>\n",
       "      <td>2</td>\n",
       "      <td>0</td>\n",
       "      <td>0.0</td>\n",
       "      <td>0.0</td>\n",
       "      <td>0</td>\n",
       "      <td>0</td>\n",
       "      <td>0</td>\n",
       "      <td>2</td>\n",
       "      <td>0.00</td>\n",
       "      <td>0.0</td>\n",
       "      <td>Organic Search</td>\n",
       "      <td>1</td>\n",
       "      <td>2020</td>\n",
       "      <td>8</td>\n",
       "    </tr>\n",
       "    <tr>\n",
       "      <th>1</th>\n",
       "      <td>2020-08-01</td>\n",
       "      <td>1</td>\n",
       "      <td>13</td>\n",
       "      <td>1</td>\n",
       "      <td>5</td>\n",
       "      <td>10</td>\n",
       "      <td>0</td>\n",
       "      <td>1699.0</td>\n",
       "      <td>2399.0</td>\n",
       "      <td>0</td>\n",
       "      <td>0</td>\n",
       "      <td>0</td>\n",
       "      <td>10</td>\n",
       "      <td>0.00</td>\n",
       "      <td>100.0</td>\n",
       "      <td>Organic Search</td>\n",
       "      <td>1</td>\n",
       "      <td>2020</td>\n",
       "      <td>8</td>\n",
       "    </tr>\n",
       "    <tr>\n",
       "      <th>2</th>\n",
       "      <td>2020-08-01</td>\n",
       "      <td>1</td>\n",
       "      <td>2</td>\n",
       "      <td>1</td>\n",
       "      <td>7</td>\n",
       "      <td>1</td>\n",
       "      <td>0</td>\n",
       "      <td>0.0</td>\n",
       "      <td>0.0</td>\n",
       "      <td>0</td>\n",
       "      <td>1</td>\n",
       "      <td>0</td>\n",
       "      <td>1</td>\n",
       "      <td>0.00</td>\n",
       "      <td>0.0</td>\n",
       "      <td>Direct</td>\n",
       "      <td>1</td>\n",
       "      <td>2020</td>\n",
       "      <td>8</td>\n",
       "    </tr>\n",
       "    <tr>\n",
       "      <th>3</th>\n",
       "      <td>2020-08-01</td>\n",
       "      <td>1</td>\n",
       "      <td>5</td>\n",
       "      <td>1</td>\n",
       "      <td>16</td>\n",
       "      <td>6</td>\n",
       "      <td>0</td>\n",
       "      <td>0.0</td>\n",
       "      <td>0.0</td>\n",
       "      <td>1</td>\n",
       "      <td>0</td>\n",
       "      <td>0</td>\n",
       "      <td>6</td>\n",
       "      <td>0.00</td>\n",
       "      <td>0.0</td>\n",
       "      <td>Social</td>\n",
       "      <td>1</td>\n",
       "      <td>2020</td>\n",
       "      <td>8</td>\n",
       "    </tr>\n",
       "    <tr>\n",
       "      <th>4</th>\n",
       "      <td>2020-08-01</td>\n",
       "      <td>1</td>\n",
       "      <td>3</td>\n",
       "      <td>1</td>\n",
       "      <td>3</td>\n",
       "      <td>1</td>\n",
       "      <td>0</td>\n",
       "      <td>0.0</td>\n",
       "      <td>0.0</td>\n",
       "      <td>0</td>\n",
       "      <td>0</td>\n",
       "      <td>0</td>\n",
       "      <td>1</td>\n",
       "      <td>0.00</td>\n",
       "      <td>0.0</td>\n",
       "      <td>Organic Search</td>\n",
       "      <td>1</td>\n",
       "      <td>2020</td>\n",
       "      <td>8</td>\n",
       "    </tr>\n",
       "    <tr>\n",
       "      <th>...</th>\n",
       "      <td>...</td>\n",
       "      <td>...</td>\n",
       "      <td>...</td>\n",
       "      <td>...</td>\n",
       "      <td>...</td>\n",
       "      <td>...</td>\n",
       "      <td>...</td>\n",
       "      <td>...</td>\n",
       "      <td>...</td>\n",
       "      <td>...</td>\n",
       "      <td>...</td>\n",
       "      <td>...</td>\n",
       "      <td>...</td>\n",
       "      <td>...</td>\n",
       "      <td>...</td>\n",
       "      <td>...</td>\n",
       "      <td>...</td>\n",
       "      <td>...</td>\n",
       "      <td>...</td>\n",
       "    </tr>\n",
       "    <tr>\n",
       "      <th>55495</th>\n",
       "      <td>2021-07-31</td>\n",
       "      <td>1</td>\n",
       "      <td>1</td>\n",
       "      <td>1</td>\n",
       "      <td>1</td>\n",
       "      <td>2</td>\n",
       "      <td>1</td>\n",
       "      <td>0.0</td>\n",
       "      <td>0.0</td>\n",
       "      <td>0</td>\n",
       "      <td>1</td>\n",
       "      <td>0</td>\n",
       "      <td>2</td>\n",
       "      <td>0.75</td>\n",
       "      <td>0.0</td>\n",
       "      <td>Direct</td>\n",
       "      <td>31</td>\n",
       "      <td>2021</td>\n",
       "      <td>7</td>\n",
       "    </tr>\n",
       "    <tr>\n",
       "      <th>55496</th>\n",
       "      <td>2021-07-31</td>\n",
       "      <td>2</td>\n",
       "      <td>1</td>\n",
       "      <td>0</td>\n",
       "      <td>1</td>\n",
       "      <td>2</td>\n",
       "      <td>1</td>\n",
       "      <td>0.0</td>\n",
       "      <td>0.0</td>\n",
       "      <td>1</td>\n",
       "      <td>1</td>\n",
       "      <td>0</td>\n",
       "      <td>1</td>\n",
       "      <td>0.75</td>\n",
       "      <td>0.0</td>\n",
       "      <td>Organic Search</td>\n",
       "      <td>31</td>\n",
       "      <td>2021</td>\n",
       "      <td>7</td>\n",
       "    </tr>\n",
       "    <tr>\n",
       "      <th>55497</th>\n",
       "      <td>2021-07-31</td>\n",
       "      <td>7</td>\n",
       "      <td>1</td>\n",
       "      <td>0</td>\n",
       "      <td>1</td>\n",
       "      <td>2</td>\n",
       "      <td>1</td>\n",
       "      <td>0.0</td>\n",
       "      <td>0.0</td>\n",
       "      <td>1</td>\n",
       "      <td>1</td>\n",
       "      <td>0</td>\n",
       "      <td>1</td>\n",
       "      <td>0.75</td>\n",
       "      <td>0.0</td>\n",
       "      <td>Direct</td>\n",
       "      <td>31</td>\n",
       "      <td>2021</td>\n",
       "      <td>7</td>\n",
       "    </tr>\n",
       "    <tr>\n",
       "      <th>55498</th>\n",
       "      <td>2021-07-31</td>\n",
       "      <td>1</td>\n",
       "      <td>29</td>\n",
       "      <td>1</td>\n",
       "      <td>1</td>\n",
       "      <td>58</td>\n",
       "      <td>0</td>\n",
       "      <td>5599.0</td>\n",
       "      <td>5999.0</td>\n",
       "      <td>0</td>\n",
       "      <td>0</td>\n",
       "      <td>0</td>\n",
       "      <td>58</td>\n",
       "      <td>0.00</td>\n",
       "      <td>100.0</td>\n",
       "      <td>Organic Search</td>\n",
       "      <td>31</td>\n",
       "      <td>2021</td>\n",
       "      <td>7</td>\n",
       "    </tr>\n",
       "    <tr>\n",
       "      <th>55499</th>\n",
       "      <td>2021-07-31</td>\n",
       "      <td>4</td>\n",
       "      <td>1</td>\n",
       "      <td>0</td>\n",
       "      <td>5</td>\n",
       "      <td>2</td>\n",
       "      <td>1</td>\n",
       "      <td>0.0</td>\n",
       "      <td>0.0</td>\n",
       "      <td>1</td>\n",
       "      <td>1</td>\n",
       "      <td>0</td>\n",
       "      <td>1</td>\n",
       "      <td>0.75</td>\n",
       "      <td>0.0</td>\n",
       "      <td>0</td>\n",
       "      <td>31</td>\n",
       "      <td>2021</td>\n",
       "      <td>7</td>\n",
       "    </tr>\n",
       "  </tbody>\n",
       "</table>\n",
       "<p>55500 rows × 19 columns</p>\n",
       "</div>"
      ],
      "text/plain": [
       "            date  Sessions  Page_Views  New_Visitors  Hits  \\\n",
       "0     2020-08-01         1           4             1     7   \n",
       "1     2020-08-01         1          13             1     5   \n",
       "2     2020-08-01         1           2             1     7   \n",
       "3     2020-08-01         1           5             1    16   \n",
       "4     2020-08-01         1           3             1     3   \n",
       "...          ...       ...         ...           ...   ...   \n",
       "55495 2021-07-31         1           1             1     1   \n",
       "55496 2021-07-31         2           1             0     1   \n",
       "55497 2021-07-31         7           1             0     1   \n",
       "55498 2021-07-31         1          29             1     1   \n",
       "55499 2021-07-31         4           1             0     5   \n",
       "\n",
       "       Time_onsite(minutes)  bounces_offsite  Revenue(Rs/.)  Total_Revenues  \\\n",
       "0                         2                0            0.0             0.0   \n",
       "1                        10                0         1699.0          2399.0   \n",
       "2                         1                0            0.0             0.0   \n",
       "3                         6                0            0.0             0.0   \n",
       "4                         1                0            0.0             0.0   \n",
       "...                     ...              ...            ...             ...   \n",
       "55495                     2                1            0.0             0.0   \n",
       "55496                     2                1            0.0             0.0   \n",
       "55497                     2                1            0.0             0.0   \n",
       "55498                    58                0         5599.0          5999.0   \n",
       "55499                     2                1            0.0             0.0   \n",
       "\n",
       "       is_direct  is_mobile  Session_qual  Avg_session_duration(minutes)  \\\n",
       "0              0          0             0                              2   \n",
       "1              0          0             0                             10   \n",
       "2              0          1             0                              1   \n",
       "3              1          0             0                              6   \n",
       "4              0          0             0                              1   \n",
       "...          ...        ...           ...                            ...   \n",
       "55495          0          1             0                              2   \n",
       "55496          1          1             0                              1   \n",
       "55497          1          1             0                              1   \n",
       "55498          0          0             0                             58   \n",
       "55499          1          1             0                              1   \n",
       "\n",
       "       Bounce_Rate(%age)  Conversion_Rate(%age)         Channel  day  year  \\\n",
       "0                   0.00                    0.0  Organic Search    1  2020   \n",
       "1                   0.00                  100.0  Organic Search    1  2020   \n",
       "2                   0.00                    0.0          Direct    1  2020   \n",
       "3                   0.00                    0.0          Social    1  2020   \n",
       "4                   0.00                    0.0  Organic Search    1  2020   \n",
       "...                  ...                    ...             ...  ...   ...   \n",
       "55495               0.75                    0.0          Direct   31  2021   \n",
       "55496               0.75                    0.0  Organic Search   31  2021   \n",
       "55497               0.75                    0.0          Direct   31  2021   \n",
       "55498               0.00                  100.0  Organic Search   31  2021   \n",
       "55499               0.75                    0.0               0   31  2021   \n",
       "\n",
       "       month  \n",
       "0          8  \n",
       "1          8  \n",
       "2          8  \n",
       "3          8  \n",
       "4          8  \n",
       "...      ...  \n",
       "55495      7  \n",
       "55496      7  \n",
       "55497      7  \n",
       "55498      7  \n",
       "55499      7  \n",
       "\n",
       "[55500 rows x 19 columns]"
      ]
     },
     "execution_count": 18,
     "metadata": {},
     "output_type": "execute_result"
    }
   ],
   "source": [
    "df"
   ]
  },
  {
   "cell_type": "code",
   "execution_count": 4,
   "id": "b1c9c773",
   "metadata": {},
   "outputs": [],
   "source": [
    "df['date']=pd.to_datetime(df['date'])"
   ]
  },
  {
   "cell_type": "code",
   "execution_count": 5,
   "id": "8a05e530",
   "metadata": {},
   "outputs": [],
   "source": [
    "df['day']=df.date.apply(lambda x:x.day)\n",
    "df['year']=df.date.apply(lambda x:x.year)\n",
    "df['month']=df.date.apply(lambda x:x.month)"
   ]
  },
  {
   "cell_type": "code",
   "execution_count": 6,
   "id": "731aecbe",
   "metadata": {},
   "outputs": [],
   "source": [
    "df_20=df[df['year']==2020]\n",
    "df_21=df[df['year']==2021]"
   ]
  },
  {
   "cell_type": "code",
   "execution_count": 59,
   "id": "960afa2f",
   "metadata": {},
   "outputs": [
    {
     "data": {
      "text/plain": [
       "month\n",
       "8     12.623\n",
       "9     12.785\n",
       "10    11.738\n",
       "11    11.045\n",
       "12    11.126\n",
       "Name: Sessions, dtype: float64"
      ]
     },
     "execution_count": 59,
     "metadata": {},
     "output_type": "execute_result"
    }
   ],
   "source": [
    "df_num=df_20.groupby('month')['Sessions'].sum()/1000\n",
    "df_num"
   ]
  },
  {
   "cell_type": "code",
   "execution_count": 60,
   "id": "763402f6",
   "metadata": {},
   "outputs": [
    {
     "data": {
      "text/plain": [
       "month\n",
       "1    11.634\n",
       "2     8.204\n",
       "3     9.886\n",
       "4    12.511\n",
       "5    10.276\n",
       "6    10.656\n",
       "7    10.572\n",
       "Name: Sessions, dtype: float64"
      ]
     },
     "execution_count": 60,
     "metadata": {},
     "output_type": "execute_result"
    }
   ],
   "source": [
    "df_21.groupby('month')['Sessions'].sum()/1000"
   ]
  },
  {
   "cell_type": "code",
   "execution_count": 29,
   "id": "54dbd0a7",
   "metadata": {
    "scrolled": true
   },
   "outputs": [
    {
     "data": {
      "text/plain": [
       "11088.0"
      ]
     },
     "execution_count": 29,
     "metadata": {},
     "output_type": "execute_result"
    }
   ],
   "source": [
    "(sum(df_20.groupby('month')['Sessions'].sum().values) +sum(df_21.groupby('month')['Sessions'].sum().values))/12"
   ]
  },
  {
   "cell_type": "code",
   "execution_count": 17,
   "id": "2b8d00ba",
   "metadata": {},
   "outputs": [],
   "source": [
    "def month_name(month):\n",
    "    names = {\n",
    "        1: 'January',\n",
    "        2: 'February',\n",
    "        3: 'March',\n",
    "        4: 'April',\n",
    "        5: 'May',\n",
    "        6: 'June',\n",
    "        7: 'July',\n",
    "        8: 'August',\n",
    "        9: 'September',\n",
    "        10: 'October',\n",
    "        11: 'November',\n",
    "        12: 'December',\n",
    "    }\n",
    "    return names[month] "
   ]
  },
  {
   "cell_type": "code",
   "execution_count": 20,
   "id": "e065ed5a",
   "metadata": {},
   "outputs": [
    {
     "data": {
      "text/plain": [
       "array(['January', 'February', 'March', 'April', 'May', 'June', 'July'],\n",
       "      dtype=object)"
      ]
     },
     "execution_count": 20,
     "metadata": {},
     "output_type": "execute_result"
    }
   ],
   "source": [
    "df_21.month.apply(lambda x:month_name(x)).unique()"
   ]
  },
  {
   "cell_type": "code",
   "execution_count": 34,
   "id": "dba05c32",
   "metadata": {
    "scrolled": true
   },
   "outputs": [
    {
     "data": {
      "text/plain": [
       "13680.285714285714"
      ]
     },
     "execution_count": 34,
     "metadata": {},
     "output_type": "execute_result"
    }
   ],
   "source": [
    "sum(df_21.groupby('month')['Hits'].sum().values)/7"
   ]
  },
  {
   "cell_type": "code",
   "execution_count": 39,
   "id": "8c79475a",
   "metadata": {},
   "outputs": [
    {
     "data": {
      "text/plain": [
       "0.28536720530507126"
      ]
     },
     "execution_count": 39,
     "metadata": {},
     "output_type": "execute_result"
    }
   ],
   "source": [
    "(sum(df_21.groupby('month')['Conversion_Rate(%age)'].mean().values)+sum(df_20.groupby('month')['Conversion_Rate(%age)'].mean().values))/12"
   ]
  },
  {
   "cell_type": "code",
   "execution_count": 48,
   "id": "f95b5e55",
   "metadata": {},
   "outputs": [
    {
     "data": {
      "text/plain": [
       "Channel\n",
       "(Other)           0.000470\n",
       "0                 0.000052\n",
       "Affiliates        0.020321\n",
       "Direct            0.195787\n",
       "Display           0.007393\n",
       "Organic Search    0.626908\n",
       "Paid Search       0.031046\n",
       "Referral          0.091414\n",
       "Social            0.026608\n",
       "Name: Hits, dtype: float64"
      ]
     },
     "execution_count": 48,
     "metadata": {},
     "output_type": "execute_result"
    }
   ],
   "source": [
    "df_21.groupby('Channel')['Hits'].sum()/95762"
   ]
  },
  {
   "cell_type": "code",
   "execution_count": 69,
   "id": "cdc2bcc0",
   "metadata": {},
   "outputs": [
    {
     "data": {
      "text/plain": [
       "92605"
      ]
     },
     "execution_count": 69,
     "metadata": {},
     "output_type": "execute_result"
    }
   ],
   "source": [
    "df_21['Page_Views'].sum()"
   ]
  },
  {
   "cell_type": "code",
   "execution_count": 70,
   "id": "7ad03ec8",
   "metadata": {},
   "outputs": [
    {
     "data": {
      "text/plain": [
       "25256"
      ]
     },
     "execution_count": 70,
     "metadata": {},
     "output_type": "execute_result"
    }
   ],
   "source": [
    "df_21['New_Visitors'].sum()"
   ]
  },
  {
   "cell_type": "code",
   "execution_count": 78,
   "id": "676688cc",
   "metadata": {},
   "outputs": [
    {
     "data": {
      "text/plain": [
       "0.5259257229831916"
      ]
     },
     "execution_count": 78,
     "metadata": {},
     "output_type": "execute_result"
    }
   ],
   "source": [
    "df_21['Bounce_Rate(%age)'].mean()"
   ]
  },
  {
   "cell_type": "code",
   "execution_count": 79,
   "id": "b6004aab",
   "metadata": {},
   "outputs": [
    {
     "data": {
      "text/html": [
       "<div>\n",
       "<style scoped>\n",
       "    .dataframe tbody tr th:only-of-type {\n",
       "        vertical-align: middle;\n",
       "    }\n",
       "\n",
       "    .dataframe tbody tr th {\n",
       "        vertical-align: top;\n",
       "    }\n",
       "\n",
       "    .dataframe thead th {\n",
       "        text-align: right;\n",
       "    }\n",
       "</style>\n",
       "<table border=\"1\" class=\"dataframe\">\n",
       "  <thead>\n",
       "    <tr style=\"text-align: right;\">\n",
       "      <th></th>\n",
       "      <th>date</th>\n",
       "      <th>Sessions</th>\n",
       "      <th>Page_Views</th>\n",
       "      <th>New_Visitors</th>\n",
       "      <th>Hits</th>\n",
       "      <th>Time_onsite(minutes)</th>\n",
       "      <th>bounces_offsite</th>\n",
       "      <th>Revenue(Rs/.)</th>\n",
       "      <th>Total_Revenues</th>\n",
       "      <th>is_direct</th>\n",
       "      <th>is_mobile</th>\n",
       "      <th>Session_qual</th>\n",
       "      <th>Avg_session_duration(minutes)</th>\n",
       "      <th>Bounce_Rate(%age)</th>\n",
       "      <th>Conversion_Rate(%age)</th>\n",
       "      <th>Channel</th>\n",
       "      <th>year</th>\n",
       "      <th>month</th>\n",
       "    </tr>\n",
       "  </thead>\n",
       "  <tbody>\n",
       "    <tr>\n",
       "      <th>22650</th>\n",
       "      <td>2021-01-01</td>\n",
       "      <td>1</td>\n",
       "      <td>1</td>\n",
       "      <td>1</td>\n",
       "      <td>1</td>\n",
       "      <td>2</td>\n",
       "      <td>1</td>\n",
       "      <td>0.0</td>\n",
       "      <td>0.0</td>\n",
       "      <td>0</td>\n",
       "      <td>0</td>\n",
       "      <td>0</td>\n",
       "      <td>2</td>\n",
       "      <td>1.00</td>\n",
       "      <td>0.0</td>\n",
       "      <td>Direct</td>\n",
       "      <td>2021</td>\n",
       "      <td>1</td>\n",
       "    </tr>\n",
       "    <tr>\n",
       "      <th>22651</th>\n",
       "      <td>2021-01-01</td>\n",
       "      <td>1</td>\n",
       "      <td>1</td>\n",
       "      <td>1</td>\n",
       "      <td>1</td>\n",
       "      <td>2</td>\n",
       "      <td>1</td>\n",
       "      <td>0.0</td>\n",
       "      <td>0.0</td>\n",
       "      <td>0</td>\n",
       "      <td>0</td>\n",
       "      <td>0</td>\n",
       "      <td>2</td>\n",
       "      <td>1.00</td>\n",
       "      <td>0.0</td>\n",
       "      <td>Direct</td>\n",
       "      <td>2021</td>\n",
       "      <td>1</td>\n",
       "    </tr>\n",
       "    <tr>\n",
       "      <th>22652</th>\n",
       "      <td>2021-01-01</td>\n",
       "      <td>12</td>\n",
       "      <td>1</td>\n",
       "      <td>0</td>\n",
       "      <td>1</td>\n",
       "      <td>2</td>\n",
       "      <td>1</td>\n",
       "      <td>0.0</td>\n",
       "      <td>0.0</td>\n",
       "      <td>1</td>\n",
       "      <td>0</td>\n",
       "      <td>0</td>\n",
       "      <td>1</td>\n",
       "      <td>1.00</td>\n",
       "      <td>0.0</td>\n",
       "      <td>Direct</td>\n",
       "      <td>2021</td>\n",
       "      <td>1</td>\n",
       "    </tr>\n",
       "    <tr>\n",
       "      <th>22653</th>\n",
       "      <td>2021-01-01</td>\n",
       "      <td>1</td>\n",
       "      <td>1</td>\n",
       "      <td>1</td>\n",
       "      <td>1</td>\n",
       "      <td>2</td>\n",
       "      <td>1</td>\n",
       "      <td>0.0</td>\n",
       "      <td>0.0</td>\n",
       "      <td>0</td>\n",
       "      <td>0</td>\n",
       "      <td>0</td>\n",
       "      <td>2</td>\n",
       "      <td>1.00</td>\n",
       "      <td>0.0</td>\n",
       "      <td>Organic Search</td>\n",
       "      <td>2021</td>\n",
       "      <td>1</td>\n",
       "    </tr>\n",
       "    <tr>\n",
       "      <th>22654</th>\n",
       "      <td>2021-01-01</td>\n",
       "      <td>1</td>\n",
       "      <td>1</td>\n",
       "      <td>1</td>\n",
       "      <td>1</td>\n",
       "      <td>2</td>\n",
       "      <td>1</td>\n",
       "      <td>0.0</td>\n",
       "      <td>0.0</td>\n",
       "      <td>0</td>\n",
       "      <td>0</td>\n",
       "      <td>0</td>\n",
       "      <td>2</td>\n",
       "      <td>1.00</td>\n",
       "      <td>0.0</td>\n",
       "      <td>Paid Search</td>\n",
       "      <td>2021</td>\n",
       "      <td>1</td>\n",
       "    </tr>\n",
       "    <tr>\n",
       "      <th>...</th>\n",
       "      <td>...</td>\n",
       "      <td>...</td>\n",
       "      <td>...</td>\n",
       "      <td>...</td>\n",
       "      <td>...</td>\n",
       "      <td>...</td>\n",
       "      <td>...</td>\n",
       "      <td>...</td>\n",
       "      <td>...</td>\n",
       "      <td>...</td>\n",
       "      <td>...</td>\n",
       "      <td>...</td>\n",
       "      <td>...</td>\n",
       "      <td>...</td>\n",
       "      <td>...</td>\n",
       "      <td>...</td>\n",
       "      <td>...</td>\n",
       "      <td>...</td>\n",
       "    </tr>\n",
       "    <tr>\n",
       "      <th>55495</th>\n",
       "      <td>2021-07-31</td>\n",
       "      <td>1</td>\n",
       "      <td>1</td>\n",
       "      <td>1</td>\n",
       "      <td>1</td>\n",
       "      <td>2</td>\n",
       "      <td>1</td>\n",
       "      <td>0.0</td>\n",
       "      <td>0.0</td>\n",
       "      <td>0</td>\n",
       "      <td>1</td>\n",
       "      <td>0</td>\n",
       "      <td>2</td>\n",
       "      <td>0.75</td>\n",
       "      <td>0.0</td>\n",
       "      <td>Direct</td>\n",
       "      <td>2021</td>\n",
       "      <td>7</td>\n",
       "    </tr>\n",
       "    <tr>\n",
       "      <th>55496</th>\n",
       "      <td>2021-07-31</td>\n",
       "      <td>2</td>\n",
       "      <td>1</td>\n",
       "      <td>0</td>\n",
       "      <td>1</td>\n",
       "      <td>2</td>\n",
       "      <td>1</td>\n",
       "      <td>0.0</td>\n",
       "      <td>0.0</td>\n",
       "      <td>1</td>\n",
       "      <td>1</td>\n",
       "      <td>0</td>\n",
       "      <td>1</td>\n",
       "      <td>0.75</td>\n",
       "      <td>0.0</td>\n",
       "      <td>Organic Search</td>\n",
       "      <td>2021</td>\n",
       "      <td>7</td>\n",
       "    </tr>\n",
       "    <tr>\n",
       "      <th>55497</th>\n",
       "      <td>2021-07-31</td>\n",
       "      <td>7</td>\n",
       "      <td>1</td>\n",
       "      <td>0</td>\n",
       "      <td>1</td>\n",
       "      <td>2</td>\n",
       "      <td>1</td>\n",
       "      <td>0.0</td>\n",
       "      <td>0.0</td>\n",
       "      <td>1</td>\n",
       "      <td>1</td>\n",
       "      <td>0</td>\n",
       "      <td>1</td>\n",
       "      <td>0.75</td>\n",
       "      <td>0.0</td>\n",
       "      <td>Direct</td>\n",
       "      <td>2021</td>\n",
       "      <td>7</td>\n",
       "    </tr>\n",
       "    <tr>\n",
       "      <th>55498</th>\n",
       "      <td>2021-07-31</td>\n",
       "      <td>1</td>\n",
       "      <td>29</td>\n",
       "      <td>1</td>\n",
       "      <td>1</td>\n",
       "      <td>58</td>\n",
       "      <td>0</td>\n",
       "      <td>5599.0</td>\n",
       "      <td>5999.0</td>\n",
       "      <td>0</td>\n",
       "      <td>0</td>\n",
       "      <td>0</td>\n",
       "      <td>58</td>\n",
       "      <td>0.00</td>\n",
       "      <td>100.0</td>\n",
       "      <td>Organic Search</td>\n",
       "      <td>2021</td>\n",
       "      <td>7</td>\n",
       "    </tr>\n",
       "    <tr>\n",
       "      <th>55499</th>\n",
       "      <td>2021-07-31</td>\n",
       "      <td>4</td>\n",
       "      <td>1</td>\n",
       "      <td>0</td>\n",
       "      <td>5</td>\n",
       "      <td>2</td>\n",
       "      <td>1</td>\n",
       "      <td>0.0</td>\n",
       "      <td>0.0</td>\n",
       "      <td>1</td>\n",
       "      <td>1</td>\n",
       "      <td>0</td>\n",
       "      <td>1</td>\n",
       "      <td>0.75</td>\n",
       "      <td>0.0</td>\n",
       "      <td>0</td>\n",
       "      <td>2021</td>\n",
       "      <td>7</td>\n",
       "    </tr>\n",
       "  </tbody>\n",
       "</table>\n",
       "<p>32850 rows × 18 columns</p>\n",
       "</div>"
      ],
      "text/plain": [
       "            date  Sessions  Page_Views  New_Visitors  Hits  \\\n",
       "22650 2021-01-01         1           1             1     1   \n",
       "22651 2021-01-01         1           1             1     1   \n",
       "22652 2021-01-01        12           1             0     1   \n",
       "22653 2021-01-01         1           1             1     1   \n",
       "22654 2021-01-01         1           1             1     1   \n",
       "...          ...       ...         ...           ...   ...   \n",
       "55495 2021-07-31         1           1             1     1   \n",
       "55496 2021-07-31         2           1             0     1   \n",
       "55497 2021-07-31         7           1             0     1   \n",
       "55498 2021-07-31         1          29             1     1   \n",
       "55499 2021-07-31         4           1             0     5   \n",
       "\n",
       "       Time_onsite(minutes)  bounces_offsite  Revenue(Rs/.)  Total_Revenues  \\\n",
       "22650                     2                1            0.0             0.0   \n",
       "22651                     2                1            0.0             0.0   \n",
       "22652                     2                1            0.0             0.0   \n",
       "22653                     2                1            0.0             0.0   \n",
       "22654                     2                1            0.0             0.0   \n",
       "...                     ...              ...            ...             ...   \n",
       "55495                     2                1            0.0             0.0   \n",
       "55496                     2                1            0.0             0.0   \n",
       "55497                     2                1            0.0             0.0   \n",
       "55498                    58                0         5599.0          5999.0   \n",
       "55499                     2                1            0.0             0.0   \n",
       "\n",
       "       is_direct  is_mobile  Session_qual  Avg_session_duration(minutes)  \\\n",
       "22650          0          0             0                              2   \n",
       "22651          0          0             0                              2   \n",
       "22652          1          0             0                              1   \n",
       "22653          0          0             0                              2   \n",
       "22654          0          0             0                              2   \n",
       "...          ...        ...           ...                            ...   \n",
       "55495          0          1             0                              2   \n",
       "55496          1          1             0                              1   \n",
       "55497          1          1             0                              1   \n",
       "55498          0          0             0                             58   \n",
       "55499          1          1             0                              1   \n",
       "\n",
       "       Bounce_Rate(%age)  Conversion_Rate(%age)         Channel  year  month  \n",
       "22650               1.00                    0.0          Direct  2021      1  \n",
       "22651               1.00                    0.0          Direct  2021      1  \n",
       "22652               1.00                    0.0          Direct  2021      1  \n",
       "22653               1.00                    0.0  Organic Search  2021      1  \n",
       "22654               1.00                    0.0     Paid Search  2021      1  \n",
       "...                  ...                    ...             ...   ...    ...  \n",
       "55495               0.75                    0.0          Direct  2021      7  \n",
       "55496               0.75                    0.0  Organic Search  2021      7  \n",
       "55497               0.75                    0.0          Direct  2021      7  \n",
       "55498               0.00                  100.0  Organic Search  2021      7  \n",
       "55499               0.75                    0.0               0  2021      7  \n",
       "\n",
       "[32850 rows x 18 columns]"
      ]
     },
     "execution_count": 79,
     "metadata": {},
     "output_type": "execute_result"
    }
   ],
   "source": [
    "df_21"
   ]
  },
  {
   "cell_type": "code",
   "execution_count": 80,
   "id": "d43908af",
   "metadata": {},
   "outputs": [
    {
     "data": {
      "text/plain": [
       "['.git',\n",
       " '.ipynb_checkpoints',\n",
       " 'Final_data_analytics.csv',\n",
       " 'GA.csv',\n",
       " 'LICENSE',\n",
       " 'README.md',\n",
       " 'Untitled.ipynb']"
      ]
     },
     "execution_count": 80,
     "metadata": {},
     "output_type": "execute_result"
    }
   ],
   "source": [
    "os.listdir()"
   ]
  },
  {
   "cell_type": "code",
   "execution_count": 86,
   "id": "4284888e",
   "metadata": {},
   "outputs": [],
   "source": [
    "df['date']=pd.to_datetime(df['date'])"
   ]
  },
  {
   "cell_type": "code",
   "execution_count": 90,
   "id": "965c5162",
   "metadata": {},
   "outputs": [],
   "source": [
    "from datetime import date\n",
    "import calendar\n",
    "my_date = date.today()\n",
    "df['day_of_week']=df['date'].apply(lambda x: calendar.day_name[x.weekday()])"
   ]
  },
  {
   "cell_type": "code",
   "execution_count": 94,
   "id": "c3a10175",
   "metadata": {},
   "outputs": [
    {
     "data": {
      "text/html": [
       "<div>\n",
       "<style scoped>\n",
       "    .dataframe tbody tr th:only-of-type {\n",
       "        vertical-align: middle;\n",
       "    }\n",
       "\n",
       "    .dataframe tbody tr th {\n",
       "        vertical-align: top;\n",
       "    }\n",
       "\n",
       "    .dataframe thead th {\n",
       "        text-align: right;\n",
       "    }\n",
       "</style>\n",
       "<table border=\"1\" class=\"dataframe\">\n",
       "  <thead>\n",
       "    <tr style=\"text-align: right;\">\n",
       "      <th></th>\n",
       "      <th>date</th>\n",
       "      <th>Sessions</th>\n",
       "      <th>Page_Views</th>\n",
       "      <th>New_Visitors</th>\n",
       "      <th>Hits</th>\n",
       "      <th>Time_onsite(minutes)</th>\n",
       "      <th>bounces_offsite</th>\n",
       "      <th>Revenue(Rs/.)</th>\n",
       "      <th>Total_Revenues</th>\n",
       "      <th>is_direct</th>\n",
       "      <th>...</th>\n",
       "      <th>Session_qual</th>\n",
       "      <th>Avg_session_duration(minutes)</th>\n",
       "      <th>Bounce_Rate(%age)</th>\n",
       "      <th>Conversion_Rate(%age)</th>\n",
       "      <th>Channel</th>\n",
       "      <th>geoLoc</th>\n",
       "      <th>year</th>\n",
       "      <th>month</th>\n",
       "      <th>day</th>\n",
       "      <th>day_of_week</th>\n",
       "    </tr>\n",
       "  </thead>\n",
       "  <tbody>\n",
       "    <tr>\n",
       "      <th>0</th>\n",
       "      <td>2020-08-01</td>\n",
       "      <td>1</td>\n",
       "      <td>4</td>\n",
       "      <td>1</td>\n",
       "      <td>0.019934</td>\n",
       "      <td>2</td>\n",
       "      <td>0</td>\n",
       "      <td>0.0</td>\n",
       "      <td>0.000000</td>\n",
       "      <td>0</td>\n",
       "      <td>...</td>\n",
       "      <td>0</td>\n",
       "      <td>2</td>\n",
       "      <td>0.00</td>\n",
       "      <td>0.0</td>\n",
       "      <td>Organic Search</td>\n",
       "      <td>Mumbai</td>\n",
       "      <td>2020</td>\n",
       "      <td>8</td>\n",
       "      <td>1</td>\n",
       "      <td>Saturday</td>\n",
       "    </tr>\n",
       "    <tr>\n",
       "      <th>1</th>\n",
       "      <td>2020-08-01</td>\n",
       "      <td>1</td>\n",
       "      <td>13</td>\n",
       "      <td>1</td>\n",
       "      <td>0.013289</td>\n",
       "      <td>10</td>\n",
       "      <td>0</td>\n",
       "      <td>1699.0</td>\n",
       "      <td>7.783224</td>\n",
       "      <td>0</td>\n",
       "      <td>...</td>\n",
       "      <td>0</td>\n",
       "      <td>10</td>\n",
       "      <td>0.00</td>\n",
       "      <td>100.0</td>\n",
       "      <td>Organic Search</td>\n",
       "      <td>Bangalore</td>\n",
       "      <td>2020</td>\n",
       "      <td>8</td>\n",
       "      <td>1</td>\n",
       "      <td>Saturday</td>\n",
       "    </tr>\n",
       "    <tr>\n",
       "      <th>2</th>\n",
       "      <td>2020-08-01</td>\n",
       "      <td>1</td>\n",
       "      <td>2</td>\n",
       "      <td>1</td>\n",
       "      <td>0.019934</td>\n",
       "      <td>1</td>\n",
       "      <td>0</td>\n",
       "      <td>0.0</td>\n",
       "      <td>0.000000</td>\n",
       "      <td>0</td>\n",
       "      <td>...</td>\n",
       "      <td>0</td>\n",
       "      <td>1</td>\n",
       "      <td>0.00</td>\n",
       "      <td>0.0</td>\n",
       "      <td>Direct</td>\n",
       "      <td>Hyderabad</td>\n",
       "      <td>2020</td>\n",
       "      <td>8</td>\n",
       "      <td>1</td>\n",
       "      <td>Saturday</td>\n",
       "    </tr>\n",
       "    <tr>\n",
       "      <th>3</th>\n",
       "      <td>2020-08-01</td>\n",
       "      <td>1</td>\n",
       "      <td>5</td>\n",
       "      <td>1</td>\n",
       "      <td>0.049834</td>\n",
       "      <td>6</td>\n",
       "      <td>0</td>\n",
       "      <td>0.0</td>\n",
       "      <td>0.000000</td>\n",
       "      <td>1</td>\n",
       "      <td>...</td>\n",
       "      <td>0</td>\n",
       "      <td>6</td>\n",
       "      <td>0.00</td>\n",
       "      <td>0.0</td>\n",
       "      <td>Social</td>\n",
       "      <td>Bangalore</td>\n",
       "      <td>2020</td>\n",
       "      <td>8</td>\n",
       "      <td>1</td>\n",
       "      <td>Saturday</td>\n",
       "    </tr>\n",
       "    <tr>\n",
       "      <th>4</th>\n",
       "      <td>2020-08-01</td>\n",
       "      <td>1</td>\n",
       "      <td>3</td>\n",
       "      <td>1</td>\n",
       "      <td>0.006645</td>\n",
       "      <td>1</td>\n",
       "      <td>0</td>\n",
       "      <td>0.0</td>\n",
       "      <td>0.000000</td>\n",
       "      <td>0</td>\n",
       "      <td>...</td>\n",
       "      <td>0</td>\n",
       "      <td>1</td>\n",
       "      <td>0.00</td>\n",
       "      <td>0.0</td>\n",
       "      <td>Organic Search</td>\n",
       "      <td>Hyderabad</td>\n",
       "      <td>2020</td>\n",
       "      <td>8</td>\n",
       "      <td>1</td>\n",
       "      <td>Saturday</td>\n",
       "    </tr>\n",
       "    <tr>\n",
       "      <th>...</th>\n",
       "      <td>...</td>\n",
       "      <td>...</td>\n",
       "      <td>...</td>\n",
       "      <td>...</td>\n",
       "      <td>...</td>\n",
       "      <td>...</td>\n",
       "      <td>...</td>\n",
       "      <td>...</td>\n",
       "      <td>...</td>\n",
       "      <td>...</td>\n",
       "      <td>...</td>\n",
       "      <td>...</td>\n",
       "      <td>...</td>\n",
       "      <td>...</td>\n",
       "      <td>...</td>\n",
       "      <td>...</td>\n",
       "      <td>...</td>\n",
       "      <td>...</td>\n",
       "      <td>...</td>\n",
       "      <td>...</td>\n",
       "      <td>...</td>\n",
       "    </tr>\n",
       "    <tr>\n",
       "      <th>55491</th>\n",
       "      <td>2021-07-31</td>\n",
       "      <td>1</td>\n",
       "      <td>3</td>\n",
       "      <td>1</td>\n",
       "      <td>0.000000</td>\n",
       "      <td>1</td>\n",
       "      <td>0</td>\n",
       "      <td>0.0</td>\n",
       "      <td>0.000000</td>\n",
       "      <td>0</td>\n",
       "      <td>...</td>\n",
       "      <td>0</td>\n",
       "      <td>1</td>\n",
       "      <td>0.00</td>\n",
       "      <td>0.0</td>\n",
       "      <td>Organic Search</td>\n",
       "      <td>Delhi</td>\n",
       "      <td>2021</td>\n",
       "      <td>7</td>\n",
       "      <td>31</td>\n",
       "      <td>Saturday</td>\n",
       "    </tr>\n",
       "    <tr>\n",
       "      <th>55492</th>\n",
       "      <td>2021-07-31</td>\n",
       "      <td>1</td>\n",
       "      <td>1</td>\n",
       "      <td>1</td>\n",
       "      <td>0.000000</td>\n",
       "      <td>2</td>\n",
       "      <td>1</td>\n",
       "      <td>0.0</td>\n",
       "      <td>0.000000</td>\n",
       "      <td>0</td>\n",
       "      <td>...</td>\n",
       "      <td>0</td>\n",
       "      <td>2</td>\n",
       "      <td>0.75</td>\n",
       "      <td>0.0</td>\n",
       "      <td>Organic Search</td>\n",
       "      <td>Hyderabad</td>\n",
       "      <td>2021</td>\n",
       "      <td>7</td>\n",
       "      <td>31</td>\n",
       "      <td>Saturday</td>\n",
       "    </tr>\n",
       "    <tr>\n",
       "      <th>55493</th>\n",
       "      <td>2021-07-31</td>\n",
       "      <td>1</td>\n",
       "      <td>1</td>\n",
       "      <td>1</td>\n",
       "      <td>0.000000</td>\n",
       "      <td>2</td>\n",
       "      <td>1</td>\n",
       "      <td>0.0</td>\n",
       "      <td>0.000000</td>\n",
       "      <td>1</td>\n",
       "      <td>...</td>\n",
       "      <td>0</td>\n",
       "      <td>2</td>\n",
       "      <td>0.75</td>\n",
       "      <td>0.0</td>\n",
       "      <td>Organic Search</td>\n",
       "      <td>Hyderabad</td>\n",
       "      <td>2021</td>\n",
       "      <td>7</td>\n",
       "      <td>31</td>\n",
       "      <td>Saturday</td>\n",
       "    </tr>\n",
       "    <tr>\n",
       "      <th>55495</th>\n",
       "      <td>2021-07-31</td>\n",
       "      <td>1</td>\n",
       "      <td>1</td>\n",
       "      <td>1</td>\n",
       "      <td>0.000000</td>\n",
       "      <td>2</td>\n",
       "      <td>1</td>\n",
       "      <td>0.0</td>\n",
       "      <td>0.000000</td>\n",
       "      <td>0</td>\n",
       "      <td>...</td>\n",
       "      <td>0</td>\n",
       "      <td>2</td>\n",
       "      <td>0.75</td>\n",
       "      <td>0.0</td>\n",
       "      <td>Direct</td>\n",
       "      <td>Bangalore</td>\n",
       "      <td>2021</td>\n",
       "      <td>7</td>\n",
       "      <td>31</td>\n",
       "      <td>Saturday</td>\n",
       "    </tr>\n",
       "    <tr>\n",
       "      <th>55498</th>\n",
       "      <td>2021-07-31</td>\n",
       "      <td>1</td>\n",
       "      <td>29</td>\n",
       "      <td>1</td>\n",
       "      <td>0.000000</td>\n",
       "      <td>58</td>\n",
       "      <td>0</td>\n",
       "      <td>5599.0</td>\n",
       "      <td>8.699515</td>\n",
       "      <td>0</td>\n",
       "      <td>...</td>\n",
       "      <td>0</td>\n",
       "      <td>58</td>\n",
       "      <td>0.00</td>\n",
       "      <td>100.0</td>\n",
       "      <td>Organic Search</td>\n",
       "      <td>Hyderabad</td>\n",
       "      <td>2021</td>\n",
       "      <td>7</td>\n",
       "      <td>31</td>\n",
       "      <td>Saturday</td>\n",
       "    </tr>\n",
       "  </tbody>\n",
       "</table>\n",
       "<p>42365 rows × 21 columns</p>\n",
       "</div>"
      ],
      "text/plain": [
       "            date  Sessions  Page_Views  New_Visitors      Hits  \\\n",
       "0     2020-08-01         1           4             1  0.019934   \n",
       "1     2020-08-01         1          13             1  0.013289   \n",
       "2     2020-08-01         1           2             1  0.019934   \n",
       "3     2020-08-01         1           5             1  0.049834   \n",
       "4     2020-08-01         1           3             1  0.006645   \n",
       "...          ...       ...         ...           ...       ...   \n",
       "55491 2021-07-31         1           3             1  0.000000   \n",
       "55492 2021-07-31         1           1             1  0.000000   \n",
       "55493 2021-07-31         1           1             1  0.000000   \n",
       "55495 2021-07-31         1           1             1  0.000000   \n",
       "55498 2021-07-31         1          29             1  0.000000   \n",
       "\n",
       "       Time_onsite(minutes)  bounces_offsite  Revenue(Rs/.)  Total_Revenues  \\\n",
       "0                         2                0            0.0        0.000000   \n",
       "1                        10                0         1699.0        7.783224   \n",
       "2                         1                0            0.0        0.000000   \n",
       "3                         6                0            0.0        0.000000   \n",
       "4                         1                0            0.0        0.000000   \n",
       "...                     ...              ...            ...             ...   \n",
       "55491                     1                0            0.0        0.000000   \n",
       "55492                     2                1            0.0        0.000000   \n",
       "55493                     2                1            0.0        0.000000   \n",
       "55495                     2                1            0.0        0.000000   \n",
       "55498                    58                0         5599.0        8.699515   \n",
       "\n",
       "       is_direct  ...  Session_qual  Avg_session_duration(minutes)  \\\n",
       "0              0  ...             0                              2   \n",
       "1              0  ...             0                             10   \n",
       "2              0  ...             0                              1   \n",
       "3              1  ...             0                              6   \n",
       "4              0  ...             0                              1   \n",
       "...          ...  ...           ...                            ...   \n",
       "55491          0  ...             0                              1   \n",
       "55492          0  ...             0                              2   \n",
       "55493          1  ...             0                              2   \n",
       "55495          0  ...             0                              2   \n",
       "55498          0  ...             0                             58   \n",
       "\n",
       "       Bounce_Rate(%age)  Conversion_Rate(%age)         Channel     geoLoc  \\\n",
       "0                   0.00                    0.0  Organic Search     Mumbai   \n",
       "1                   0.00                  100.0  Organic Search  Bangalore   \n",
       "2                   0.00                    0.0          Direct  Hyderabad   \n",
       "3                   0.00                    0.0          Social  Bangalore   \n",
       "4                   0.00                    0.0  Organic Search  Hyderabad   \n",
       "...                  ...                    ...             ...        ...   \n",
       "55491               0.00                    0.0  Organic Search      Delhi   \n",
       "55492               0.75                    0.0  Organic Search  Hyderabad   \n",
       "55493               0.75                    0.0  Organic Search  Hyderabad   \n",
       "55495               0.75                    0.0          Direct  Bangalore   \n",
       "55498               0.00                  100.0  Organic Search  Hyderabad   \n",
       "\n",
       "       year  month  day  day_of_week  \n",
       "0      2020      8    1     Saturday  \n",
       "1      2020      8    1     Saturday  \n",
       "2      2020      8    1     Saturday  \n",
       "3      2020      8    1     Saturday  \n",
       "4      2020      8    1     Saturday  \n",
       "...     ...    ...  ...          ...  \n",
       "55491  2021      7   31     Saturday  \n",
       "55492  2021      7   31     Saturday  \n",
       "55493  2021      7   31     Saturday  \n",
       "55495  2021      7   31     Saturday  \n",
       "55498  2021      7   31     Saturday  \n",
       "\n",
       "[42365 rows x 21 columns]"
      ]
     },
     "execution_count": 94,
     "metadata": {},
     "output_type": "execute_result"
    }
   ],
   "source": [
    "df[df['New_Visitors']==1]"
   ]
  },
  {
   "cell_type": "code",
   "execution_count": 111,
   "id": "267d2854",
   "metadata": {},
   "outputs": [
    {
     "data": {
      "text/html": [
       "<div>\n",
       "<style scoped>\n",
       "    .dataframe tbody tr th:only-of-type {\n",
       "        vertical-align: middle;\n",
       "    }\n",
       "\n",
       "    .dataframe tbody tr th {\n",
       "        vertical-align: top;\n",
       "    }\n",
       "\n",
       "    .dataframe thead th {\n",
       "        text-align: right;\n",
       "    }\n",
       "</style>\n",
       "<table border=\"1\" class=\"dataframe\">\n",
       "  <thead>\n",
       "    <tr style=\"text-align: right;\">\n",
       "      <th></th>\n",
       "      <th>date</th>\n",
       "      <th>Sessions</th>\n",
       "      <th>Page_Views</th>\n",
       "      <th>New_Visitors</th>\n",
       "      <th>Hits</th>\n",
       "      <th>Time_onsite(minutes)</th>\n",
       "      <th>bounces_offsite</th>\n",
       "      <th>Revenue(Rs/.)</th>\n",
       "      <th>Total_Revenues</th>\n",
       "      <th>is_direct</th>\n",
       "      <th>...</th>\n",
       "      <th>Session_qual</th>\n",
       "      <th>Avg_session_duration(minutes)</th>\n",
       "      <th>Bounce_Rate(%age)</th>\n",
       "      <th>Conversion_Rate(%age)</th>\n",
       "      <th>Channel</th>\n",
       "      <th>geoLoc</th>\n",
       "      <th>year</th>\n",
       "      <th>month</th>\n",
       "      <th>day</th>\n",
       "      <th>day_of_week</th>\n",
       "    </tr>\n",
       "  </thead>\n",
       "  <tbody>\n",
       "    <tr>\n",
       "      <th>22</th>\n",
       "      <td>2020-08-01</td>\n",
       "      <td>28</td>\n",
       "      <td>3</td>\n",
       "      <td>0</td>\n",
       "      <td>0.006645</td>\n",
       "      <td>1</td>\n",
       "      <td>0</td>\n",
       "      <td>0.0</td>\n",
       "      <td>0.0</td>\n",
       "      <td>1</td>\n",
       "      <td>...</td>\n",
       "      <td>0</td>\n",
       "      <td>1</td>\n",
       "      <td>0.00</td>\n",
       "      <td>0.0</td>\n",
       "      <td>Organic Search</td>\n",
       "      <td>Mumbai</td>\n",
       "      <td>2020</td>\n",
       "      <td>8</td>\n",
       "      <td>1</td>\n",
       "      <td>Saturday</td>\n",
       "    </tr>\n",
       "    <tr>\n",
       "      <th>36</th>\n",
       "      <td>2020-08-01</td>\n",
       "      <td>6</td>\n",
       "      <td>3</td>\n",
       "      <td>0</td>\n",
       "      <td>0.016611</td>\n",
       "      <td>1</td>\n",
       "      <td>0</td>\n",
       "      <td>0.0</td>\n",
       "      <td>0.0</td>\n",
       "      <td>1</td>\n",
       "      <td>...</td>\n",
       "      <td>0</td>\n",
       "      <td>1</td>\n",
       "      <td>0.00</td>\n",
       "      <td>0.0</td>\n",
       "      <td>Organic Search</td>\n",
       "      <td>Delhi</td>\n",
       "      <td>2020</td>\n",
       "      <td>8</td>\n",
       "      <td>1</td>\n",
       "      <td>Saturday</td>\n",
       "    </tr>\n",
       "    <tr>\n",
       "      <th>48</th>\n",
       "      <td>2020-08-01</td>\n",
       "      <td>16</td>\n",
       "      <td>4</td>\n",
       "      <td>0</td>\n",
       "      <td>0.009967</td>\n",
       "      <td>1</td>\n",
       "      <td>0</td>\n",
       "      <td>0.0</td>\n",
       "      <td>0.0</td>\n",
       "      <td>1</td>\n",
       "      <td>...</td>\n",
       "      <td>0</td>\n",
       "      <td>1</td>\n",
       "      <td>0.00</td>\n",
       "      <td>0.0</td>\n",
       "      <td>Organic Search</td>\n",
       "      <td>Bangalore</td>\n",
       "      <td>2020</td>\n",
       "      <td>8</td>\n",
       "      <td>1</td>\n",
       "      <td>Saturday</td>\n",
       "    </tr>\n",
       "    <tr>\n",
       "      <th>55</th>\n",
       "      <td>2020-08-01</td>\n",
       "      <td>36</td>\n",
       "      <td>7</td>\n",
       "      <td>0</td>\n",
       "      <td>0.003322</td>\n",
       "      <td>2</td>\n",
       "      <td>0</td>\n",
       "      <td>0.0</td>\n",
       "      <td>0.0</td>\n",
       "      <td>1</td>\n",
       "      <td>...</td>\n",
       "      <td>0</td>\n",
       "      <td>1</td>\n",
       "      <td>0.00</td>\n",
       "      <td>0.0</td>\n",
       "      <td>Organic Search</td>\n",
       "      <td>Kolkata</td>\n",
       "      <td>2020</td>\n",
       "      <td>8</td>\n",
       "      <td>1</td>\n",
       "      <td>Saturday</td>\n",
       "    </tr>\n",
       "    <tr>\n",
       "      <th>58</th>\n",
       "      <td>2020-08-01</td>\n",
       "      <td>180</td>\n",
       "      <td>5</td>\n",
       "      <td>0</td>\n",
       "      <td>0.013289</td>\n",
       "      <td>2</td>\n",
       "      <td>0</td>\n",
       "      <td>0.0</td>\n",
       "      <td>0.0</td>\n",
       "      <td>1</td>\n",
       "      <td>...</td>\n",
       "      <td>0</td>\n",
       "      <td>1</td>\n",
       "      <td>0.00</td>\n",
       "      <td>0.0</td>\n",
       "      <td>Organic Search</td>\n",
       "      <td>Mumbai</td>\n",
       "      <td>2020</td>\n",
       "      <td>8</td>\n",
       "      <td>1</td>\n",
       "      <td>Saturday</td>\n",
       "    </tr>\n",
       "    <tr>\n",
       "      <th>...</th>\n",
       "      <td>...</td>\n",
       "      <td>...</td>\n",
       "      <td>...</td>\n",
       "      <td>...</td>\n",
       "      <td>...</td>\n",
       "      <td>...</td>\n",
       "      <td>...</td>\n",
       "      <td>...</td>\n",
       "      <td>...</td>\n",
       "      <td>...</td>\n",
       "      <td>...</td>\n",
       "      <td>...</td>\n",
       "      <td>...</td>\n",
       "      <td>...</td>\n",
       "      <td>...</td>\n",
       "      <td>...</td>\n",
       "      <td>...</td>\n",
       "      <td>...</td>\n",
       "      <td>...</td>\n",
       "      <td>...</td>\n",
       "      <td>...</td>\n",
       "    </tr>\n",
       "    <tr>\n",
       "      <th>55455</th>\n",
       "      <td>2021-07-31</td>\n",
       "      <td>3</td>\n",
       "      <td>1</td>\n",
       "      <td>0</td>\n",
       "      <td>0.000000</td>\n",
       "      <td>2</td>\n",
       "      <td>1</td>\n",
       "      <td>0.0</td>\n",
       "      <td>0.0</td>\n",
       "      <td>1</td>\n",
       "      <td>...</td>\n",
       "      <td>0</td>\n",
       "      <td>1</td>\n",
       "      <td>0.75</td>\n",
       "      <td>0.0</td>\n",
       "      <td>Organic Search</td>\n",
       "      <td>Chennai</td>\n",
       "      <td>2021</td>\n",
       "      <td>7</td>\n",
       "      <td>31</td>\n",
       "      <td>Saturday</td>\n",
       "    </tr>\n",
       "    <tr>\n",
       "      <th>55475</th>\n",
       "      <td>2021-07-31</td>\n",
       "      <td>2</td>\n",
       "      <td>1</td>\n",
       "      <td>0</td>\n",
       "      <td>0.000000</td>\n",
       "      <td>2</td>\n",
       "      <td>1</td>\n",
       "      <td>0.0</td>\n",
       "      <td>0.0</td>\n",
       "      <td>1</td>\n",
       "      <td>...</td>\n",
       "      <td>0</td>\n",
       "      <td>1</td>\n",
       "      <td>0.75</td>\n",
       "      <td>0.0</td>\n",
       "      <td>Organic Search</td>\n",
       "      <td>Bangalore</td>\n",
       "      <td>2021</td>\n",
       "      <td>7</td>\n",
       "      <td>31</td>\n",
       "      <td>Saturday</td>\n",
       "    </tr>\n",
       "    <tr>\n",
       "      <th>55479</th>\n",
       "      <td>2021-07-31</td>\n",
       "      <td>3</td>\n",
       "      <td>7</td>\n",
       "      <td>0</td>\n",
       "      <td>0.000000</td>\n",
       "      <td>5</td>\n",
       "      <td>0</td>\n",
       "      <td>0.0</td>\n",
       "      <td>0.0</td>\n",
       "      <td>0</td>\n",
       "      <td>...</td>\n",
       "      <td>0</td>\n",
       "      <td>2</td>\n",
       "      <td>0.00</td>\n",
       "      <td>0.0</td>\n",
       "      <td>Organic Search</td>\n",
       "      <td>Kolkata</td>\n",
       "      <td>2021</td>\n",
       "      <td>7</td>\n",
       "      <td>31</td>\n",
       "      <td>Saturday</td>\n",
       "    </tr>\n",
       "    <tr>\n",
       "      <th>55494</th>\n",
       "      <td>2021-07-31</td>\n",
       "      <td>2</td>\n",
       "      <td>1</td>\n",
       "      <td>0</td>\n",
       "      <td>0.000000</td>\n",
       "      <td>2</td>\n",
       "      <td>1</td>\n",
       "      <td>0.0</td>\n",
       "      <td>0.0</td>\n",
       "      <td>1</td>\n",
       "      <td>...</td>\n",
       "      <td>0</td>\n",
       "      <td>1</td>\n",
       "      <td>0.75</td>\n",
       "      <td>0.0</td>\n",
       "      <td>Organic Search</td>\n",
       "      <td>Hyderabad</td>\n",
       "      <td>2021</td>\n",
       "      <td>7</td>\n",
       "      <td>31</td>\n",
       "      <td>Saturday</td>\n",
       "    </tr>\n",
       "    <tr>\n",
       "      <th>55496</th>\n",
       "      <td>2021-07-31</td>\n",
       "      <td>2</td>\n",
       "      <td>1</td>\n",
       "      <td>0</td>\n",
       "      <td>0.000000</td>\n",
       "      <td>2</td>\n",
       "      <td>1</td>\n",
       "      <td>0.0</td>\n",
       "      <td>0.0</td>\n",
       "      <td>1</td>\n",
       "      <td>...</td>\n",
       "      <td>0</td>\n",
       "      <td>1</td>\n",
       "      <td>0.75</td>\n",
       "      <td>0.0</td>\n",
       "      <td>Organic Search</td>\n",
       "      <td>Pune</td>\n",
       "      <td>2021</td>\n",
       "      <td>7</td>\n",
       "      <td>31</td>\n",
       "      <td>Saturday</td>\n",
       "    </tr>\n",
       "  </tbody>\n",
       "</table>\n",
       "<p>7946 rows × 21 columns</p>\n",
       "</div>"
      ],
      "text/plain": [
       "            date  Sessions  Page_Views  New_Visitors      Hits  \\\n",
       "22    2020-08-01        28           3             0  0.006645   \n",
       "36    2020-08-01         6           3             0  0.016611   \n",
       "48    2020-08-01        16           4             0  0.009967   \n",
       "55    2020-08-01        36           7             0  0.003322   \n",
       "58    2020-08-01       180           5             0  0.013289   \n",
       "...          ...       ...         ...           ...       ...   \n",
       "55455 2021-07-31         3           1             0  0.000000   \n",
       "55475 2021-07-31         2           1             0  0.000000   \n",
       "55479 2021-07-31         3           7             0  0.000000   \n",
       "55494 2021-07-31         2           1             0  0.000000   \n",
       "55496 2021-07-31         2           1             0  0.000000   \n",
       "\n",
       "       Time_onsite(minutes)  bounces_offsite  Revenue(Rs/.)  Total_Revenues  \\\n",
       "22                        1                0            0.0             0.0   \n",
       "36                        1                0            0.0             0.0   \n",
       "48                        1                0            0.0             0.0   \n",
       "55                        2                0            0.0             0.0   \n",
       "58                        2                0            0.0             0.0   \n",
       "...                     ...              ...            ...             ...   \n",
       "55455                     2                1            0.0             0.0   \n",
       "55475                     2                1            0.0             0.0   \n",
       "55479                     5                0            0.0             0.0   \n",
       "55494                     2                1            0.0             0.0   \n",
       "55496                     2                1            0.0             0.0   \n",
       "\n",
       "       is_direct  ...  Session_qual  Avg_session_duration(minutes)  \\\n",
       "22             1  ...             0                              1   \n",
       "36             1  ...             0                              1   \n",
       "48             1  ...             0                              1   \n",
       "55             1  ...             0                              1   \n",
       "58             1  ...             0                              1   \n",
       "...          ...  ...           ...                            ...   \n",
       "55455          1  ...             0                              1   \n",
       "55475          1  ...             0                              1   \n",
       "55479          0  ...             0                              2   \n",
       "55494          1  ...             0                              1   \n",
       "55496          1  ...             0                              1   \n",
       "\n",
       "       Bounce_Rate(%age)  Conversion_Rate(%age)         Channel     geoLoc  \\\n",
       "22                  0.00                    0.0  Organic Search     Mumbai   \n",
       "36                  0.00                    0.0  Organic Search      Delhi   \n",
       "48                  0.00                    0.0  Organic Search  Bangalore   \n",
       "55                  0.00                    0.0  Organic Search    Kolkata   \n",
       "58                  0.00                    0.0  Organic Search     Mumbai   \n",
       "...                  ...                    ...             ...        ...   \n",
       "55455               0.75                    0.0  Organic Search    Chennai   \n",
       "55475               0.75                    0.0  Organic Search  Bangalore   \n",
       "55479               0.00                    0.0  Organic Search    Kolkata   \n",
       "55494               0.75                    0.0  Organic Search  Hyderabad   \n",
       "55496               0.75                    0.0  Organic Search       Pune   \n",
       "\n",
       "       year  month  day  day_of_week  \n",
       "22     2020      8    1     Saturday  \n",
       "36     2020      8    1     Saturday  \n",
       "48     2020      8    1     Saturday  \n",
       "55     2020      8    1     Saturday  \n",
       "58     2020      8    1     Saturday  \n",
       "...     ...    ...  ...          ...  \n",
       "55455  2021      7   31     Saturday  \n",
       "55475  2021      7   31     Saturday  \n",
       "55479  2021      7   31     Saturday  \n",
       "55494  2021      7   31     Saturday  \n",
       "55496  2021      7   31     Saturday  \n",
       "\n",
       "[7946 rows x 21 columns]"
      ]
     },
     "execution_count": 111,
     "metadata": {},
     "output_type": "execute_result"
    }
   ],
   "source": [
    "df.loc[(df['New_Visitors']==0)&(df['Channel']=='Organic Search')]"
   ]
  },
  {
   "cell_type": "code",
   "execution_count": 117,
   "id": "6d15519e",
   "metadata": {},
   "outputs": [
    {
     "data": {
      "text/plain": [
       "1463.2"
      ]
     },
     "execution_count": 117,
     "metadata": {},
     "output_type": "execute_result"
    }
   ],
   "source": [
    "df[df['Channel']=='Social']['Page_Views'].sum() *"
   ]
  },
  {
   "cell_type": "code",
   "execution_count": 102,
   "id": "52cc3085",
   "metadata": {},
   "outputs": [
    {
     "data": {
      "text/plain": [
       "day_of_week  New_Visitors\n",
       "Friday       1               6151\n",
       "             0               1799\n",
       "Monday       1               5906\n",
       "             0               1894\n",
       "Saturday     1               6216\n",
       "             0               1883\n",
       "Sunday       1               5997\n",
       "             0               1803\n",
       "Thursday     1               6089\n",
       "             0               1861\n",
       "Tuesday      1               5981\n",
       "             0               1969\n",
       "Wednesday    1               6025\n",
       "             0               1925\n",
       "Name: New_Visitors, dtype: int64"
      ]
     },
     "execution_count": 102,
     "metadata": {},
     "output_type": "execute_result"
    }
   ],
   "source": [
    "df.groupby('day_of_week')['New_Visitors'].value_counts()"
   ]
  },
  {
   "cell_type": "code",
   "execution_count": 109,
   "id": "3eecd81d",
   "metadata": {},
   "outputs": [
    {
     "data": {
      "text/plain": [
       "0.23353884093711466"
      ]
     },
     "execution_count": 109,
     "metadata": {},
     "output_type": "execute_result"
    }
   ],
   "source": [
    "1894/(6216+1894)"
   ]
  },
  {
   "cell_type": "code",
   "execution_count": 110,
   "id": "1902d192",
   "metadata": {},
   "outputs": [
    {
     "data": {
      "text/html": [
       "<div>\n",
       "<style scoped>\n",
       "    .dataframe tbody tr th:only-of-type {\n",
       "        vertical-align: middle;\n",
       "    }\n",
       "\n",
       "    .dataframe tbody tr th {\n",
       "        vertical-align: top;\n",
       "    }\n",
       "\n",
       "    .dataframe thead th {\n",
       "        text-align: right;\n",
       "    }\n",
       "</style>\n",
       "<table border=\"1\" class=\"dataframe\">\n",
       "  <thead>\n",
       "    <tr style=\"text-align: right;\">\n",
       "      <th></th>\n",
       "      <th>date</th>\n",
       "      <th>Sessions</th>\n",
       "      <th>Page_Views</th>\n",
       "      <th>New_Visitors</th>\n",
       "      <th>Hits</th>\n",
       "      <th>Time_onsite(minutes)</th>\n",
       "      <th>bounces_offsite</th>\n",
       "      <th>Revenue(Rs/.)</th>\n",
       "      <th>Total_Revenues</th>\n",
       "      <th>is_direct</th>\n",
       "      <th>...</th>\n",
       "      <th>Session_qual</th>\n",
       "      <th>Avg_session_duration(minutes)</th>\n",
       "      <th>Bounce_Rate(%age)</th>\n",
       "      <th>Conversion_Rate(%age)</th>\n",
       "      <th>Channel</th>\n",
       "      <th>geoLoc</th>\n",
       "      <th>year</th>\n",
       "      <th>month</th>\n",
       "      <th>day</th>\n",
       "      <th>day_of_week</th>\n",
       "    </tr>\n",
       "  </thead>\n",
       "  <tbody>\n",
       "    <tr>\n",
       "      <th>0</th>\n",
       "      <td>2020-08-01</td>\n",
       "      <td>1</td>\n",
       "      <td>4</td>\n",
       "      <td>1</td>\n",
       "      <td>0.019934</td>\n",
       "      <td>2</td>\n",
       "      <td>0</td>\n",
       "      <td>0.0</td>\n",
       "      <td>0.000000</td>\n",
       "      <td>0</td>\n",
       "      <td>...</td>\n",
       "      <td>0</td>\n",
       "      <td>2</td>\n",
       "      <td>0.00</td>\n",
       "      <td>0.0</td>\n",
       "      <td>Organic Search</td>\n",
       "      <td>Mumbai</td>\n",
       "      <td>2020</td>\n",
       "      <td>8</td>\n",
       "      <td>1</td>\n",
       "      <td>Saturday</td>\n",
       "    </tr>\n",
       "    <tr>\n",
       "      <th>1</th>\n",
       "      <td>2020-08-01</td>\n",
       "      <td>1</td>\n",
       "      <td>13</td>\n",
       "      <td>1</td>\n",
       "      <td>0.013289</td>\n",
       "      <td>10</td>\n",
       "      <td>0</td>\n",
       "      <td>1699.0</td>\n",
       "      <td>7.783224</td>\n",
       "      <td>0</td>\n",
       "      <td>...</td>\n",
       "      <td>0</td>\n",
       "      <td>10</td>\n",
       "      <td>0.00</td>\n",
       "      <td>100.0</td>\n",
       "      <td>Organic Search</td>\n",
       "      <td>Bangalore</td>\n",
       "      <td>2020</td>\n",
       "      <td>8</td>\n",
       "      <td>1</td>\n",
       "      <td>Saturday</td>\n",
       "    </tr>\n",
       "    <tr>\n",
       "      <th>2</th>\n",
       "      <td>2020-08-01</td>\n",
       "      <td>1</td>\n",
       "      <td>2</td>\n",
       "      <td>1</td>\n",
       "      <td>0.019934</td>\n",
       "      <td>1</td>\n",
       "      <td>0</td>\n",
       "      <td>0.0</td>\n",
       "      <td>0.000000</td>\n",
       "      <td>0</td>\n",
       "      <td>...</td>\n",
       "      <td>0</td>\n",
       "      <td>1</td>\n",
       "      <td>0.00</td>\n",
       "      <td>0.0</td>\n",
       "      <td>Direct</td>\n",
       "      <td>Hyderabad</td>\n",
       "      <td>2020</td>\n",
       "      <td>8</td>\n",
       "      <td>1</td>\n",
       "      <td>Saturday</td>\n",
       "    </tr>\n",
       "    <tr>\n",
       "      <th>3</th>\n",
       "      <td>2020-08-01</td>\n",
       "      <td>1</td>\n",
       "      <td>5</td>\n",
       "      <td>1</td>\n",
       "      <td>0.049834</td>\n",
       "      <td>6</td>\n",
       "      <td>0</td>\n",
       "      <td>0.0</td>\n",
       "      <td>0.000000</td>\n",
       "      <td>1</td>\n",
       "      <td>...</td>\n",
       "      <td>0</td>\n",
       "      <td>6</td>\n",
       "      <td>0.00</td>\n",
       "      <td>0.0</td>\n",
       "      <td>Social</td>\n",
       "      <td>Bangalore</td>\n",
       "      <td>2020</td>\n",
       "      <td>8</td>\n",
       "      <td>1</td>\n",
       "      <td>Saturday</td>\n",
       "    </tr>\n",
       "    <tr>\n",
       "      <th>4</th>\n",
       "      <td>2020-08-01</td>\n",
       "      <td>1</td>\n",
       "      <td>3</td>\n",
       "      <td>1</td>\n",
       "      <td>0.006645</td>\n",
       "      <td>1</td>\n",
       "      <td>0</td>\n",
       "      <td>0.0</td>\n",
       "      <td>0.000000</td>\n",
       "      <td>0</td>\n",
       "      <td>...</td>\n",
       "      <td>0</td>\n",
       "      <td>1</td>\n",
       "      <td>0.00</td>\n",
       "      <td>0.0</td>\n",
       "      <td>Organic Search</td>\n",
       "      <td>Hyderabad</td>\n",
       "      <td>2020</td>\n",
       "      <td>8</td>\n",
       "      <td>1</td>\n",
       "      <td>Saturday</td>\n",
       "    </tr>\n",
       "    <tr>\n",
       "      <th>...</th>\n",
       "      <td>...</td>\n",
       "      <td>...</td>\n",
       "      <td>...</td>\n",
       "      <td>...</td>\n",
       "      <td>...</td>\n",
       "      <td>...</td>\n",
       "      <td>...</td>\n",
       "      <td>...</td>\n",
       "      <td>...</td>\n",
       "      <td>...</td>\n",
       "      <td>...</td>\n",
       "      <td>...</td>\n",
       "      <td>...</td>\n",
       "      <td>...</td>\n",
       "      <td>...</td>\n",
       "      <td>...</td>\n",
       "      <td>...</td>\n",
       "      <td>...</td>\n",
       "      <td>...</td>\n",
       "      <td>...</td>\n",
       "      <td>...</td>\n",
       "    </tr>\n",
       "    <tr>\n",
       "      <th>55494</th>\n",
       "      <td>2021-07-31</td>\n",
       "      <td>2</td>\n",
       "      <td>1</td>\n",
       "      <td>0</td>\n",
       "      <td>0.000000</td>\n",
       "      <td>2</td>\n",
       "      <td>1</td>\n",
       "      <td>0.0</td>\n",
       "      <td>0.000000</td>\n",
       "      <td>1</td>\n",
       "      <td>...</td>\n",
       "      <td>0</td>\n",
       "      <td>1</td>\n",
       "      <td>0.75</td>\n",
       "      <td>0.0</td>\n",
       "      <td>Organic Search</td>\n",
       "      <td>Hyderabad</td>\n",
       "      <td>2021</td>\n",
       "      <td>7</td>\n",
       "      <td>31</td>\n",
       "      <td>Saturday</td>\n",
       "    </tr>\n",
       "    <tr>\n",
       "      <th>55495</th>\n",
       "      <td>2021-07-31</td>\n",
       "      <td>1</td>\n",
       "      <td>1</td>\n",
       "      <td>1</td>\n",
       "      <td>0.000000</td>\n",
       "      <td>2</td>\n",
       "      <td>1</td>\n",
       "      <td>0.0</td>\n",
       "      <td>0.000000</td>\n",
       "      <td>0</td>\n",
       "      <td>...</td>\n",
       "      <td>0</td>\n",
       "      <td>2</td>\n",
       "      <td>0.75</td>\n",
       "      <td>0.0</td>\n",
       "      <td>Direct</td>\n",
       "      <td>Bangalore</td>\n",
       "      <td>2021</td>\n",
       "      <td>7</td>\n",
       "      <td>31</td>\n",
       "      <td>Saturday</td>\n",
       "    </tr>\n",
       "    <tr>\n",
       "      <th>55496</th>\n",
       "      <td>2021-07-31</td>\n",
       "      <td>2</td>\n",
       "      <td>1</td>\n",
       "      <td>0</td>\n",
       "      <td>0.000000</td>\n",
       "      <td>2</td>\n",
       "      <td>1</td>\n",
       "      <td>0.0</td>\n",
       "      <td>0.000000</td>\n",
       "      <td>1</td>\n",
       "      <td>...</td>\n",
       "      <td>0</td>\n",
       "      <td>1</td>\n",
       "      <td>0.75</td>\n",
       "      <td>0.0</td>\n",
       "      <td>Organic Search</td>\n",
       "      <td>Pune</td>\n",
       "      <td>2021</td>\n",
       "      <td>7</td>\n",
       "      <td>31</td>\n",
       "      <td>Saturday</td>\n",
       "    </tr>\n",
       "    <tr>\n",
       "      <th>55497</th>\n",
       "      <td>2021-07-31</td>\n",
       "      <td>7</td>\n",
       "      <td>1</td>\n",
       "      <td>0</td>\n",
       "      <td>0.000000</td>\n",
       "      <td>2</td>\n",
       "      <td>1</td>\n",
       "      <td>0.0</td>\n",
       "      <td>0.000000</td>\n",
       "      <td>1</td>\n",
       "      <td>...</td>\n",
       "      <td>0</td>\n",
       "      <td>1</td>\n",
       "      <td>0.75</td>\n",
       "      <td>0.0</td>\n",
       "      <td>Direct</td>\n",
       "      <td>Mumbai</td>\n",
       "      <td>2021</td>\n",
       "      <td>7</td>\n",
       "      <td>31</td>\n",
       "      <td>Saturday</td>\n",
       "    </tr>\n",
       "    <tr>\n",
       "      <th>55498</th>\n",
       "      <td>2021-07-31</td>\n",
       "      <td>1</td>\n",
       "      <td>29</td>\n",
       "      <td>1</td>\n",
       "      <td>0.000000</td>\n",
       "      <td>58</td>\n",
       "      <td>0</td>\n",
       "      <td>5599.0</td>\n",
       "      <td>8.699515</td>\n",
       "      <td>0</td>\n",
       "      <td>...</td>\n",
       "      <td>0</td>\n",
       "      <td>58</td>\n",
       "      <td>0.00</td>\n",
       "      <td>100.0</td>\n",
       "      <td>Organic Search</td>\n",
       "      <td>Hyderabad</td>\n",
       "      <td>2021</td>\n",
       "      <td>7</td>\n",
       "      <td>31</td>\n",
       "      <td>Saturday</td>\n",
       "    </tr>\n",
       "  </tbody>\n",
       "</table>\n",
       "<p>55499 rows × 21 columns</p>\n",
       "</div>"
      ],
      "text/plain": [
       "            date  Sessions  Page_Views  New_Visitors      Hits  \\\n",
       "0     2020-08-01         1           4             1  0.019934   \n",
       "1     2020-08-01         1          13             1  0.013289   \n",
       "2     2020-08-01         1           2             1  0.019934   \n",
       "3     2020-08-01         1           5             1  0.049834   \n",
       "4     2020-08-01         1           3             1  0.006645   \n",
       "...          ...       ...         ...           ...       ...   \n",
       "55494 2021-07-31         2           1             0  0.000000   \n",
       "55495 2021-07-31         1           1             1  0.000000   \n",
       "55496 2021-07-31         2           1             0  0.000000   \n",
       "55497 2021-07-31         7           1             0  0.000000   \n",
       "55498 2021-07-31         1          29             1  0.000000   \n",
       "\n",
       "       Time_onsite(minutes)  bounces_offsite  Revenue(Rs/.)  Total_Revenues  \\\n",
       "0                         2                0            0.0        0.000000   \n",
       "1                        10                0         1699.0        7.783224   \n",
       "2                         1                0            0.0        0.000000   \n",
       "3                         6                0            0.0        0.000000   \n",
       "4                         1                0            0.0        0.000000   \n",
       "...                     ...              ...            ...             ...   \n",
       "55494                     2                1            0.0        0.000000   \n",
       "55495                     2                1            0.0        0.000000   \n",
       "55496                     2                1            0.0        0.000000   \n",
       "55497                     2                1            0.0        0.000000   \n",
       "55498                    58                0         5599.0        8.699515   \n",
       "\n",
       "       is_direct  ...  Session_qual  Avg_session_duration(minutes)  \\\n",
       "0              0  ...             0                              2   \n",
       "1              0  ...             0                             10   \n",
       "2              0  ...             0                              1   \n",
       "3              1  ...             0                              6   \n",
       "4              0  ...             0                              1   \n",
       "...          ...  ...           ...                            ...   \n",
       "55494          1  ...             0                              1   \n",
       "55495          0  ...             0                              2   \n",
       "55496          1  ...             0                              1   \n",
       "55497          1  ...             0                              1   \n",
       "55498          0  ...             0                             58   \n",
       "\n",
       "       Bounce_Rate(%age)  Conversion_Rate(%age)         Channel     geoLoc  \\\n",
       "0                   0.00                    0.0  Organic Search     Mumbai   \n",
       "1                   0.00                  100.0  Organic Search  Bangalore   \n",
       "2                   0.00                    0.0          Direct  Hyderabad   \n",
       "3                   0.00                    0.0          Social  Bangalore   \n",
       "4                   0.00                    0.0  Organic Search  Hyderabad   \n",
       "...                  ...                    ...             ...        ...   \n",
       "55494               0.75                    0.0  Organic Search  Hyderabad   \n",
       "55495               0.75                    0.0          Direct  Bangalore   \n",
       "55496               0.75                    0.0  Organic Search       Pune   \n",
       "55497               0.75                    0.0          Direct     Mumbai   \n",
       "55498               0.00                  100.0  Organic Search  Hyderabad   \n",
       "\n",
       "       year  month  day  day_of_week  \n",
       "0      2020      8    1     Saturday  \n",
       "1      2020      8    1     Saturday  \n",
       "2      2020      8    1     Saturday  \n",
       "3      2020      8    1     Saturday  \n",
       "4      2020      8    1     Saturday  \n",
       "...     ...    ...  ...          ...  \n",
       "55494  2021      7   31     Saturday  \n",
       "55495  2021      7   31     Saturday  \n",
       "55496  2021      7   31     Saturday  \n",
       "55497  2021      7   31     Saturday  \n",
       "55498  2021      7   31     Saturday  \n",
       "\n",
       "[55499 rows x 21 columns]"
      ]
     },
     "execution_count": 110,
     "metadata": {},
     "output_type": "execute_result"
    }
   ],
   "source": [
    "df"
   ]
  },
  {
   "cell_type": "code",
   "execution_count": 140,
   "id": "c2d93952",
   "metadata": {},
   "outputs": [
    {
     "data": {
      "text/plain": [
       "55499"
      ]
     },
     "execution_count": 140,
     "metadata": {},
     "output_type": "execute_result"
    }
   ],
   "source": [
    "df.Channel.value_counts().sum()"
   ]
  },
  {
   "cell_type": "code",
   "execution_count": 120,
   "id": "ed17ef9a",
   "metadata": {},
   "outputs": [
    {
     "data": {
      "text/plain": [
       "10544.81"
      ]
     },
     "execution_count": 120,
     "metadata": {},
     "output_type": "execute_result"
    }
   ],
   "source": [
    "df.shape[0] *.19"
   ]
  },
  {
   "cell_type": "code",
   "execution_count": 137,
   "id": "9ab353cf",
   "metadata": {},
   "outputs": [
    {
     "data": {
      "text/plain": [
       "0.29269444116605686"
      ]
     },
     "execution_count": 137,
     "metadata": {},
     "output_type": "execute_result"
    }
   ],
   "source": [
    "df[df['New_Visitors']==1]['Conversion_Rate(%age)'].mean()"
   ]
  },
  {
   "cell_type": "code",
   "execution_count": 139,
   "id": "9dd769f3",
   "metadata": {},
   "outputs": [
    {
     "data": {
      "text/plain": [
       "0.28610856946939933"
      ]
     },
     "execution_count": 139,
     "metadata": {},
     "output_type": "execute_result"
    }
   ],
   "source": [
    "df['Conversion_Rate(%age)'].mean()"
   ]
  },
  {
   "cell_type": "code",
   "execution_count": 143,
   "id": "00fc660e",
   "metadata": {},
   "outputs": [
    {
     "data": {
      "text/plain": [
       "11100.0"
      ]
     },
     "execution_count": 143,
     "metadata": {},
     "output_type": "execute_result"
    }
   ],
   "source": [
    "55500*.20"
   ]
  },
  {
   "cell_type": "code",
   "execution_count": 144,
   "id": "017b891d",
   "metadata": {},
   "outputs": [
    {
     "data": {
      "text/html": [
       "<div>\n",
       "<style scoped>\n",
       "    .dataframe tbody tr th:only-of-type {\n",
       "        vertical-align: middle;\n",
       "    }\n",
       "\n",
       "    .dataframe tbody tr th {\n",
       "        vertical-align: top;\n",
       "    }\n",
       "\n",
       "    .dataframe thead th {\n",
       "        text-align: right;\n",
       "    }\n",
       "</style>\n",
       "<table border=\"1\" class=\"dataframe\">\n",
       "  <thead>\n",
       "    <tr style=\"text-align: right;\">\n",
       "      <th></th>\n",
       "      <th>date</th>\n",
       "      <th>Sessions</th>\n",
       "      <th>Page_Views</th>\n",
       "      <th>New_Visitors</th>\n",
       "      <th>Hits</th>\n",
       "      <th>Time_onsite(minutes)</th>\n",
       "      <th>bounces_offsite</th>\n",
       "      <th>Revenue(Rs/.)</th>\n",
       "      <th>Total_Revenues</th>\n",
       "      <th>is_direct</th>\n",
       "      <th>...</th>\n",
       "      <th>Session_qual</th>\n",
       "      <th>Avg_session_duration(minutes)</th>\n",
       "      <th>Bounce_Rate(%age)</th>\n",
       "      <th>Conversion_Rate(%age)</th>\n",
       "      <th>Channel</th>\n",
       "      <th>geoLoc</th>\n",
       "      <th>year</th>\n",
       "      <th>month</th>\n",
       "      <th>day</th>\n",
       "      <th>day_of_week</th>\n",
       "    </tr>\n",
       "  </thead>\n",
       "  <tbody>\n",
       "    <tr>\n",
       "      <th>0</th>\n",
       "      <td>2020-08-01</td>\n",
       "      <td>1</td>\n",
       "      <td>4</td>\n",
       "      <td>1</td>\n",
       "      <td>0.019934</td>\n",
       "      <td>2</td>\n",
       "      <td>0</td>\n",
       "      <td>0.0</td>\n",
       "      <td>0.000000</td>\n",
       "      <td>0</td>\n",
       "      <td>...</td>\n",
       "      <td>0</td>\n",
       "      <td>2</td>\n",
       "      <td>0.00</td>\n",
       "      <td>0.0</td>\n",
       "      <td>Organic Search</td>\n",
       "      <td>Mumbai</td>\n",
       "      <td>2020</td>\n",
       "      <td>8</td>\n",
       "      <td>1</td>\n",
       "      <td>Saturday</td>\n",
       "    </tr>\n",
       "    <tr>\n",
       "      <th>1</th>\n",
       "      <td>2020-08-01</td>\n",
       "      <td>1</td>\n",
       "      <td>13</td>\n",
       "      <td>1</td>\n",
       "      <td>0.013289</td>\n",
       "      <td>10</td>\n",
       "      <td>0</td>\n",
       "      <td>1699.0</td>\n",
       "      <td>7.783224</td>\n",
       "      <td>0</td>\n",
       "      <td>...</td>\n",
       "      <td>0</td>\n",
       "      <td>10</td>\n",
       "      <td>0.00</td>\n",
       "      <td>100.0</td>\n",
       "      <td>Organic Search</td>\n",
       "      <td>Bangalore</td>\n",
       "      <td>2020</td>\n",
       "      <td>8</td>\n",
       "      <td>1</td>\n",
       "      <td>Saturday</td>\n",
       "    </tr>\n",
       "    <tr>\n",
       "      <th>2</th>\n",
       "      <td>2020-08-01</td>\n",
       "      <td>1</td>\n",
       "      <td>2</td>\n",
       "      <td>1</td>\n",
       "      <td>0.019934</td>\n",
       "      <td>1</td>\n",
       "      <td>0</td>\n",
       "      <td>0.0</td>\n",
       "      <td>0.000000</td>\n",
       "      <td>0</td>\n",
       "      <td>...</td>\n",
       "      <td>0</td>\n",
       "      <td>1</td>\n",
       "      <td>0.00</td>\n",
       "      <td>0.0</td>\n",
       "      <td>Direct</td>\n",
       "      <td>Hyderabad</td>\n",
       "      <td>2020</td>\n",
       "      <td>8</td>\n",
       "      <td>1</td>\n",
       "      <td>Saturday</td>\n",
       "    </tr>\n",
       "    <tr>\n",
       "      <th>3</th>\n",
       "      <td>2020-08-01</td>\n",
       "      <td>1</td>\n",
       "      <td>5</td>\n",
       "      <td>1</td>\n",
       "      <td>0.049834</td>\n",
       "      <td>6</td>\n",
       "      <td>0</td>\n",
       "      <td>0.0</td>\n",
       "      <td>0.000000</td>\n",
       "      <td>1</td>\n",
       "      <td>...</td>\n",
       "      <td>0</td>\n",
       "      <td>6</td>\n",
       "      <td>0.00</td>\n",
       "      <td>0.0</td>\n",
       "      <td>Social</td>\n",
       "      <td>Bangalore</td>\n",
       "      <td>2020</td>\n",
       "      <td>8</td>\n",
       "      <td>1</td>\n",
       "      <td>Saturday</td>\n",
       "    </tr>\n",
       "    <tr>\n",
       "      <th>4</th>\n",
       "      <td>2020-08-01</td>\n",
       "      <td>1</td>\n",
       "      <td>3</td>\n",
       "      <td>1</td>\n",
       "      <td>0.006645</td>\n",
       "      <td>1</td>\n",
       "      <td>0</td>\n",
       "      <td>0.0</td>\n",
       "      <td>0.000000</td>\n",
       "      <td>0</td>\n",
       "      <td>...</td>\n",
       "      <td>0</td>\n",
       "      <td>1</td>\n",
       "      <td>0.00</td>\n",
       "      <td>0.0</td>\n",
       "      <td>Organic Search</td>\n",
       "      <td>Hyderabad</td>\n",
       "      <td>2020</td>\n",
       "      <td>8</td>\n",
       "      <td>1</td>\n",
       "      <td>Saturday</td>\n",
       "    </tr>\n",
       "    <tr>\n",
       "      <th>...</th>\n",
       "      <td>...</td>\n",
       "      <td>...</td>\n",
       "      <td>...</td>\n",
       "      <td>...</td>\n",
       "      <td>...</td>\n",
       "      <td>...</td>\n",
       "      <td>...</td>\n",
       "      <td>...</td>\n",
       "      <td>...</td>\n",
       "      <td>...</td>\n",
       "      <td>...</td>\n",
       "      <td>...</td>\n",
       "      <td>...</td>\n",
       "      <td>...</td>\n",
       "      <td>...</td>\n",
       "      <td>...</td>\n",
       "      <td>...</td>\n",
       "      <td>...</td>\n",
       "      <td>...</td>\n",
       "      <td>...</td>\n",
       "      <td>...</td>\n",
       "    </tr>\n",
       "    <tr>\n",
       "      <th>55494</th>\n",
       "      <td>2021-07-31</td>\n",
       "      <td>2</td>\n",
       "      <td>1</td>\n",
       "      <td>0</td>\n",
       "      <td>0.000000</td>\n",
       "      <td>2</td>\n",
       "      <td>1</td>\n",
       "      <td>0.0</td>\n",
       "      <td>0.000000</td>\n",
       "      <td>1</td>\n",
       "      <td>...</td>\n",
       "      <td>0</td>\n",
       "      <td>1</td>\n",
       "      <td>0.75</td>\n",
       "      <td>0.0</td>\n",
       "      <td>Organic Search</td>\n",
       "      <td>Hyderabad</td>\n",
       "      <td>2021</td>\n",
       "      <td>7</td>\n",
       "      <td>31</td>\n",
       "      <td>Saturday</td>\n",
       "    </tr>\n",
       "    <tr>\n",
       "      <th>55495</th>\n",
       "      <td>2021-07-31</td>\n",
       "      <td>1</td>\n",
       "      <td>1</td>\n",
       "      <td>1</td>\n",
       "      <td>0.000000</td>\n",
       "      <td>2</td>\n",
       "      <td>1</td>\n",
       "      <td>0.0</td>\n",
       "      <td>0.000000</td>\n",
       "      <td>0</td>\n",
       "      <td>...</td>\n",
       "      <td>0</td>\n",
       "      <td>2</td>\n",
       "      <td>0.75</td>\n",
       "      <td>0.0</td>\n",
       "      <td>Direct</td>\n",
       "      <td>Bangalore</td>\n",
       "      <td>2021</td>\n",
       "      <td>7</td>\n",
       "      <td>31</td>\n",
       "      <td>Saturday</td>\n",
       "    </tr>\n",
       "    <tr>\n",
       "      <th>55496</th>\n",
       "      <td>2021-07-31</td>\n",
       "      <td>2</td>\n",
       "      <td>1</td>\n",
       "      <td>0</td>\n",
       "      <td>0.000000</td>\n",
       "      <td>2</td>\n",
       "      <td>1</td>\n",
       "      <td>0.0</td>\n",
       "      <td>0.000000</td>\n",
       "      <td>1</td>\n",
       "      <td>...</td>\n",
       "      <td>0</td>\n",
       "      <td>1</td>\n",
       "      <td>0.75</td>\n",
       "      <td>0.0</td>\n",
       "      <td>Organic Search</td>\n",
       "      <td>Pune</td>\n",
       "      <td>2021</td>\n",
       "      <td>7</td>\n",
       "      <td>31</td>\n",
       "      <td>Saturday</td>\n",
       "    </tr>\n",
       "    <tr>\n",
       "      <th>55497</th>\n",
       "      <td>2021-07-31</td>\n",
       "      <td>7</td>\n",
       "      <td>1</td>\n",
       "      <td>0</td>\n",
       "      <td>0.000000</td>\n",
       "      <td>2</td>\n",
       "      <td>1</td>\n",
       "      <td>0.0</td>\n",
       "      <td>0.000000</td>\n",
       "      <td>1</td>\n",
       "      <td>...</td>\n",
       "      <td>0</td>\n",
       "      <td>1</td>\n",
       "      <td>0.75</td>\n",
       "      <td>0.0</td>\n",
       "      <td>Direct</td>\n",
       "      <td>Mumbai</td>\n",
       "      <td>2021</td>\n",
       "      <td>7</td>\n",
       "      <td>31</td>\n",
       "      <td>Saturday</td>\n",
       "    </tr>\n",
       "    <tr>\n",
       "      <th>55498</th>\n",
       "      <td>2021-07-31</td>\n",
       "      <td>1</td>\n",
       "      <td>29</td>\n",
       "      <td>1</td>\n",
       "      <td>0.000000</td>\n",
       "      <td>58</td>\n",
       "      <td>0</td>\n",
       "      <td>5599.0</td>\n",
       "      <td>8.699515</td>\n",
       "      <td>0</td>\n",
       "      <td>...</td>\n",
       "      <td>0</td>\n",
       "      <td>58</td>\n",
       "      <td>0.00</td>\n",
       "      <td>100.0</td>\n",
       "      <td>Organic Search</td>\n",
       "      <td>Hyderabad</td>\n",
       "      <td>2021</td>\n",
       "      <td>7</td>\n",
       "      <td>31</td>\n",
       "      <td>Saturday</td>\n",
       "    </tr>\n",
       "  </tbody>\n",
       "</table>\n",
       "<p>55499 rows × 21 columns</p>\n",
       "</div>"
      ],
      "text/plain": [
       "            date  Sessions  Page_Views  New_Visitors      Hits  \\\n",
       "0     2020-08-01         1           4             1  0.019934   \n",
       "1     2020-08-01         1          13             1  0.013289   \n",
       "2     2020-08-01         1           2             1  0.019934   \n",
       "3     2020-08-01         1           5             1  0.049834   \n",
       "4     2020-08-01         1           3             1  0.006645   \n",
       "...          ...       ...         ...           ...       ...   \n",
       "55494 2021-07-31         2           1             0  0.000000   \n",
       "55495 2021-07-31         1           1             1  0.000000   \n",
       "55496 2021-07-31         2           1             0  0.000000   \n",
       "55497 2021-07-31         7           1             0  0.000000   \n",
       "55498 2021-07-31         1          29             1  0.000000   \n",
       "\n",
       "       Time_onsite(minutes)  bounces_offsite  Revenue(Rs/.)  Total_Revenues  \\\n",
       "0                         2                0            0.0        0.000000   \n",
       "1                        10                0         1699.0        7.783224   \n",
       "2                         1                0            0.0        0.000000   \n",
       "3                         6                0            0.0        0.000000   \n",
       "4                         1                0            0.0        0.000000   \n",
       "...                     ...              ...            ...             ...   \n",
       "55494                     2                1            0.0        0.000000   \n",
       "55495                     2                1            0.0        0.000000   \n",
       "55496                     2                1            0.0        0.000000   \n",
       "55497                     2                1            0.0        0.000000   \n",
       "55498                    58                0         5599.0        8.699515   \n",
       "\n",
       "       is_direct  ...  Session_qual  Avg_session_duration(minutes)  \\\n",
       "0              0  ...             0                              2   \n",
       "1              0  ...             0                             10   \n",
       "2              0  ...             0                              1   \n",
       "3              1  ...             0                              6   \n",
       "4              0  ...             0                              1   \n",
       "...          ...  ...           ...                            ...   \n",
       "55494          1  ...             0                              1   \n",
       "55495          0  ...             0                              2   \n",
       "55496          1  ...             0                              1   \n",
       "55497          1  ...             0                              1   \n",
       "55498          0  ...             0                             58   \n",
       "\n",
       "       Bounce_Rate(%age)  Conversion_Rate(%age)         Channel     geoLoc  \\\n",
       "0                   0.00                    0.0  Organic Search     Mumbai   \n",
       "1                   0.00                  100.0  Organic Search  Bangalore   \n",
       "2                   0.00                    0.0          Direct  Hyderabad   \n",
       "3                   0.00                    0.0          Social  Bangalore   \n",
       "4                   0.00                    0.0  Organic Search  Hyderabad   \n",
       "...                  ...                    ...             ...        ...   \n",
       "55494               0.75                    0.0  Organic Search  Hyderabad   \n",
       "55495               0.75                    0.0          Direct  Bangalore   \n",
       "55496               0.75                    0.0  Organic Search       Pune   \n",
       "55497               0.75                    0.0          Direct     Mumbai   \n",
       "55498               0.00                  100.0  Organic Search  Hyderabad   \n",
       "\n",
       "       year  month  day  day_of_week  \n",
       "0      2020      8    1     Saturday  \n",
       "1      2020      8    1     Saturday  \n",
       "2      2020      8    1     Saturday  \n",
       "3      2020      8    1     Saturday  \n",
       "4      2020      8    1     Saturday  \n",
       "...     ...    ...  ...          ...  \n",
       "55494  2021      7   31     Saturday  \n",
       "55495  2021      7   31     Saturday  \n",
       "55496  2021      7   31     Saturday  \n",
       "55497  2021      7   31     Saturday  \n",
       "55498  2021      7   31     Saturday  \n",
       "\n",
       "[55499 rows x 21 columns]"
      ]
     },
     "execution_count": 144,
     "metadata": {},
     "output_type": "execute_result"
    }
   ],
   "source": [
    "df"
   ]
  },
  {
   "cell_type": "code",
   "execution_count": 145,
   "id": "ce4b49bf",
   "metadata": {},
   "outputs": [
    {
     "data": {
      "text/plain": [
       "array(['Mumbai', 'Bangalore', 'Hyderabad', 'Jaipur', 'Chennai',\n",
       "       'Ahmedabad', 'Delhi', 'Kolkata', 'Pune'], dtype=object)"
      ]
     },
     "execution_count": 145,
     "metadata": {},
     "output_type": "execute_result"
    }
   ],
   "source": [
    "df.geoLoc.unique()\n"
   ]
  },
  {
   "cell_type": "code",
   "execution_count": 188,
   "id": "05f2be8f",
   "metadata": {},
   "outputs": [
    {
     "data": {
      "text/plain": [
       "Organic Search    1728\n",
       "Direct             561\n",
       "Referral           248\n",
       "Paid Search        130\n",
       "Social              82\n",
       "Affiliates          61\n",
       "Display             27\n",
       "(Other)              1\n",
       "Name: Channel, dtype: int64"
      ]
     },
     "execution_count": 188,
     "metadata": {},
     "output_type": "execute_result"
    }
   ],
   "source": [
    "df[df['geoLoc']=='Kolkata']['Channel'].value_counts()"
   ]
  },
  {
   "cell_type": "code",
   "execution_count": 187,
   "id": "ced65e4e",
   "metadata": {},
   "outputs": [
    {
     "data": {
      "text/plain": [
       "0.6181172291296625"
      ]
     },
     "execution_count": 187,
     "metadata": {},
     "output_type": "execute_result"
    }
   ],
   "source": [
    "1740/2815"
   ]
  },
  {
   "cell_type": "code",
   "execution_count": 189,
   "id": "cdacd9bd",
   "metadata": {},
   "outputs": [
    {
     "data": {
      "text/plain": [
       "geoLoc\n",
       "Ahmedabad     6162\n",
       "Bangalore    30293\n",
       "Chennai       7808\n",
       "Delhi         7228\n",
       "Hyderabad    34180\n",
       "Jaipur        6620\n",
       "Kolkata       6325\n",
       "Mumbai       19833\n",
       "Pune         14603\n",
       "Name: Sessions, dtype: int64"
      ]
     },
     "execution_count": 189,
     "metadata": {},
     "output_type": "execute_result"
    }
   ],
   "source": [
    "df.groupby('geoLoc')['Sessions'].sum()"
   ]
  },
  {
   "cell_type": "code",
   "execution_count": 199,
   "id": "04be82e6",
   "metadata": {},
   "outputs": [
    {
     "data": {
      "text/plain": [
       "geoLoc\n",
       "Ahmedabad     7536\n",
       "Bangalore    32966\n",
       "Chennai       7501\n",
       "Delhi         7498\n",
       "Hyderabad    36942\n",
       "Jaipur        7312\n",
       "Kolkata       7134\n",
       "Mumbai       21713\n",
       "Pune         17936\n",
       "Name: Page_Views, dtype: int64"
      ]
     },
     "execution_count": 199,
     "metadata": {},
     "output_type": "execute_result"
    }
   ],
   "source": [
    "df.groupby('geoLoc')['Page_Views'].sum()"
   ]
  },
  {
   "cell_type": "markdown",
   "id": "b17baf90",
   "metadata": {},
   "source": [
    "### Sessions"
   ]
  },
  {
   "cell_type": "markdown",
   "id": "f32c8768",
   "metadata": {},
   "source": [
    "### Google Analytics Dropdown menu"
   ]
  },
  {
   "cell_type": "markdown",
   "id": "a6ffcf9f",
   "metadata": {},
   "source": [
    "#### Sessions"
   ]
  },
  {
   "cell_type": "code",
   "execution_count": 5,
   "id": "fe838d2a",
   "metadata": {},
   "outputs": [
    {
     "data": {
      "text/html": [
       "<div>\n",
       "<style scoped>\n",
       "    .dataframe tbody tr th:only-of-type {\n",
       "        vertical-align: middle;\n",
       "    }\n",
       "\n",
       "    .dataframe tbody tr th {\n",
       "        vertical-align: top;\n",
       "    }\n",
       "\n",
       "    .dataframe thead th {\n",
       "        text-align: right;\n",
       "    }\n",
       "</style>\n",
       "<table border=\"1\" class=\"dataframe\">\n",
       "  <thead>\n",
       "    <tr style=\"text-align: right;\">\n",
       "      <th></th>\n",
       "      <th>date</th>\n",
       "      <th>Sessions</th>\n",
       "      <th>Page_Views</th>\n",
       "      <th>New_Visitors</th>\n",
       "      <th>Hits</th>\n",
       "      <th>Time_onsite(minutes)</th>\n",
       "      <th>bounces_offsite</th>\n",
       "      <th>Revenue(Rs/.)</th>\n",
       "      <th>Total_Revenues</th>\n",
       "      <th>is_direct</th>\n",
       "      <th>is_mobile</th>\n",
       "      <th>Session_qual</th>\n",
       "      <th>Avg_session_duration(minutes)</th>\n",
       "      <th>Bounce_Rate(%age)</th>\n",
       "      <th>Conversion_Rate(%age)</th>\n",
       "      <th>Channel</th>\n",
       "      <th>geoLoc</th>\n",
       "      <th>year</th>\n",
       "      <th>month</th>\n",
       "      <th>day</th>\n",
       "    </tr>\n",
       "  </thead>\n",
       "  <tbody>\n",
       "    <tr>\n",
       "      <th>8586</th>\n",
       "      <td>2020-09-27</td>\n",
       "      <td>4</td>\n",
       "      <td>1</td>\n",
       "      <td>0</td>\n",
       "      <td>0.013289</td>\n",
       "      <td>31</td>\n",
       "      <td>0</td>\n",
       "      <td>0.0</td>\n",
       "      <td>0.0</td>\n",
       "      <td>1</td>\n",
       "      <td>0</td>\n",
       "      <td>0</td>\n",
       "      <td>8</td>\n",
       "      <td>0.27</td>\n",
       "      <td>0.0</td>\n",
       "      <td>Direct</td>\n",
       "      <td>Bangalore</td>\n",
       "      <td>2020</td>\n",
       "      <td>9</td>\n",
       "      <td>27</td>\n",
       "    </tr>\n",
       "    <tr>\n",
       "      <th>11897</th>\n",
       "      <td>2020-10-19</td>\n",
       "      <td>1</td>\n",
       "      <td>1</td>\n",
       "      <td>1</td>\n",
       "      <td>0.016611</td>\n",
       "      <td>2</td>\n",
       "      <td>1</td>\n",
       "      <td>0.0</td>\n",
       "      <td>0.0</td>\n",
       "      <td>1</td>\n",
       "      <td>0</td>\n",
       "      <td>0</td>\n",
       "      <td>2</td>\n",
       "      <td>0.67</td>\n",
       "      <td>0.0</td>\n",
       "      <td>Direct</td>\n",
       "      <td>Chennai</td>\n",
       "      <td>2020</td>\n",
       "      <td>10</td>\n",
       "      <td>19</td>\n",
       "    </tr>\n",
       "    <tr>\n",
       "      <th>30125</th>\n",
       "      <td>2021-02-19</td>\n",
       "      <td>1</td>\n",
       "      <td>1</td>\n",
       "      <td>1</td>\n",
       "      <td>0.000000</td>\n",
       "      <td>2</td>\n",
       "      <td>1</td>\n",
       "      <td>0.0</td>\n",
       "      <td>0.0</td>\n",
       "      <td>0</td>\n",
       "      <td>0</td>\n",
       "      <td>0</td>\n",
       "      <td>2</td>\n",
       "      <td>0.76</td>\n",
       "      <td>0.0</td>\n",
       "      <td>Organic Search</td>\n",
       "      <td>Pune</td>\n",
       "      <td>2021</td>\n",
       "      <td>2</td>\n",
       "      <td>19</td>\n",
       "    </tr>\n",
       "    <tr>\n",
       "      <th>52248</th>\n",
       "      <td>2021-07-10</td>\n",
       "      <td>1</td>\n",
       "      <td>2</td>\n",
       "      <td>1</td>\n",
       "      <td>0.000000</td>\n",
       "      <td>1</td>\n",
       "      <td>0</td>\n",
       "      <td>0.0</td>\n",
       "      <td>0.0</td>\n",
       "      <td>0</td>\n",
       "      <td>0</td>\n",
       "      <td>0</td>\n",
       "      <td>1</td>\n",
       "      <td>0.00</td>\n",
       "      <td>0.0</td>\n",
       "      <td>Organic Search</td>\n",
       "      <td>Chennai</td>\n",
       "      <td>2021</td>\n",
       "      <td>7</td>\n",
       "      <td>10</td>\n",
       "    </tr>\n",
       "    <tr>\n",
       "      <th>50927</th>\n",
       "      <td>2021-07-01</td>\n",
       "      <td>1</td>\n",
       "      <td>13</td>\n",
       "      <td>1</td>\n",
       "      <td>0.059801</td>\n",
       "      <td>4</td>\n",
       "      <td>0</td>\n",
       "      <td>0.0</td>\n",
       "      <td>0.0</td>\n",
       "      <td>0</td>\n",
       "      <td>0</td>\n",
       "      <td>0</td>\n",
       "      <td>4</td>\n",
       "      <td>0.00</td>\n",
       "      <td>0.0</td>\n",
       "      <td>Organic Search</td>\n",
       "      <td>Hyderabad</td>\n",
       "      <td>2021</td>\n",
       "      <td>7</td>\n",
       "      <td>1</td>\n",
       "    </tr>\n",
       "    <tr>\n",
       "      <th>17800</th>\n",
       "      <td>2020-11-29</td>\n",
       "      <td>1</td>\n",
       "      <td>1</td>\n",
       "      <td>1</td>\n",
       "      <td>0.000000</td>\n",
       "      <td>2</td>\n",
       "      <td>1</td>\n",
       "      <td>0.0</td>\n",
       "      <td>0.0</td>\n",
       "      <td>0</td>\n",
       "      <td>0</td>\n",
       "      <td>0</td>\n",
       "      <td>2</td>\n",
       "      <td>1.00</td>\n",
       "      <td>0.0</td>\n",
       "      <td>Direct</td>\n",
       "      <td>Jaipur</td>\n",
       "      <td>2020</td>\n",
       "      <td>11</td>\n",
       "      <td>29</td>\n",
       "    </tr>\n",
       "    <tr>\n",
       "      <th>29802</th>\n",
       "      <td>2021-02-17</td>\n",
       "      <td>1</td>\n",
       "      <td>4</td>\n",
       "      <td>1</td>\n",
       "      <td>0.000000</td>\n",
       "      <td>3</td>\n",
       "      <td>0</td>\n",
       "      <td>0.0</td>\n",
       "      <td>0.0</td>\n",
       "      <td>0</td>\n",
       "      <td>0</td>\n",
       "      <td>0</td>\n",
       "      <td>3</td>\n",
       "      <td>0.00</td>\n",
       "      <td>0.0</td>\n",
       "      <td>Organic Search</td>\n",
       "      <td>Chennai</td>\n",
       "      <td>2021</td>\n",
       "      <td>2</td>\n",
       "      <td>17</td>\n",
       "    </tr>\n",
       "    <tr>\n",
       "      <th>12899</th>\n",
       "      <td>2020-10-25</td>\n",
       "      <td>1</td>\n",
       "      <td>1</td>\n",
       "      <td>1</td>\n",
       "      <td>0.019934</td>\n",
       "      <td>2</td>\n",
       "      <td>1</td>\n",
       "      <td>0.0</td>\n",
       "      <td>0.0</td>\n",
       "      <td>1</td>\n",
       "      <td>0</td>\n",
       "      <td>0</td>\n",
       "      <td>2</td>\n",
       "      <td>1.00</td>\n",
       "      <td>0.0</td>\n",
       "      <td>Paid Search</td>\n",
       "      <td>Bangalore</td>\n",
       "      <td>2020</td>\n",
       "      <td>10</td>\n",
       "      <td>25</td>\n",
       "    </tr>\n",
       "    <tr>\n",
       "      <th>47840</th>\n",
       "      <td>2021-06-10</td>\n",
       "      <td>1</td>\n",
       "      <td>1</td>\n",
       "      <td>1</td>\n",
       "      <td>0.036545</td>\n",
       "      <td>2</td>\n",
       "      <td>1</td>\n",
       "      <td>0.0</td>\n",
       "      <td>0.0</td>\n",
       "      <td>0</td>\n",
       "      <td>0</td>\n",
       "      <td>0</td>\n",
       "      <td>2</td>\n",
       "      <td>0.62</td>\n",
       "      <td>0.0</td>\n",
       "      <td>Organic Search</td>\n",
       "      <td>Pune</td>\n",
       "      <td>2021</td>\n",
       "      <td>6</td>\n",
       "      <td>10</td>\n",
       "    </tr>\n",
       "    <tr>\n",
       "      <th>30980</th>\n",
       "      <td>2021-02-25</td>\n",
       "      <td>1</td>\n",
       "      <td>1</td>\n",
       "      <td>1</td>\n",
       "      <td>0.003322</td>\n",
       "      <td>2</td>\n",
       "      <td>1</td>\n",
       "      <td>0.0</td>\n",
       "      <td>0.0</td>\n",
       "      <td>0</td>\n",
       "      <td>0</td>\n",
       "      <td>0</td>\n",
       "      <td>2</td>\n",
       "      <td>1.00</td>\n",
       "      <td>0.0</td>\n",
       "      <td>Organic Search</td>\n",
       "      <td>Bangalore</td>\n",
       "      <td>2021</td>\n",
       "      <td>2</td>\n",
       "      <td>25</td>\n",
       "    </tr>\n",
       "  </tbody>\n",
       "</table>\n",
       "</div>"
      ],
      "text/plain": [
       "            date  Sessions  Page_Views  New_Visitors      Hits  \\\n",
       "8586  2020-09-27         4           1             0  0.013289   \n",
       "11897 2020-10-19         1           1             1  0.016611   \n",
       "30125 2021-02-19         1           1             1  0.000000   \n",
       "52248 2021-07-10         1           2             1  0.000000   \n",
       "50927 2021-07-01         1          13             1  0.059801   \n",
       "17800 2020-11-29         1           1             1  0.000000   \n",
       "29802 2021-02-17         1           4             1  0.000000   \n",
       "12899 2020-10-25         1           1             1  0.019934   \n",
       "47840 2021-06-10         1           1             1  0.036545   \n",
       "30980 2021-02-25         1           1             1  0.003322   \n",
       "\n",
       "       Time_onsite(minutes)  bounces_offsite  Revenue(Rs/.)  Total_Revenues  \\\n",
       "8586                     31                0            0.0             0.0   \n",
       "11897                     2                1            0.0             0.0   \n",
       "30125                     2                1            0.0             0.0   \n",
       "52248                     1                0            0.0             0.0   \n",
       "50927                     4                0            0.0             0.0   \n",
       "17800                     2                1            0.0             0.0   \n",
       "29802                     3                0            0.0             0.0   \n",
       "12899                     2                1            0.0             0.0   \n",
       "47840                     2                1            0.0             0.0   \n",
       "30980                     2                1            0.0             0.0   \n",
       "\n",
       "       is_direct  is_mobile  Session_qual  Avg_session_duration(minutes)  \\\n",
       "8586           1          0             0                              8   \n",
       "11897          1          0             0                              2   \n",
       "30125          0          0             0                              2   \n",
       "52248          0          0             0                              1   \n",
       "50927          0          0             0                              4   \n",
       "17800          0          0             0                              2   \n",
       "29802          0          0             0                              3   \n",
       "12899          1          0             0                              2   \n",
       "47840          0          0             0                              2   \n",
       "30980          0          0             0                              2   \n",
       "\n",
       "       Bounce_Rate(%age)  Conversion_Rate(%age)         Channel     geoLoc  \\\n",
       "8586                0.27                    0.0          Direct  Bangalore   \n",
       "11897               0.67                    0.0          Direct    Chennai   \n",
       "30125               0.76                    0.0  Organic Search       Pune   \n",
       "52248               0.00                    0.0  Organic Search    Chennai   \n",
       "50927               0.00                    0.0  Organic Search  Hyderabad   \n",
       "17800               1.00                    0.0          Direct     Jaipur   \n",
       "29802               0.00                    0.0  Organic Search    Chennai   \n",
       "12899               1.00                    0.0     Paid Search  Bangalore   \n",
       "47840               0.62                    0.0  Organic Search       Pune   \n",
       "30980               1.00                    0.0  Organic Search  Bangalore   \n",
       "\n",
       "       year  month  day  \n",
       "8586   2020      9   27  \n",
       "11897  2020     10   19  \n",
       "30125  2021      2   19  \n",
       "52248  2021      7   10  \n",
       "50927  2021      7    1  \n",
       "17800  2020     11   29  \n",
       "29802  2021      2   17  \n",
       "12899  2020     10   25  \n",
       "47840  2021      6   10  \n",
       "30980  2021      2   25  "
      ]
     },
     "execution_count": 5,
     "metadata": {},
     "output_type": "execute_result"
    }
   ],
   "source": [
    "df.sample(10)"
   ]
  },
  {
   "cell_type": "code",
   "execution_count": 6,
   "id": "71305044",
   "metadata": {},
   "outputs": [],
   "source": [
    "import plotly.express as px\n",
    "fig=px.line(df,x='date',y='Sessions', title='yearly session count')\n",
    "fig.write_image('yearlySess.jpg')"
   ]
  },
  {
   "cell_type": "code",
   "execution_count": 17,
   "id": "67b99b6a",
   "metadata": {},
   "outputs": [],
   "source": [
    "df['quarter_no.']=''\n",
    "df.loc[(df.month==1)  | (df.month==2)  | (df.month==3),'quarter_no.']=1\n",
    "df.loc[(df.month==4)  |(df.month==5) | (df.month==6),'quarter_no.']=2\n",
    "df.loc[(df.month==7)  |(df.month==8)  |(df.month==9),'quarter_no.']=3\n",
    "df.loc[(df.month==10)  |(df.month==11)  |(df.month==12),'quarter_no.']=4"
   ]
  },
  {
   "cell_type": "code",
   "execution_count": 19,
   "id": "3e83153f",
   "metadata": {},
   "outputs": [
    {
     "data": {
      "text/plain": [
       "(4, 1)"
      ]
     },
     "execution_count": 19,
     "metadata": {},
     "output_type": "execute_result"
    }
   ],
   "source": [
    "df_quarter.shape"
   ]
  },
  {
   "cell_type": "code",
   "execution_count": 98,
   "id": "ac3ec8b2",
   "metadata": {},
   "outputs": [
    {
     "data": {
      "application/vnd.plotly.v1+json": {
       "config": {
        "plotlyServerURL": "https://plot.ly"
       },
       "data": [
        {
         "hovertemplate": "quarter_no.=%{x}<br>Sessions=%{y}<extra></extra>",
         "legendgroup": "",
         "line": {
          "color": "#636efa",
          "dash": "solid"
         },
         "marker": {
          "symbol": "circle"
         },
         "mode": "lines",
         "name": "",
         "orientation": "v",
         "showlegend": false,
         "type": "scatter",
         "x": [
          1,
          2,
          3,
          4
         ],
         "xaxis": "x",
         "y": [
          29724,
          33443,
          35976,
          33909
         ],
         "yaxis": "y"
        }
       ],
       "layout": {
        "legend": {
         "tracegroupgap": 0
        },
        "margin": {
         "t": 60
        },
        "template": {
         "data": {
          "bar": [
           {
            "error_x": {
             "color": "#2a3f5f"
            },
            "error_y": {
             "color": "#2a3f5f"
            },
            "marker": {
             "line": {
              "color": "#E5ECF6",
              "width": 0.5
             },
             "pattern": {
              "fillmode": "overlay",
              "size": 10,
              "solidity": 0.2
             }
            },
            "type": "bar"
           }
          ],
          "barpolar": [
           {
            "marker": {
             "line": {
              "color": "#E5ECF6",
              "width": 0.5
             },
             "pattern": {
              "fillmode": "overlay",
              "size": 10,
              "solidity": 0.2
             }
            },
            "type": "barpolar"
           }
          ],
          "carpet": [
           {
            "aaxis": {
             "endlinecolor": "#2a3f5f",
             "gridcolor": "white",
             "linecolor": "white",
             "minorgridcolor": "white",
             "startlinecolor": "#2a3f5f"
            },
            "baxis": {
             "endlinecolor": "#2a3f5f",
             "gridcolor": "white",
             "linecolor": "white",
             "minorgridcolor": "white",
             "startlinecolor": "#2a3f5f"
            },
            "type": "carpet"
           }
          ],
          "choropleth": [
           {
            "colorbar": {
             "outlinewidth": 0,
             "ticks": ""
            },
            "type": "choropleth"
           }
          ],
          "contour": [
           {
            "colorbar": {
             "outlinewidth": 0,
             "ticks": ""
            },
            "colorscale": [
             [
              0,
              "#0d0887"
             ],
             [
              0.1111111111111111,
              "#46039f"
             ],
             [
              0.2222222222222222,
              "#7201a8"
             ],
             [
              0.3333333333333333,
              "#9c179e"
             ],
             [
              0.4444444444444444,
              "#bd3786"
             ],
             [
              0.5555555555555556,
              "#d8576b"
             ],
             [
              0.6666666666666666,
              "#ed7953"
             ],
             [
              0.7777777777777778,
              "#fb9f3a"
             ],
             [
              0.8888888888888888,
              "#fdca26"
             ],
             [
              1,
              "#f0f921"
             ]
            ],
            "type": "contour"
           }
          ],
          "contourcarpet": [
           {
            "colorbar": {
             "outlinewidth": 0,
             "ticks": ""
            },
            "type": "contourcarpet"
           }
          ],
          "heatmap": [
           {
            "colorbar": {
             "outlinewidth": 0,
             "ticks": ""
            },
            "colorscale": [
             [
              0,
              "#0d0887"
             ],
             [
              0.1111111111111111,
              "#46039f"
             ],
             [
              0.2222222222222222,
              "#7201a8"
             ],
             [
              0.3333333333333333,
              "#9c179e"
             ],
             [
              0.4444444444444444,
              "#bd3786"
             ],
             [
              0.5555555555555556,
              "#d8576b"
             ],
             [
              0.6666666666666666,
              "#ed7953"
             ],
             [
              0.7777777777777778,
              "#fb9f3a"
             ],
             [
              0.8888888888888888,
              "#fdca26"
             ],
             [
              1,
              "#f0f921"
             ]
            ],
            "type": "heatmap"
           }
          ],
          "heatmapgl": [
           {
            "colorbar": {
             "outlinewidth": 0,
             "ticks": ""
            },
            "colorscale": [
             [
              0,
              "#0d0887"
             ],
             [
              0.1111111111111111,
              "#46039f"
             ],
             [
              0.2222222222222222,
              "#7201a8"
             ],
             [
              0.3333333333333333,
              "#9c179e"
             ],
             [
              0.4444444444444444,
              "#bd3786"
             ],
             [
              0.5555555555555556,
              "#d8576b"
             ],
             [
              0.6666666666666666,
              "#ed7953"
             ],
             [
              0.7777777777777778,
              "#fb9f3a"
             ],
             [
              0.8888888888888888,
              "#fdca26"
             ],
             [
              1,
              "#f0f921"
             ]
            ],
            "type": "heatmapgl"
           }
          ],
          "histogram": [
           {
            "marker": {
             "pattern": {
              "fillmode": "overlay",
              "size": 10,
              "solidity": 0.2
             }
            },
            "type": "histogram"
           }
          ],
          "histogram2d": [
           {
            "colorbar": {
             "outlinewidth": 0,
             "ticks": ""
            },
            "colorscale": [
             [
              0,
              "#0d0887"
             ],
             [
              0.1111111111111111,
              "#46039f"
             ],
             [
              0.2222222222222222,
              "#7201a8"
             ],
             [
              0.3333333333333333,
              "#9c179e"
             ],
             [
              0.4444444444444444,
              "#bd3786"
             ],
             [
              0.5555555555555556,
              "#d8576b"
             ],
             [
              0.6666666666666666,
              "#ed7953"
             ],
             [
              0.7777777777777778,
              "#fb9f3a"
             ],
             [
              0.8888888888888888,
              "#fdca26"
             ],
             [
              1,
              "#f0f921"
             ]
            ],
            "type": "histogram2d"
           }
          ],
          "histogram2dcontour": [
           {
            "colorbar": {
             "outlinewidth": 0,
             "ticks": ""
            },
            "colorscale": [
             [
              0,
              "#0d0887"
             ],
             [
              0.1111111111111111,
              "#46039f"
             ],
             [
              0.2222222222222222,
              "#7201a8"
             ],
             [
              0.3333333333333333,
              "#9c179e"
             ],
             [
              0.4444444444444444,
              "#bd3786"
             ],
             [
              0.5555555555555556,
              "#d8576b"
             ],
             [
              0.6666666666666666,
              "#ed7953"
             ],
             [
              0.7777777777777778,
              "#fb9f3a"
             ],
             [
              0.8888888888888888,
              "#fdca26"
             ],
             [
              1,
              "#f0f921"
             ]
            ],
            "type": "histogram2dcontour"
           }
          ],
          "mesh3d": [
           {
            "colorbar": {
             "outlinewidth": 0,
             "ticks": ""
            },
            "type": "mesh3d"
           }
          ],
          "parcoords": [
           {
            "line": {
             "colorbar": {
              "outlinewidth": 0,
              "ticks": ""
             }
            },
            "type": "parcoords"
           }
          ],
          "pie": [
           {
            "automargin": true,
            "type": "pie"
           }
          ],
          "scatter": [
           {
            "marker": {
             "colorbar": {
              "outlinewidth": 0,
              "ticks": ""
             }
            },
            "type": "scatter"
           }
          ],
          "scatter3d": [
           {
            "line": {
             "colorbar": {
              "outlinewidth": 0,
              "ticks": ""
             }
            },
            "marker": {
             "colorbar": {
              "outlinewidth": 0,
              "ticks": ""
             }
            },
            "type": "scatter3d"
           }
          ],
          "scattercarpet": [
           {
            "marker": {
             "colorbar": {
              "outlinewidth": 0,
              "ticks": ""
             }
            },
            "type": "scattercarpet"
           }
          ],
          "scattergeo": [
           {
            "marker": {
             "colorbar": {
              "outlinewidth": 0,
              "ticks": ""
             }
            },
            "type": "scattergeo"
           }
          ],
          "scattergl": [
           {
            "marker": {
             "colorbar": {
              "outlinewidth": 0,
              "ticks": ""
             }
            },
            "type": "scattergl"
           }
          ],
          "scattermapbox": [
           {
            "marker": {
             "colorbar": {
              "outlinewidth": 0,
              "ticks": ""
             }
            },
            "type": "scattermapbox"
           }
          ],
          "scatterpolar": [
           {
            "marker": {
             "colorbar": {
              "outlinewidth": 0,
              "ticks": ""
             }
            },
            "type": "scatterpolar"
           }
          ],
          "scatterpolargl": [
           {
            "marker": {
             "colorbar": {
              "outlinewidth": 0,
              "ticks": ""
             }
            },
            "type": "scatterpolargl"
           }
          ],
          "scatterternary": [
           {
            "marker": {
             "colorbar": {
              "outlinewidth": 0,
              "ticks": ""
             }
            },
            "type": "scatterternary"
           }
          ],
          "surface": [
           {
            "colorbar": {
             "outlinewidth": 0,
             "ticks": ""
            },
            "colorscale": [
             [
              0,
              "#0d0887"
             ],
             [
              0.1111111111111111,
              "#46039f"
             ],
             [
              0.2222222222222222,
              "#7201a8"
             ],
             [
              0.3333333333333333,
              "#9c179e"
             ],
             [
              0.4444444444444444,
              "#bd3786"
             ],
             [
              0.5555555555555556,
              "#d8576b"
             ],
             [
              0.6666666666666666,
              "#ed7953"
             ],
             [
              0.7777777777777778,
              "#fb9f3a"
             ],
             [
              0.8888888888888888,
              "#fdca26"
             ],
             [
              1,
              "#f0f921"
             ]
            ],
            "type": "surface"
           }
          ],
          "table": [
           {
            "cells": {
             "fill": {
              "color": "#EBF0F8"
             },
             "line": {
              "color": "white"
             }
            },
            "header": {
             "fill": {
              "color": "#C8D4E3"
             },
             "line": {
              "color": "white"
             }
            },
            "type": "table"
           }
          ]
         },
         "layout": {
          "annotationdefaults": {
           "arrowcolor": "#2a3f5f",
           "arrowhead": 0,
           "arrowwidth": 1
          },
          "autotypenumbers": "strict",
          "coloraxis": {
           "colorbar": {
            "outlinewidth": 0,
            "ticks": ""
           }
          },
          "colorscale": {
           "diverging": [
            [
             0,
             "#8e0152"
            ],
            [
             0.1,
             "#c51b7d"
            ],
            [
             0.2,
             "#de77ae"
            ],
            [
             0.3,
             "#f1b6da"
            ],
            [
             0.4,
             "#fde0ef"
            ],
            [
             0.5,
             "#f7f7f7"
            ],
            [
             0.6,
             "#e6f5d0"
            ],
            [
             0.7,
             "#b8e186"
            ],
            [
             0.8,
             "#7fbc41"
            ],
            [
             0.9,
             "#4d9221"
            ],
            [
             1,
             "#276419"
            ]
           ],
           "sequential": [
            [
             0,
             "#0d0887"
            ],
            [
             0.1111111111111111,
             "#46039f"
            ],
            [
             0.2222222222222222,
             "#7201a8"
            ],
            [
             0.3333333333333333,
             "#9c179e"
            ],
            [
             0.4444444444444444,
             "#bd3786"
            ],
            [
             0.5555555555555556,
             "#d8576b"
            ],
            [
             0.6666666666666666,
             "#ed7953"
            ],
            [
             0.7777777777777778,
             "#fb9f3a"
            ],
            [
             0.8888888888888888,
             "#fdca26"
            ],
            [
             1,
             "#f0f921"
            ]
           ],
           "sequentialminus": [
            [
             0,
             "#0d0887"
            ],
            [
             0.1111111111111111,
             "#46039f"
            ],
            [
             0.2222222222222222,
             "#7201a8"
            ],
            [
             0.3333333333333333,
             "#9c179e"
            ],
            [
             0.4444444444444444,
             "#bd3786"
            ],
            [
             0.5555555555555556,
             "#d8576b"
            ],
            [
             0.6666666666666666,
             "#ed7953"
            ],
            [
             0.7777777777777778,
             "#fb9f3a"
            ],
            [
             0.8888888888888888,
             "#fdca26"
            ],
            [
             1,
             "#f0f921"
            ]
           ]
          },
          "colorway": [
           "#636efa",
           "#EF553B",
           "#00cc96",
           "#ab63fa",
           "#FFA15A",
           "#19d3f3",
           "#FF6692",
           "#B6E880",
           "#FF97FF",
           "#FECB52"
          ],
          "font": {
           "color": "#2a3f5f"
          },
          "geo": {
           "bgcolor": "white",
           "lakecolor": "white",
           "landcolor": "#E5ECF6",
           "showlakes": true,
           "showland": true,
           "subunitcolor": "white"
          },
          "hoverlabel": {
           "align": "left"
          },
          "hovermode": "closest",
          "mapbox": {
           "style": "light"
          },
          "paper_bgcolor": "white",
          "plot_bgcolor": "#E5ECF6",
          "polar": {
           "angularaxis": {
            "gridcolor": "white",
            "linecolor": "white",
            "ticks": ""
           },
           "bgcolor": "#E5ECF6",
           "radialaxis": {
            "gridcolor": "white",
            "linecolor": "white",
            "ticks": ""
           }
          },
          "scene": {
           "xaxis": {
            "backgroundcolor": "#E5ECF6",
            "gridcolor": "white",
            "gridwidth": 2,
            "linecolor": "white",
            "showbackground": true,
            "ticks": "",
            "zerolinecolor": "white"
           },
           "yaxis": {
            "backgroundcolor": "#E5ECF6",
            "gridcolor": "white",
            "gridwidth": 2,
            "linecolor": "white",
            "showbackground": true,
            "ticks": "",
            "zerolinecolor": "white"
           },
           "zaxis": {
            "backgroundcolor": "#E5ECF6",
            "gridcolor": "white",
            "gridwidth": 2,
            "linecolor": "white",
            "showbackground": true,
            "ticks": "",
            "zerolinecolor": "white"
           }
          },
          "shapedefaults": {
           "line": {
            "color": "#2a3f5f"
           }
          },
          "ternary": {
           "aaxis": {
            "gridcolor": "white",
            "linecolor": "white",
            "ticks": ""
           },
           "baxis": {
            "gridcolor": "white",
            "linecolor": "white",
            "ticks": ""
           },
           "bgcolor": "#E5ECF6",
           "caxis": {
            "gridcolor": "white",
            "linecolor": "white",
            "ticks": ""
           }
          },
          "title": {
           "x": 0.05
          },
          "xaxis": {
           "automargin": true,
           "gridcolor": "white",
           "linecolor": "white",
           "ticks": "",
           "title": {
            "standoff": 15
           },
           "zerolinecolor": "white",
           "zerolinewidth": 2
          },
          "yaxis": {
           "automargin": true,
           "gridcolor": "white",
           "linecolor": "white",
           "ticks": "",
           "title": {
            "standoff": 15
           },
           "zerolinecolor": "white",
           "zerolinewidth": 2
          }
         }
        },
        "xaxis": {
         "anchor": "y",
         "domain": [
          0,
          1
         ],
         "title": {
          "text": "quarter_no."
         }
        },
        "yaxis": {
         "anchor": "x",
         "domain": [
          0,
          1
         ],
         "title": {
          "text": "Sessions"
         }
        }
       }
      },
      "text/html": [
       "<div>                            <div id=\"ce773b1b-0521-4407-a421-d8817dce453a\" class=\"plotly-graph-div\" style=\"height:525px; width:100%;\"></div>            <script type=\"text/javascript\">                require([\"plotly\"], function(Plotly) {                    window.PLOTLYENV=window.PLOTLYENV || {};                                    if (document.getElementById(\"ce773b1b-0521-4407-a421-d8817dce453a\")) {                    Plotly.newPlot(                        \"ce773b1b-0521-4407-a421-d8817dce453a\",                        [{\"hovertemplate\":\"quarter_no.=%{x}<br>Sessions=%{y}<extra></extra>\",\"legendgroup\":\"\",\"line\":{\"color\":\"#636efa\",\"dash\":\"solid\"},\"marker\":{\"symbol\":\"circle\"},\"mode\":\"lines\",\"name\":\"\",\"orientation\":\"v\",\"showlegend\":false,\"x\":[1,2,3,4],\"xaxis\":\"x\",\"y\":[29724,33443,35976,33909],\"yaxis\":\"y\",\"type\":\"scatter\"}],                        {\"template\":{\"data\":{\"bar\":[{\"error_x\":{\"color\":\"#2a3f5f\"},\"error_y\":{\"color\":\"#2a3f5f\"},\"marker\":{\"line\":{\"color\":\"#E5ECF6\",\"width\":0.5},\"pattern\":{\"fillmode\":\"overlay\",\"size\":10,\"solidity\":0.2}},\"type\":\"bar\"}],\"barpolar\":[{\"marker\":{\"line\":{\"color\":\"#E5ECF6\",\"width\":0.5},\"pattern\":{\"fillmode\":\"overlay\",\"size\":10,\"solidity\":0.2}},\"type\":\"barpolar\"}],\"carpet\":[{\"aaxis\":{\"endlinecolor\":\"#2a3f5f\",\"gridcolor\":\"white\",\"linecolor\":\"white\",\"minorgridcolor\":\"white\",\"startlinecolor\":\"#2a3f5f\"},\"baxis\":{\"endlinecolor\":\"#2a3f5f\",\"gridcolor\":\"white\",\"linecolor\":\"white\",\"minorgridcolor\":\"white\",\"startlinecolor\":\"#2a3f5f\"},\"type\":\"carpet\"}],\"choropleth\":[{\"colorbar\":{\"outlinewidth\":0,\"ticks\":\"\"},\"type\":\"choropleth\"}],\"contour\":[{\"colorbar\":{\"outlinewidth\":0,\"ticks\":\"\"},\"colorscale\":[[0.0,\"#0d0887\"],[0.1111111111111111,\"#46039f\"],[0.2222222222222222,\"#7201a8\"],[0.3333333333333333,\"#9c179e\"],[0.4444444444444444,\"#bd3786\"],[0.5555555555555556,\"#d8576b\"],[0.6666666666666666,\"#ed7953\"],[0.7777777777777778,\"#fb9f3a\"],[0.8888888888888888,\"#fdca26\"],[1.0,\"#f0f921\"]],\"type\":\"contour\"}],\"contourcarpet\":[{\"colorbar\":{\"outlinewidth\":0,\"ticks\":\"\"},\"type\":\"contourcarpet\"}],\"heatmap\":[{\"colorbar\":{\"outlinewidth\":0,\"ticks\":\"\"},\"colorscale\":[[0.0,\"#0d0887\"],[0.1111111111111111,\"#46039f\"],[0.2222222222222222,\"#7201a8\"],[0.3333333333333333,\"#9c179e\"],[0.4444444444444444,\"#bd3786\"],[0.5555555555555556,\"#d8576b\"],[0.6666666666666666,\"#ed7953\"],[0.7777777777777778,\"#fb9f3a\"],[0.8888888888888888,\"#fdca26\"],[1.0,\"#f0f921\"]],\"type\":\"heatmap\"}],\"heatmapgl\":[{\"colorbar\":{\"outlinewidth\":0,\"ticks\":\"\"},\"colorscale\":[[0.0,\"#0d0887\"],[0.1111111111111111,\"#46039f\"],[0.2222222222222222,\"#7201a8\"],[0.3333333333333333,\"#9c179e\"],[0.4444444444444444,\"#bd3786\"],[0.5555555555555556,\"#d8576b\"],[0.6666666666666666,\"#ed7953\"],[0.7777777777777778,\"#fb9f3a\"],[0.8888888888888888,\"#fdca26\"],[1.0,\"#f0f921\"]],\"type\":\"heatmapgl\"}],\"histogram\":[{\"marker\":{\"pattern\":{\"fillmode\":\"overlay\",\"size\":10,\"solidity\":0.2}},\"type\":\"histogram\"}],\"histogram2d\":[{\"colorbar\":{\"outlinewidth\":0,\"ticks\":\"\"},\"colorscale\":[[0.0,\"#0d0887\"],[0.1111111111111111,\"#46039f\"],[0.2222222222222222,\"#7201a8\"],[0.3333333333333333,\"#9c179e\"],[0.4444444444444444,\"#bd3786\"],[0.5555555555555556,\"#d8576b\"],[0.6666666666666666,\"#ed7953\"],[0.7777777777777778,\"#fb9f3a\"],[0.8888888888888888,\"#fdca26\"],[1.0,\"#f0f921\"]],\"type\":\"histogram2d\"}],\"histogram2dcontour\":[{\"colorbar\":{\"outlinewidth\":0,\"ticks\":\"\"},\"colorscale\":[[0.0,\"#0d0887\"],[0.1111111111111111,\"#46039f\"],[0.2222222222222222,\"#7201a8\"],[0.3333333333333333,\"#9c179e\"],[0.4444444444444444,\"#bd3786\"],[0.5555555555555556,\"#d8576b\"],[0.6666666666666666,\"#ed7953\"],[0.7777777777777778,\"#fb9f3a\"],[0.8888888888888888,\"#fdca26\"],[1.0,\"#f0f921\"]],\"type\":\"histogram2dcontour\"}],\"mesh3d\":[{\"colorbar\":{\"outlinewidth\":0,\"ticks\":\"\"},\"type\":\"mesh3d\"}],\"parcoords\":[{\"line\":{\"colorbar\":{\"outlinewidth\":0,\"ticks\":\"\"}},\"type\":\"parcoords\"}],\"pie\":[{\"automargin\":true,\"type\":\"pie\"}],\"scatter\":[{\"marker\":{\"colorbar\":{\"outlinewidth\":0,\"ticks\":\"\"}},\"type\":\"scatter\"}],\"scatter3d\":[{\"line\":{\"colorbar\":{\"outlinewidth\":0,\"ticks\":\"\"}},\"marker\":{\"colorbar\":{\"outlinewidth\":0,\"ticks\":\"\"}},\"type\":\"scatter3d\"}],\"scattercarpet\":[{\"marker\":{\"colorbar\":{\"outlinewidth\":0,\"ticks\":\"\"}},\"type\":\"scattercarpet\"}],\"scattergeo\":[{\"marker\":{\"colorbar\":{\"outlinewidth\":0,\"ticks\":\"\"}},\"type\":\"scattergeo\"}],\"scattergl\":[{\"marker\":{\"colorbar\":{\"outlinewidth\":0,\"ticks\":\"\"}},\"type\":\"scattergl\"}],\"scattermapbox\":[{\"marker\":{\"colorbar\":{\"outlinewidth\":0,\"ticks\":\"\"}},\"type\":\"scattermapbox\"}],\"scatterpolar\":[{\"marker\":{\"colorbar\":{\"outlinewidth\":0,\"ticks\":\"\"}},\"type\":\"scatterpolar\"}],\"scatterpolargl\":[{\"marker\":{\"colorbar\":{\"outlinewidth\":0,\"ticks\":\"\"}},\"type\":\"scatterpolargl\"}],\"scatterternary\":[{\"marker\":{\"colorbar\":{\"outlinewidth\":0,\"ticks\":\"\"}},\"type\":\"scatterternary\"}],\"surface\":[{\"colorbar\":{\"outlinewidth\":0,\"ticks\":\"\"},\"colorscale\":[[0.0,\"#0d0887\"],[0.1111111111111111,\"#46039f\"],[0.2222222222222222,\"#7201a8\"],[0.3333333333333333,\"#9c179e\"],[0.4444444444444444,\"#bd3786\"],[0.5555555555555556,\"#d8576b\"],[0.6666666666666666,\"#ed7953\"],[0.7777777777777778,\"#fb9f3a\"],[0.8888888888888888,\"#fdca26\"],[1.0,\"#f0f921\"]],\"type\":\"surface\"}],\"table\":[{\"cells\":{\"fill\":{\"color\":\"#EBF0F8\"},\"line\":{\"color\":\"white\"}},\"header\":{\"fill\":{\"color\":\"#C8D4E3\"},\"line\":{\"color\":\"white\"}},\"type\":\"table\"}]},\"layout\":{\"annotationdefaults\":{\"arrowcolor\":\"#2a3f5f\",\"arrowhead\":0,\"arrowwidth\":1},\"autotypenumbers\":\"strict\",\"coloraxis\":{\"colorbar\":{\"outlinewidth\":0,\"ticks\":\"\"}},\"colorscale\":{\"diverging\":[[0,\"#8e0152\"],[0.1,\"#c51b7d\"],[0.2,\"#de77ae\"],[0.3,\"#f1b6da\"],[0.4,\"#fde0ef\"],[0.5,\"#f7f7f7\"],[0.6,\"#e6f5d0\"],[0.7,\"#b8e186\"],[0.8,\"#7fbc41\"],[0.9,\"#4d9221\"],[1,\"#276419\"]],\"sequential\":[[0.0,\"#0d0887\"],[0.1111111111111111,\"#46039f\"],[0.2222222222222222,\"#7201a8\"],[0.3333333333333333,\"#9c179e\"],[0.4444444444444444,\"#bd3786\"],[0.5555555555555556,\"#d8576b\"],[0.6666666666666666,\"#ed7953\"],[0.7777777777777778,\"#fb9f3a\"],[0.8888888888888888,\"#fdca26\"],[1.0,\"#f0f921\"]],\"sequentialminus\":[[0.0,\"#0d0887\"],[0.1111111111111111,\"#46039f\"],[0.2222222222222222,\"#7201a8\"],[0.3333333333333333,\"#9c179e\"],[0.4444444444444444,\"#bd3786\"],[0.5555555555555556,\"#d8576b\"],[0.6666666666666666,\"#ed7953\"],[0.7777777777777778,\"#fb9f3a\"],[0.8888888888888888,\"#fdca26\"],[1.0,\"#f0f921\"]]},\"colorway\":[\"#636efa\",\"#EF553B\",\"#00cc96\",\"#ab63fa\",\"#FFA15A\",\"#19d3f3\",\"#FF6692\",\"#B6E880\",\"#FF97FF\",\"#FECB52\"],\"font\":{\"color\":\"#2a3f5f\"},\"geo\":{\"bgcolor\":\"white\",\"lakecolor\":\"white\",\"landcolor\":\"#E5ECF6\",\"showlakes\":true,\"showland\":true,\"subunitcolor\":\"white\"},\"hoverlabel\":{\"align\":\"left\"},\"hovermode\":\"closest\",\"mapbox\":{\"style\":\"light\"},\"paper_bgcolor\":\"white\",\"plot_bgcolor\":\"#E5ECF6\",\"polar\":{\"angularaxis\":{\"gridcolor\":\"white\",\"linecolor\":\"white\",\"ticks\":\"\"},\"bgcolor\":\"#E5ECF6\",\"radialaxis\":{\"gridcolor\":\"white\",\"linecolor\":\"white\",\"ticks\":\"\"}},\"scene\":{\"xaxis\":{\"backgroundcolor\":\"#E5ECF6\",\"gridcolor\":\"white\",\"gridwidth\":2,\"linecolor\":\"white\",\"showbackground\":true,\"ticks\":\"\",\"zerolinecolor\":\"white\"},\"yaxis\":{\"backgroundcolor\":\"#E5ECF6\",\"gridcolor\":\"white\",\"gridwidth\":2,\"linecolor\":\"white\",\"showbackground\":true,\"ticks\":\"\",\"zerolinecolor\":\"white\"},\"zaxis\":{\"backgroundcolor\":\"#E5ECF6\",\"gridcolor\":\"white\",\"gridwidth\":2,\"linecolor\":\"white\",\"showbackground\":true,\"ticks\":\"\",\"zerolinecolor\":\"white\"}},\"shapedefaults\":{\"line\":{\"color\":\"#2a3f5f\"}},\"ternary\":{\"aaxis\":{\"gridcolor\":\"white\",\"linecolor\":\"white\",\"ticks\":\"\"},\"baxis\":{\"gridcolor\":\"white\",\"linecolor\":\"white\",\"ticks\":\"\"},\"bgcolor\":\"#E5ECF6\",\"caxis\":{\"gridcolor\":\"white\",\"linecolor\":\"white\",\"ticks\":\"\"}},\"title\":{\"x\":0.05},\"xaxis\":{\"automargin\":true,\"gridcolor\":\"white\",\"linecolor\":\"white\",\"ticks\":\"\",\"title\":{\"standoff\":15},\"zerolinecolor\":\"white\",\"zerolinewidth\":2},\"yaxis\":{\"automargin\":true,\"gridcolor\":\"white\",\"linecolor\":\"white\",\"ticks\":\"\",\"title\":{\"standoff\":15},\"zerolinecolor\":\"white\",\"zerolinewidth\":2}}},\"xaxis\":{\"anchor\":\"y\",\"domain\":[0.0,1.0],\"title\":{\"text\":\"quarter_no.\"}},\"yaxis\":{\"anchor\":\"x\",\"domain\":[0.0,1.0],\"title\":{\"text\":\"Sessions\"}},\"legend\":{\"tracegroupgap\":0},\"margin\":{\"t\":60}},                        {\"responsive\": true}                    ).then(function(){\n",
       "                            \n",
       "var gd = document.getElementById('ce773b1b-0521-4407-a421-d8817dce453a');\n",
       "var x = new MutationObserver(function (mutations, observer) {{\n",
       "        var display = window.getComputedStyle(gd).display;\n",
       "        if (!display || display === 'none') {{\n",
       "            console.log([gd, 'removed!']);\n",
       "            Plotly.purge(gd);\n",
       "            observer.disconnect();\n",
       "        }}\n",
       "}});\n",
       "\n",
       "// Listen for the removal of the full notebook cells\n",
       "var notebookContainer = gd.closest('#notebook-container');\n",
       "if (notebookContainer) {{\n",
       "    x.observe(notebookContainer, {childList: true});\n",
       "}}\n",
       "\n",
       "// Listen for the clearing of the current output cell\n",
       "var outputEl = gd.closest('.output');\n",
       "if (outputEl) {{\n",
       "    x.observe(outputEl, {childList: true});\n",
       "}}\n",
       "\n",
       "                        })                };                });            </script>        </div>"
      ]
     },
     "metadata": {},
     "output_type": "display_data"
    }
   ],
   "source": [
    "# plt.figure(figsize=(10,8))\n",
    "sns.set_context(\"poster\", font_scale = 1, rc={\"grid.linewidth\": 5})\n",
    "\n",
    "df_quarter=df.groupby('quarter_no.')['Sessions'].sum().to_frame()\n",
    "\n",
    "fig=px.line(df_quarter,x=df_quarter.index,y='Sessions')\n",
    "fig.write_image('quarterlySess1.jpg')\n",
    "fig.show()"
   ]
  },
  {
   "cell_type": "code",
   "execution_count": 27,
   "id": "b024b0ee",
   "metadata": {},
   "outputs": [
    {
     "data": {
      "text/plain": [
       "<Figure size 720x576 with 0 Axes>"
      ]
     },
     "metadata": {},
     "output_type": "display_data"
    }
   ],
   "source": [
    "plt.figure(figsize=(10,8))\n",
    "df_monthly=df.groupby('month')['Sessions'].sum()\n",
    "\n",
    "fig=px.line(df_monthly,x=df_monthly.index,y=['Sessions'])\n",
    "fig.write_image('monthly_sess1.png')\n"
   ]
  },
  {
   "cell_type": "code",
   "execution_count": 33,
   "id": "4875dc51",
   "metadata": {},
   "outputs": [],
   "source": [
    "df_rev=df[df['Revenue(Rs/.)']!=0.0].reset_index(drop=True)"
   ]
  },
  {
   "cell_type": "code",
   "execution_count": 38,
   "id": "95f5893e",
   "metadata": {},
   "outputs": [],
   "source": [
    "df_rev['rev_per_sess']=df_rev['Revenue(Rs/.)']/df_rev['Sessions']"
   ]
  },
  {
   "cell_type": "code",
   "execution_count": 39,
   "id": "47e982b2",
   "metadata": {},
   "outputs": [
    {
     "data": {
      "text/html": [
       "<div>\n",
       "<style scoped>\n",
       "    .dataframe tbody tr th:only-of-type {\n",
       "        vertical-align: middle;\n",
       "    }\n",
       "\n",
       "    .dataframe tbody tr th {\n",
       "        vertical-align: top;\n",
       "    }\n",
       "\n",
       "    .dataframe thead th {\n",
       "        text-align: right;\n",
       "    }\n",
       "</style>\n",
       "<table border=\"1\" class=\"dataframe\">\n",
       "  <thead>\n",
       "    <tr style=\"text-align: right;\">\n",
       "      <th></th>\n",
       "      <th>date</th>\n",
       "      <th>Sessions</th>\n",
       "      <th>Page_Views</th>\n",
       "      <th>New_Visitors</th>\n",
       "      <th>Hits</th>\n",
       "      <th>Time_onsite(minutes)</th>\n",
       "      <th>bounces_offsite</th>\n",
       "      <th>Revenue(Rs/.)</th>\n",
       "      <th>Total_Revenues</th>\n",
       "      <th>is_direct</th>\n",
       "      <th>...</th>\n",
       "      <th>Avg_session_duration(minutes)</th>\n",
       "      <th>Bounce_Rate(%age)</th>\n",
       "      <th>Conversion_Rate(%age)</th>\n",
       "      <th>Channel</th>\n",
       "      <th>geoLoc</th>\n",
       "      <th>year</th>\n",
       "      <th>month</th>\n",
       "      <th>day</th>\n",
       "      <th>quarter_no.</th>\n",
       "      <th>rev_per_sess</th>\n",
       "    </tr>\n",
       "  </thead>\n",
       "  <tbody>\n",
       "    <tr>\n",
       "      <th>0</th>\n",
       "      <td>2020-08-01</td>\n",
       "      <td>1</td>\n",
       "      <td>13</td>\n",
       "      <td>1</td>\n",
       "      <td>0.013289</td>\n",
       "      <td>10</td>\n",
       "      <td>0</td>\n",
       "      <td>1699.0</td>\n",
       "      <td>7.783224</td>\n",
       "      <td>0</td>\n",
       "      <td>...</td>\n",
       "      <td>10</td>\n",
       "      <td>0.0</td>\n",
       "      <td>100.0</td>\n",
       "      <td>Organic Search</td>\n",
       "      <td>Bangalore</td>\n",
       "      <td>2020</td>\n",
       "      <td>8</td>\n",
       "      <td>1</td>\n",
       "      <td>3</td>\n",
       "      <td>1699.00</td>\n",
       "    </tr>\n",
       "    <tr>\n",
       "      <th>1</th>\n",
       "      <td>2020-08-14</td>\n",
       "      <td>1</td>\n",
       "      <td>17</td>\n",
       "      <td>1</td>\n",
       "      <td>0.000000</td>\n",
       "      <td>7</td>\n",
       "      <td>0</td>\n",
       "      <td>2062.0</td>\n",
       "      <td>7.679251</td>\n",
       "      <td>0</td>\n",
       "      <td>...</td>\n",
       "      <td>7</td>\n",
       "      <td>0.0</td>\n",
       "      <td>100.0</td>\n",
       "      <td>Organic Search</td>\n",
       "      <td>Hyderabad</td>\n",
       "      <td>2020</td>\n",
       "      <td>8</td>\n",
       "      <td>14</td>\n",
       "      <td>3</td>\n",
       "      <td>2062.00</td>\n",
       "    </tr>\n",
       "    <tr>\n",
       "      <th>2</th>\n",
       "      <td>2020-08-15</td>\n",
       "      <td>1</td>\n",
       "      <td>44</td>\n",
       "      <td>1</td>\n",
       "      <td>0.000000</td>\n",
       "      <td>44</td>\n",
       "      <td>0</td>\n",
       "      <td>11737.0</td>\n",
       "      <td>9.395824</td>\n",
       "      <td>0</td>\n",
       "      <td>...</td>\n",
       "      <td>44</td>\n",
       "      <td>0.0</td>\n",
       "      <td>100.0</td>\n",
       "      <td>Organic Search</td>\n",
       "      <td>Jaipur</td>\n",
       "      <td>2020</td>\n",
       "      <td>8</td>\n",
       "      <td>15</td>\n",
       "      <td>3</td>\n",
       "      <td>11737.00</td>\n",
       "    </tr>\n",
       "    <tr>\n",
       "      <th>3</th>\n",
       "      <td>2020-08-16</td>\n",
       "      <td>2</td>\n",
       "      <td>8</td>\n",
       "      <td>0</td>\n",
       "      <td>0.000000</td>\n",
       "      <td>6</td>\n",
       "      <td>0</td>\n",
       "      <td>3617.0</td>\n",
       "      <td>8.323123</td>\n",
       "      <td>1</td>\n",
       "      <td>...</td>\n",
       "      <td>3</td>\n",
       "      <td>0.0</td>\n",
       "      <td>50.0</td>\n",
       "      <td>Organic Search</td>\n",
       "      <td>Hyderabad</td>\n",
       "      <td>2020</td>\n",
       "      <td>8</td>\n",
       "      <td>16</td>\n",
       "      <td>3</td>\n",
       "      <td>1808.50</td>\n",
       "    </tr>\n",
       "    <tr>\n",
       "      <th>4</th>\n",
       "      <td>2020-08-18</td>\n",
       "      <td>2</td>\n",
       "      <td>31</td>\n",
       "      <td>0</td>\n",
       "      <td>0.000000</td>\n",
       "      <td>8</td>\n",
       "      <td>0</td>\n",
       "      <td>9369.0</td>\n",
       "      <td>9.207336</td>\n",
       "      <td>0</td>\n",
       "      <td>...</td>\n",
       "      <td>4</td>\n",
       "      <td>0.0</td>\n",
       "      <td>50.0</td>\n",
       "      <td>Organic Search</td>\n",
       "      <td>Bangalore</td>\n",
       "      <td>2020</td>\n",
       "      <td>8</td>\n",
       "      <td>18</td>\n",
       "      <td>3</td>\n",
       "      <td>4684.50</td>\n",
       "    </tr>\n",
       "    <tr>\n",
       "      <th>...</th>\n",
       "      <td>...</td>\n",
       "      <td>...</td>\n",
       "      <td>...</td>\n",
       "      <td>...</td>\n",
       "      <td>...</td>\n",
       "      <td>...</td>\n",
       "      <td>...</td>\n",
       "      <td>...</td>\n",
       "      <td>...</td>\n",
       "      <td>...</td>\n",
       "      <td>...</td>\n",
       "      <td>...</td>\n",
       "      <td>...</td>\n",
       "      <td>...</td>\n",
       "      <td>...</td>\n",
       "      <td>...</td>\n",
       "      <td>...</td>\n",
       "      <td>...</td>\n",
       "      <td>...</td>\n",
       "      <td>...</td>\n",
       "      <td>...</td>\n",
       "    </tr>\n",
       "    <tr>\n",
       "      <th>207</th>\n",
       "      <td>2021-07-28</td>\n",
       "      <td>1</td>\n",
       "      <td>24</td>\n",
       "      <td>1</td>\n",
       "      <td>0.000000</td>\n",
       "      <td>10</td>\n",
       "      <td>0</td>\n",
       "      <td>2249.0</td>\n",
       "      <td>7.989560</td>\n",
       "      <td>0</td>\n",
       "      <td>...</td>\n",
       "      <td>10</td>\n",
       "      <td>0.0</td>\n",
       "      <td>100.0</td>\n",
       "      <td>Organic Search</td>\n",
       "      <td>Hyderabad</td>\n",
       "      <td>2021</td>\n",
       "      <td>7</td>\n",
       "      <td>28</td>\n",
       "      <td>3</td>\n",
       "      <td>2249.00</td>\n",
       "    </tr>\n",
       "    <tr>\n",
       "      <th>208</th>\n",
       "      <td>2021-07-29</td>\n",
       "      <td>2</td>\n",
       "      <td>37</td>\n",
       "      <td>0</td>\n",
       "      <td>0.000000</td>\n",
       "      <td>15</td>\n",
       "      <td>0</td>\n",
       "      <td>5995.0</td>\n",
       "      <td>8.809266</td>\n",
       "      <td>0</td>\n",
       "      <td>...</td>\n",
       "      <td>8</td>\n",
       "      <td>0.0</td>\n",
       "      <td>50.0</td>\n",
       "      <td>Paid Search</td>\n",
       "      <td>Bangalore</td>\n",
       "      <td>2021</td>\n",
       "      <td>7</td>\n",
       "      <td>29</td>\n",
       "      <td>3</td>\n",
       "      <td>2997.50</td>\n",
       "    </tr>\n",
       "    <tr>\n",
       "      <th>209</th>\n",
       "      <td>2021-07-29</td>\n",
       "      <td>1</td>\n",
       "      <td>36</td>\n",
       "      <td>1</td>\n",
       "      <td>0.000000</td>\n",
       "      <td>24</td>\n",
       "      <td>0</td>\n",
       "      <td>8497.0</td>\n",
       "      <td>9.070848</td>\n",
       "      <td>0</td>\n",
       "      <td>...</td>\n",
       "      <td>24</td>\n",
       "      <td>0.0</td>\n",
       "      <td>100.0</td>\n",
       "      <td>Organic Search</td>\n",
       "      <td>Hyderabad</td>\n",
       "      <td>2021</td>\n",
       "      <td>7</td>\n",
       "      <td>29</td>\n",
       "      <td>3</td>\n",
       "      <td>8497.00</td>\n",
       "    </tr>\n",
       "    <tr>\n",
       "      <th>210</th>\n",
       "      <td>2021-07-29</td>\n",
       "      <td>4</td>\n",
       "      <td>7</td>\n",
       "      <td>0</td>\n",
       "      <td>0.000000</td>\n",
       "      <td>11</td>\n",
       "      <td>0</td>\n",
       "      <td>5599.0</td>\n",
       "      <td>8.699515</td>\n",
       "      <td>1</td>\n",
       "      <td>...</td>\n",
       "      <td>3</td>\n",
       "      <td>0.0</td>\n",
       "      <td>25.0</td>\n",
       "      <td>Organic Search</td>\n",
       "      <td>Chennai</td>\n",
       "      <td>2021</td>\n",
       "      <td>7</td>\n",
       "      <td>29</td>\n",
       "      <td>3</td>\n",
       "      <td>1399.75</td>\n",
       "    </tr>\n",
       "    <tr>\n",
       "      <th>211</th>\n",
       "      <td>2021-07-31</td>\n",
       "      <td>1</td>\n",
       "      <td>29</td>\n",
       "      <td>1</td>\n",
       "      <td>0.000000</td>\n",
       "      <td>58</td>\n",
       "      <td>0</td>\n",
       "      <td>5599.0</td>\n",
       "      <td>8.699515</td>\n",
       "      <td>0</td>\n",
       "      <td>...</td>\n",
       "      <td>58</td>\n",
       "      <td>0.0</td>\n",
       "      <td>100.0</td>\n",
       "      <td>Organic Search</td>\n",
       "      <td>Hyderabad</td>\n",
       "      <td>2021</td>\n",
       "      <td>7</td>\n",
       "      <td>31</td>\n",
       "      <td>3</td>\n",
       "      <td>5599.00</td>\n",
       "    </tr>\n",
       "  </tbody>\n",
       "</table>\n",
       "<p>212 rows × 22 columns</p>\n",
       "</div>"
      ],
      "text/plain": [
       "          date  Sessions  Page_Views  New_Visitors      Hits  \\\n",
       "0   2020-08-01         1          13             1  0.013289   \n",
       "1   2020-08-14         1          17             1  0.000000   \n",
       "2   2020-08-15         1          44             1  0.000000   \n",
       "3   2020-08-16         2           8             0  0.000000   \n",
       "4   2020-08-18         2          31             0  0.000000   \n",
       "..         ...       ...         ...           ...       ...   \n",
       "207 2021-07-28         1          24             1  0.000000   \n",
       "208 2021-07-29         2          37             0  0.000000   \n",
       "209 2021-07-29         1          36             1  0.000000   \n",
       "210 2021-07-29         4           7             0  0.000000   \n",
       "211 2021-07-31         1          29             1  0.000000   \n",
       "\n",
       "     Time_onsite(minutes)  bounces_offsite  Revenue(Rs/.)  Total_Revenues  \\\n",
       "0                      10                0         1699.0        7.783224   \n",
       "1                       7                0         2062.0        7.679251   \n",
       "2                      44                0        11737.0        9.395824   \n",
       "3                       6                0         3617.0        8.323123   \n",
       "4                       8                0         9369.0        9.207336   \n",
       "..                    ...              ...            ...             ...   \n",
       "207                    10                0         2249.0        7.989560   \n",
       "208                    15                0         5995.0        8.809266   \n",
       "209                    24                0         8497.0        9.070848   \n",
       "210                    11                0         5599.0        8.699515   \n",
       "211                    58                0         5599.0        8.699515   \n",
       "\n",
       "     is_direct  ...  Avg_session_duration(minutes)  Bounce_Rate(%age)  \\\n",
       "0            0  ...                             10                0.0   \n",
       "1            0  ...                              7                0.0   \n",
       "2            0  ...                             44                0.0   \n",
       "3            1  ...                              3                0.0   \n",
       "4            0  ...                              4                0.0   \n",
       "..         ...  ...                            ...                ...   \n",
       "207          0  ...                             10                0.0   \n",
       "208          0  ...                              8                0.0   \n",
       "209          0  ...                             24                0.0   \n",
       "210          1  ...                              3                0.0   \n",
       "211          0  ...                             58                0.0   \n",
       "\n",
       "     Conversion_Rate(%age)         Channel     geoLoc  year month  day  \\\n",
       "0                    100.0  Organic Search  Bangalore  2020     8    1   \n",
       "1                    100.0  Organic Search  Hyderabad  2020     8   14   \n",
       "2                    100.0  Organic Search     Jaipur  2020     8   15   \n",
       "3                     50.0  Organic Search  Hyderabad  2020     8   16   \n",
       "4                     50.0  Organic Search  Bangalore  2020     8   18   \n",
       "..                     ...             ...        ...   ...   ...  ...   \n",
       "207                  100.0  Organic Search  Hyderabad  2021     7   28   \n",
       "208                   50.0     Paid Search  Bangalore  2021     7   29   \n",
       "209                  100.0  Organic Search  Hyderabad  2021     7   29   \n",
       "210                   25.0  Organic Search    Chennai  2021     7   29   \n",
       "211                  100.0  Organic Search  Hyderabad  2021     7   31   \n",
       "\n",
       "     quarter_no.  rev_per_sess  \n",
       "0              3       1699.00  \n",
       "1              3       2062.00  \n",
       "2              3      11737.00  \n",
       "3              3       1808.50  \n",
       "4              3       4684.50  \n",
       "..           ...           ...  \n",
       "207            3       2249.00  \n",
       "208            3       2997.50  \n",
       "209            3       8497.00  \n",
       "210            3       1399.75  \n",
       "211            3       5599.00  \n",
       "\n",
       "[212 rows x 22 columns]"
      ]
     },
     "execution_count": 39,
     "metadata": {},
     "output_type": "execute_result"
    }
   ],
   "source": [
    "df_rev"
   ]
  },
  {
   "cell_type": "code",
   "execution_count": 99,
   "id": "19e394e2",
   "metadata": {},
   "outputs": [
    {
     "data": {
      "text/plain": [
       "<Figure size 720x576 with 0 Axes>"
      ]
     },
     "metadata": {},
     "output_type": "display_data"
    },
    {
     "data": {
      "image/png": "[encoded data removed]",
      "text/plain": [
       "<Figure size 360x360 with 1 Axes>"
      ]
     },
     "metadata": {
      "needs_background": "light"
     },
     "output_type": "display_data"
    }
   ],
   "source": [
    "sns.set_context(\"poster\", font_scale = 1, rc={\"grid.linewidth\": 5})\n",
    "fig=plt.figure(figsize=(10,8))\n",
    "fig=sns.displot(df.rev_per_sess,kde=True)\n",
    "plt.xlabel('Revenue Per Session')\n",
    "plt.xticks(fontsize=10)\n",
    "fig.savefig('RevSess42.jpg')"
   ]
  },
  {
   "cell_type": "code",
   "execution_count": 84,
   "id": "ac96a0cc",
   "metadata": {},
   "outputs": [
    {
     "name": "stdout",
     "output_type": "stream",
     "text": [
      "recurring_users %age 0.6815906562847609\n",
      "new_users %age 0.31840934371523916\n"
     ]
    }
   ],
   "source": [
    "print('recurring_users %age',df[df['New_Visitors']==0]['Sessions'].sum()/(df[df['New_Visitors']==0]['Sessions'].sum() + df[df['New_Visitors']==1]['Sessions'].sum()))\n",
    "print('new_users %age',df[df['New_Visitors']==1]['Sessions'].sum()/(df[df['New_Visitors']==0]['Sessions'].sum() + df[df['New_Visitors']==1]['Sessions'].sum()))"
   ]
  },
  {
   "cell_type": "code",
   "execution_count": 87,
   "id": "a5805319",
   "metadata": {},
   "outputs": [],
   "source": [
    "df['views_per_session']=df['Page_Views']/df['Sessions']"
   ]
  },
  {
   "cell_type": "code",
   "execution_count": 100,
   "id": "94d90205",
   "metadata": {},
   "outputs": [
    {
     "name": "stderr",
     "output_type": "stream",
     "text": [
      "C:\\Users\\suhai\\anaconda3\\lib\\site-packages\\seaborn\\distributions.py:2619: FutureWarning:\n",
      "\n",
      "`distplot` is a deprecated function and will be removed in a future version. Please adapt your code to use either `displot` (a figure-level function with similar flexibility) or `histplot` (an axes-level function for histograms).\n",
      "\n"
     ]
    },
    {
     "data": {
      "image/png": "[encoded data removed]",
      "text/plain": [
       "<Figure size 720x576 with 1 Axes>"
      ]
     },
     "metadata": {
      "needs_background": "light"
     },
     "output_type": "display_data"
    }
   ],
   "source": [
    "sns.set_context(\"poster\", font_scale = 1, rc={\"grid.linewidth\": 5})\n",
    "plt.figure(figsize=(10,8))\n",
    "sns.distplot(df.views_per_session,kde=False)\n",
    "plt.ylabel('count')\n",
    "plt.savefig('views_per_sess42.jpg')"
   ]
  },
  {
   "cell_type": "code",
   "execution_count": 128,
   "id": "23755162",
   "metadata": {},
   "outputs": [
    {
     "data": {
      "image/png": "[encoded data removed]",
      "text/plain": [
       "<Figure size 720x576 with 1 Axes>"
      ]
     },
     "metadata": {
      "needs_background": "light"
     },
     "output_type": "display_data"
    }
   ],
   "source": [
    "plt.figure(figsize=(10,8))\n",
    "df['Avg_session_duration(minutes)'].mean().plot()\n",
    "plt.savefig('avg_sess_month.jpg')"
   ]
  },
  {
   "cell_type": "code",
   "execution_count": 125,
   "id": "fceb06e1",
   "metadata": {},
   "outputs": [
    {
     "data": {
      "text/plain": [
       "<AxesSubplot:xlabel='quarter_no.'>"
      ]
     },
     "execution_count": 125,
     "metadata": {},
     "output_type": "execute_result"
    },
    {
     "data": {
      "image/png": "[encoded data removed]",
      "text/plain": [
       "<Figure size 432x288 with 1 Axes>"
      ]
     },
     "metadata": {
      "needs_background": "light"
     },
     "output_type": "display_data"
    }
   ],
   "source": [
    "df.groupby('quarter_no.')['Avg_session_duration(minutes)'].mean().plot()"
   ]
  },
  {
   "cell_type": "code",
   "execution_count": 19,
   "id": "59b3c01e",
   "metadata": {},
   "outputs": [
    {
     "name": "stdout",
     "output_type": "stream",
     "text": [
      "old 0.23171889838556506\n",
      "new 0.768281101614435\n"
     ]
    }
   ],
   "source": [
    "print('old',df[df['New_Visitors']==0]['bounces_offsite'].sum()/(df[df['New_Visitors']==0]['bounces_offsite'].sum()+df[df['New_Visitors']==1]['bounces_offsite'].sum()))\n",
    "print('new',df[df['New_Visitors']==1]['bounces_offsite'].sum()/(df[df['New_Visitors']==0]['bounces_offsite'].sum()+df[df['New_Visitors']==1]['bounces_offsite'].sum()))"
   ]
  },
  {
   "cell_type": "code",
   "execution_count": 24,
   "id": "d9d19a45",
   "metadata": {},
   "outputs": [
    {
     "name": "stdout",
     "output_type": "stream",
     "text": [
      "Mobile users 0.3051766698499072\n",
      "Non users 0.6948233301500928\n"
     ]
    }
   ],
   "source": [
    "print('Mobile users',df[df['is_mobile']==1].shape[0]/df.shape[0])\n",
    "print('Non users',df[df['is_mobile']==0].shape[0]/df.shape[0])"
   ]
  },
  {
   "cell_type": "code",
   "execution_count": 27,
   "id": "eb451ac2",
   "metadata": {},
   "outputs": [
    {
     "data": {
      "text/plain": [
       "Hyderabad    0.255194\n",
       "Bangalore    0.226418\n",
       "Mumbai       0.146399\n",
       "Pune         0.117534\n",
       "Kolkata      0.051136\n",
       "Delhi        0.051064\n",
       "Chennai      0.050884\n",
       "Jaipur       0.050740\n",
       "Ahmedabad    0.050632\n",
       "Name: geoLoc, dtype: float64"
      ]
     },
     "execution_count": 27,
     "metadata": {},
     "output_type": "execute_result"
    }
   ],
   "source": [
    "df['geoLoc'].value_counts() /df.shape[0]"
   ]
  },
  {
   "cell_type": "code",
   "execution_count": 29,
   "id": "6251db91",
   "metadata": {},
   "outputs": [
    {
     "data": {
      "text/plain": [
       "Index(['date', 'Sessions', 'Page_Views', 'New_Visitors', 'Hits',\n",
       "       'Time_onsite(minutes)', 'bounces_offsite', 'Revenue(Rs/.)',\n",
       "       'Total_Revenues', 'is_direct', 'is_mobile', 'Session_qual',\n",
       "       'Avg_session_duration(minutes)', 'Bounce_Rate(%age)',\n",
       "       'Conversion_Rate(%age)', 'Channel', 'geoLoc', 'year', 'month', 'day'],\n",
       "      dtype='object')"
      ]
     },
     "execution_count": 29,
     "metadata": {},
     "output_type": "execute_result"
    }
   ],
   "source": [
    "df.columns"
   ]
  },
  {
   "cell_type": "code",
   "execution_count": 40,
   "id": "5ca63049",
   "metadata": {},
   "outputs": [
    {
     "data": {
      "image/png": "[encoded data removed]",
      "text/plain": [
       "<Figure size 720x576 with 1 Axes>"
      ]
     },
     "metadata": {
      "needs_background": "light"
     },
     "output_type": "display_data"
    }
   ],
   "source": [
    "sns.set_context('notebook', font_scale = 1, rc=None)\n",
    "plt.figure(figsize=(10,8))\n",
    "df.groupby('month')['Conversion_Rate(%age)'].mean().plot()\n",
    "plt.ylabel('monthly conversion %age')\n",
    "plt.savefig('conversionMonthly.jpg')"
   ]
  },
  {
   "cell_type": "code",
   "execution_count": 43,
   "id": "3bac970b",
   "metadata": {},
   "outputs": [
    {
     "data": {
      "image/png": "[encoded data removed]",
      "text/plain": [
       "<Figure size 720x576 with 1 Axes>"
      ]
     },
     "metadata": {
      "needs_background": "light"
     },
     "output_type": "display_data"
    }
   ],
   "source": [
    "sns.set_context('notebook', font_scale = 1, rc=None)\n",
    "plt.figure(figsize=(10,8))\n",
    "df.groupby('month')['Bounce_Rate(%age)'].mean().plot()\n",
    "plt.ylabel('monthly bounce rate in (%age)')\n",
    "plt.savefig('bounceMonthly.jpg')"
   ]
  },
  {
   "cell_type": "code",
   "execution_count": 48,
   "id": "633974e3",
   "metadata": {},
   "outputs": [
    {
     "data": {
      "image/png": "[encoded data removed]",
      "text/plain": [
       "<Figure size 720x576 with 1 Axes>"
      ]
     },
     "metadata": {
      "needs_background": "light"
     },
     "output_type": "display_data"
    }
   ],
   "source": [
    "sns.set_context('notebook', font_scale = 1, rc=None)\n",
    "plt.figure(figsize=(10,8))\n",
    "df.groupby('quarter_no.')['Conversion_Rate(%age)'].mean().plot()\n",
    "plt.ylabel('quarterly conversion %age')\n",
    "plt.savefig('conversionQuarterly.jpg')"
   ]
  },
  {
   "cell_type": "code",
   "execution_count": 49,
   "id": "7708c5d2",
   "metadata": {},
   "outputs": [
    {
     "data": {
      "image/png": "[encoded data removed]",
      "text/plain": [
       "<Figure size 720x576 with 1 Axes>"
      ]
     },
     "metadata": {
      "needs_background": "light"
     },
     "output_type": "display_data"
    }
   ],
   "source": [
    "sns.set_context('notebook', font_scale = 1, rc=None)\n",
    "plt.figure(figsize=(10,8))\n",
    "df.groupby('quarter_no.')['Bounce_Rate(%age)'].mean().plot()\n",
    "plt.ylabel('quarterly bounce %age')\n",
    "plt.savefig('bounceQuarterly.jpg')"
   ]
  },
  {
   "cell_type": "markdown",
   "id": "f5ed85d6",
   "metadata": {},
   "source": [
    "Time onsite metrics"
   ]
  },
  {
   "cell_type": "code",
   "execution_count": 102,
   "id": "24afc5b7",
   "metadata": {},
   "outputs": [
    {
     "name": "stderr",
     "output_type": "stream",
     "text": [
      "C:\\Users\\suhai\\anaconda3\\lib\\site-packages\\seaborn\\_decorators.py:36: FutureWarning: Pass the following variables as keyword args: x, y. From version 0.12, the only valid positional argument will be `data`, and passing other arguments without an explicit keyword will result in an error or misinterpretation.\n",
      "  warnings.warn(\n"
     ]
    },
    {
     "data": {
      "image/png": "[encoded data removed]",
      "text/plain": [
       "<Figure size 720x576 with 1 Axes>"
      ]
     },
     "metadata": {
      "needs_background": "light"
     },
     "output_type": "display_data"
    }
   ],
   "source": [
    "plt.figure(figsize=(10,8))\n",
    "sns.set_context('poster', font_scale = 1, rc=None)\n",
    "sns.scatterplot(df['Time_onsite(minutes)'],df['Page_Views'])\n",
    "plt.savefig('timeViews.jpg')"
   ]
  },
  {
   "cell_type": "code",
   "execution_count": 71,
   "id": "b44904c7",
   "metadata": {},
   "outputs": [
    {
     "name": "stderr",
     "output_type": "stream",
     "text": [
      "C:\\Users\\suhai\\anaconda3\\lib\\site-packages\\seaborn\\_decorators.py:36: FutureWarning: Pass the following variables as keyword args: x, y. From version 0.12, the only valid positional argument will be `data`, and passing other arguments without an explicit keyword will result in an error or misinterpretation.\n",
      "  warnings.warn(\n"
     ]
    },
    {
     "data": {
      "image/png": "[encoded data removed]",
      "text/plain": [
       "<Figure size 720x576 with 1 Axes>"
      ]
     },
     "metadata": {
      "needs_background": "light"
     },
     "output_type": "display_data"
    }
   ],
   "source": [
    "plt.figure(figsize=(10,8))\n",
    "sns.scatterplot(df['Time_onsite(minutes)'],df['Sessions'])\n",
    "plt.savefig('sessions.jpg')"
   ]
  },
  {
   "cell_type": "code",
   "execution_count": 77,
   "id": "0f5829af",
   "metadata": {},
   "outputs": [
    {
     "name": "stderr",
     "output_type": "stream",
     "text": [
      "C:\\Users\\suhai\\anaconda3\\lib\\site-packages\\seaborn\\_decorators.py:36: FutureWarning: Pass the following variables as keyword args: x, y. From version 0.12, the only valid positional argument will be `data`, and passing other arguments without an explicit keyword will result in an error or misinterpretation.\n",
      "  warnings.warn(\n"
     ]
    },
    {
     "data": {
      "image/png": "[encoded data removed]",
      "text/plain": [
       "<Figure size 720x576 with 1 Axes>"
      ]
     },
     "metadata": {
      "needs_background": "light"
     },
     "output_type": "display_data"
    }
   ],
   "source": [
    "plt.figure(figsize=(10,8))\n",
    "sns.scatterplot(df['Time_onsite(minutes)'],df['Revenue(Rs/.)'])\n",
    "plt.savefig('rev.jpg')"
   ]
  },
  {
   "cell_type": "markdown",
   "id": "89124130",
   "metadata": {},
   "source": [
    "Channels metrics"
   ]
  },
  {
   "cell_type": "code",
   "execution_count": 13,
   "id": "b016d5fb",
   "metadata": {},
   "outputs": [
    {
     "name": "stderr",
     "output_type": "stream",
     "text": [
      "C:\\Users\\suhai\\anaconda3\\lib\\site-packages\\seaborn\\_decorators.py:36: FutureWarning: Pass the following variable as a keyword arg: x. From version 0.12, the only valid positional argument will be `data`, and passing other arguments without an explicit keyword will result in an error or misinterpretation.\n",
      "  warnings.warn(\n"
     ]
    },
    {
     "data": {
      "image/png": "[encoded data removed]",
      "text/plain": [
       "<Figure size 432x360 with 1 Axes>"
      ]
     },
     "metadata": {
      "needs_background": "light"
     },
     "output_type": "display_data"
    }
   ],
   "source": [
    "plt.figure(figsize=(6,5))\n",
    "sns.countplot(df['Channel'])\n",
    "plt.xticks(rotation=30)\n",
    "plt.savefig('Channels24.jpg')"
   ]
  },
  {
   "cell_type": "code",
   "execution_count": 15,
   "id": "dcb3727d",
   "metadata": {},
   "outputs": [
    {
     "data": {
      "image/png": "[encoded data removed]",
      "text/plain": [
       "<Figure size 432x360 with 1 Axes>"
      ]
     },
     "metadata": {
      "needs_background": "light"
     },
     "output_type": "display_data"
    }
   ],
   "source": [
    "plt.figure(figsize=(6,5))\n",
    "df.groupby('Channel')['Revenue(Rs/.)'].sum().plot(kind='bar')\n",
    "plt.ylabel(\"Amount in millions(Rs/.)\")\n",
    "plt.xticks(rotation=30)\n",
    "plt.savefig('channelRev24.jpg')"
   ]
  },
  {
   "cell_type": "code",
   "execution_count": 17,
   "id": "6aafbd60",
   "metadata": {},
   "outputs": [
    {
     "data": {
      "image/png": "[encoded data removed]",
      "text/plain": [
       "<Figure size 432x360 with 1 Axes>"
      ]
     },
     "metadata": {
      "needs_background": "light"
     },
     "output_type": "display_data"
    }
   ],
   "source": [
    "plt.figure(figsize=(6,5))\n",
    "df.groupby('Channel')['Page_Views'].sum().plot(kind='bar')\n",
    "plt.ylabel(\"Page Views\")\n",
    "plt.xticks(rotation=30)\n",
    "plt.savefig('Pageviews24.jpg')"
   ]
  },
  {
   "cell_type": "code",
   "execution_count": 18,
   "id": "e695aec8",
   "metadata": {},
   "outputs": [],
   "source": [
    "import plotly.express as px"
   ]
  },
  {
   "cell_type": "code",
   "execution_count": 23,
   "id": "96aaa75c",
   "metadata": {},
   "outputs": [
    {
     "name": "stderr",
     "output_type": "stream",
     "text": [
      "C:\\Users\\suhai\\anaconda3\\lib\\site-packages\\seaborn\\_decorators.py:36: FutureWarning:\n",
      "\n",
      "Pass the following variables as keyword args: x, y. From version 0.12, the only valid positional argument will be `data`, and passing other arguments without an explicit keyword will result in an error or misinterpretation.\n",
      "\n"
     ]
    },
    {
     "data": {
      "image/png": "[encoded data removed]",
      "text/plain": [
       "<Figure size 576x432 with 1 Axes>"
      ]
     },
     "metadata": {
      "needs_background": "light"
     },
     "output_type": "display_data"
    }
   ],
   "source": [
    "plt.figure(figsize=(8,6))\n",
    "df_monthly=df.groupby('month')['Revenue(Rs/.)'].sum()\n",
    "sns.barplot(df_monthly.index,df_monthly.values)\n",
    "plt.ylabel('Amount of Monthly Revenue Generated (Rs/.)')\n",
    "plt.savefig('revMonth.jpg')"
   ]
  },
  {
   "cell_type": "code",
   "execution_count": 26,
   "id": "8f3301de",
   "metadata": {},
   "outputs": [
    {
     "name": "stderr",
     "output_type": "stream",
     "text": [
      "C:\\Users\\suhai\\anaconda3\\lib\\site-packages\\seaborn\\_decorators.py:36: FutureWarning:\n",
      "\n",
      "Pass the following variables as keyword args: x, y. From version 0.12, the only valid positional argument will be `data`, and passing other arguments without an explicit keyword will result in an error or misinterpretation.\n",
      "\n"
     ]
    },
    {
     "data": {
      "image/png": "[encoded data removed]",
      "text/plain": [
       "<Figure size 576x432 with 1 Axes>"
      ]
     },
     "metadata": {
      "needs_background": "light"
     },
     "output_type": "display_data"
    }
   ],
   "source": [
    "plt.figure(figsize=(8,6))\n",
    "df_quarterly=df.groupby('quarter_no.')['Revenue(Rs/.)'].sum()\n",
    "sns.barplot(df_quarterly.index,df_quarterly.values)\n",
    "plt.ylabel('Amount of Quarterly Revenue Generated (Rs/.)')\n",
    "plt.savefig('revQuarter.jpg')"
   ]
  },
  {
   "cell_type": "code",
   "execution_count": 34,
   "id": "7843b8ec",
   "metadata": {},
   "outputs": [
    {
     "name": "stderr",
     "output_type": "stream",
     "text": [
      "C:\\Users\\suhai\\anaconda3\\lib\\site-packages\\seaborn\\_decorators.py:36: FutureWarning:\n",
      "\n",
      "Pass the following variables as keyword args: x, y. From version 0.12, the only valid positional argument will be `data`, and passing other arguments without an explicit keyword will result in an error or misinterpretation.\n",
      "\n"
     ]
    },
    {
     "data": {
      "image/png": "[encoded data removed]",
      "text/plain": [
       "<Figure size 576x432 with 1 Axes>"
      ]
     },
     "metadata": {
      "needs_background": "light"
     },
     "output_type": "display_data"
    }
   ],
   "source": [
    "plt.figure(figsize=(8,6))\n",
    "df_daily=df.groupby('day')['Revenue(Rs/.)'].sum()\n",
    "sns.barplot(df_daily.index,df_daily.values)\n",
    "plt.xticks(rotation=45)\n",
    "plt.ylabel('Amount of Daily Revenue Generated (Rs/.)')\n",
    "plt.savefig('revDaily.jpg')"
   ]
  },
  {
   "cell_type": "code",
   "execution_count": null,
   "id": "c288c5f9",
   "metadata": {},
   "outputs": [],
   "source": []
  }
 ],
 "metadata": {
  "kernelspec": {
   "display_name": "Python 3 (ipykernel)",
   "language": "python",
   "name": "python3"
  },
  "language_info": {
   "codemirror_mode": {
    "name": "ipython",
    "version": 3
   },
   "file_extension": ".py",
   "mimetype": "text/x-python",
   "name": "python",
   "nbconvert_exporter": "python",
   "pygments_lexer": "ipython3",
   "version": "3.9.7"
  }
 },
 "nbformat": 4,
 "nbformat_minor": 5
}
