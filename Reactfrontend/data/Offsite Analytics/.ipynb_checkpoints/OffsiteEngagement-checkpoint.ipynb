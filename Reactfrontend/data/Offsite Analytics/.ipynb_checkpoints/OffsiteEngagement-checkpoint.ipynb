{
 "cells": [
  {
   "cell_type": "code",
   "execution_count": 101,
   "id": "85cac98e",
   "metadata": {},
   "outputs": [
    {
     "name": "stderr",
     "output_type": "stream",
     "text": [
      "[nltk_data] Downloading package vader_lexicon to\n",
      "[nltk_data]     C:\\Users\\suhai\\AppData\\Roaming\\nltk_data...\n",
      "[nltk_data]   Package vader_lexicon is already up-to-date!\n"
     ]
    },
    {
     "data": {
      "text/plain": [
       "True"
      ]
     },
     "execution_count": 101,
     "metadata": {},
     "output_type": "execute_result"
    }
   ],
   "source": [
    "import pandas as pd\n",
    "import seaborn as sns\n",
    "import numpy as np\n",
    "import matplotlib.pyplot as plt\n",
    "import nltk\n",
    "nltk.download('vader_lexicon')"
   ]
  },
  {
   "cell_type": "code",
   "execution_count": 37,
   "id": "b443c594",
   "metadata": {},
   "outputs": [],
   "source": [
    "df=pd.read_csv(\"C:\\\\Users\\\\suhai\\\\InstaFake\\\\Digital Analytics\\\\Offsite Analytics\\\\offsite.csv\")"
   ]
  },
  {
   "cell_type": "code",
   "execution_count": 38,
   "id": "2792f127",
   "metadata": {
    "scrolled": true
   },
   "outputs": [],
   "source": [
    "df['comment_agents']=df.comment_agent.apply(lambda x:str(x).split(\")\")[0].split('(')[-1].split(';')[0])"
   ]
  },
  {
   "cell_type": "code",
   "execution_count": 39,
   "id": "fcc1b512",
   "metadata": {},
   "outputs": [],
   "source": [
    "df=df.replace('X11','Linux')"
   ]
  },
  {
   "cell_type": "code",
   "execution_count": 40,
   "id": "5aec19b8",
   "metadata": {},
   "outputs": [],
   "source": [
    "df.drop('comment_agent',axis=1,inplace=True)"
   ]
  },
  {
   "cell_type": "markdown",
   "id": "7ba68e4d",
   "metadata": {},
   "source": [
    "#### Most Popular Operating System Used?"
   ]
  },
  {
   "cell_type": "code",
   "execution_count": 45,
   "id": "351e8d94",
   "metadata": {},
   "outputs": [
    {
     "name": "stderr",
     "output_type": "stream",
     "text": [
      "C:\\Users\\suhai\\anaconda3\\lib\\site-packages\\seaborn\\_decorators.py:36: FutureWarning: Pass the following variable as a keyword arg: x. From version 0.12, the only valid positional argument will be `data`, and passing other arguments without an explicit keyword will result in an error or misinterpretation.\n",
      "  warnings.warn(\n"
     ]
    },
    {
     "data": {
      "text/plain": [
       "(array([ 0,  1,  2,  3,  4,  5,  6,  7,  8,  9, 10]),\n",
       " [Text(0, 0, 'Windows NT 6.3'),\n",
       "  Text(1, 0, 'Linux'),\n",
       "  Text(2, 0, 'Windows'),\n",
       "  Text(3, 0, 'The Incutio XML-RPC PHP Library -- WordPress/5.4.2'),\n",
       "  Text(4, 0, 'Macintosh'),\n",
       "  Text(5, 0, 'Windows NT 10.0'),\n",
       "  Text(6, 0, 'Googlebot-Image/1.0'),\n",
       "  Text(7, 0, 'compatible'),\n",
       "  Text(8, 0, 'Windows NT 6.1'),\n",
       "  Text(9, 0, 'nan'),\n",
       "  Text(10, 0, 'build 7443')])"
      ]
     },
     "execution_count": 45,
     "metadata": {},
     "output_type": "execute_result"
    },
    {
     "data": {
      "image/png": "[encoded data removed]",
      "text/plain": [
       "<Figure size 432x288 with 1 Axes>"
      ]
     },
     "metadata": {
      "needs_background": "light"
     },
     "output_type": "display_data"
    }
   ],
   "source": [
    "sns.countplot(df.comment_agents)\n",
    "plt.xticks(rotation=90)"
   ]
  },
  {
   "cell_type": "markdown",
   "id": "e14ebea8",
   "metadata": {},
   "source": [
    "##### Windows followed by linux then macintosh"
   ]
  },
  {
   "cell_type": "code",
   "execution_count": 48,
   "id": "7f0b1003",
   "metadata": {},
   "outputs": [],
   "source": [
    "df.comment_date=pd.to_datetime(df.comment_date)"
   ]
  },
  {
   "cell_type": "code",
   "execution_count": 54,
   "id": "c83fe7d3",
   "metadata": {},
   "outputs": [],
   "source": [
    "df['year']=df.comment_date.dt.year\n",
    "df['month']=df.comment_date.dt.month\n",
    "df['day']=df.comment_date.dt.day\n",
    "df['hour']=df.comment_date.dt.hour\n",
    "df['minutes']=df.comment_date.dt.minute"
   ]
  },
  {
   "cell_type": "markdown",
   "id": "7521d87e",
   "metadata": {},
   "source": [
    "#### What time of day has most engagement?"
   ]
  },
  {
   "cell_type": "code",
   "execution_count": 69,
   "id": "ba90ea3a",
   "metadata": {},
   "outputs": [],
   "source": [
    "df['time_of_the_day']=''\n",
    "df.loc[(df.hour>=18)& (df.hour<24),'time_of_the_day']='Night'\n",
    "df.loc[(df.hour>=12)& (df.hour<18),'time_of_the_day']='Afternoon'\n",
    "df.loc[df['time_of_the_day']=='','time_of_the_day']='Morning'"
   ]
  },
  {
   "cell_type": "code",
   "execution_count": 78,
   "id": "832c0afc",
   "metadata": {},
   "outputs": [
    {
     "name": "stderr",
     "output_type": "stream",
     "text": [
      "C:\\Users\\suhai\\anaconda3\\lib\\site-packages\\seaborn\\_decorators.py:36: FutureWarning: Pass the following variable as a keyword arg: x. From version 0.12, the only valid positional argument will be `data`, and passing other arguments without an explicit keyword will result in an error or misinterpretation.\n",
      "  warnings.warn(\n"
     ]
    },
    {
     "data": {
      "text/plain": [
       "(array([0, 1, 2]),\n",
       " [Text(0, 0, 'Morning'), Text(1, 0, 'Night'), Text(2, 0, 'Afternoon')])"
      ]
     },
     "execution_count": 78,
     "metadata": {},
     "output_type": "execute_result"
    },
    {
     "data": {
      "image/png": "[encoded data removed]",
      "text/plain": [
       "<Figure size 432x288 with 1 Axes>"
      ]
     },
     "metadata": {
      "needs_background": "light"
     },
     "output_type": "display_data"
    }
   ],
   "source": [
    "sns.countplot(df['time_of_the_day'])\n",
    "plt.xticks(rotation=90)"
   ]
  },
  {
   "cell_type": "markdown",
   "id": "4d897808",
   "metadata": {},
   "source": [
    "Morning time is the best for publishing articles"
   ]
  },
  {
   "cell_type": "markdown",
   "id": "915ac25b",
   "metadata": {},
   "source": [
    "#### What month has highest engagement?"
   ]
  },
  {
   "cell_type": "code",
   "execution_count": 88,
   "id": "fa4f1a4d",
   "metadata": {},
   "outputs": [
    {
     "name": "stderr",
     "output_type": "stream",
     "text": [
      "C:\\Users\\suhai\\anaconda3\\lib\\site-packages\\seaborn\\_decorators.py:36: FutureWarning: Pass the following variable as a keyword arg: x. From version 0.12, the only valid positional argument will be `data`, and passing other arguments without an explicit keyword will result in an error or misinterpretation.\n",
      "  warnings.warn(\n"
     ]
    },
    {
     "data": {
      "text/plain": [
       "(array([0, 1, 2, 3, 4, 5, 6, 7, 8, 9]),\n",
       " [Text(0, 0, '2'),\n",
       "  Text(1, 0, '3'),\n",
       "  Text(2, 0, '4'),\n",
       "  Text(3, 0, '5'),\n",
       "  Text(4, 0, '6'),\n",
       "  Text(5, 0, '7'),\n",
       "  Text(6, 0, '8'),\n",
       "  Text(7, 0, '9'),\n",
       "  Text(8, 0, '10'),\n",
       "  Text(9, 0, '12')])"
      ]
     },
     "execution_count": 88,
     "metadata": {},
     "output_type": "execute_result"
    },
    {
     "data": {
      "image/png": "[encoded data removed]",
      "text/plain": [
       "<Figure size 432x288 with 1 Axes>"
      ]
     },
     "metadata": {
      "needs_background": "light"
     },
     "output_type": "display_data"
    }
   ],
   "source": [
    "sns.countplot(df['month'])\n",
    "plt.xticks(rotation=90)"
   ]
  },
  {
   "cell_type": "markdown",
   "id": "61a1313b",
   "metadata": {},
   "source": [
    "December had the highest engagement"
   ]
  },
  {
   "cell_type": "code",
   "execution_count": 104,
   "id": "7cfa999f",
   "metadata": {},
   "outputs": [],
   "source": [
    "from nltk.sentiment import SentimentIntensityAnalyzer\n",
    "import operator\n",
    "sia = SentimentIntensityAnalyzer()\n",
    "df[\"sentiment_score\"] = df[\"comment_content\"].apply(lambda x: sia.polarity_scores(x)[\"compound\"])\n",
    "df[\"sentiment\"] = np.select([df[\"sentiment_score\"] < 0, df[\"sentiment_score\"] == 0, df[\"sentiment_score\"] > 0],\n",
    "                           ['negative', 'neutral', 'positive'])"
   ]
  },
  {
   "cell_type": "code",
   "execution_count": 106,
   "id": "180a18a9",
   "metadata": {},
   "outputs": [
    {
     "name": "stderr",
     "output_type": "stream",
     "text": [
      "C:\\Users\\suhai\\anaconda3\\lib\\site-packages\\seaborn\\_decorators.py:36: FutureWarning: Pass the following variable as a keyword arg: x. From version 0.12, the only valid positional argument will be `data`, and passing other arguments without an explicit keyword will result in an error or misinterpretation.\n",
      "  warnings.warn(\n"
     ]
    },
    {
     "data": {
      "text/plain": [
       "<AxesSubplot:xlabel='sentiment', ylabel='count'>"
      ]
     },
     "execution_count": 106,
     "metadata": {},
     "output_type": "execute_result"
    },
    {
     "data": {
      "image/png": "[encoded data removed]",
      "text/plain": [
       "<Figure size 432x288 with 1 Axes>"
      ]
     },
     "metadata": {
      "needs_background": "light"
     },
     "output_type": "display_data"
    }
   ],
   "source": [
    "sns.countplot(df.sentiment)"
   ]
  },
  {
   "cell_type": "code",
   "execution_count": 114,
   "id": "6b48a047",
   "metadata": {},
   "outputs": [
    {
     "data": {
      "text/plain": [
       "0                     Father day gifts\n",
       "2                Mothers day Surprises\n",
       "5                babyshower gift ideas\n",
       "7     Raksha bandhan day surpise gifts\n",
       "8                   Easter Sunday gift\n",
       "10                  Surprise your pets\n",
       "13                    babyshower gifts\n",
       "14                  Surprise your pets\n",
       "16              anniversary gift ideas\n",
       "17               Fathers day Surprises\n",
       "20        Friendship day surpise gifts\n",
       "22                babyshower surprises\n",
       "23        Valentines day surpise gifts\n",
       "24          gift ideas for your mother\n",
       "26               Mothers day Surprises\n",
       "27                   Mothers day gifts\n",
       "28          Republic day surpise gifts\n",
       "30                  birthday surprises\n",
       "34          gift ideas for your father\n",
       "35          gift ideas for your sister\n",
       "37    Raksha bandhan day surpise gifts\n",
       "38                    Father day gifts\n",
       "42         gift ideas for your brother\n",
       "44               Surprise your hubbies\n",
       "46                      Birthday gifts\n",
       "48          gift ideas for your mother\n",
       "50          Surprise your well wishers\n",
       "52               anniversary surprises\n",
       "53          Republic day surpise gifts\n",
       "54                      Congrats gifts\n",
       "56        Friendship day surpise gifts\n",
       "57                   Mothers day gifts\n",
       "59         gift ideas for your brother\n",
       "61        Valentines day surpise gifts\n",
       "62          Republic day surpise gifts\n",
       "Name: post_title, dtype: object"
      ]
     },
     "execution_count": 114,
     "metadata": {},
     "output_type": "execute_result"
    }
   ],
   "source": [
    "df[df['sentiment']=='positive']['post_title']"
   ]
  },
  {
   "cell_type": "code",
   "execution_count": 115,
   "id": "bbf66d0a",
   "metadata": {},
   "outputs": [
    {
     "data": {
      "text/plain": [
       "1                    anniversary gifts\n",
       "4         Friendship day surpise gifts\n",
       "9                      Earth day gifts\n",
       "11          gift ideas for your father\n",
       "12          Surprise your well wishers\n",
       "21               Mothers day Surprises\n",
       "29                Surprise your friend\n",
       "31                 birthday gift ideas\n",
       "36          gift ideas for your sister\n",
       "39               Surprise your hubbies\n",
       "40                     Earth day gifts\n",
       "45         gift ideas for your brother\n",
       "47    Raksha bandhan day surpise gifts\n",
       "49                Good friday surprise\n",
       "51               Fathers day Surprises\n",
       "55          gift ideas for your mother\n",
       "58             Congrats surprise ideas\n",
       "60          gift ideas for your sister\n",
       "Name: post_title, dtype: object"
      ]
     },
     "execution_count": 115,
     "metadata": {},
     "output_type": "execute_result"
    }
   ],
   "source": [
    "df[df['sentiment']=='negative']['post_title']"
   ]
  },
  {
   "cell_type": "code",
   "execution_count": 116,
   "id": "e0901115",
   "metadata": {},
   "outputs": [
    {
     "data": {
      "text/plain": [
       "3          Surprise your hubbies\n",
       "6     Surprise your well wishers\n",
       "15          Surprise your friend\n",
       "18             Mothers day gifts\n",
       "19               Earth day gifts\n",
       "25              Father day gifts\n",
       "32          Surprise your friend\n",
       "33            Surprise your pets\n",
       "41         Fathers day Surprises\n",
       "43    gift ideas for your father\n",
       "Name: post_title, dtype: object"
      ]
     },
     "execution_count": 116,
     "metadata": {},
     "output_type": "execute_result"
    }
   ],
   "source": [
    "df[df['sentiment']=='neutral']['post_title']"
   ]
  }
 ],
 "metadata": {
  "kernelspec": {
   "display_name": "Python 3 (ipykernel)",
   "language": "python",
   "name": "python3"
  },
  "language_info": {
   "codemirror_mode": {
    "name": "ipython",
    "version": 3
   },
   "file_extension": ".py",
   "mimetype": "text/x-python",
   "name": "python",
   "nbconvert_exporter": "python",
   "pygments_lexer": "ipython3",
   "version": "3.9.7"
  }
 },
 "nbformat": 4,
 "nbformat_minor": 5
}
