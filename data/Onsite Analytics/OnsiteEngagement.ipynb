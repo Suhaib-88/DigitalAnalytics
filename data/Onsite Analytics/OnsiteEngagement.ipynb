{
 "cells": [
  {
   "cell_type": "code",
   "execution_count": 2,
   "id": "da5e6c53",
   "metadata": {},
   "outputs": [
    {
     "name": "stderr",
     "output_type": "stream",
     "text": [
      "[nltk_data] Downloading package vader_lexicon to\n",
      "[nltk_data]     C:\\Users\\suhai\\AppData\\Roaming\\nltk_data...\n",
      "[nltk_data]   Package vader_lexicon is already up-to-date!\n"
     ]
    },
    {
     "data": {
      "text/plain": [
       "True"
      ]
     },
     "execution_count": 2,
     "metadata": {},
     "output_type": "execute_result"
    }
   ],
   "source": [
    "import pandas as pd\n",
    "import numpy as np\n",
    "import seaborn as sns\n",
    "import matplotlib.pyplot as plt\n",
    "import plotly.graph_objects as go\n",
    "import nltk\n",
    "nltk.download('vader_lexicon')"
   ]
  },
  {
   "cell_type": "code",
   "execution_count": 1,
   "id": "ad4a090d",
   "metadata": {},
   "outputs": [
    {
     "ename": "NameError",
     "evalue": "name 'pd' is not defined",
     "output_type": "error",
     "traceback": [
      "\u001b[1;31m---------------------------------------------------------------------------\u001b[0m",
      "\u001b[1;31mNameError\u001b[0m                                 Traceback (most recent call last)",
      "Input \u001b[1;32mIn [1]\u001b[0m, in \u001b[0;36m<module>\u001b[1;34m\u001b[0m\n\u001b[1;32m----> 1\u001b[0m df\u001b[38;5;241m=\u001b[39m\u001b[43mpd\u001b[49m\u001b[38;5;241m.\u001b[39mread_csv(\u001b[38;5;124m'\u001b[39m\u001b[38;5;124mC:\u001b[39m\u001b[38;5;130;01m\\\\\u001b[39;00m\u001b[38;5;124mUsers\u001b[39m\u001b[38;5;130;01m\\\\\u001b[39;00m\u001b[38;5;124msuhai\u001b[39m\u001b[38;5;130;01m\\\\\u001b[39;00m\u001b[38;5;124mInstaFake\u001b[39m\u001b[38;5;130;01m\\\\\u001b[39;00m\u001b[38;5;124mDigital Analytics\u001b[39m\u001b[38;5;130;01m\\\\\u001b[39;00m\u001b[38;5;124mOnsite Analytics\u001b[39m\u001b[38;5;130;01m\\\\\u001b[39;00m\u001b[38;5;124monsite.csv\u001b[39m\u001b[38;5;124m'\u001b[39m)\n",
      "\u001b[1;31mNameError\u001b[0m: name 'pd' is not defined"
     ]
    }
   ],
   "source": [
    "df=pd.read_csv('C:\\\\Users\\\\suhai\\\\InstaFake\\\\Digital Analytics\\\\Onsite Analytics\\\\onsite.csv')"
   ]
  },
  {
   "cell_type": "markdown",
   "id": "bebb6b53",
   "metadata": {},
   "source": [
    "### Feature enggineering"
   ]
  },
  {
   "cell_type": "code",
   "execution_count": 157,
   "id": "65052731",
   "metadata": {},
   "outputs": [],
   "source": [
    "from sklearn.utils import shuffle\n",
    "df=shuffle(df).reset_index(drop=True)"
   ]
  },
  {
   "cell_type": "code",
   "execution_count": 12,
   "id": "9a6b8a9b",
   "metadata": {},
   "outputs": [],
   "source": [
    "df['Comment_id']=df['Comment_id'].apply(lambda x:x.split('-')[1])"
   ]
  },
  {
   "cell_type": "code",
   "execution_count": 14,
   "id": "9bf18d47",
   "metadata": {},
   "outputs": [],
   "source": [
    "import datetime\n",
    "df.ReviewDate=df.ReviewDate.apply(lambda x:datetime.datetime.strptime(x,\"%B %d, %Y\"))"
   ]
  },
  {
   "cell_type": "code",
   "execution_count": 15,
   "id": "3141b27c",
   "metadata": {},
   "outputs": [],
   "source": [
    "import re\n",
    "df.Rating=df.Rating.apply(lambda x:re.sub('\\W',\" \",str(x)))\n",
    "df.Rating=df.Rating.apply(lambda x:x.split()[0])"
   ]
  },
  {
   "cell_type": "code",
   "execution_count": 159,
   "id": "59f8ccca",
   "metadata": {},
   "outputs": [],
   "source": [
    "df.to_csv('OnsiteReviews.csv',index=False)"
   ]
  },
  {
   "cell_type": "markdown",
   "id": "05ac4875",
   "metadata": {},
   "source": [
    "### Loading New Csv File"
   ]
  },
  {
   "cell_type": "code",
   "execution_count": 3,
   "id": "ea54c48b",
   "metadata": {},
   "outputs": [],
   "source": [
    "df=pd.read_csv('C:\\\\Users\\\\suhai\\\\InstaFake\\\\Digital Analytics\\\\Onsite Analytics\\\\OnsiteReviews.csv')"
   ]
  },
  {
   "cell_type": "markdown",
   "id": "c3434457",
   "metadata": {},
   "source": [
    "#### Monst number of comments"
   ]
  },
  {
   "cell_type": "code",
   "execution_count": 23,
   "id": "877f0df3",
   "metadata": {
    "scrolled": true
   },
   "outputs": [
    {
     "data": {
      "text/plain": [
       "Product_ids\n",
       "15822    120\n",
       "15873    112\n",
       "6558     110\n",
       "15894    108\n",
       "15868    108\n",
       "        ... \n",
       "22180      1\n",
       "22505      1\n",
       "22507      1\n",
       "22509      1\n",
       "19072      1\n",
       "Name: Comment_id, Length: 469, dtype: int64"
      ]
     },
     "execution_count": 23,
     "metadata": {},
     "output_type": "execute_result"
    }
   ],
   "source": [
    "df.groupby('Product_ids')['Comment_id'].count().sort_values(ascending=False)"
   ]
  },
  {
   "cell_type": "code",
   "execution_count": 26,
   "id": "c919c874",
   "metadata": {},
   "outputs": [
    {
     "data": {
      "text/plain": [
       "Product_ids\n",
       "5        4.535714\n",
       "4614     4.625000\n",
       "4647     4.571429\n",
       "4680     4.500000\n",
       "4721     4.500000\n",
       "           ...   \n",
       "34915    3.750000\n",
       "34959    5.000000\n",
       "35005    1.000000\n",
       "35007    1.000000\n",
       "35009    5.000000\n",
       "Name: Rating, Length: 469, dtype: float64"
      ]
     },
     "execution_count": 26,
     "metadata": {},
     "output_type": "execute_result"
    }
   ],
   "source": [
    "df.groupby('Product_ids')['Rating'].mean()"
   ]
  },
  {
   "cell_type": "code",
   "execution_count": 8,
   "id": "7389cbcd",
   "metadata": {},
   "outputs": [
    {
     "data": {
      "text/html": [
       "<div>\n",
       "<style scoped>\n",
       "    .dataframe tbody tr th:only-of-type {\n",
       "        vertical-align: middle;\n",
       "    }\n",
       "\n",
       "    .dataframe tbody tr th {\n",
       "        vertical-align: top;\n",
       "    }\n",
       "\n",
       "    .dataframe thead th {\n",
       "        text-align: right;\n",
       "    }\n",
       "</style>\n",
       "<table border=\"1\" class=\"dataframe\">\n",
       "  <thead>\n",
       "    <tr style=\"text-align: right;\">\n",
       "      <th></th>\n",
       "      <th>ReviewDate</th>\n",
       "      <th>Comment_id</th>\n",
       "      <th>ReviewDesc</th>\n",
       "      <th>ReviewerName</th>\n",
       "      <th>Rating</th>\n",
       "      <th>product_name</th>\n",
       "      <th>Product_ids</th>\n",
       "    </tr>\n",
       "  </thead>\n",
       "  <tbody>\n",
       "    <tr>\n",
       "      <th>205</th>\n",
       "      <td>2019-03-12</td>\n",
       "      <td>10640</td>\n",
       "      <td>Its a big surprise to my brother on his annive...</td>\n",
       "      <td>yani</td>\n",
       "      <td>5</td>\n",
       "      <td>Helium 3 Anniversary Surprise</td>\n",
       "      <td>4721</td>\n",
       "    </tr>\n",
       "    <tr>\n",
       "      <th>337</th>\n",
       "      <td>2019-04-25</td>\n",
       "      <td>11291</td>\n",
       "      <td>simply superb the whole experience we had is v...</td>\n",
       "      <td>lalitha</td>\n",
       "      <td>5</td>\n",
       "      <td>Helium 3 Anniversary Surprise</td>\n",
       "      <td>4721</td>\n",
       "    </tr>\n",
       "    <tr>\n",
       "      <th>1067</th>\n",
       "      <td>2019-03-30</td>\n",
       "      <td>10838</td>\n",
       "      <td>I want to return and have my refund</td>\n",
       "      <td>jithu</td>\n",
       "      <td>3</td>\n",
       "      <td>Helium 3 Anniversary Surprise</td>\n",
       "      <td>4721</td>\n",
       "    </tr>\n",
       "    <tr>\n",
       "      <th>1930</th>\n",
       "      <td>2019-06-01</td>\n",
       "      <td>12508</td>\n",
       "      <td>good i love this surprise especially cake and ...</td>\n",
       "      <td>keerthi</td>\n",
       "      <td>5</td>\n",
       "      <td>Helium 3 Anniversary Surprise</td>\n",
       "      <td>4721</td>\n",
       "    </tr>\n",
       "    <tr>\n",
       "      <th>2551</th>\n",
       "      <td>2019-03-05</td>\n",
       "      <td>10604</td>\n",
       "      <td>It was one of the best events never we had.\\nT...</td>\n",
       "      <td>Sharma</td>\n",
       "      <td>5</td>\n",
       "      <td>Helium 3 Anniversary Surprise</td>\n",
       "      <td>4721</td>\n",
       "    </tr>\n",
       "    <tr>\n",
       "      <th>2600</th>\n",
       "      <td>2019-11-25</td>\n",
       "      <td>17081</td>\n",
       "      <td>Nice one\\n</td>\n",
       "      <td>admin</td>\n",
       "      <td>5</td>\n",
       "      <td>Helium 3 Anniversary Surprise</td>\n",
       "      <td>4721</td>\n",
       "    </tr>\n",
       "    <tr>\n",
       "      <th>2944</th>\n",
       "      <td>2019-02-22</td>\n",
       "      <td>10526</td>\n",
       "      <td>It was our 3rd anniversary but we had a great ...</td>\n",
       "      <td>Nehanth Sarma</td>\n",
       "      <td>5</td>\n",
       "      <td>Helium 3 Anniversary Surprise</td>\n",
       "      <td>4721</td>\n",
       "    </tr>\n",
       "    <tr>\n",
       "      <th>3075</th>\n",
       "      <td>2019-03-08</td>\n",
       "      <td>10615</td>\n",
       "      <td>It was really nice experience. actually I don’...</td>\n",
       "      <td>kiran</td>\n",
       "      <td>5</td>\n",
       "      <td>Helium 3 Anniversary Surprise</td>\n",
       "      <td>4721</td>\n",
       "    </tr>\n",
       "    <tr>\n",
       "      <th>3872</th>\n",
       "      <td>2019-03-22</td>\n",
       "      <td>10750</td>\n",
       "      <td>I never forgot about this event. I simply love...</td>\n",
       "      <td>grace</td>\n",
       "      <td>5</td>\n",
       "      <td>Helium 3 Anniversary Surprise</td>\n",
       "      <td>4721</td>\n",
       "    </tr>\n",
       "    <tr>\n",
       "      <th>5146</th>\n",
       "      <td>2019-06-15</td>\n",
       "      <td>13006</td>\n",
       "      <td>I bought it for my grandson. He was 6 months o...</td>\n",
       "      <td>devender</td>\n",
       "      <td>2</td>\n",
       "      <td>Helium 3 Anniversary Surprise</td>\n",
       "      <td>4721</td>\n",
       "    </tr>\n",
       "  </tbody>\n",
       "</table>\n",
       "</div>"
      ],
      "text/plain": [
       "      ReviewDate  Comment_id  \\\n",
       "205   2019-03-12       10640   \n",
       "337   2019-04-25       11291   \n",
       "1067  2019-03-30       10838   \n",
       "1930  2019-06-01       12508   \n",
       "2551  2019-03-05       10604   \n",
       "2600  2019-11-25       17081   \n",
       "2944  2019-02-22       10526   \n",
       "3075  2019-03-08       10615   \n",
       "3872  2019-03-22       10750   \n",
       "5146  2019-06-15       13006   \n",
       "\n",
       "                                             ReviewDesc   ReviewerName  \\\n",
       "205   Its a big surprise to my brother on his annive...           yani   \n",
       "337   simply superb the whole experience we had is v...        lalitha   \n",
       "1067               I want to return and have my refund           jithu   \n",
       "1930  good i love this surprise especially cake and ...        keerthi   \n",
       "2551  It was one of the best events never we had.\\nT...         Sharma   \n",
       "2600                                         Nice one\\n          admin   \n",
       "2944  It was our 3rd anniversary but we had a great ...  Nehanth Sarma   \n",
       "3075  It was really nice experience. actually I don’...          kiran   \n",
       "3872  I never forgot about this event. I simply love...          grace   \n",
       "5146  I bought it for my grandson. He was 6 months o...       devender   \n",
       "\n",
       "      Rating                   product_name  Product_ids  \n",
       "205        5  Helium 3 Anniversary Surprise         4721  \n",
       "337        5  Helium 3 Anniversary Surprise         4721  \n",
       "1067       3  Helium 3 Anniversary Surprise         4721  \n",
       "1930       5  Helium 3 Anniversary Surprise         4721  \n",
       "2551       5  Helium 3 Anniversary Surprise         4721  \n",
       "2600       5  Helium 3 Anniversary Surprise         4721  \n",
       "2944       5  Helium 3 Anniversary Surprise         4721  \n",
       "3075       5  Helium 3 Anniversary Surprise         4721  \n",
       "3872       5  Helium 3 Anniversary Surprise         4721  \n",
       "5146       2  Helium 3 Anniversary Surprise         4721  "
      ]
     },
     "execution_count": 8,
     "metadata": {},
     "output_type": "execute_result"
    }
   ],
   "source": [
    "df[df['Product_ids']==4721]"
   ]
  },
  {
   "cell_type": "markdown",
   "id": "5c751415",
   "metadata": {},
   "source": [
    "- Gold anniversary Surprise has the best reviews 4.62/5\n",
    "- followed by Rhodium anniversary Surprise  4.57/5\n",
    "- then Platinum anniversary Surprise  4.5/5"
   ]
  },
  {
   "cell_type": "code",
   "execution_count": 213,
   "id": "eb489962",
   "metadata": {},
   "outputs": [
    {
     "data": {
      "text/plain": [
       "Comment_id\n",
       "13027    60\n",
       "12212    58\n",
       "11243    56\n",
       "13534    54\n",
       "10370    52\n",
       "         ..\n",
       "17827     1\n",
       "12077     1\n",
       "12082     1\n",
       "12086     1\n",
       "17903     1\n",
       "Name: Rating, Length: 2009, dtype: int64"
      ]
     },
     "execution_count": 213,
     "metadata": {},
     "output_type": "execute_result"
    }
   ],
   "source": [
    "df.groupby('Comment_id')['Rating'].sum().sort_values(ascending=False)\n",
    "# 13027,12212,11243,13534,10370     were the most recurrent comments"
   ]
  },
  {
   "cell_type": "code",
   "execution_count": 242,
   "id": "3f412d71",
   "metadata": {},
   "outputs": [
    {
     "data": {
      "text/plain": [
       "13027    12\n",
       "Name: Comment_id, dtype: int64"
      ]
     },
     "execution_count": 242,
     "metadata": {},
     "output_type": "execute_result"
    }
   ],
   "source": [
    "df[df['Comment_id']==13027]['Comment_id'].value_counts()\n",
    "\n",
    "#most amount of total ratings from same comment id"
   ]
  },
  {
   "cell_type": "code",
   "execution_count": 243,
   "id": "7cef6a11",
   "metadata": {},
   "outputs": [
    {
     "data": {
      "text/plain": [
       "Comment_id\n",
       "17678    12\n",
       "11077    12\n",
       "12035    12\n",
       "13534    12\n",
       "12212    12\n",
       "         ..\n",
       "11897     1\n",
       "11904     1\n",
       "11906     1\n",
       "11908     1\n",
       "38931     1\n",
       "Name: Rating, Length: 2009, dtype: int64"
      ]
     },
     "execution_count": 243,
     "metadata": {},
     "output_type": "execute_result"
    }
   ],
   "source": [
    "df.groupby('Comment_id')['Rating'].count().sort_values(ascending=False)\n",
    "\n",
    "#most amount of comments from same comment id"
   ]
  },
  {
   "cell_type": "code",
   "execution_count": 56,
   "id": "da01d9f6",
   "metadata": {},
   "outputs": [
    {
     "data": {
      "text/html": [
       "<div>\n",
       "<style scoped>\n",
       "    .dataframe tbody tr th:only-of-type {\n",
       "        vertical-align: middle;\n",
       "    }\n",
       "\n",
       "    .dataframe tbody tr th {\n",
       "        vertical-align: top;\n",
       "    }\n",
       "\n",
       "    .dataframe thead th {\n",
       "        text-align: right;\n",
       "    }\n",
       "</style>\n",
       "<table border=\"1\" class=\"dataframe\">\n",
       "  <thead>\n",
       "    <tr style=\"text-align: right;\">\n",
       "      <th></th>\n",
       "      <th>ReviewDate</th>\n",
       "      <th>Comment_id</th>\n",
       "      <th>ReviewDesc</th>\n",
       "      <th>ReviewerName</th>\n",
       "      <th>Rating</th>\n",
       "      <th>product_name</th>\n",
       "      <th>Product_ids</th>\n",
       "    </tr>\n",
       "  </thead>\n",
       "  <tbody>\n",
       "    <tr>\n",
       "      <th>364</th>\n",
       "      <td>2019-11-27</td>\n",
       "      <td>17678</td>\n",
       "      <td>I ordered this for my friend and she loved it.\\n</td>\n",
       "      <td>Priyanka</td>\n",
       "      <td>5</td>\n",
       "      <td>Jar Of Nothing</td>\n",
       "      <td>17396</td>\n",
       "    </tr>\n",
       "    <tr>\n",
       "      <th>700</th>\n",
       "      <td>2019-11-27</td>\n",
       "      <td>17678</td>\n",
       "      <td>I ordered this for my friend and she loved it.\\n</td>\n",
       "      <td>Priyanka</td>\n",
       "      <td>5</td>\n",
       "      <td>Jar Of Nothing</td>\n",
       "      <td>17396</td>\n",
       "    </tr>\n",
       "    <tr>\n",
       "      <th>1411</th>\n",
       "      <td>2019-11-27</td>\n",
       "      <td>17678</td>\n",
       "      <td>Recommended store. Product of poor quality.</td>\n",
       "      <td>Priyanka</td>\n",
       "      <td>1</td>\n",
       "      <td>Jar Of Nothing</td>\n",
       "      <td>17396</td>\n",
       "    </tr>\n",
       "    <tr>\n",
       "      <th>2239</th>\n",
       "      <td>2019-11-27</td>\n",
       "      <td>17678</td>\n",
       "      <td>The batteries do not last long.</td>\n",
       "      <td>Priyanka</td>\n",
       "      <td>4</td>\n",
       "      <td>Jar Of Nothing</td>\n",
       "      <td>17396</td>\n",
       "    </tr>\n",
       "    <tr>\n",
       "      <th>2611</th>\n",
       "      <td>2019-11-27</td>\n",
       "      <td>17678</td>\n",
       "      <td>It was two backpacks I only received one I wan...</td>\n",
       "      <td>Priyanka</td>\n",
       "      <td>1</td>\n",
       "      <td>Jar Of Nothing</td>\n",
       "      <td>17396</td>\n",
       "    </tr>\n",
       "    <tr>\n",
       "      <th>3266</th>\n",
       "      <td>2019-11-27</td>\n",
       "      <td>17678</td>\n",
       "      <td>I ordered this for my friend and she loved it.\\n</td>\n",
       "      <td>Priyanka</td>\n",
       "      <td>5</td>\n",
       "      <td>Jar Of Nothing</td>\n",
       "      <td>17396</td>\n",
       "    </tr>\n",
       "    <tr>\n",
       "      <th>5097</th>\n",
       "      <td>2019-11-27</td>\n",
       "      <td>17678</td>\n",
       "      <td>Quality of the reasonable product</td>\n",
       "      <td>Priyanka</td>\n",
       "      <td>3</td>\n",
       "      <td>Jar Of Nothing</td>\n",
       "      <td>17396</td>\n",
       "    </tr>\n",
       "    <tr>\n",
       "      <th>5455</th>\n",
       "      <td>2019-11-27</td>\n",
       "      <td>17678</td>\n",
       "      <td>I ordered this for my friend and she loved it.\\n</td>\n",
       "      <td>Priyanka</td>\n",
       "      <td>5</td>\n",
       "      <td>Jar Of Nothing</td>\n",
       "      <td>22942</td>\n",
       "    </tr>\n",
       "    <tr>\n",
       "      <th>5692</th>\n",
       "      <td>2019-11-27</td>\n",
       "      <td>17678</td>\n",
       "      <td>I ordered this for my friend and she loved it.\\n</td>\n",
       "      <td>Priyanka</td>\n",
       "      <td>5</td>\n",
       "      <td>Jar Of Nothing</td>\n",
       "      <td>17396</td>\n",
       "    </tr>\n",
       "    <tr>\n",
       "      <th>6469</th>\n",
       "      <td>2019-11-27</td>\n",
       "      <td>17678</td>\n",
       "      <td>I always bought in the Lannister stores, but t...</td>\n",
       "      <td>Priyanka</td>\n",
       "      <td>1</td>\n",
       "      <td>Jar Of Nothing</td>\n",
       "      <td>18660</td>\n",
       "    </tr>\n",
       "    <tr>\n",
       "      <th>6636</th>\n",
       "      <td>2019-11-27</td>\n",
       "      <td>17678</td>\n",
       "      <td>I need the products. For the same are two chil...</td>\n",
       "      <td>Priyanka</td>\n",
       "      <td>1</td>\n",
       "      <td>Jar Of Nothing</td>\n",
       "      <td>17396</td>\n",
       "    </tr>\n",
       "    <tr>\n",
       "      <th>7096</th>\n",
       "      <td>2019-11-27</td>\n",
       "      <td>17678</td>\n",
       "      <td>I ordered this for my friend and she loved it.\\n</td>\n",
       "      <td>Priyanka</td>\n",
       "      <td>5</td>\n",
       "      <td>Jar Of Nothing</td>\n",
       "      <td>17396</td>\n",
       "    </tr>\n",
       "  </tbody>\n",
       "</table>\n",
       "</div>"
      ],
      "text/plain": [
       "      ReviewDate  Comment_id  \\\n",
       "364   2019-11-27       17678   \n",
       "700   2019-11-27       17678   \n",
       "1411  2019-11-27       17678   \n",
       "2239  2019-11-27       17678   \n",
       "2611  2019-11-27       17678   \n",
       "3266  2019-11-27       17678   \n",
       "5097  2019-11-27       17678   \n",
       "5455  2019-11-27       17678   \n",
       "5692  2019-11-27       17678   \n",
       "6469  2019-11-27       17678   \n",
       "6636  2019-11-27       17678   \n",
       "7096  2019-11-27       17678   \n",
       "\n",
       "                                             ReviewDesc ReviewerName  Rating  \\\n",
       "364    I ordered this for my friend and she loved it.\\n     Priyanka       5   \n",
       "700    I ordered this for my friend and she loved it.\\n     Priyanka       5   \n",
       "1411       Recommended store. Product of poor quality.      Priyanka       1   \n",
       "2239                    The batteries do not last long.     Priyanka       4   \n",
       "2611  It was two backpacks I only received one I wan...     Priyanka       1   \n",
       "3266   I ordered this for my friend and she loved it.\\n     Priyanka       5   \n",
       "5097                 Quality of the reasonable product      Priyanka       3   \n",
       "5455   I ordered this for my friend and she loved it.\\n     Priyanka       5   \n",
       "5692   I ordered this for my friend and she loved it.\\n     Priyanka       5   \n",
       "6469  I always bought in the Lannister stores, but t...     Priyanka       1   \n",
       "6636  I need the products. For the same are two chil...     Priyanka       1   \n",
       "7096   I ordered this for my friend and she loved it.\\n     Priyanka       5   \n",
       "\n",
       "        product_name  Product_ids  \n",
       "364   Jar Of Nothing        17396  \n",
       "700   Jar Of Nothing        17396  \n",
       "1411  Jar Of Nothing        17396  \n",
       "2239  Jar Of Nothing        17396  \n",
       "2611  Jar Of Nothing        17396  \n",
       "3266  Jar Of Nothing        17396  \n",
       "5097  Jar Of Nothing        17396  \n",
       "5455  Jar Of Nothing        22942  \n",
       "5692  Jar Of Nothing        17396  \n",
       "6469  Jar Of Nothing        18660  \n",
       "6636  Jar Of Nothing        17396  \n",
       "7096  Jar Of Nothing        17396  "
      ]
     },
     "execution_count": 56,
     "metadata": {},
     "output_type": "execute_result"
    }
   ],
   "source": [
    "df[df['Comment_id']==17678]"
   ]
  },
  {
   "cell_type": "code",
   "execution_count": 222,
   "id": "cf3e5b63",
   "metadata": {},
   "outputs": [
    {
     "data": {
      "text/plain": [
       "Product_ids\n",
       "5        28\n",
       "4614      8\n",
       "4647      7\n",
       "4680      8\n",
       "4721     10\n",
       "         ..\n",
       "34915     4\n",
       "34959     1\n",
       "35005     1\n",
       "35007     1\n",
       "35009     5\n",
       "Name: Comment_id, Length: 469, dtype: int64"
      ]
     },
     "execution_count": 222,
     "metadata": {},
     "output_type": "execute_result"
    }
   ],
   "source": [
    "df.groupby('Product_ids')['Comment_id'].nunique()\n",
    "\n",
    "# product id: 5,4614, 4647 ,4680, 4721  have the most unique comments"
   ]
  },
  {
   "cell_type": "code",
   "execution_count": 27,
   "id": "f547b31d",
   "metadata": {},
   "outputs": [
    {
     "data": {
      "text/html": [
       "<div>\n",
       "<style scoped>\n",
       "    .dataframe tbody tr th:only-of-type {\n",
       "        vertical-align: middle;\n",
       "    }\n",
       "\n",
       "    .dataframe tbody tr th {\n",
       "        vertical-align: top;\n",
       "    }\n",
       "\n",
       "    .dataframe thead th {\n",
       "        text-align: right;\n",
       "    }\n",
       "</style>\n",
       "<table border=\"1\" class=\"dataframe\">\n",
       "  <thead>\n",
       "    <tr style=\"text-align: right;\">\n",
       "      <th></th>\n",
       "      <th>ReviewDate</th>\n",
       "      <th>Comment_id</th>\n",
       "      <th>ReviewDesc</th>\n",
       "      <th>ReviewerName</th>\n",
       "      <th>Rating</th>\n",
       "      <th>product_name</th>\n",
       "      <th>Product_ids</th>\n",
       "    </tr>\n",
       "  </thead>\n",
       "  <tbody>\n",
       "    <tr>\n",
       "      <th>0</th>\n",
       "      <td>2019-04-10</td>\n",
       "      <td>10980</td>\n",
       "      <td>it was great experience i never had in my life...</td>\n",
       "      <td>vani</td>\n",
       "      <td>5</td>\n",
       "      <td>Surprise Visit to Old Age Home – Bangalore</td>\n",
       "      <td>18178</td>\n",
       "    </tr>\n",
       "    <tr>\n",
       "      <th>1</th>\n",
       "      <td>2019-03-27</td>\n",
       "      <td>10795</td>\n",
       "      <td>good work and good delivery. I gifted to my br...</td>\n",
       "      <td>sathya</td>\n",
       "      <td>5</td>\n",
       "      <td>BTS Lemon Blueberry Cake</td>\n",
       "      <td>6168</td>\n",
       "    </tr>\n",
       "    <tr>\n",
       "      <th>2</th>\n",
       "      <td>2019-11-27</td>\n",
       "      <td>17706</td>\n",
       "      <td>The pillow was really soft and the quality was...</td>\n",
       "      <td>Priyanka</td>\n",
       "      <td>5</td>\n",
       "      <td>Cuddle Pillow</td>\n",
       "      <td>17352</td>\n",
       "    </tr>\n",
       "    <tr>\n",
       "      <th>3</th>\n",
       "      <td>2019-11-27</td>\n",
       "      <td>17831</td>\n",
       "      <td>Very soft</td>\n",
       "      <td>Priyanka</td>\n",
       "      <td>4</td>\n",
       "      <td>Saxophone Lamp</td>\n",
       "      <td>17333</td>\n",
       "    </tr>\n",
       "    <tr>\n",
       "      <th>4</th>\n",
       "      <td>2018-12-21</td>\n",
       "      <td>10194</td>\n",
       "      <td>For 1 birth too cute!!</td>\n",
       "      <td>Mohin</td>\n",
       "      <td>4</td>\n",
       "      <td>BTS Vanilla Chocolate Cake</td>\n",
       "      <td>5932</td>\n",
       "    </tr>\n",
       "    <tr>\n",
       "      <th>...</th>\n",
       "      <td>...</td>\n",
       "      <td>...</td>\n",
       "      <td>...</td>\n",
       "      <td>...</td>\n",
       "      <td>...</td>\n",
       "      <td>...</td>\n",
       "      <td>...</td>\n",
       "    </tr>\n",
       "    <tr>\n",
       "      <th>7119</th>\n",
       "      <td>2019-07-02</td>\n",
       "      <td>13467</td>\n",
       "      <td>This little guy is so adorable.  The only issu...</td>\n",
       "      <td>manisha</td>\n",
       "      <td>4</td>\n",
       "      <td>BTS Vanilla Chocolate Cake</td>\n",
       "      <td>5982</td>\n",
       "    </tr>\n",
       "    <tr>\n",
       "      <th>7120</th>\n",
       "      <td>2019-11-26</td>\n",
       "      <td>17382</td>\n",
       "      <td>That was such a fun thing to do.\\n Really had ...</td>\n",
       "      <td>Priyanka</td>\n",
       "      <td>5</td>\n",
       "      <td>The Lazer Game</td>\n",
       "      <td>34145</td>\n",
       "    </tr>\n",
       "    <tr>\n",
       "      <th>7121</th>\n",
       "      <td>2019-04-26</td>\n",
       "      <td>11378</td>\n",
       "      <td>superb delivery.\\n</td>\n",
       "      <td>jay</td>\n",
       "      <td>5</td>\n",
       "      <td>BTS Romantic Love</td>\n",
       "      <td>15858</td>\n",
       "    </tr>\n",
       "    <tr>\n",
       "      <th>7122</th>\n",
       "      <td>2019-04-24</td>\n",
       "      <td>11233</td>\n",
       "      <td>The flowers are gorgeous. Thank you. They were...</td>\n",
       "      <td>vasu</td>\n",
       "      <td>5</td>\n",
       "      <td>BTS Charming Red Roses</td>\n",
       "      <td>15873</td>\n",
       "    </tr>\n",
       "    <tr>\n",
       "      <th>7123</th>\n",
       "      <td>2019-03-29</td>\n",
       "      <td>10824</td>\n",
       "      <td>we felt happy. Teamwork and their timing are s...</td>\n",
       "      <td>gowtham</td>\n",
       "      <td>5</td>\n",
       "      <td>Rhodium Anniversary Surprise</td>\n",
       "      <td>4647</td>\n",
       "    </tr>\n",
       "  </tbody>\n",
       "</table>\n",
       "<p>7124 rows × 7 columns</p>\n",
       "</div>"
      ],
      "text/plain": [
       "      ReviewDate  Comment_id  \\\n",
       "0     2019-04-10       10980   \n",
       "1     2019-03-27       10795   \n",
       "2     2019-11-27       17706   \n",
       "3     2019-11-27       17831   \n",
       "4     2018-12-21       10194   \n",
       "...          ...         ...   \n",
       "7119  2019-07-02       13467   \n",
       "7120  2019-11-26       17382   \n",
       "7121  2019-04-26       11378   \n",
       "7122  2019-04-24       11233   \n",
       "7123  2019-03-29       10824   \n",
       "\n",
       "                                             ReviewDesc ReviewerName  Rating  \\\n",
       "0     it was great experience i never had in my life...         vani       5   \n",
       "1     good work and good delivery. I gifted to my br...       sathya       5   \n",
       "2     The pillow was really soft and the quality was...     Priyanka       5   \n",
       "3                                             Very soft     Priyanka       4   \n",
       "4                                For 1 birth too cute!!        Mohin       4   \n",
       "...                                                 ...          ...     ...   \n",
       "7119  This little guy is so adorable.  The only issu...      manisha       4   \n",
       "7120  That was such a fun thing to do.\\n Really had ...     Priyanka       5   \n",
       "7121                                 superb delivery.\\n          jay       5   \n",
       "7122  The flowers are gorgeous. Thank you. They were...         vasu       5   \n",
       "7123  we felt happy. Teamwork and their timing are s...      gowtham       5   \n",
       "\n",
       "                                    product_name  Product_ids  \n",
       "0     Surprise Visit to Old Age Home – Bangalore        18178  \n",
       "1                       BTS Lemon Blueberry Cake         6168  \n",
       "2                                  Cuddle Pillow        17352  \n",
       "3                                 Saxophone Lamp        17333  \n",
       "4                     BTS Vanilla Chocolate Cake         5932  \n",
       "...                                          ...          ...  \n",
       "7119                  BTS Vanilla Chocolate Cake         5982  \n",
       "7120                              The Lazer Game        34145  \n",
       "7121                           BTS Romantic Love        15858  \n",
       "7122                      BTS Charming Red Roses        15873  \n",
       "7123                Rhodium Anniversary Surprise         4647  \n",
       "\n",
       "[7124 rows x 7 columns]"
      ]
     },
     "execution_count": 27,
     "metadata": {},
     "output_type": "execute_result"
    }
   ],
   "source": [
    "df"
   ]
  },
  {
   "cell_type": "code",
   "execution_count": 226,
   "id": "fc9ea54a",
   "metadata": {},
   "outputs": [
    {
     "data": {
      "text/plain": [
       "array([12237, 12504, 11656, 17284, 12736, 12200, 10566, 17218, 11509,\n",
       "       12375, 10567, 13441, 11908, 11904, 12637, 11658, 12259, 13186,\n",
       "       11652, 17220, 11906, 13004, 13374, 13272, 17219, 11511, 12901,\n",
       "       13064], dtype=int64)"
      ]
     },
     "execution_count": 226,
     "metadata": {},
     "output_type": "execute_result"
    }
   ],
   "source": [
    "df[df['Product_ids']==5]['Comment_id'].unique()"
   ]
  },
  {
   "cell_type": "code",
   "execution_count": 13,
   "id": "16ce0bf2",
   "metadata": {},
   "outputs": [
    {
     "data": {
      "text/plain": [
       "0.28"
      ]
     },
     "execution_count": 13,
     "metadata": {},
     "output_type": "execute_result"
    }
   ],
   "source": [
    "np.round(df['Comment_id'].nunique()/df['Comment_id'].shape[0],2)"
   ]
  },
  {
   "cell_type": "markdown",
   "id": "f44883d9",
   "metadata": {},
   "source": [
    "Only 28 percent are unique users other 72 % are recurrent users"
   ]
  },
  {
   "cell_type": "code",
   "execution_count": 61,
   "id": "5cc05bb4",
   "metadata": {},
   "outputs": [],
   "source": [
    "df.ReviewDate=pd.to_datetime(df.ReviewDate)"
   ]
  },
  {
   "cell_type": "code",
   "execution_count": 62,
   "id": "63b0057b",
   "metadata": {},
   "outputs": [],
   "source": [
    "df['year']=df.ReviewDate.dt.year\n",
    "df['month']=df.ReviewDate.dt.month\n",
    "df['day']=df.ReviewDate.dt.day"
   ]
  },
  {
   "cell_type": "code",
   "execution_count": 69,
   "id": "9ad6cd07",
   "metadata": {},
   "outputs": [
    {
     "data": {
      "image/png": "[encoded data removed]",
      "text/plain": [
       "<Figure size 432x360 with 1 Axes>"
      ]
     },
     "metadata": {
      "needs_background": "light"
     },
     "output_type": "display_data"
    }
   ],
   "source": [
    "plt.figure(figsize=(6,5))\n",
    "df.groupby('month')['Comment_id'].nunique().plot(kind='bar')\n",
    "plt.ylabel(\"No. of unique comments per month\")\n",
    "plt.savefig('monthlycomments.jpg')"
   ]
  },
  {
   "cell_type": "code",
   "execution_count": 68,
   "id": "fc6f14f9",
   "metadata": {},
   "outputs": [
    {
     "data": {
      "image/png": "[encoded data removed]",
      "text/plain": [
       "<Figure size 432x360 with 1 Axes>"
      ]
     },
     "metadata": {
      "needs_background": "light"
     },
     "output_type": "display_data"
    }
   ],
   "source": [
    "plt.figure(figsize=(6,5))\n",
    "df.groupby('year')['Comment_id'].nunique().plot(kind='bar')\n",
    "plt.ylabel(\"No. of unique comments per year\")\n",
    "plt.savefig('yearlycomments.jpg')"
   ]
  },
  {
   "cell_type": "code",
   "execution_count": 67,
   "id": "170b5337",
   "metadata": {
    "scrolled": true
   },
   "outputs": [
    {
     "name": "stderr",
     "output_type": "stream",
     "text": [
      "C:\\Users\\suhai\\anaconda3\\lib\\site-packages\\seaborn\\_decorators.py:36: FutureWarning: Pass the following variables as keyword args: x, y. From version 0.12, the only valid positional argument will be `data`, and passing other arguments without an explicit keyword will result in an error or misinterpretation.\n",
      "  warnings.warn(\n"
     ]
    },
    {
     "data": {
      "image/png": "[encoded data removed]",
      "text/plain": [
       "<Figure size 432x360 with 1 Axes>"
      ]
     },
     "metadata": {
      "needs_background": "light"
     },
     "output_type": "display_data"
    }
   ],
   "source": [
    "plt.figure(figsize=(6,5))\n",
    "sns.barplot(df.groupby('day')['Comment_id'].nunique().index,df.groupby('day')['Comment_id'].nunique().values)\n",
    "plt.xticks(rotation=90)\n",
    "plt.ylabel(\"No. of unique comments per day\")\n",
    "plt.savefig('dalycomments.jpg')"
   ]
  },
  {
   "cell_type": "code",
   "execution_count": 266,
   "id": "21b7b585",
   "metadata": {},
   "outputs": [
    {
     "data": {
      "text/plain": [
       "<AxesSubplot:xlabel='day'>"
      ]
     },
     "execution_count": 266,
     "metadata": {},
     "output_type": "execute_result"
    },
    {
     "data": {
      "image/png": "[encoded data removed]",
      "text/plain": [
       "<Figure size 432x288 with 1 Axes>"
      ]
     },
     "metadata": {
      "needs_background": "light"
     },
     "output_type": "display_data"
    }
   ],
   "source": [
    "df.groupby('day')['Comment_id'].nunique().plot(kind='bar')"
   ]
  },
  {
   "cell_type": "code",
   "execution_count": 4,
   "id": "8d93d16b",
   "metadata": {},
   "outputs": [
    {
     "ename": "NameError",
     "evalue": "name 'go' is not defined",
     "output_type": "error",
     "traceback": [
      "\u001b[1;31m---------------------------------------------------------------------------\u001b[0m",
      "\u001b[1;31mNameError\u001b[0m                                 Traceback (most recent call last)",
      "Input \u001b[1;32mIn [4]\u001b[0m, in \u001b[0;36m<module>\u001b[1;34m\u001b[0m\n\u001b[1;32m----> 1\u001b[0m fig\u001b[38;5;241m=\u001b[39m\u001b[43mgo\u001b[49m\u001b[38;5;241m.\u001b[39mFigure()\n\u001b[0;32m      2\u001b[0m fig\u001b[38;5;241m.\u001b[39madd_trace(go\u001b[38;5;241m.\u001b[39mBar(x\u001b[38;5;241m=\u001b[39mdf\u001b[38;5;241m.\u001b[39mgroupby(\u001b[38;5;124m'\u001b[39m\u001b[38;5;124myear\u001b[39m\u001b[38;5;124m'\u001b[39m)[\u001b[38;5;124m'\u001b[39m\u001b[38;5;124mRating\u001b[39m\u001b[38;5;124m'\u001b[39m]\u001b[38;5;241m.\u001b[39mmean()\u001b[38;5;241m.\u001b[39mindex,y\u001b[38;5;241m=\u001b[39mdf\u001b[38;5;241m.\u001b[39mgroupby(\u001b[38;5;124m'\u001b[39m\u001b[38;5;124myear\u001b[39m\u001b[38;5;124m'\u001b[39m)[\u001b[38;5;124m'\u001b[39m\u001b[38;5;124mRating\u001b[39m\u001b[38;5;124m'\u001b[39m]\u001b[38;5;241m.\u001b[39mmean()\u001b[38;5;241m.\u001b[39mvalues,name\u001b[38;5;241m=\u001b[39m\u001b[38;5;124m\"\u001b[39m\u001b[38;5;124mYearlyRatings\u001b[39m\u001b[38;5;124m\"\u001b[39m))\n\u001b[0;32m      3\u001b[0m fig\u001b[38;5;241m.\u001b[39mupdate_layout(legend_title_text \u001b[38;5;241m=\u001b[39m \u001b[38;5;124m\"\u001b[39m\u001b[38;5;124myear\u001b[39m\u001b[38;5;124m\"\u001b[39m)\n",
      "\u001b[1;31mNameError\u001b[0m: name 'go' is not defined"
     ]
    }
   ],
   "source": [
    "fig=go.Figure()\n",
    "fig.add_trace(go.Bar(x=df.groupby('year')['Rating'].mean().index,y=df.groupby('year')['Rating'].mean().values,name=\"YearlyRatings\"))\n",
    "fig.update_layout(legend_title_text = \"year\")\n",
    "fig.update_xaxes(title_text=\"Year\")\n",
    "fig.update_yaxes(title_text=\"Ratings\")"
   ]
  },
  {
   "cell_type": "code",
   "execution_count": 82,
   "id": "4064a4b8",
   "metadata": {},
   "outputs": [
    {
     "data": {
      "text/html": [
       "<div>\n",
       "<style scoped>\n",
       "    .dataframe tbody tr th:only-of-type {\n",
       "        vertical-align: middle;\n",
       "    }\n",
       "\n",
       "    .dataframe tbody tr th {\n",
       "        vertical-align: top;\n",
       "    }\n",
       "\n",
       "    .dataframe thead th {\n",
       "        text-align: right;\n",
       "    }\n",
       "</style>\n",
       "<table border=\"1\" class=\"dataframe\">\n",
       "  <thead>\n",
       "    <tr style=\"text-align: right;\">\n",
       "      <th></th>\n",
       "      <th>ReviewDate</th>\n",
       "      <th>Comment_id</th>\n",
       "      <th>ReviewDesc</th>\n",
       "      <th>ReviewerName</th>\n",
       "      <th>Rating</th>\n",
       "      <th>product_name</th>\n",
       "      <th>Product_ids</th>\n",
       "      <th>year</th>\n",
       "      <th>month</th>\n",
       "      <th>day</th>\n",
       "    </tr>\n",
       "  </thead>\n",
       "  <tbody>\n",
       "    <tr>\n",
       "      <th>0</th>\n",
       "      <td>2019-04-10</td>\n",
       "      <td>10980</td>\n",
       "      <td>it was great experience i never had in my life...</td>\n",
       "      <td>vani</td>\n",
       "      <td>5</td>\n",
       "      <td>Surprise Visit to Old Age Home – Bangalore</td>\n",
       "      <td>18178</td>\n",
       "      <td>2019</td>\n",
       "      <td>4</td>\n",
       "      <td>10</td>\n",
       "    </tr>\n",
       "    <tr>\n",
       "      <th>1</th>\n",
       "      <td>2019-03-27</td>\n",
       "      <td>10795</td>\n",
       "      <td>good work and good delivery. I gifted to my br...</td>\n",
       "      <td>sathya</td>\n",
       "      <td>5</td>\n",
       "      <td>BTS Lemon Blueberry Cake</td>\n",
       "      <td>6168</td>\n",
       "      <td>2019</td>\n",
       "      <td>3</td>\n",
       "      <td>27</td>\n",
       "    </tr>\n",
       "    <tr>\n",
       "      <th>2</th>\n",
       "      <td>2019-11-27</td>\n",
       "      <td>17706</td>\n",
       "      <td>The pillow was really soft and the quality was...</td>\n",
       "      <td>Priyanka</td>\n",
       "      <td>5</td>\n",
       "      <td>Cuddle Pillow</td>\n",
       "      <td>17352</td>\n",
       "      <td>2019</td>\n",
       "      <td>11</td>\n",
       "      <td>27</td>\n",
       "    </tr>\n",
       "    <tr>\n",
       "      <th>3</th>\n",
       "      <td>2019-11-27</td>\n",
       "      <td>17831</td>\n",
       "      <td>Very soft</td>\n",
       "      <td>Priyanka</td>\n",
       "      <td>4</td>\n",
       "      <td>Saxophone Lamp</td>\n",
       "      <td>17333</td>\n",
       "      <td>2019</td>\n",
       "      <td>11</td>\n",
       "      <td>27</td>\n",
       "    </tr>\n",
       "    <tr>\n",
       "      <th>4</th>\n",
       "      <td>2018-12-21</td>\n",
       "      <td>10194</td>\n",
       "      <td>For 1 birth too cute!!</td>\n",
       "      <td>Mohin</td>\n",
       "      <td>4</td>\n",
       "      <td>BTS Vanilla Chocolate Cake</td>\n",
       "      <td>5932</td>\n",
       "      <td>2018</td>\n",
       "      <td>12</td>\n",
       "      <td>21</td>\n",
       "    </tr>\n",
       "    <tr>\n",
       "      <th>...</th>\n",
       "      <td>...</td>\n",
       "      <td>...</td>\n",
       "      <td>...</td>\n",
       "      <td>...</td>\n",
       "      <td>...</td>\n",
       "      <td>...</td>\n",
       "      <td>...</td>\n",
       "      <td>...</td>\n",
       "      <td>...</td>\n",
       "      <td>...</td>\n",
       "    </tr>\n",
       "    <tr>\n",
       "      <th>7119</th>\n",
       "      <td>2019-07-02</td>\n",
       "      <td>13467</td>\n",
       "      <td>This little guy is so adorable.  The only issu...</td>\n",
       "      <td>manisha</td>\n",
       "      <td>4</td>\n",
       "      <td>BTS Vanilla Chocolate Cake</td>\n",
       "      <td>5982</td>\n",
       "      <td>2019</td>\n",
       "      <td>7</td>\n",
       "      <td>2</td>\n",
       "    </tr>\n",
       "    <tr>\n",
       "      <th>7120</th>\n",
       "      <td>2019-11-26</td>\n",
       "      <td>17382</td>\n",
       "      <td>That was such a fun thing to do.\\n Really had ...</td>\n",
       "      <td>Priyanka</td>\n",
       "      <td>5</td>\n",
       "      <td>The Lazer Game</td>\n",
       "      <td>34145</td>\n",
       "      <td>2019</td>\n",
       "      <td>11</td>\n",
       "      <td>26</td>\n",
       "    </tr>\n",
       "    <tr>\n",
       "      <th>7121</th>\n",
       "      <td>2019-04-26</td>\n",
       "      <td>11378</td>\n",
       "      <td>superb delivery.\\n</td>\n",
       "      <td>jay</td>\n",
       "      <td>5</td>\n",
       "      <td>BTS Romantic Love</td>\n",
       "      <td>15858</td>\n",
       "      <td>2019</td>\n",
       "      <td>4</td>\n",
       "      <td>26</td>\n",
       "    </tr>\n",
       "    <tr>\n",
       "      <th>7122</th>\n",
       "      <td>2019-04-24</td>\n",
       "      <td>11233</td>\n",
       "      <td>The flowers are gorgeous. Thank you. They were...</td>\n",
       "      <td>vasu</td>\n",
       "      <td>5</td>\n",
       "      <td>BTS Charming Red Roses</td>\n",
       "      <td>15873</td>\n",
       "      <td>2019</td>\n",
       "      <td>4</td>\n",
       "      <td>24</td>\n",
       "    </tr>\n",
       "    <tr>\n",
       "      <th>7123</th>\n",
       "      <td>2019-03-29</td>\n",
       "      <td>10824</td>\n",
       "      <td>we felt happy. Teamwork and their timing are s...</td>\n",
       "      <td>gowtham</td>\n",
       "      <td>5</td>\n",
       "      <td>Rhodium Anniversary Surprise</td>\n",
       "      <td>4647</td>\n",
       "      <td>2019</td>\n",
       "      <td>3</td>\n",
       "      <td>29</td>\n",
       "    </tr>\n",
       "  </tbody>\n",
       "</table>\n",
       "<p>7124 rows × 10 columns</p>\n",
       "</div>"
      ],
      "text/plain": [
       "     ReviewDate  Comment_id  \\\n",
       "0    2019-04-10       10980   \n",
       "1    2019-03-27       10795   \n",
       "2    2019-11-27       17706   \n",
       "3    2019-11-27       17831   \n",
       "4    2018-12-21       10194   \n",
       "...         ...         ...   \n",
       "7119 2019-07-02       13467   \n",
       "7120 2019-11-26       17382   \n",
       "7121 2019-04-26       11378   \n",
       "7122 2019-04-24       11233   \n",
       "7123 2019-03-29       10824   \n",
       "\n",
       "                                             ReviewDesc ReviewerName  Rating  \\\n",
       "0     it was great experience i never had in my life...         vani       5   \n",
       "1     good work and good delivery. I gifted to my br...       sathya       5   \n",
       "2     The pillow was really soft and the quality was...     Priyanka       5   \n",
       "3                                             Very soft     Priyanka       4   \n",
       "4                                For 1 birth too cute!!        Mohin       4   \n",
       "...                                                 ...          ...     ...   \n",
       "7119  This little guy is so adorable.  The only issu...      manisha       4   \n",
       "7120  That was such a fun thing to do.\\n Really had ...     Priyanka       5   \n",
       "7121                                 superb delivery.\\n          jay       5   \n",
       "7122  The flowers are gorgeous. Thank you. They were...         vasu       5   \n",
       "7123  we felt happy. Teamwork and their timing are s...      gowtham       5   \n",
       "\n",
       "                                    product_name  Product_ids  year  month  \\\n",
       "0     Surprise Visit to Old Age Home – Bangalore        18178  2019      4   \n",
       "1                       BTS Lemon Blueberry Cake         6168  2019      3   \n",
       "2                                  Cuddle Pillow        17352  2019     11   \n",
       "3                                 Saxophone Lamp        17333  2019     11   \n",
       "4                     BTS Vanilla Chocolate Cake         5932  2018     12   \n",
       "...                                          ...          ...   ...    ...   \n",
       "7119                  BTS Vanilla Chocolate Cake         5982  2019      7   \n",
       "7120                              The Lazer Game        34145  2019     11   \n",
       "7121                           BTS Romantic Love        15858  2019      4   \n",
       "7122                      BTS Charming Red Roses        15873  2019      4   \n",
       "7123                Rhodium Anniversary Surprise         4647  2019      3   \n",
       "\n",
       "      day  \n",
       "0      10  \n",
       "1      27  \n",
       "2      27  \n",
       "3      27  \n",
       "4      21  \n",
       "...   ...  \n",
       "7119    2  \n",
       "7120   26  \n",
       "7121   26  \n",
       "7122   24  \n",
       "7123   29  \n",
       "\n",
       "[7124 rows x 10 columns]"
      ]
     },
     "execution_count": 82,
     "metadata": {},
     "output_type": "execute_result"
    }
   ],
   "source": [
    "df"
   ]
  },
  {
   "cell_type": "code",
   "execution_count": 71,
   "id": "f4e97a8e",
   "metadata": {},
   "outputs": [],
   "source": [
    "fig=go.Figure()\n",
    "fig.add_trace(go.Bar(x=df.groupby('month')['Rating'].mean().index,y=df.groupby('month')['Rating'].mean().values,name=\"MonthlyRatings\"))\n",
    "fig.update_xaxes(title_text=\"Month\")\n",
    "fig.update_yaxes(title_text=\"Avg. monthly ratings\")\n",
    "fig.write_image('rateMonth.jpg')"
   ]
  },
  {
   "cell_type": "code",
   "execution_count": 76,
   "id": "fc76bada",
   "metadata": {},
   "outputs": [
    {
     "data": {
      "application/vnd.plotly.v1+json": {
       "config": {
        "plotlyServerURL": "https://plot.ly"
       },
       "data": [
        {
         "name": "DailyRatings",
         "type": "bar",
         "x": [
          1,
          2,
          3,
          4,
          5,
          6,
          7,
          8,
          9,
          10,
          11,
          12,
          13,
          14,
          15,
          16,
          17,
          18,
          19,
          20,
          21,
          22,
          23,
          24,
          25,
          26,
          27,
          28,
          29,
          30,
          31
         ],
         "y": [
          4.369747899159663,
          4.448979591836735,
          4.323529411764706,
          4.678571428571429,
          4.551724137931035,
          4.5,
          4.463235294117647,
          4.418181818181818,
          4.323943661971831,
          4.356394129979035,
          4.395577395577396,
          4.305164319248826,
          4.449720670391062,
          4.440993788819876,
          4.439024390243903,
          4.075,
          4.287081339712919,
          4.368811881188119,
          4.43010752688172,
          4.409090909090909,
          4.210843373493976,
          4.395577395577396,
          4.444444444444445,
          4.376681614349776,
          4.338028169014085,
          4.45679012345679,
          4.393850658857979,
          4.370689655172414,
          4.273972602739726,
          4.382978723404255,
          4.251428571428572
         ]
        }
       ],
       "layout": {
        "legend": {
         "title": {
          "text": "day"
         }
        },
        "template": {
         "data": {
          "bar": [
           {
            "error_x": {
             "color": "#2a3f5f"
            },
            "error_y": {
             "color": "#2a3f5f"
            },
            "marker": {
             "line": {
              "color": "#E5ECF6",
              "width": 0.5
             },
             "pattern": {
              "fillmode": "overlay",
              "size": 10,
              "solidity": 0.2
             }
            },
            "type": "bar"
           }
          ],
          "barpolar": [
           {
            "marker": {
             "line": {
              "color": "#E5ECF6",
              "width": 0.5
             },
             "pattern": {
              "fillmode": "overlay",
              "size": 10,
              "solidity": 0.2
             }
            },
            "type": "barpolar"
           }
          ],
          "carpet": [
           {
            "aaxis": {
             "endlinecolor": "#2a3f5f",
             "gridcolor": "white",
             "linecolor": "white",
             "minorgridcolor": "white",
             "startlinecolor": "#2a3f5f"
            },
            "baxis": {
             "endlinecolor": "#2a3f5f",
             "gridcolor": "white",
             "linecolor": "white",
             "minorgridcolor": "white",
             "startlinecolor": "#2a3f5f"
            },
            "type": "carpet"
           }
          ],
          "choropleth": [
           {
            "colorbar": {
             "outlinewidth": 0,
             "ticks": ""
            },
            "type": "choropleth"
           }
          ],
          "contour": [
           {
            "colorbar": {
             "outlinewidth": 0,
             "ticks": ""
            },
            "colorscale": [
             [
              0,
              "#0d0887"
             ],
             [
              0.1111111111111111,
              "#46039f"
             ],
             [
              0.2222222222222222,
              "#7201a8"
             ],
             [
              0.3333333333333333,
              "#9c179e"
             ],
             [
              0.4444444444444444,
              "#bd3786"
             ],
             [
              0.5555555555555556,
              "#d8576b"
             ],
             [
              0.6666666666666666,
              "#ed7953"
             ],
             [
              0.7777777777777778,
              "#fb9f3a"
             ],
             [
              0.8888888888888888,
              "#fdca26"
             ],
             [
              1,
              "#f0f921"
             ]
            ],
            "type": "contour"
           }
          ],
          "contourcarpet": [
           {
            "colorbar": {
             "outlinewidth": 0,
             "ticks": ""
            },
            "type": "contourcarpet"
           }
          ],
          "heatmap": [
           {
            "colorbar": {
             "outlinewidth": 0,
             "ticks": ""
            },
            "colorscale": [
             [
              0,
              "#0d0887"
             ],
             [
              0.1111111111111111,
              "#46039f"
             ],
             [
              0.2222222222222222,
              "#7201a8"
             ],
             [
              0.3333333333333333,
              "#9c179e"
             ],
             [
              0.4444444444444444,
              "#bd3786"
             ],
             [
              0.5555555555555556,
              "#d8576b"
             ],
             [
              0.6666666666666666,
              "#ed7953"
             ],
             [
              0.7777777777777778,
              "#fb9f3a"
             ],
             [
              0.8888888888888888,
              "#fdca26"
             ],
             [
              1,
              "#f0f921"
             ]
            ],
            "type": "heatmap"
           }
          ],
          "heatmapgl": [
           {
            "colorbar": {
             "outlinewidth": 0,
             "ticks": ""
            },
            "colorscale": [
             [
              0,
              "#0d0887"
             ],
             [
              0.1111111111111111,
              "#46039f"
             ],
             [
              0.2222222222222222,
              "#7201a8"
             ],
             [
              0.3333333333333333,
              "#9c179e"
             ],
             [
              0.4444444444444444,
              "#bd3786"
             ],
             [
              0.5555555555555556,
              "#d8576b"
             ],
             [
              0.6666666666666666,
              "#ed7953"
             ],
             [
              0.7777777777777778,
              "#fb9f3a"
             ],
             [
              0.8888888888888888,
              "#fdca26"
             ],
             [
              1,
              "#f0f921"
             ]
            ],
            "type": "heatmapgl"
           }
          ],
          "histogram": [
           {
            "marker": {
             "pattern": {
              "fillmode": "overlay",
              "size": 10,
              "solidity": 0.2
             }
            },
            "type": "histogram"
           }
          ],
          "histogram2d": [
           {
            "colorbar": {
             "outlinewidth": 0,
             "ticks": ""
            },
            "colorscale": [
             [
              0,
              "#0d0887"
             ],
             [
              0.1111111111111111,
              "#46039f"
             ],
             [
              0.2222222222222222,
              "#7201a8"
             ],
             [
              0.3333333333333333,
              "#9c179e"
             ],
             [
              0.4444444444444444,
              "#bd3786"
             ],
             [
              0.5555555555555556,
              "#d8576b"
             ],
             [
              0.6666666666666666,
              "#ed7953"
             ],
             [
              0.7777777777777778,
              "#fb9f3a"
             ],
             [
              0.8888888888888888,
              "#fdca26"
             ],
             [
              1,
              "#f0f921"
             ]
            ],
            "type": "histogram2d"
           }
          ],
          "histogram2dcontour": [
           {
            "colorbar": {
             "outlinewidth": 0,
             "ticks": ""
            },
            "colorscale": [
             [
              0,
              "#0d0887"
             ],
             [
              0.1111111111111111,
              "#46039f"
             ],
             [
              0.2222222222222222,
              "#7201a8"
             ],
             [
              0.3333333333333333,
              "#9c179e"
             ],
             [
              0.4444444444444444,
              "#bd3786"
             ],
             [
              0.5555555555555556,
              "#d8576b"
             ],
             [
              0.6666666666666666,
              "#ed7953"
             ],
             [
              0.7777777777777778,
              "#fb9f3a"
             ],
             [
              0.8888888888888888,
              "#fdca26"
             ],
             [
              1,
              "#f0f921"
             ]
            ],
            "type": "histogram2dcontour"
           }
          ],
          "mesh3d": [
           {
            "colorbar": {
             "outlinewidth": 0,
             "ticks": ""
            },
            "type": "mesh3d"
           }
          ],
          "parcoords": [
           {
            "line": {
             "colorbar": {
              "outlinewidth": 0,
              "ticks": ""
             }
            },
            "type": "parcoords"
           }
          ],
          "pie": [
           {
            "automargin": true,
            "type": "pie"
           }
          ],
          "scatter": [
           {
            "marker": {
             "colorbar": {
              "outlinewidth": 0,
              "ticks": ""
             }
            },
            "type": "scatter"
           }
          ],
          "scatter3d": [
           {
            "line": {
             "colorbar": {
              "outlinewidth": 0,
              "ticks": ""
             }
            },
            "marker": {
             "colorbar": {
              "outlinewidth": 0,
              "ticks": ""
             }
            },
            "type": "scatter3d"
           }
          ],
          "scattercarpet": [
           {
            "marker": {
             "colorbar": {
              "outlinewidth": 0,
              "ticks": ""
             }
            },
            "type": "scattercarpet"
           }
          ],
          "scattergeo": [
           {
            "marker": {
             "colorbar": {
              "outlinewidth": 0,
              "ticks": ""
             }
            },
            "type": "scattergeo"
           }
          ],
          "scattergl": [
           {
            "marker": {
             "colorbar": {
              "outlinewidth": 0,
              "ticks": ""
             }
            },
            "type": "scattergl"
           }
          ],
          "scattermapbox": [
           {
            "marker": {
             "colorbar": {
              "outlinewidth": 0,
              "ticks": ""
             }
            },
            "type": "scattermapbox"
           }
          ],
          "scatterpolar": [
           {
            "marker": {
             "colorbar": {
              "outlinewidth": 0,
              "ticks": ""
             }
            },
            "type": "scatterpolar"
           }
          ],
          "scatterpolargl": [
           {
            "marker": {
             "colorbar": {
              "outlinewidth": 0,
              "ticks": ""
             }
            },
            "type": "scatterpolargl"
           }
          ],
          "scatterternary": [
           {
            "marker": {
             "colorbar": {
              "outlinewidth": 0,
              "ticks": ""
             }
            },
            "type": "scatterternary"
           }
          ],
          "surface": [
           {
            "colorbar": {
             "outlinewidth": 0,
             "ticks": ""
            },
            "colorscale": [
             [
              0,
              "#0d0887"
             ],
             [
              0.1111111111111111,
              "#46039f"
             ],
             [
              0.2222222222222222,
              "#7201a8"
             ],
             [
              0.3333333333333333,
              "#9c179e"
             ],
             [
              0.4444444444444444,
              "#bd3786"
             ],
             [
              0.5555555555555556,
              "#d8576b"
             ],
             [
              0.6666666666666666,
              "#ed7953"
             ],
             [
              0.7777777777777778,
              "#fb9f3a"
             ],
             [
              0.8888888888888888,
              "#fdca26"
             ],
             [
              1,
              "#f0f921"
             ]
            ],
            "type": "surface"
           }
          ],
          "table": [
           {
            "cells": {
             "fill": {
              "color": "#EBF0F8"
             },
             "line": {
              "color": "white"
             }
            },
            "header": {
             "fill": {
              "color": "#C8D4E3"
             },
             "line": {
              "color": "white"
             }
            },
            "type": "table"
           }
          ]
         },
         "layout": {
          "annotationdefaults": {
           "arrowcolor": "#2a3f5f",
           "arrowhead": 0,
           "arrowwidth": 1
          },
          "autotypenumbers": "strict",
          "coloraxis": {
           "colorbar": {
            "outlinewidth": 0,
            "ticks": ""
           }
          },
          "colorscale": {
           "diverging": [
            [
             0,
             "#8e0152"
            ],
            [
             0.1,
             "#c51b7d"
            ],
            [
             0.2,
             "#de77ae"
            ],
            [
             0.3,
             "#f1b6da"
            ],
            [
             0.4,
             "#fde0ef"
            ],
            [
             0.5,
             "#f7f7f7"
            ],
            [
             0.6,
             "#e6f5d0"
            ],
            [
             0.7,
             "#b8e186"
            ],
            [
             0.8,
             "#7fbc41"
            ],
            [
             0.9,
             "#4d9221"
            ],
            [
             1,
             "#276419"
            ]
           ],
           "sequential": [
            [
             0,
             "#0d0887"
            ],
            [
             0.1111111111111111,
             "#46039f"
            ],
            [
             0.2222222222222222,
             "#7201a8"
            ],
            [
             0.3333333333333333,
             "#9c179e"
            ],
            [
             0.4444444444444444,
             "#bd3786"
            ],
            [
             0.5555555555555556,
             "#d8576b"
            ],
            [
             0.6666666666666666,
             "#ed7953"
            ],
            [
             0.7777777777777778,
             "#fb9f3a"
            ],
            [
             0.8888888888888888,
             "#fdca26"
            ],
            [
             1,
             "#f0f921"
            ]
           ],
           "sequentialminus": [
            [
             0,
             "#0d0887"
            ],
            [
             0.1111111111111111,
             "#46039f"
            ],
            [
             0.2222222222222222,
             "#7201a8"
            ],
            [
             0.3333333333333333,
             "#9c179e"
            ],
            [
             0.4444444444444444,
             "#bd3786"
            ],
            [
             0.5555555555555556,
             "#d8576b"
            ],
            [
             0.6666666666666666,
             "#ed7953"
            ],
            [
             0.7777777777777778,
             "#fb9f3a"
            ],
            [
             0.8888888888888888,
             "#fdca26"
            ],
            [
             1,
             "#f0f921"
            ]
           ]
          },
          "colorway": [
           "#636efa",
           "#EF553B",
           "#00cc96",
           "#ab63fa",
           "#FFA15A",
           "#19d3f3",
           "#FF6692",
           "#B6E880",
           "#FF97FF",
           "#FECB52"
          ],
          "font": {
           "color": "#2a3f5f"
          },
          "geo": {
           "bgcolor": "white",
           "lakecolor": "white",
           "landcolor": "#E5ECF6",
           "showlakes": true,
           "showland": true,
           "subunitcolor": "white"
          },
          "hoverlabel": {
           "align": "left"
          },
          "hovermode": "closest",
          "mapbox": {
           "style": "light"
          },
          "paper_bgcolor": "white",
          "plot_bgcolor": "#E5ECF6",
          "polar": {
           "angularaxis": {
            "gridcolor": "white",
            "linecolor": "white",
            "ticks": ""
           },
           "bgcolor": "#E5ECF6",
           "radialaxis": {
            "gridcolor": "white",
            "linecolor": "white",
            "ticks": ""
           }
          },
          "scene": {
           "xaxis": {
            "backgroundcolor": "#E5ECF6",
            "gridcolor": "white",
            "gridwidth": 2,
            "linecolor": "white",
            "showbackground": true,
            "ticks": "",
            "zerolinecolor": "white"
           },
           "yaxis": {
            "backgroundcolor": "#E5ECF6",
            "gridcolor": "white",
            "gridwidth": 2,
            "linecolor": "white",
            "showbackground": true,
            "ticks": "",
            "zerolinecolor": "white"
           },
           "zaxis": {
            "backgroundcolor": "#E5ECF6",
            "gridcolor": "white",
            "gridwidth": 2,
            "linecolor": "white",
            "showbackground": true,
            "ticks": "",
            "zerolinecolor": "white"
           }
          },
          "shapedefaults": {
           "line": {
            "color": "#2a3f5f"
           }
          },
          "ternary": {
           "aaxis": {
            "gridcolor": "white",
            "linecolor": "white",
            "ticks": ""
           },
           "baxis": {
            "gridcolor": "white",
            "linecolor": "white",
            "ticks": ""
           },
           "bgcolor": "#E5ECF6",
           "caxis": {
            "gridcolor": "white",
            "linecolor": "white",
            "ticks": ""
           }
          },
          "title": {
           "x": 0.05
          },
          "xaxis": {
           "automargin": true,
           "gridcolor": "white",
           "linecolor": "white",
           "ticks": "",
           "title": {
            "standoff": 15
           },
           "zerolinecolor": "white",
           "zerolinewidth": 2
          },
          "yaxis": {
           "automargin": true,
           "gridcolor": "white",
           "linecolor": "white",
           "ticks": "",
           "title": {
            "standoff": 15
           },
           "zerolinecolor": "white",
           "zerolinewidth": 2
          }
         }
        },
        "xaxis": {
         "title": {
          "text": "Day"
         }
        },
        "yaxis": {
         "title": {
          "text": "Ratings"
         }
        }
       }
      },
      "text/html": [
       "<div>                            <div id=\"320b9ea5-2073-41e2-a893-ca0d28bf85c9\" class=\"plotly-graph-div\" style=\"height:525px; width:100%;\"></div>            <script type=\"text/javascript\">                require([\"plotly\"], function(Plotly) {                    window.PLOTLYENV=window.PLOTLYENV || {};                                    if (document.getElementById(\"320b9ea5-2073-41e2-a893-ca0d28bf85c9\")) {                    Plotly.newPlot(                        \"320b9ea5-2073-41e2-a893-ca0d28bf85c9\",                        [{\"name\":\"DailyRatings\",\"x\":[1,2,3,4,5,6,7,8,9,10,11,12,13,14,15,16,17,18,19,20,21,22,23,24,25,26,27,28,29,30,31],\"y\":[4.369747899159663,4.448979591836735,4.323529411764706,4.678571428571429,4.551724137931035,4.5,4.463235294117647,4.418181818181818,4.323943661971831,4.356394129979035,4.395577395577396,4.305164319248826,4.449720670391062,4.440993788819876,4.439024390243903,4.075,4.287081339712919,4.368811881188119,4.43010752688172,4.409090909090909,4.210843373493976,4.395577395577396,4.444444444444445,4.376681614349776,4.338028169014085,4.45679012345679,4.393850658857979,4.370689655172414,4.273972602739726,4.382978723404255,4.251428571428572],\"type\":\"bar\"}],                        {\"template\":{\"data\":{\"bar\":[{\"error_x\":{\"color\":\"#2a3f5f\"},\"error_y\":{\"color\":\"#2a3f5f\"},\"marker\":{\"line\":{\"color\":\"#E5ECF6\",\"width\":0.5},\"pattern\":{\"fillmode\":\"overlay\",\"size\":10,\"solidity\":0.2}},\"type\":\"bar\"}],\"barpolar\":[{\"marker\":{\"line\":{\"color\":\"#E5ECF6\",\"width\":0.5},\"pattern\":{\"fillmode\":\"overlay\",\"size\":10,\"solidity\":0.2}},\"type\":\"barpolar\"}],\"carpet\":[{\"aaxis\":{\"endlinecolor\":\"#2a3f5f\",\"gridcolor\":\"white\",\"linecolor\":\"white\",\"minorgridcolor\":\"white\",\"startlinecolor\":\"#2a3f5f\"},\"baxis\":{\"endlinecolor\":\"#2a3f5f\",\"gridcolor\":\"white\",\"linecolor\":\"white\",\"minorgridcolor\":\"white\",\"startlinecolor\":\"#2a3f5f\"},\"type\":\"carpet\"}],\"choropleth\":[{\"colorbar\":{\"outlinewidth\":0,\"ticks\":\"\"},\"type\":\"choropleth\"}],\"contour\":[{\"colorbar\":{\"outlinewidth\":0,\"ticks\":\"\"},\"colorscale\":[[0.0,\"#0d0887\"],[0.1111111111111111,\"#46039f\"],[0.2222222222222222,\"#7201a8\"],[0.3333333333333333,\"#9c179e\"],[0.4444444444444444,\"#bd3786\"],[0.5555555555555556,\"#d8576b\"],[0.6666666666666666,\"#ed7953\"],[0.7777777777777778,\"#fb9f3a\"],[0.8888888888888888,\"#fdca26\"],[1.0,\"#f0f921\"]],\"type\":\"contour\"}],\"contourcarpet\":[{\"colorbar\":{\"outlinewidth\":0,\"ticks\":\"\"},\"type\":\"contourcarpet\"}],\"heatmap\":[{\"colorbar\":{\"outlinewidth\":0,\"ticks\":\"\"},\"colorscale\":[[0.0,\"#0d0887\"],[0.1111111111111111,\"#46039f\"],[0.2222222222222222,\"#7201a8\"],[0.3333333333333333,\"#9c179e\"],[0.4444444444444444,\"#bd3786\"],[0.5555555555555556,\"#d8576b\"],[0.6666666666666666,\"#ed7953\"],[0.7777777777777778,\"#fb9f3a\"],[0.8888888888888888,\"#fdca26\"],[1.0,\"#f0f921\"]],\"type\":\"heatmap\"}],\"heatmapgl\":[{\"colorbar\":{\"outlinewidth\":0,\"ticks\":\"\"},\"colorscale\":[[0.0,\"#0d0887\"],[0.1111111111111111,\"#46039f\"],[0.2222222222222222,\"#7201a8\"],[0.3333333333333333,\"#9c179e\"],[0.4444444444444444,\"#bd3786\"],[0.5555555555555556,\"#d8576b\"],[0.6666666666666666,\"#ed7953\"],[0.7777777777777778,\"#fb9f3a\"],[0.8888888888888888,\"#fdca26\"],[1.0,\"#f0f921\"]],\"type\":\"heatmapgl\"}],\"histogram\":[{\"marker\":{\"pattern\":{\"fillmode\":\"overlay\",\"size\":10,\"solidity\":0.2}},\"type\":\"histogram\"}],\"histogram2d\":[{\"colorbar\":{\"outlinewidth\":0,\"ticks\":\"\"},\"colorscale\":[[0.0,\"#0d0887\"],[0.1111111111111111,\"#46039f\"],[0.2222222222222222,\"#7201a8\"],[0.3333333333333333,\"#9c179e\"],[0.4444444444444444,\"#bd3786\"],[0.5555555555555556,\"#d8576b\"],[0.6666666666666666,\"#ed7953\"],[0.7777777777777778,\"#fb9f3a\"],[0.8888888888888888,\"#fdca26\"],[1.0,\"#f0f921\"]],\"type\":\"histogram2d\"}],\"histogram2dcontour\":[{\"colorbar\":{\"outlinewidth\":0,\"ticks\":\"\"},\"colorscale\":[[0.0,\"#0d0887\"],[0.1111111111111111,\"#46039f\"],[0.2222222222222222,\"#7201a8\"],[0.3333333333333333,\"#9c179e\"],[0.4444444444444444,\"#bd3786\"],[0.5555555555555556,\"#d8576b\"],[0.6666666666666666,\"#ed7953\"],[0.7777777777777778,\"#fb9f3a\"],[0.8888888888888888,\"#fdca26\"],[1.0,\"#f0f921\"]],\"type\":\"histogram2dcontour\"}],\"mesh3d\":[{\"colorbar\":{\"outlinewidth\":0,\"ticks\":\"\"},\"type\":\"mesh3d\"}],\"parcoords\":[{\"line\":{\"colorbar\":{\"outlinewidth\":0,\"ticks\":\"\"}},\"type\":\"parcoords\"}],\"pie\":[{\"automargin\":true,\"type\":\"pie\"}],\"scatter\":[{\"marker\":{\"colorbar\":{\"outlinewidth\":0,\"ticks\":\"\"}},\"type\":\"scatter\"}],\"scatter3d\":[{\"line\":{\"colorbar\":{\"outlinewidth\":0,\"ticks\":\"\"}},\"marker\":{\"colorbar\":{\"outlinewidth\":0,\"ticks\":\"\"}},\"type\":\"scatter3d\"}],\"scattercarpet\":[{\"marker\":{\"colorbar\":{\"outlinewidth\":0,\"ticks\":\"\"}},\"type\":\"scattercarpet\"}],\"scattergeo\":[{\"marker\":{\"colorbar\":{\"outlinewidth\":0,\"ticks\":\"\"}},\"type\":\"scattergeo\"}],\"scattergl\":[{\"marker\":{\"colorbar\":{\"outlinewidth\":0,\"ticks\":\"\"}},\"type\":\"scattergl\"}],\"scattermapbox\":[{\"marker\":{\"colorbar\":{\"outlinewidth\":0,\"ticks\":\"\"}},\"type\":\"scattermapbox\"}],\"scatterpolar\":[{\"marker\":{\"colorbar\":{\"outlinewidth\":0,\"ticks\":\"\"}},\"type\":\"scatterpolar\"}],\"scatterpolargl\":[{\"marker\":{\"colorbar\":{\"outlinewidth\":0,\"ticks\":\"\"}},\"type\":\"scatterpolargl\"}],\"scatterternary\":[{\"marker\":{\"colorbar\":{\"outlinewidth\":0,\"ticks\":\"\"}},\"type\":\"scatterternary\"}],\"surface\":[{\"colorbar\":{\"outlinewidth\":0,\"ticks\":\"\"},\"colorscale\":[[0.0,\"#0d0887\"],[0.1111111111111111,\"#46039f\"],[0.2222222222222222,\"#7201a8\"],[0.3333333333333333,\"#9c179e\"],[0.4444444444444444,\"#bd3786\"],[0.5555555555555556,\"#d8576b\"],[0.6666666666666666,\"#ed7953\"],[0.7777777777777778,\"#fb9f3a\"],[0.8888888888888888,\"#fdca26\"],[1.0,\"#f0f921\"]],\"type\":\"surface\"}],\"table\":[{\"cells\":{\"fill\":{\"color\":\"#EBF0F8\"},\"line\":{\"color\":\"white\"}},\"header\":{\"fill\":{\"color\":\"#C8D4E3\"},\"line\":{\"color\":\"white\"}},\"type\":\"table\"}]},\"layout\":{\"annotationdefaults\":{\"arrowcolor\":\"#2a3f5f\",\"arrowhead\":0,\"arrowwidth\":1},\"autotypenumbers\":\"strict\",\"coloraxis\":{\"colorbar\":{\"outlinewidth\":0,\"ticks\":\"\"}},\"colorscale\":{\"diverging\":[[0,\"#8e0152\"],[0.1,\"#c51b7d\"],[0.2,\"#de77ae\"],[0.3,\"#f1b6da\"],[0.4,\"#fde0ef\"],[0.5,\"#f7f7f7\"],[0.6,\"#e6f5d0\"],[0.7,\"#b8e186\"],[0.8,\"#7fbc41\"],[0.9,\"#4d9221\"],[1,\"#276419\"]],\"sequential\":[[0.0,\"#0d0887\"],[0.1111111111111111,\"#46039f\"],[0.2222222222222222,\"#7201a8\"],[0.3333333333333333,\"#9c179e\"],[0.4444444444444444,\"#bd3786\"],[0.5555555555555556,\"#d8576b\"],[0.6666666666666666,\"#ed7953\"],[0.7777777777777778,\"#fb9f3a\"],[0.8888888888888888,\"#fdca26\"],[1.0,\"#f0f921\"]],\"sequentialminus\":[[0.0,\"#0d0887\"],[0.1111111111111111,\"#46039f\"],[0.2222222222222222,\"#7201a8\"],[0.3333333333333333,\"#9c179e\"],[0.4444444444444444,\"#bd3786\"],[0.5555555555555556,\"#d8576b\"],[0.6666666666666666,\"#ed7953\"],[0.7777777777777778,\"#fb9f3a\"],[0.8888888888888888,\"#fdca26\"],[1.0,\"#f0f921\"]]},\"colorway\":[\"#636efa\",\"#EF553B\",\"#00cc96\",\"#ab63fa\",\"#FFA15A\",\"#19d3f3\",\"#FF6692\",\"#B6E880\",\"#FF97FF\",\"#FECB52\"],\"font\":{\"color\":\"#2a3f5f\"},\"geo\":{\"bgcolor\":\"white\",\"lakecolor\":\"white\",\"landcolor\":\"#E5ECF6\",\"showlakes\":true,\"showland\":true,\"subunitcolor\":\"white\"},\"hoverlabel\":{\"align\":\"left\"},\"hovermode\":\"closest\",\"mapbox\":{\"style\":\"light\"},\"paper_bgcolor\":\"white\",\"plot_bgcolor\":\"#E5ECF6\",\"polar\":{\"angularaxis\":{\"gridcolor\":\"white\",\"linecolor\":\"white\",\"ticks\":\"\"},\"bgcolor\":\"#E5ECF6\",\"radialaxis\":{\"gridcolor\":\"white\",\"linecolor\":\"white\",\"ticks\":\"\"}},\"scene\":{\"xaxis\":{\"backgroundcolor\":\"#E5ECF6\",\"gridcolor\":\"white\",\"gridwidth\":2,\"linecolor\":\"white\",\"showbackground\":true,\"ticks\":\"\",\"zerolinecolor\":\"white\"},\"yaxis\":{\"backgroundcolor\":\"#E5ECF6\",\"gridcolor\":\"white\",\"gridwidth\":2,\"linecolor\":\"white\",\"showbackground\":true,\"ticks\":\"\",\"zerolinecolor\":\"white\"},\"zaxis\":{\"backgroundcolor\":\"#E5ECF6\",\"gridcolor\":\"white\",\"gridwidth\":2,\"linecolor\":\"white\",\"showbackground\":true,\"ticks\":\"\",\"zerolinecolor\":\"white\"}},\"shapedefaults\":{\"line\":{\"color\":\"#2a3f5f\"}},\"ternary\":{\"aaxis\":{\"gridcolor\":\"white\",\"linecolor\":\"white\",\"ticks\":\"\"},\"baxis\":{\"gridcolor\":\"white\",\"linecolor\":\"white\",\"ticks\":\"\"},\"bgcolor\":\"#E5ECF6\",\"caxis\":{\"gridcolor\":\"white\",\"linecolor\":\"white\",\"ticks\":\"\"}},\"title\":{\"x\":0.05},\"xaxis\":{\"automargin\":true,\"gridcolor\":\"white\",\"linecolor\":\"white\",\"ticks\":\"\",\"title\":{\"standoff\":15},\"zerolinecolor\":\"white\",\"zerolinewidth\":2},\"yaxis\":{\"automargin\":true,\"gridcolor\":\"white\",\"linecolor\":\"white\",\"ticks\":\"\",\"title\":{\"standoff\":15},\"zerolinecolor\":\"white\",\"zerolinewidth\":2}}},\"legend\":{\"title\":{\"text\":\"day\"}},\"xaxis\":{\"title\":{\"text\":\"Day\"}},\"yaxis\":{\"title\":{\"text\":\"Ratings\"}}},                        {\"responsive\": true}                    ).then(function(){\n",
       "                            \n",
       "var gd = document.getElementById('320b9ea5-2073-41e2-a893-ca0d28bf85c9');\n",
       "var x = new MutationObserver(function (mutations, observer) {{\n",
       "        var display = window.getComputedStyle(gd).display;\n",
       "        if (!display || display === 'none') {{\n",
       "            console.log([gd, 'removed!']);\n",
       "            Plotly.purge(gd);\n",
       "            observer.disconnect();\n",
       "        }}\n",
       "}});\n",
       "\n",
       "// Listen for the removal of the full notebook cells\n",
       "var notebookContainer = gd.closest('#notebook-container');\n",
       "if (notebookContainer) {{\n",
       "    x.observe(notebookContainer, {childList: true});\n",
       "}}\n",
       "\n",
       "// Listen for the clearing of the current output cell\n",
       "var outputEl = gd.closest('.output');\n",
       "if (outputEl) {{\n",
       "    x.observe(outputEl, {childList: true});\n",
       "}}\n",
       "\n",
       "                        })                };                });            </script>        </div>"
      ]
     },
     "metadata": {},
     "output_type": "display_data"
    }
   ],
   "source": [
    "fig=go.Figure()\n",
    "fig.add_trace(go.Bar(x=df.groupby('day')['Rating'].mean().index,y=df.groupby('day')['Rating'].mean().values,name=\"DailyRatings\"))\n",
    "fig.update_layout(legend_title_text = \"day\")\n",
    "fig.update_xaxes(title_text=\"Day\")\n",
    "fig.update_yaxes(title_text=\"Avg. daily ratings\")\n",
    "fig.write_image('rateMonth.jpg')"
   ]
  },
  {
   "cell_type": "code",
   "execution_count": 107,
   "id": "59bef1a6",
   "metadata": {},
   "outputs": [
    {
     "data": {
      "image/png": "[encoded data removed]",
      "text/plain": [
       "<Figure size 432x360 with 1 Axes>"
      ]
     },
     "metadata": {
      "needs_background": "light"
     },
     "output_type": "display_data"
    }
   ],
   "source": [
    "plt.figure(figsize=(6,5))\n",
    "sns.histplot(data=df['ReviewDesc'].str.len())\n",
    "plt.xlabel('Review length')\n",
    "plt.xlabel('Count')\n",
    "\n",
    "plt.savefig('Reviewlen24.jpg')"
   ]
  },
  {
   "cell_type": "code",
   "execution_count": 108,
   "id": "b650812c",
   "metadata": {},
   "outputs": [
    {
     "data": {
      "image/png": "[encoded data removed]",
      "text/plain": [
       "<Figure size 432x360 with 1 Axes>"
      ]
     },
     "metadata": {
      "needs_background": "light"
     },
     "output_type": "display_data"
    }
   ],
   "source": [
    "plt.figure(figsize=(6,5))\n",
    "sns.histplot(data=df['ReviewDesc'].apply(lambda x: len(x.split())))\n",
    "plt.xlabel('Word count per review')\n",
    "plt.savefig('Reviewords24.jpg')"
   ]
  },
  {
   "cell_type": "code",
   "execution_count": 109,
   "id": "20d0937d",
   "metadata": {},
   "outputs": [
    {
     "data": {
      "image/png": "[encoded data removed]",
      "text/plain": [
       "<Figure size 432x360 with 1 Axes>"
      ]
     },
     "metadata": {
      "needs_background": "light"
     },
     "output_type": "display_data"
    }
   ],
   "source": [
    "plt.figure(figsize=(6,5))\n",
    "sns.histplot(data=df['ReviewDesc'].str.split().apply(lambda x:[ len(i) for i in x]).map(lambda x:np.mean(x)))\n",
    "plt.xlabel('Avg. Word count')\n",
    "plt.savefig('avgReviewlen24.jpg')"
   ]
  },
  {
   "cell_type": "code",
   "execution_count": 110,
   "id": "08ebc379",
   "metadata": {},
   "outputs": [
    {
     "name": "stderr",
     "output_type": "stream",
     "text": [
      "[nltk_data] Downloading package stopwords to\n",
      "[nltk_data]     C:\\Users\\suhai\\AppData\\Roaming\\nltk_data...\n",
      "[nltk_data]   Package stopwords is already up-to-date!\n"
     ]
    },
    {
     "data": {
      "text/plain": [
       "True"
      ]
     },
     "execution_count": 110,
     "metadata": {},
     "output_type": "execute_result"
    }
   ],
   "source": [
    "nltk.download('stopwords')"
   ]
  },
  {
   "cell_type": "code",
   "execution_count": 111,
   "id": "049300ba",
   "metadata": {},
   "outputs": [],
   "source": [
    "from collections import defaultdict\n",
    "from nltk.corpus import stopwords\n",
    "stop=set(stopwords.words('english'))"
   ]
  },
  {
   "cell_type": "code",
   "execution_count": 112,
   "id": "bc732cf2",
   "metadata": {},
   "outputs": [],
   "source": [
    "corpus=[]\n",
    "new=df['ReviewDesc'].str.split().values.tolist()\n",
    "corpus=[w for word in new for w in word ]\n",
    "dic=defaultdict(int)\n",
    "for word in corpus:\n",
    "    if word in stop:\n",
    "        dic[word]+=1"
   ]
  },
  {
   "cell_type": "code",
   "execution_count": 113,
   "id": "776de253",
   "metadata": {},
   "outputs": [],
   "source": [
    "item=sorted(dic.items(),key=lambda x:x[1],reverse=True)[:10]\n",
    "x,y=zip(*item)"
   ]
  },
  {
   "cell_type": "code",
   "execution_count": 114,
   "id": "a16dce2d",
   "metadata": {},
   "outputs": [
    {
     "data": {
      "application/vnd.plotly.v1+json": {
       "config": {
        "plotlyServerURL": "https://plot.ly"
       },
       "data": [
        {
         "type": "bar",
         "x": [
          "the",
          "and",
          "a",
          "for",
          "was",
          "to",
          "it",
          "my",
          "with",
          "is"
         ],
         "y": [
          5311,
          2913,
          2170,
          2042,
          1984,
          1871,
          1705,
          1465,
          1410,
          1278
         ]
        }
       ],
       "layout": {
        "template": {
         "data": {
          "bar": [
           {
            "error_x": {
             "color": "#2a3f5f"
            },
            "error_y": {
             "color": "#2a3f5f"
            },
            "marker": {
             "line": {
              "color": "#E5ECF6",
              "width": 0.5
             },
             "pattern": {
              "fillmode": "overlay",
              "size": 10,
              "solidity": 0.2
             }
            },
            "type": "bar"
           }
          ],
          "barpolar": [
           {
            "marker": {
             "line": {
              "color": "#E5ECF6",
              "width": 0.5
             },
             "pattern": {
              "fillmode": "overlay",
              "size": 10,
              "solidity": 0.2
             }
            },
            "type": "barpolar"
           }
          ],
          "carpet": [
           {
            "aaxis": {
             "endlinecolor": "#2a3f5f",
             "gridcolor": "white",
             "linecolor": "white",
             "minorgridcolor": "white",
             "startlinecolor": "#2a3f5f"
            },
            "baxis": {
             "endlinecolor": "#2a3f5f",
             "gridcolor": "white",
             "linecolor": "white",
             "minorgridcolor": "white",
             "startlinecolor": "#2a3f5f"
            },
            "type": "carpet"
           }
          ],
          "choropleth": [
           {
            "colorbar": {
             "outlinewidth": 0,
             "ticks": ""
            },
            "type": "choropleth"
           }
          ],
          "contour": [
           {
            "colorbar": {
             "outlinewidth": 0,
             "ticks": ""
            },
            "colorscale": [
             [
              0,
              "#0d0887"
             ],
             [
              0.1111111111111111,
              "#46039f"
             ],
             [
              0.2222222222222222,
              "#7201a8"
             ],
             [
              0.3333333333333333,
              "#9c179e"
             ],
             [
              0.4444444444444444,
              "#bd3786"
             ],
             [
              0.5555555555555556,
              "#d8576b"
             ],
             [
              0.6666666666666666,
              "#ed7953"
             ],
             [
              0.7777777777777778,
              "#fb9f3a"
             ],
             [
              0.8888888888888888,
              "#fdca26"
             ],
             [
              1,
              "#f0f921"
             ]
            ],
            "type": "contour"
           }
          ],
          "contourcarpet": [
           {
            "colorbar": {
             "outlinewidth": 0,
             "ticks": ""
            },
            "type": "contourcarpet"
           }
          ],
          "heatmap": [
           {
            "colorbar": {
             "outlinewidth": 0,
             "ticks": ""
            },
            "colorscale": [
             [
              0,
              "#0d0887"
             ],
             [
              0.1111111111111111,
              "#46039f"
             ],
             [
              0.2222222222222222,
              "#7201a8"
             ],
             [
              0.3333333333333333,
              "#9c179e"
             ],
             [
              0.4444444444444444,
              "#bd3786"
             ],
             [
              0.5555555555555556,
              "#d8576b"
             ],
             [
              0.6666666666666666,
              "#ed7953"
             ],
             [
              0.7777777777777778,
              "#fb9f3a"
             ],
             [
              0.8888888888888888,
              "#fdca26"
             ],
             [
              1,
              "#f0f921"
             ]
            ],
            "type": "heatmap"
           }
          ],
          "heatmapgl": [
           {
            "colorbar": {
             "outlinewidth": 0,
             "ticks": ""
            },
            "colorscale": [
             [
              0,
              "#0d0887"
             ],
             [
              0.1111111111111111,
              "#46039f"
             ],
             [
              0.2222222222222222,
              "#7201a8"
             ],
             [
              0.3333333333333333,
              "#9c179e"
             ],
             [
              0.4444444444444444,
              "#bd3786"
             ],
             [
              0.5555555555555556,
              "#d8576b"
             ],
             [
              0.6666666666666666,
              "#ed7953"
             ],
             [
              0.7777777777777778,
              "#fb9f3a"
             ],
             [
              0.8888888888888888,
              "#fdca26"
             ],
             [
              1,
              "#f0f921"
             ]
            ],
            "type": "heatmapgl"
           }
          ],
          "histogram": [
           {
            "marker": {
             "pattern": {
              "fillmode": "overlay",
              "size": 10,
              "solidity": 0.2
             }
            },
            "type": "histogram"
           }
          ],
          "histogram2d": [
           {
            "colorbar": {
             "outlinewidth": 0,
             "ticks": ""
            },
            "colorscale": [
             [
              0,
              "#0d0887"
             ],
             [
              0.1111111111111111,
              "#46039f"
             ],
             [
              0.2222222222222222,
              "#7201a8"
             ],
             [
              0.3333333333333333,
              "#9c179e"
             ],
             [
              0.4444444444444444,
              "#bd3786"
             ],
             [
              0.5555555555555556,
              "#d8576b"
             ],
             [
              0.6666666666666666,
              "#ed7953"
             ],
             [
              0.7777777777777778,
              "#fb9f3a"
             ],
             [
              0.8888888888888888,
              "#fdca26"
             ],
             [
              1,
              "#f0f921"
             ]
            ],
            "type": "histogram2d"
           }
          ],
          "histogram2dcontour": [
           {
            "colorbar": {
             "outlinewidth": 0,
             "ticks": ""
            },
            "colorscale": [
             [
              0,
              "#0d0887"
             ],
             [
              0.1111111111111111,
              "#46039f"
             ],
             [
              0.2222222222222222,
              "#7201a8"
             ],
             [
              0.3333333333333333,
              "#9c179e"
             ],
             [
              0.4444444444444444,
              "#bd3786"
             ],
             [
              0.5555555555555556,
              "#d8576b"
             ],
             [
              0.6666666666666666,
              "#ed7953"
             ],
             [
              0.7777777777777778,
              "#fb9f3a"
             ],
             [
              0.8888888888888888,
              "#fdca26"
             ],
             [
              1,
              "#f0f921"
             ]
            ],
            "type": "histogram2dcontour"
           }
          ],
          "mesh3d": [
           {
            "colorbar": {
             "outlinewidth": 0,
             "ticks": ""
            },
            "type": "mesh3d"
           }
          ],
          "parcoords": [
           {
            "line": {
             "colorbar": {
              "outlinewidth": 0,
              "ticks": ""
             }
            },
            "type": "parcoords"
           }
          ],
          "pie": [
           {
            "automargin": true,
            "type": "pie"
           }
          ],
          "scatter": [
           {
            "marker": {
             "colorbar": {
              "outlinewidth": 0,
              "ticks": ""
             }
            },
            "type": "scatter"
           }
          ],
          "scatter3d": [
           {
            "line": {
             "colorbar": {
              "outlinewidth": 0,
              "ticks": ""
             }
            },
            "marker": {
             "colorbar": {
              "outlinewidth": 0,
              "ticks": ""
             }
            },
            "type": "scatter3d"
           }
          ],
          "scattercarpet": [
           {
            "marker": {
             "colorbar": {
              "outlinewidth": 0,
              "ticks": ""
             }
            },
            "type": "scattercarpet"
           }
          ],
          "scattergeo": [
           {
            "marker": {
             "colorbar": {
              "outlinewidth": 0,
              "ticks": ""
             }
            },
            "type": "scattergeo"
           }
          ],
          "scattergl": [
           {
            "marker": {
             "colorbar": {
              "outlinewidth": 0,
              "ticks": ""
             }
            },
            "type": "scattergl"
           }
          ],
          "scattermapbox": [
           {
            "marker": {
             "colorbar": {
              "outlinewidth": 0,
              "ticks": ""
             }
            },
            "type": "scattermapbox"
           }
          ],
          "scatterpolar": [
           {
            "marker": {
             "colorbar": {
              "outlinewidth": 0,
              "ticks": ""
             }
            },
            "type": "scatterpolar"
           }
          ],
          "scatterpolargl": [
           {
            "marker": {
             "colorbar": {
              "outlinewidth": 0,
              "ticks": ""
             }
            },
            "type": "scatterpolargl"
           }
          ],
          "scatterternary": [
           {
            "marker": {
             "colorbar": {
              "outlinewidth": 0,
              "ticks": ""
             }
            },
            "type": "scatterternary"
           }
          ],
          "surface": [
           {
            "colorbar": {
             "outlinewidth": 0,
             "ticks": ""
            },
            "colorscale": [
             [
              0,
              "#0d0887"
             ],
             [
              0.1111111111111111,
              "#46039f"
             ],
             [
              0.2222222222222222,
              "#7201a8"
             ],
             [
              0.3333333333333333,
              "#9c179e"
             ],
             [
              0.4444444444444444,
              "#bd3786"
             ],
             [
              0.5555555555555556,
              "#d8576b"
             ],
             [
              0.6666666666666666,
              "#ed7953"
             ],
             [
              0.7777777777777778,
              "#fb9f3a"
             ],
             [
              0.8888888888888888,
              "#fdca26"
             ],
             [
              1,
              "#f0f921"
             ]
            ],
            "type": "surface"
           }
          ],
          "table": [
           {
            "cells": {
             "fill": {
              "color": "#EBF0F8"
             },
             "line": {
              "color": "white"
             }
            },
            "header": {
             "fill": {
              "color": "#C8D4E3"
             },
             "line": {
              "color": "white"
             }
            },
            "type": "table"
           }
          ]
         },
         "layout": {
          "annotationdefaults": {
           "arrowcolor": "#2a3f5f",
           "arrowhead": 0,
           "arrowwidth": 1
          },
          "autotypenumbers": "strict",
          "coloraxis": {
           "colorbar": {
            "outlinewidth": 0,
            "ticks": ""
           }
          },
          "colorscale": {
           "diverging": [
            [
             0,
             "#8e0152"
            ],
            [
             0.1,
             "#c51b7d"
            ],
            [
             0.2,
             "#de77ae"
            ],
            [
             0.3,
             "#f1b6da"
            ],
            [
             0.4,
             "#fde0ef"
            ],
            [
             0.5,
             "#f7f7f7"
            ],
            [
             0.6,
             "#e6f5d0"
            ],
            [
             0.7,
             "#b8e186"
            ],
            [
             0.8,
             "#7fbc41"
            ],
            [
             0.9,
             "#4d9221"
            ],
            [
             1,
             "#276419"
            ]
           ],
           "sequential": [
            [
             0,
             "#0d0887"
            ],
            [
             0.1111111111111111,
             "#46039f"
            ],
            [
             0.2222222222222222,
             "#7201a8"
            ],
            [
             0.3333333333333333,
             "#9c179e"
            ],
            [
             0.4444444444444444,
             "#bd3786"
            ],
            [
             0.5555555555555556,
             "#d8576b"
            ],
            [
             0.6666666666666666,
             "#ed7953"
            ],
            [
             0.7777777777777778,
             "#fb9f3a"
            ],
            [
             0.8888888888888888,
             "#fdca26"
            ],
            [
             1,
             "#f0f921"
            ]
           ],
           "sequentialminus": [
            [
             0,
             "#0d0887"
            ],
            [
             0.1111111111111111,
             "#46039f"
            ],
            [
             0.2222222222222222,
             "#7201a8"
            ],
            [
             0.3333333333333333,
             "#9c179e"
            ],
            [
             0.4444444444444444,
             "#bd3786"
            ],
            [
             0.5555555555555556,
             "#d8576b"
            ],
            [
             0.6666666666666666,
             "#ed7953"
            ],
            [
             0.7777777777777778,
             "#fb9f3a"
            ],
            [
             0.8888888888888888,
             "#fdca26"
            ],
            [
             1,
             "#f0f921"
            ]
           ]
          },
          "colorway": [
           "#636efa",
           "#EF553B",
           "#00cc96",
           "#ab63fa",
           "#FFA15A",
           "#19d3f3",
           "#FF6692",
           "#B6E880",
           "#FF97FF",
           "#FECB52"
          ],
          "font": {
           "color": "#2a3f5f"
          },
          "geo": {
           "bgcolor": "white",
           "lakecolor": "white",
           "landcolor": "#E5ECF6",
           "showlakes": true,
           "showland": true,
           "subunitcolor": "white"
          },
          "hoverlabel": {
           "align": "left"
          },
          "hovermode": "closest",
          "mapbox": {
           "style": "light"
          },
          "paper_bgcolor": "white",
          "plot_bgcolor": "#E5ECF6",
          "polar": {
           "angularaxis": {
            "gridcolor": "white",
            "linecolor": "white",
            "ticks": ""
           },
           "bgcolor": "#E5ECF6",
           "radialaxis": {
            "gridcolor": "white",
            "linecolor": "white",
            "ticks": ""
           }
          },
          "scene": {
           "xaxis": {
            "backgroundcolor": "#E5ECF6",
            "gridcolor": "white",
            "gridwidth": 2,
            "linecolor": "white",
            "showbackground": true,
            "ticks": "",
            "zerolinecolor": "white"
           },
           "yaxis": {
            "backgroundcolor": "#E5ECF6",
            "gridcolor": "white",
            "gridwidth": 2,
            "linecolor": "white",
            "showbackground": true,
            "ticks": "",
            "zerolinecolor": "white"
           },
           "zaxis": {
            "backgroundcolor": "#E5ECF6",
            "gridcolor": "white",
            "gridwidth": 2,
            "linecolor": "white",
            "showbackground": true,
            "ticks": "",
            "zerolinecolor": "white"
           }
          },
          "shapedefaults": {
           "line": {
            "color": "#2a3f5f"
           }
          },
          "ternary": {
           "aaxis": {
            "gridcolor": "white",
            "linecolor": "white",
            "ticks": ""
           },
           "baxis": {
            "gridcolor": "white",
            "linecolor": "white",
            "ticks": ""
           },
           "bgcolor": "#E5ECF6",
           "caxis": {
            "gridcolor": "white",
            "linecolor": "white",
            "ticks": ""
           }
          },
          "title": {
           "x": 0.05
          },
          "xaxis": {
           "automargin": true,
           "gridcolor": "white",
           "linecolor": "white",
           "ticks": "",
           "title": {
            "standoff": 15
           },
           "zerolinecolor": "white",
           "zerolinewidth": 2
          },
          "yaxis": {
           "automargin": true,
           "gridcolor": "white",
           "linecolor": "white",
           "ticks": "",
           "title": {
            "standoff": 15
           },
           "zerolinecolor": "white",
           "zerolinewidth": 2
          }
         }
        }
       }
      },
      "text/html": [
       "<div>                            <div id=\"4b5eb322-8eaa-41e3-9672-b3bb0dfabbfa\" class=\"plotly-graph-div\" style=\"height:525px; width:100%;\"></div>            <script type=\"text/javascript\">                require([\"plotly\"], function(Plotly) {                    window.PLOTLYENV=window.PLOTLYENV || {};                                    if (document.getElementById(\"4b5eb322-8eaa-41e3-9672-b3bb0dfabbfa\")) {                    Plotly.newPlot(                        \"4b5eb322-8eaa-41e3-9672-b3bb0dfabbfa\",                        [{\"x\":[\"the\",\"and\",\"a\",\"for\",\"was\",\"to\",\"it\",\"my\",\"with\",\"is\"],\"y\":[5311,2913,2170,2042,1984,1871,1705,1465,1410,1278],\"type\":\"bar\"}],                        {\"template\":{\"data\":{\"bar\":[{\"error_x\":{\"color\":\"#2a3f5f\"},\"error_y\":{\"color\":\"#2a3f5f\"},\"marker\":{\"line\":{\"color\":\"#E5ECF6\",\"width\":0.5},\"pattern\":{\"fillmode\":\"overlay\",\"size\":10,\"solidity\":0.2}},\"type\":\"bar\"}],\"barpolar\":[{\"marker\":{\"line\":{\"color\":\"#E5ECF6\",\"width\":0.5},\"pattern\":{\"fillmode\":\"overlay\",\"size\":10,\"solidity\":0.2}},\"type\":\"barpolar\"}],\"carpet\":[{\"aaxis\":{\"endlinecolor\":\"#2a3f5f\",\"gridcolor\":\"white\",\"linecolor\":\"white\",\"minorgridcolor\":\"white\",\"startlinecolor\":\"#2a3f5f\"},\"baxis\":{\"endlinecolor\":\"#2a3f5f\",\"gridcolor\":\"white\",\"linecolor\":\"white\",\"minorgridcolor\":\"white\",\"startlinecolor\":\"#2a3f5f\"},\"type\":\"carpet\"}],\"choropleth\":[{\"colorbar\":{\"outlinewidth\":0,\"ticks\":\"\"},\"type\":\"choropleth\"}],\"contour\":[{\"colorbar\":{\"outlinewidth\":0,\"ticks\":\"\"},\"colorscale\":[[0.0,\"#0d0887\"],[0.1111111111111111,\"#46039f\"],[0.2222222222222222,\"#7201a8\"],[0.3333333333333333,\"#9c179e\"],[0.4444444444444444,\"#bd3786\"],[0.5555555555555556,\"#d8576b\"],[0.6666666666666666,\"#ed7953\"],[0.7777777777777778,\"#fb9f3a\"],[0.8888888888888888,\"#fdca26\"],[1.0,\"#f0f921\"]],\"type\":\"contour\"}],\"contourcarpet\":[{\"colorbar\":{\"outlinewidth\":0,\"ticks\":\"\"},\"type\":\"contourcarpet\"}],\"heatmap\":[{\"colorbar\":{\"outlinewidth\":0,\"ticks\":\"\"},\"colorscale\":[[0.0,\"#0d0887\"],[0.1111111111111111,\"#46039f\"],[0.2222222222222222,\"#7201a8\"],[0.3333333333333333,\"#9c179e\"],[0.4444444444444444,\"#bd3786\"],[0.5555555555555556,\"#d8576b\"],[0.6666666666666666,\"#ed7953\"],[0.7777777777777778,\"#fb9f3a\"],[0.8888888888888888,\"#fdca26\"],[1.0,\"#f0f921\"]],\"type\":\"heatmap\"}],\"heatmapgl\":[{\"colorbar\":{\"outlinewidth\":0,\"ticks\":\"\"},\"colorscale\":[[0.0,\"#0d0887\"],[0.1111111111111111,\"#46039f\"],[0.2222222222222222,\"#7201a8\"],[0.3333333333333333,\"#9c179e\"],[0.4444444444444444,\"#bd3786\"],[0.5555555555555556,\"#d8576b\"],[0.6666666666666666,\"#ed7953\"],[0.7777777777777778,\"#fb9f3a\"],[0.8888888888888888,\"#fdca26\"],[1.0,\"#f0f921\"]],\"type\":\"heatmapgl\"}],\"histogram\":[{\"marker\":{\"pattern\":{\"fillmode\":\"overlay\",\"size\":10,\"solidity\":0.2}},\"type\":\"histogram\"}],\"histogram2d\":[{\"colorbar\":{\"outlinewidth\":0,\"ticks\":\"\"},\"colorscale\":[[0.0,\"#0d0887\"],[0.1111111111111111,\"#46039f\"],[0.2222222222222222,\"#7201a8\"],[0.3333333333333333,\"#9c179e\"],[0.4444444444444444,\"#bd3786\"],[0.5555555555555556,\"#d8576b\"],[0.6666666666666666,\"#ed7953\"],[0.7777777777777778,\"#fb9f3a\"],[0.8888888888888888,\"#fdca26\"],[1.0,\"#f0f921\"]],\"type\":\"histogram2d\"}],\"histogram2dcontour\":[{\"colorbar\":{\"outlinewidth\":0,\"ticks\":\"\"},\"colorscale\":[[0.0,\"#0d0887\"],[0.1111111111111111,\"#46039f\"],[0.2222222222222222,\"#7201a8\"],[0.3333333333333333,\"#9c179e\"],[0.4444444444444444,\"#bd3786\"],[0.5555555555555556,\"#d8576b\"],[0.6666666666666666,\"#ed7953\"],[0.7777777777777778,\"#fb9f3a\"],[0.8888888888888888,\"#fdca26\"],[1.0,\"#f0f921\"]],\"type\":\"histogram2dcontour\"}],\"mesh3d\":[{\"colorbar\":{\"outlinewidth\":0,\"ticks\":\"\"},\"type\":\"mesh3d\"}],\"parcoords\":[{\"line\":{\"colorbar\":{\"outlinewidth\":0,\"ticks\":\"\"}},\"type\":\"parcoords\"}],\"pie\":[{\"automargin\":true,\"type\":\"pie\"}],\"scatter\":[{\"marker\":{\"colorbar\":{\"outlinewidth\":0,\"ticks\":\"\"}},\"type\":\"scatter\"}],\"scatter3d\":[{\"line\":{\"colorbar\":{\"outlinewidth\":0,\"ticks\":\"\"}},\"marker\":{\"colorbar\":{\"outlinewidth\":0,\"ticks\":\"\"}},\"type\":\"scatter3d\"}],\"scattercarpet\":[{\"marker\":{\"colorbar\":{\"outlinewidth\":0,\"ticks\":\"\"}},\"type\":\"scattercarpet\"}],\"scattergeo\":[{\"marker\":{\"colorbar\":{\"outlinewidth\":0,\"ticks\":\"\"}},\"type\":\"scattergeo\"}],\"scattergl\":[{\"marker\":{\"colorbar\":{\"outlinewidth\":0,\"ticks\":\"\"}},\"type\":\"scattergl\"}],\"scattermapbox\":[{\"marker\":{\"colorbar\":{\"outlinewidth\":0,\"ticks\":\"\"}},\"type\":\"scattermapbox\"}],\"scatterpolar\":[{\"marker\":{\"colorbar\":{\"outlinewidth\":0,\"ticks\":\"\"}},\"type\":\"scatterpolar\"}],\"scatterpolargl\":[{\"marker\":{\"colorbar\":{\"outlinewidth\":0,\"ticks\":\"\"}},\"type\":\"scatterpolargl\"}],\"scatterternary\":[{\"marker\":{\"colorbar\":{\"outlinewidth\":0,\"ticks\":\"\"}},\"type\":\"scatterternary\"}],\"surface\":[{\"colorbar\":{\"outlinewidth\":0,\"ticks\":\"\"},\"colorscale\":[[0.0,\"#0d0887\"],[0.1111111111111111,\"#46039f\"],[0.2222222222222222,\"#7201a8\"],[0.3333333333333333,\"#9c179e\"],[0.4444444444444444,\"#bd3786\"],[0.5555555555555556,\"#d8576b\"],[0.6666666666666666,\"#ed7953\"],[0.7777777777777778,\"#fb9f3a\"],[0.8888888888888888,\"#fdca26\"],[1.0,\"#f0f921\"]],\"type\":\"surface\"}],\"table\":[{\"cells\":{\"fill\":{\"color\":\"#EBF0F8\"},\"line\":{\"color\":\"white\"}},\"header\":{\"fill\":{\"color\":\"#C8D4E3\"},\"line\":{\"color\":\"white\"}},\"type\":\"table\"}]},\"layout\":{\"annotationdefaults\":{\"arrowcolor\":\"#2a3f5f\",\"arrowhead\":0,\"arrowwidth\":1},\"autotypenumbers\":\"strict\",\"coloraxis\":{\"colorbar\":{\"outlinewidth\":0,\"ticks\":\"\"}},\"colorscale\":{\"diverging\":[[0,\"#8e0152\"],[0.1,\"#c51b7d\"],[0.2,\"#de77ae\"],[0.3,\"#f1b6da\"],[0.4,\"#fde0ef\"],[0.5,\"#f7f7f7\"],[0.6,\"#e6f5d0\"],[0.7,\"#b8e186\"],[0.8,\"#7fbc41\"],[0.9,\"#4d9221\"],[1,\"#276419\"]],\"sequential\":[[0.0,\"#0d0887\"],[0.1111111111111111,\"#46039f\"],[0.2222222222222222,\"#7201a8\"],[0.3333333333333333,\"#9c179e\"],[0.4444444444444444,\"#bd3786\"],[0.5555555555555556,\"#d8576b\"],[0.6666666666666666,\"#ed7953\"],[0.7777777777777778,\"#fb9f3a\"],[0.8888888888888888,\"#fdca26\"],[1.0,\"#f0f921\"]],\"sequentialminus\":[[0.0,\"#0d0887\"],[0.1111111111111111,\"#46039f\"],[0.2222222222222222,\"#7201a8\"],[0.3333333333333333,\"#9c179e\"],[0.4444444444444444,\"#bd3786\"],[0.5555555555555556,\"#d8576b\"],[0.6666666666666666,\"#ed7953\"],[0.7777777777777778,\"#fb9f3a\"],[0.8888888888888888,\"#fdca26\"],[1.0,\"#f0f921\"]]},\"colorway\":[\"#636efa\",\"#EF553B\",\"#00cc96\",\"#ab63fa\",\"#FFA15A\",\"#19d3f3\",\"#FF6692\",\"#B6E880\",\"#FF97FF\",\"#FECB52\"],\"font\":{\"color\":\"#2a3f5f\"},\"geo\":{\"bgcolor\":\"white\",\"lakecolor\":\"white\",\"landcolor\":\"#E5ECF6\",\"showlakes\":true,\"showland\":true,\"subunitcolor\":\"white\"},\"hoverlabel\":{\"align\":\"left\"},\"hovermode\":\"closest\",\"mapbox\":{\"style\":\"light\"},\"paper_bgcolor\":\"white\",\"plot_bgcolor\":\"#E5ECF6\",\"polar\":{\"angularaxis\":{\"gridcolor\":\"white\",\"linecolor\":\"white\",\"ticks\":\"\"},\"bgcolor\":\"#E5ECF6\",\"radialaxis\":{\"gridcolor\":\"white\",\"linecolor\":\"white\",\"ticks\":\"\"}},\"scene\":{\"xaxis\":{\"backgroundcolor\":\"#E5ECF6\",\"gridcolor\":\"white\",\"gridwidth\":2,\"linecolor\":\"white\",\"showbackground\":true,\"ticks\":\"\",\"zerolinecolor\":\"white\"},\"yaxis\":{\"backgroundcolor\":\"#E5ECF6\",\"gridcolor\":\"white\",\"gridwidth\":2,\"linecolor\":\"white\",\"showbackground\":true,\"ticks\":\"\",\"zerolinecolor\":\"white\"},\"zaxis\":{\"backgroundcolor\":\"#E5ECF6\",\"gridcolor\":\"white\",\"gridwidth\":2,\"linecolor\":\"white\",\"showbackground\":true,\"ticks\":\"\",\"zerolinecolor\":\"white\"}},\"shapedefaults\":{\"line\":{\"color\":\"#2a3f5f\"}},\"ternary\":{\"aaxis\":{\"gridcolor\":\"white\",\"linecolor\":\"white\",\"ticks\":\"\"},\"baxis\":{\"gridcolor\":\"white\",\"linecolor\":\"white\",\"ticks\":\"\"},\"bgcolor\":\"#E5ECF6\",\"caxis\":{\"gridcolor\":\"white\",\"linecolor\":\"white\",\"ticks\":\"\"}},\"title\":{\"x\":0.05},\"xaxis\":{\"automargin\":true,\"gridcolor\":\"white\",\"linecolor\":\"white\",\"ticks\":\"\",\"title\":{\"standoff\":15},\"zerolinecolor\":\"white\",\"zerolinewidth\":2},\"yaxis\":{\"automargin\":true,\"gridcolor\":\"white\",\"linecolor\":\"white\",\"ticks\":\"\",\"title\":{\"standoff\":15},\"zerolinecolor\":\"white\",\"zerolinewidth\":2}}}},                        {\"responsive\": true}                    ).then(function(){\n",
       "                            \n",
       "var gd = document.getElementById('4b5eb322-8eaa-41e3-9672-b3bb0dfabbfa');\n",
       "var x = new MutationObserver(function (mutations, observer) {{\n",
       "        var display = window.getComputedStyle(gd).display;\n",
       "        if (!display || display === 'none') {{\n",
       "            console.log([gd, 'removed!']);\n",
       "            Plotly.purge(gd);\n",
       "            observer.disconnect();\n",
       "        }}\n",
       "}});\n",
       "\n",
       "// Listen for the removal of the full notebook cells\n",
       "var notebookContainer = gd.closest('#notebook-container');\n",
       "if (notebookContainer) {{\n",
       "    x.observe(notebookContainer, {childList: true});\n",
       "}}\n",
       "\n",
       "// Listen for the clearing of the current output cell\n",
       "var outputEl = gd.closest('.output');\n",
       "if (outputEl) {{\n",
       "    x.observe(outputEl, {childList: true});\n",
       "}}\n",
       "\n",
       "                        })                };                });            </script>        </div>"
      ]
     },
     "metadata": {},
     "output_type": "display_data"
    }
   ],
   "source": [
    "fig=go.Figure()\n",
    "fig.add_trace(go.Bar(x=x,y=y))"
   ]
  },
  {
   "cell_type": "code",
   "execution_count": 115,
   "id": "ca132943",
   "metadata": {},
   "outputs": [],
   "source": [
    "from nltk.util import ngrams\n",
    "from sklearn.feature_extraction.text import CountVectorizer\n",
    "\n",
    "def get_top_ngram(corpus, n=None):\n",
    "    cv=CountVectorizer(ngram_range=(n,n)).fit(corpus)\n",
    "    BoW=cv.transform(corpus)\n",
    "    sum_of_words=BoW.sum(axis=0)\n",
    "    word_freq=[(word,sum_of_words[0,index]) for word,index in cv.vocabulary_.items()]\n",
    "    word_freq=sorted(word_freq,key=lambda x:x[1],reverse=True)\n",
    "    return word_freq[:10]"
   ]
  },
  {
   "cell_type": "code",
   "execution_count": 118,
   "id": "3c1f1a32",
   "metadata": {},
   "outputs": [],
   "source": [
    "grams=get_top_ngram(corpus, n=2)\n",
    "x,y=map(list,zip(*grams))\n",
    "fig=go.Figure()\n",
    "fig.add_trace(go.Bar(x=x,y=y))\n",
    "fig.update_yaxes(title_text=\"Count\")\n",
    "fig.update_xaxes(title_text=\"Bigrams\")\n",
    "fig.write_image('bigram24.jpg')"
   ]
  },
  {
   "cell_type": "code",
   "execution_count": 119,
   "id": "f0a7fc95",
   "metadata": {},
   "outputs": [
    {
     "name": "stdout",
     "output_type": "stream",
     "text": [
      "Requirement already satisfied: wordcloud in c:\\users\\suhai\\anaconda3\\lib\\site-packages (1.8.1)\n",
      "Requirement already satisfied: pillow in c:\\users\\suhai\\anaconda3\\lib\\site-packages (from wordcloud) (8.4.0)\n",
      "Requirement already satisfied: matplotlib in c:\\users\\suhai\\anaconda3\\lib\\site-packages (from wordcloud) (3.4.3)\n",
      "Requirement already satisfied: numpy>=1.6.1 in c:\\users\\suhai\\anaconda3\\lib\\site-packages (from wordcloud) (1.20.3)\n",
      "Requirement already satisfied: kiwisolver>=1.0.1 in c:\\users\\suhai\\anaconda3\\lib\\site-packages (from matplotlib->wordcloud) (1.3.1)\n",
      "Requirement already satisfied: cycler>=0.10 in c:\\users\\suhai\\anaconda3\\lib\\site-packages (from matplotlib->wordcloud) (0.10.0)\n",
      "Requirement already satisfied: pyparsing>=2.2.1 in c:\\users\\suhai\\anaconda3\\lib\\site-packages (from matplotlib->wordcloud) (3.0.4)\n",
      "Requirement already satisfied: python-dateutil>=2.7 in c:\\users\\suhai\\anaconda3\\lib\\site-packages (from matplotlib->wordcloud) (2.8.2)\n",
      "Requirement already satisfied: six in c:\\users\\suhai\\anaconda3\\lib\\site-packages (from cycler>=0.10->matplotlib->wordcloud) (1.16.0)\n"
     ]
    }
   ],
   "source": [
    "!pip install wordcloud"
   ]
  },
  {
   "cell_type": "code",
   "execution_count": 124,
   "id": "a8a1911a",
   "metadata": {},
   "outputs": [
    {
     "data": {
      "image/png": "[encoded data removed]",
      "text/plain": [
       "<Figure size 576x576 with 1 Axes>"
      ]
     },
     "metadata": {
      "needs_background": "light"
     },
     "output_type": "display_data"
    }
   ],
   "source": [
    "from wordcloud import WordCloud\n",
    "def WCgenerator(data):\n",
    "    cloud=WordCloud(background_color='white',stopwords=stop,max_words=100,\n",
    "            max_font_size=30,\n",
    "            scale=3,\n",
    "            random_state=1)\n",
    "\n",
    "    wc=cloud.generate(str(data))\n",
    "    plt.figure(figsize=(8,8))\n",
    "    plt.axis('off')\n",
    "    plt.imshow(wc)\n",
    "    plt.savefig('WordCloud.jpg')\n",
    "    \n",
    "    \n",
    "WCgenerator(corpus)"
   ]
  },
  {
   "cell_type": "code",
   "execution_count": 125,
   "id": "1d2a73ad",
   "metadata": {},
   "outputs": [],
   "source": [
    "from nltk.sentiment import SentimentIntensityAnalyzer\n",
    "import operator\n",
    "sia = SentimentIntensityAnalyzer()\n",
    "df[\"sentiment_score\"] = df[\"ReviewDesc\"].apply(lambda x: sia.polarity_scores(x)[\"compound\"])\n",
    "df[\"sentiment\"] = np.select([df[\"sentiment_score\"] < 0, df[\"sentiment_score\"] == 0, df[\"sentiment_score\"] > 0],\n",
    "                           ['negative', 'neutral', 'positive'])"
   ]
  },
  {
   "cell_type": "code",
   "execution_count": 127,
   "id": "0e63d3fc",
   "metadata": {},
   "outputs": [
    {
     "name": "stderr",
     "output_type": "stream",
     "text": [
      "C:\\Users\\suhai\\anaconda3\\lib\\site-packages\\seaborn\\_decorators.py:36: FutureWarning:\n",
      "\n",
      "Pass the following variable as a keyword arg: x. From version 0.12, the only valid positional argument will be `data`, and passing other arguments without an explicit keyword will result in an error or misinterpretation.\n",
      "\n"
     ]
    },
    {
     "data": {
      "image/png": "[encoded data removed]",
      "text/plain": [
       "<Figure size 432x360 with 1 Axes>"
      ]
     },
     "metadata": {
      "needs_background": "light"
     },
     "output_type": "display_data"
    }
   ],
   "source": [
    "plt.figure(figsize=(6,5))\n",
    "sns.countplot(df['sentiment'])\n",
    "plt.savefig('sentiment24.jpg')"
   ]
  },
  {
   "cell_type": "code",
   "execution_count": 128,
   "id": "59262692",
   "metadata": {},
   "outputs": [
    {
     "data": {
      "image/png": "[encoded data removed]",
      "text/plain": [
       "<Figure size 432x360 with 1 Axes>"
      ]
     },
     "metadata": {
      "needs_background": "light"
     },
     "output_type": "display_data"
    }
   ],
   "source": [
    "plt.figure(figsize=(6,5))\n",
    "df.sentiment_score.hist()\n",
    "plt.xlabel('Sentiment Score')\n",
    "plt.ylabel('count')\n",
    "plt.savefig('sentimentscore24.jpg')"
   ]
  },
  {
   "cell_type": "code",
   "execution_count": 129,
   "id": "f59766a4",
   "metadata": {},
   "outputs": [
    {
     "name": "stdout",
     "output_type": "stream",
     "text": [
      "Requirement already satisfied: spacy in c:\\users\\suhai\\anaconda3\\lib\\site-packages (3.2.3)\n",
      "Requirement already satisfied: pathy>=0.3.5 in c:\\users\\suhai\\anaconda3\\lib\\site-packages (from spacy) (0.6.1)\n",
      "Requirement already satisfied: jinja2 in c:\\users\\suhai\\anaconda3\\lib\\site-packages (from spacy) (2.11.3)\n",
      "Requirement already satisfied: tqdm<5.0.0,>=4.38.0 in c:\\users\\suhai\\anaconda3\\lib\\site-packages (from spacy) (4.62.3)\n",
      "Requirement already satisfied: spacy-legacy<3.1.0,>=3.0.8 in c:\\users\\suhai\\anaconda3\\lib\\site-packages (from spacy) (3.0.9)\n",
      "Requirement already satisfied: spacy-loggers<2.0.0,>=1.0.0 in c:\\users\\suhai\\anaconda3\\lib\\site-packages (from spacy) (1.0.1)\n",
      "Requirement already satisfied: langcodes<4.0.0,>=3.2.0 in c:\\users\\suhai\\anaconda3\\lib\\site-packages (from spacy) (3.3.0)\n",
      "Requirement already satisfied: numpy>=1.15.0 in c:\\users\\suhai\\anaconda3\\lib\\site-packages (from spacy) (1.20.3)\n",
      "Requirement already satisfied: cymem<2.1.0,>=2.0.2 in c:\\users\\suhai\\anaconda3\\lib\\site-packages (from spacy) (2.0.6)\n",
      "Requirement already satisfied: packaging>=20.0 in c:\\users\\suhai\\anaconda3\\lib\\site-packages (from spacy) (21.0)\n",
      "Requirement already satisfied: pydantic!=1.8,!=1.8.1,<1.9.0,>=1.7.4 in c:\\users\\suhai\\anaconda3\\lib\\site-packages (from spacy) (1.8.2)\n",
      "Requirement already satisfied: preshed<3.1.0,>=3.0.2 in c:\\users\\suhai\\anaconda3\\lib\\site-packages (from spacy) (3.0.6)\n",
      "Requirement already satisfied: typer<0.5.0,>=0.3.0 in c:\\users\\suhai\\anaconda3\\lib\\site-packages (from spacy) (0.4.0)\n",
      "Requirement already satisfied: requests<3.0.0,>=2.13.0 in c:\\users\\suhai\\anaconda3\\lib\\site-packages (from spacy) (2.26.0)\n",
      "Requirement already satisfied: murmurhash<1.1.0,>=0.28.0 in c:\\users\\suhai\\anaconda3\\lib\\site-packages (from spacy) (1.0.6)\n",
      "Requirement already satisfied: setuptools in c:\\users\\suhai\\anaconda3\\lib\\site-packages (from spacy) (58.0.4)\n",
      "Requirement already satisfied: catalogue<2.1.0,>=2.0.6 in c:\\users\\suhai\\anaconda3\\lib\\site-packages (from spacy) (2.0.6)\n",
      "Requirement already satisfied: thinc<8.1.0,>=8.0.12 in c:\\users\\suhai\\anaconda3\\lib\\site-packages (from spacy) (8.0.15)\n",
      "Requirement already satisfied: srsly<3.0.0,>=2.4.1 in c:\\users\\suhai\\anaconda3\\lib\\site-packages (from spacy) (2.4.2)\n",
      "Requirement already satisfied: wasabi<1.1.0,>=0.8.1 in c:\\users\\suhai\\anaconda3\\lib\\site-packages (from spacy) (0.9.0)\n",
      "Requirement already satisfied: blis<0.8.0,>=0.4.0 in c:\\users\\suhai\\anaconda3\\lib\\site-packages (from spacy) (0.7.6)\n",
      "Requirement already satisfied: pyparsing>=2.0.2 in c:\\users\\suhai\\anaconda3\\lib\\site-packages (from packaging>=20.0->spacy) (3.0.4)\n",
      "Requirement already satisfied: smart-open<6.0.0,>=5.0.0 in c:\\users\\suhai\\anaconda3\\lib\\site-packages (from pathy>=0.3.5->spacy) (5.2.1)\n",
      "Requirement already satisfied: typing-extensions>=3.7.4.3 in c:\\users\\suhai\\anaconda3\\lib\\site-packages (from pydantic!=1.8,!=1.8.1,<1.9.0,>=1.7.4->spacy) (3.10.0.2)\n",
      "Requirement already satisfied: idna<4,>=2.5 in c:\\users\\suhai\\anaconda3\\lib\\site-packages (from requests<3.0.0,>=2.13.0->spacy) (2.10)\n",
      "Requirement already satisfied: certifi>=2017.4.17 in c:\\users\\suhai\\anaconda3\\lib\\site-packages (from requests<3.0.0,>=2.13.0->spacy) (2021.10.8)\n",
      "Requirement already satisfied: charset-normalizer~=2.0.0 in c:\\users\\suhai\\anaconda3\\lib\\site-packages (from requests<3.0.0,>=2.13.0->spacy) (2.0.4)\n",
      "Requirement already satisfied: urllib3<1.27,>=1.21.1 in c:\\users\\suhai\\anaconda3\\lib\\site-packages (from requests<3.0.0,>=2.13.0->spacy) (1.26.7)\n",
      "Requirement already satisfied: colorama in c:\\users\\suhai\\appdata\\roaming\\python\\python39\\site-packages (from tqdm<5.0.0,>=4.38.0->spacy) (0.4.4)\n",
      "Requirement already satisfied: click<9.0.0,>=7.1.1 in c:\\users\\suhai\\appdata\\roaming\\python\\python39\\site-packages (from typer<0.5.0,>=0.3.0->spacy) (8.0.3)\n",
      "Requirement already satisfied: MarkupSafe>=0.23 in c:\\users\\suhai\\anaconda3\\lib\\site-packages (from jinja2->spacy) (1.1.1)\n"
     ]
    }
   ],
   "source": [
    "!pip install spacy"
   ]
  },
  {
   "cell_type": "code",
   "execution_count": 130,
   "id": "295e886e",
   "metadata": {},
   "outputs": [
    {
     "name": "stdout",
     "output_type": "stream",
     "text": [
      "Collecting en-core-web-sm==3.2.0\n",
      "  Downloading https://github.com/explosion/spacy-models/releases/download/en_core_web_sm-3.2.0/en_core_web_sm-3.2.0-py3-none-any.whl (13.9 MB)\n",
      "Requirement already satisfied: spacy<3.3.0,>=3.2.0 in c:\\users\\suhai\\anaconda3\\lib\\site-packages (from en-core-web-sm==3.2.0) (3.2.3)\n",
      "Requirement already satisfied: packaging>=20.0 in c:\\users\\suhai\\anaconda3\\lib\\site-packages (from spacy<3.3.0,>=3.2.0->en-core-web-sm==3.2.0) (21.0)\n",
      "Requirement already satisfied: pathy>=0.3.5 in c:\\users\\suhai\\anaconda3\\lib\\site-packages (from spacy<3.3.0,>=3.2.0->en-core-web-sm==3.2.0) (0.6.1)\n",
      "Requirement already satisfied: thinc<8.1.0,>=8.0.12 in c:\\users\\suhai\\anaconda3\\lib\\site-packages (from spacy<3.3.0,>=3.2.0->en-core-web-sm==3.2.0) (8.0.15)\n",
      "Requirement already satisfied: numpy>=1.15.0 in c:\\users\\suhai\\anaconda3\\lib\\site-packages (from spacy<3.3.0,>=3.2.0->en-core-web-sm==3.2.0) (1.20.3)\n",
      "Requirement already satisfied: cymem<2.1.0,>=2.0.2 in c:\\users\\suhai\\anaconda3\\lib\\site-packages (from spacy<3.3.0,>=3.2.0->en-core-web-sm==3.2.0) (2.0.6)\n",
      "Requirement already satisfied: spacy-legacy<3.1.0,>=3.0.8 in c:\\users\\suhai\\anaconda3\\lib\\site-packages (from spacy<3.3.0,>=3.2.0->en-core-web-sm==3.2.0) (3.0.9)\n",
      "Requirement already satisfied: wasabi<1.1.0,>=0.8.1 in c:\\users\\suhai\\anaconda3\\lib\\site-packages (from spacy<3.3.0,>=3.2.0->en-core-web-sm==3.2.0) (0.9.0)\n",
      "Requirement already satisfied: langcodes<4.0.0,>=3.2.0 in c:\\users\\suhai\\anaconda3\\lib\\site-packages (from spacy<3.3.0,>=3.2.0->en-core-web-sm==3.2.0) (3.3.0)\n",
      "Requirement already satisfied: requests<3.0.0,>=2.13.0 in c:\\users\\suhai\\anaconda3\\lib\\site-packages (from spacy<3.3.0,>=3.2.0->en-core-web-sm==3.2.0) (2.26.0)\n",
      "Requirement already satisfied: typer<0.5.0,>=0.3.0 in c:\\users\\suhai\\anaconda3\\lib\\site-packages (from spacy<3.3.0,>=3.2.0->en-core-web-sm==3.2.0) (0.4.0)\n",
      "Requirement already satisfied: tqdm<5.0.0,>=4.38.0 in c:\\users\\suhai\\anaconda3\\lib\\site-packages (from spacy<3.3.0,>=3.2.0->en-core-web-sm==3.2.0) (4.62.3)\n",
      "Requirement already satisfied: setuptools in c:\\users\\suhai\\anaconda3\\lib\\site-packages (from spacy<3.3.0,>=3.2.0->en-core-web-sm==3.2.0) (58.0.4)\n",
      "Requirement already satisfied: pydantic!=1.8,!=1.8.1,<1.9.0,>=1.7.4 in c:\\users\\suhai\\anaconda3\\lib\\site-packages (from spacy<3.3.0,>=3.2.0->en-core-web-sm==3.2.0) (1.8.2)\n",
      "Requirement already satisfied: jinja2 in c:\\users\\suhai\\anaconda3\\lib\\site-packages (from spacy<3.3.0,>=3.2.0->en-core-web-sm==3.2.0) (2.11.3)\n",
      "Requirement already satisfied: srsly<3.0.0,>=2.4.1 in c:\\users\\suhai\\anaconda3\\lib\\site-packages (from spacy<3.3.0,>=3.2.0->en-core-web-sm==3.2.0) (2.4.2)\n",
      "Requirement already satisfied: murmurhash<1.1.0,>=0.28.0 in c:\\users\\suhai\\anaconda3\\lib\\site-packages (from spacy<3.3.0,>=3.2.0->en-core-web-sm==3.2.0) (1.0.6)\n",
      "Requirement already satisfied: preshed<3.1.0,>=3.0.2 in c:\\users\\suhai\\anaconda3\\lib\\site-packages (from spacy<3.3.0,>=3.2.0->en-core-web-sm==3.2.0) (3.0.6)\n",
      "Requirement already satisfied: blis<0.8.0,>=0.4.0 in c:\\users\\suhai\\anaconda3\\lib\\site-packages (from spacy<3.3.0,>=3.2.0->en-core-web-sm==3.2.0) (0.7.6)\n",
      "Requirement already satisfied: spacy-loggers<2.0.0,>=1.0.0 in c:\\users\\suhai\\anaconda3\\lib\\site-packages (from spacy<3.3.0,>=3.2.0->en-core-web-sm==3.2.0) (1.0.1)\n",
      "Requirement already satisfied: catalogue<2.1.0,>=2.0.6 in c:\\users\\suhai\\anaconda3\\lib\\site-packages (from spacy<3.3.0,>=3.2.0->en-core-web-sm==3.2.0) (2.0.6)\n",
      "Requirement already satisfied: pyparsing>=2.0.2 in c:\\users\\suhai\\anaconda3\\lib\\site-packages (from packaging>=20.0->spacy<3.3.0,>=3.2.0->en-core-web-sm==3.2.0) (3.0.4)\n",
      "Requirement already satisfied: smart-open<6.0.0,>=5.0.0 in c:\\users\\suhai\\anaconda3\\lib\\site-packages (from pathy>=0.3.5->spacy<3.3.0,>=3.2.0->en-core-web-sm==3.2.0) (5.2.1)\n",
      "Requirement already satisfied: typing-extensions>=3.7.4.3 in c:\\users\\suhai\\anaconda3\\lib\\site-packages (from pydantic!=1.8,!=1.8.1,<1.9.0,>=1.7.4->spacy<3.3.0,>=3.2.0->en-core-web-sm==3.2.0) (3.10.0.2)\n",
      "Requirement already satisfied: certifi>=2017.4.17 in c:\\users\\suhai\\anaconda3\\lib\\site-packages (from requests<3.0.0,>=2.13.0->spacy<3.3.0,>=3.2.0->en-core-web-sm==3.2.0) (2021.10.8)\n",
      "Requirement already satisfied: urllib3<1.27,>=1.21.1 in c:\\users\\suhai\\anaconda3\\lib\\site-packages (from requests<3.0.0,>=2.13.0->spacy<3.3.0,>=3.2.0->en-core-web-sm==3.2.0) (1.26.7)\n",
      "Requirement already satisfied: charset-normalizer~=2.0.0 in c:\\users\\suhai\\anaconda3\\lib\\site-packages (from requests<3.0.0,>=2.13.0->spacy<3.3.0,>=3.2.0->en-core-web-sm==3.2.0) (2.0.4)\n",
      "Requirement already satisfied: idna<4,>=2.5 in c:\\users\\suhai\\anaconda3\\lib\\site-packages (from requests<3.0.0,>=2.13.0->spacy<3.3.0,>=3.2.0->en-core-web-sm==3.2.0) (2.10)\n",
      "Requirement already satisfied: colorama in c:\\users\\suhai\\appdata\\roaming\\python\\python39\\site-packages (from tqdm<5.0.0,>=4.38.0->spacy<3.3.0,>=3.2.0->en-core-web-sm==3.2.0) (0.4.4)\n",
      "Requirement already satisfied: click<9.0.0,>=7.1.1 in c:\\users\\suhai\\appdata\\roaming\\python\\python39\\site-packages (from typer<0.5.0,>=0.3.0->spacy<3.3.0,>=3.2.0->en-core-web-sm==3.2.0) (8.0.3)\n",
      "Requirement already satisfied: MarkupSafe>=0.23 in c:\\users\\suhai\\anaconda3\\lib\\site-packages (from jinja2->spacy<3.3.0,>=3.2.0->en-core-web-sm==3.2.0) (1.1.1)\n",
      "[+] Download and installation successful\n",
      "You can now load the package via spacy.load('en_core_web_sm')\n"
     ]
    }
   ],
   "source": [
    "!python -m spacy download en_core_web_sm"
   ]
  },
  {
   "cell_type": "code",
   "execution_count": 131,
   "id": "02dc1bf4",
   "metadata": {},
   "outputs": [],
   "source": [
    "import spacy\n",
    "from collections import Counter\n",
    "nlp = spacy.load(\"en_core_web_sm\")\n",
    "\n",
    "def NER(text):\n",
    "    doc=nlp(text)\n",
    "    return [X.label_ for X in doc.ents]\n",
    "\n",
    "ent=df['ReviewDesc'].apply(lambda x : NER(x))\n",
    "ent=[x for sub in ent for x in sub]\n",
    "\n",
    "counter=Counter(ent)\n",
    "count=counter.most_common()"
   ]
  },
  {
   "cell_type": "code",
   "execution_count": 139,
   "id": "824dd9c5",
   "metadata": {},
   "outputs": [],
   "source": [
    "x,y=map(list,zip(*count))"
   ]
  },
  {
   "cell_type": "code",
   "execution_count": 141,
   "id": "0dd1ff6d",
   "metadata": {},
   "outputs": [
    {
     "name": "stderr",
     "output_type": "stream",
     "text": [
      "C:\\Users\\suhai\\anaconda3\\lib\\site-packages\\seaborn\\_decorators.py:36: FutureWarning:\n",
      "\n",
      "Pass the following variables as keyword args: x, y. From version 0.12, the only valid positional argument will be `data`, and passing other arguments without an explicit keyword will result in an error or misinterpretation.\n",
      "\n"
     ]
    },
    {
     "data": {
      "image/png": "[encoded data removed]",
      "text/plain": [
       "<Figure size 360x432 with 1 Axes>"
      ]
     },
     "metadata": {
      "needs_background": "light"
     },
     "output_type": "display_data"
    }
   ],
   "source": [
    "plt.figure(figsize=(5,6))\n",
    "sns.barplot(x,y)\n",
    "plt.xticks(rotation=90)\n",
    "plt.savefig('topic24.jpg')"
   ]
  },
  {
   "cell_type": "code",
   "execution_count": 134,
   "id": "b2c21f7a",
   "metadata": {},
   "outputs": [
    {
     "name": "stderr",
     "output_type": "stream",
     "text": [
      "C:\\Users\\suhai\\anaconda3\\lib\\site-packages\\seaborn\\_decorators.py:36: FutureWarning:\n",
      "\n",
      "Pass the following variables as keyword args: x, y. From version 0.12, the only valid positional argument will be `data`, and passing other arguments without an explicit keyword will result in an error or misinterpretation.\n",
      "\n"
     ]
    },
    {
     "data": {
      "text/plain": [
       "<AxesSubplot:>"
      ]
     },
     "execution_count": 134,
     "metadata": {},
     "output_type": "execute_result"
    },
    {
     "data": {
      "image/png": "[encoded data removed]",
      "text/plain": [
       "<Figure size 432x288 with 1 Axes>"
      ]
     },
     "metadata": {
      "needs_background": "light"
     },
     "output_type": "display_data"
    }
   ],
   "source": [
    "def ner(text,ent=\"PERSON\"):\n",
    "    doc=nlp(text)\n",
    "    return [X.text for X in doc.ents if X.label_ == ent]\n",
    "\n",
    "gpe=df['ReviewDesc'].apply(lambda x: ner(x))\n",
    "gpe=[i for x in gpe for i in x]\n",
    "counter=Counter(gpe)\n",
    "\n",
    "x,y=map(list,zip(*counter.most_common(10)))\n",
    "sns.barplot(y,x)"
   ]
  },
  {
   "cell_type": "code",
   "execution_count": 137,
   "id": "eef29504",
   "metadata": {},
   "outputs": [
    {
     "name": "stderr",
     "output_type": "stream",
     "text": [
      "C:\\Users\\suhai\\anaconda3\\lib\\site-packages\\seaborn\\_decorators.py:36: FutureWarning:\n",
      "\n",
      "Pass the following variables as keyword args: x, y. From version 0.12, the only valid positional argument will be `data`, and passing other arguments without an explicit keyword will result in an error or misinterpretation.\n",
      "\n"
     ]
    },
    {
     "data": {
      "text/plain": [
       "<AxesSubplot:>"
      ]
     },
     "execution_count": 137,
     "metadata": {},
     "output_type": "execute_result"
    },
    {
     "name": "stderr",
     "output_type": "stream",
     "text": [
      "C:\\Users\\suhai\\anaconda3\\lib\\site-packages\\matplotlib\\backends\\backend_agg.py:240: RuntimeWarning:\n",
      "\n",
      "Glyph 128578 missing from current font.\n",
      "\n",
      "C:\\Users\\suhai\\anaconda3\\lib\\site-packages\\matplotlib\\backends\\backend_agg.py:203: RuntimeWarning:\n",
      "\n",
      "Glyph 128578 missing from current font.\n",
      "\n"
     ]
    },
    {
     "data": {
      "image/png": "[encoded data removed]",
      "text/plain": [
       "<Figure size 432x288 with 1 Axes>"
      ]
     },
     "metadata": {
      "needs_background": "light"
     },
     "output_type": "display_data"
    }
   ],
   "source": [
    "def ner(text,ent=\"ORG\"):\n",
    "    doc=nlp(text)\n",
    "    return [X.text for X in doc.ents if X.label_ == ent]\n",
    "\n",
    "gpe=df['ReviewDesc'].apply(lambda x: ner(x))\n",
    "gpe=[i for x in gpe for i in x]\n",
    "counter=Counter(gpe)\n",
    "\n",
    "x,y=map(list,zip(*counter.most_common(10)))\n",
    "sns.barplot(y,x)"
   ]
  },
  {
   "cell_type": "code",
   "execution_count": 142,
   "id": "45528ad5",
   "metadata": {},
   "outputs": [
    {
     "name": "stderr",
     "output_type": "stream",
     "text": [
      "[nltk_data] Downloading package punkt to\n",
      "[nltk_data]     C:\\Users\\suhai\\AppData\\Roaming\\nltk_data...\n",
      "[nltk_data]   Package punkt is already up-to-date!\n",
      "[nltk_data] Downloading package wordnet to\n",
      "[nltk_data]     C:\\Users\\suhai\\AppData\\Roaming\\nltk_data...\n",
      "[nltk_data]   Package wordnet is already up-to-date!\n"
     ]
    },
    {
     "data": {
      "text/plain": [
       "[(0,\n",
       "  '0.051*\"flower\" + 0.017*\"fresh\" + 0.017*\"The\" + 0.015*\"gift\" + 0.010*\"time\" + 0.009*\"baby\" + 0.008*\"really\" + 0.008*\"n\\'t\" + 0.008*\"also\" + 0.007*\"music\"'),\n",
       " (1,\n",
       "  '0.048*\"gift\" + 0.034*\"surprise\" + 0.032*\"loved\" + 0.024*\"really\" + 0.020*\"great\" + 0.020*\"super\" + 0.019*\"fantastic\" + 0.019*\"excellent\" + 0.019*\"good\" + 0.019*\"design\"'),\n",
       " (2,\n",
       "  '0.055*\"product\" + 0.026*\"The\" + 0.016*\"received\" + 0.015*\"delivered\" + 0.015*\"bought\" + 0.013*\"came\" + 0.008*\"one\" + 0.007*\"time\" + 0.007*\"arrived\" + 0.007*\"purchase\"'),\n",
       " (3,\n",
       "  '0.049*\"cake\" + 0.037*\"service\" + 0.036*\"delivery\" + 0.032*\"team\" + 0.029*\"good\" + 0.027*\"Thanks\" + 0.021*\"love\" + 0.021*\"like\" + 0.019*\"Nice\" + 0.019*\"surprise\"')]"
      ]
     },
     "execution_count": 142,
     "metadata": {},
     "output_type": "execute_result"
    }
   ],
   "source": [
    "import nltk\n",
    "import gensim\n",
    "from nltk.stem.porter import PorterStemmer\n",
    "from nltk import word_tokenize\n",
    "from nltk.stem.wordnet import WordNetLemmatizer\n",
    "nltk.download('punkt')\n",
    "nltk.download('wordnet')\n",
    "\n",
    "def preprocess_news(df):\n",
    "    corpus=[]\n",
    "    stem=PorterStemmer()\n",
    "    lem=WordNetLemmatizer()\n",
    "    for news in df['ReviewDesc']:\n",
    "        words=[w for w in word_tokenize(news) if (w not in stop)]\n",
    "        \n",
    "        words=[lem.lemmatize(w) for w in words if len(w)>2]\n",
    "        \n",
    "        corpus.append(words)\n",
    "    return corpus\n",
    "\n",
    "corpus=preprocess_news(df)\n",
    "\n",
    "dic=gensim.corpora.Dictionary(corpus)\n",
    "bow_corpus = [dic.doc2bow(doc) for doc in corpus]\n",
    "\n",
    "lda_model = gensim.models.LdaMulticore(bow_corpus, \n",
    "                                   num_topics = 4, \n",
    "                                   id2word = dic,                                    \n",
    "                                   passes = 10,\n",
    "                                   workers = 2)\n",
    "lda_model.show_topics()"
   ]
  },
  {
   "cell_type": "code",
   "execution_count": 143,
   "id": "55f86d38",
   "metadata": {},
   "outputs": [
    {
     "name": "stdout",
     "output_type": "stream",
     "text": [
      "Requirement already satisfied: pyldavis in c:\\users\\suhai\\anaconda3\\lib\\site-packages (3.3.1)\n",
      "Requirement already satisfied: gensim in c:\\users\\suhai\\anaconda3\\lib\\site-packages (from pyldavis) (4.1.2)\n",
      "Requirement already satisfied: sklearn in c:\\users\\suhai\\anaconda3\\lib\\site-packages (from pyldavis) (0.0)\n",
      "Requirement already satisfied: joblib in c:\\users\\suhai\\anaconda3\\lib\\site-packages (from pyldavis) (1.1.0)\n",
      "Requirement already satisfied: scikit-learn in c:\\users\\suhai\\anaconda3\\lib\\site-packages (from pyldavis) (0.24.2)\n",
      "Requirement already satisfied: future in c:\\users\\suhai\\anaconda3\\lib\\site-packages (from pyldavis) (0.18.2)\n",
      "Requirement already satisfied: scipy in c:\\users\\suhai\\anaconda3\\lib\\site-packages (from pyldavis) (1.7.1)\n",
      "Requirement already satisfied: funcy in c:\\users\\suhai\\anaconda3\\lib\\site-packages (from pyldavis) (1.17)\n",
      "Requirement already satisfied: pandas>=1.2.0 in c:\\users\\suhai\\anaconda3\\lib\\site-packages (from pyldavis) (1.3.4)\n",
      "Requirement already satisfied: numexpr in c:\\users\\suhai\\anaconda3\\lib\\site-packages (from pyldavis) (2.7.3)\n",
      "Requirement already satisfied: setuptools in c:\\users\\suhai\\anaconda3\\lib\\site-packages (from pyldavis) (58.0.4)\n",
      "Requirement already satisfied: numpy>=1.20.0 in c:\\users\\suhai\\anaconda3\\lib\\site-packages (from pyldavis) (1.20.3)\n",
      "Requirement already satisfied: jinja2 in c:\\users\\suhai\\anaconda3\\lib\\site-packages (from pyldavis) (2.11.3)\n",
      "Requirement already satisfied: python-dateutil>=2.7.3 in c:\\users\\suhai\\anaconda3\\lib\\site-packages (from pandas>=1.2.0->pyldavis) (2.8.2)\n",
      "Requirement already satisfied: pytz>=2017.3 in c:\\users\\suhai\\anaconda3\\lib\\site-packages (from pandas>=1.2.0->pyldavis) (2021.3)\n",
      "Requirement already satisfied: six>=1.5 in c:\\users\\suhai\\anaconda3\\lib\\site-packages (from python-dateutil>=2.7.3->pandas>=1.2.0->pyldavis) (1.16.0)\n",
      "Requirement already satisfied: smart-open>=1.8.1 in c:\\users\\suhai\\anaconda3\\lib\\site-packages (from gensim->pyldavis) (5.2.1)\n",
      "Requirement already satisfied: Cython==0.29.23 in c:\\users\\suhai\\anaconda3\\lib\\site-packages (from gensim->pyldavis) (0.29.23)\n",
      "Requirement already satisfied: MarkupSafe>=0.23 in c:\\users\\suhai\\anaconda3\\lib\\site-packages (from jinja2->pyldavis) (1.1.1)\n",
      "Requirement already satisfied: threadpoolctl>=2.0.0 in c:\\users\\suhai\\anaconda3\\lib\\site-packages (from scikit-learn->pyldavis) (2.2.0)\n"
     ]
    }
   ],
   "source": [
    "!pip install pyldavis"
   ]
  },
  {
   "cell_type": "code",
   "execution_count": 96,
   "id": "2eb0ecb1",
   "metadata": {},
   "outputs": [
    {
     "name": "stderr",
     "output_type": "stream",
     "text": [
      "C:\\Users\\suhai\\anaconda3\\lib\\site-packages\\pyLDAvis\\_prepare.py:246: FutureWarning:\n",
      "\n",
      "In a future version of pandas all arguments of DataFrame.drop except for the argument 'labels' will be keyword-only\n",
      "\n"
     ]
    },
    {
     "data": {
      "text/html": [
       "\n",
       "<link rel=\"stylesheet\" type=\"text/css\" href=\"https://cdn.jsdelivr.net/gh/bmabey/pyLDAvis@3.3.1/pyLDAvis/js/ldavis.v1.0.0.css\">\n",
       "\n",
       "\n",
       "<div id=\"ldavis_el1525620192617548326709810234\"></div>\n",
       "<script type=\"text/javascript\">\n",
       "\n",
       "var ldavis_el1525620192617548326709810234_data = {\"mdsDat\": {\"x\": [-0.20623490430708943, 0.21586589386152524, 0.1175618418219449, -0.1271928313763806], \"y\": [0.13003930169457104, 0.025865886511300416, 0.005740678600024837, -0.1616458668058963], \"topics\": [1, 2, 3, 4], \"cluster\": [1, 1, 1, 1], \"Freq\": [38.40190897784513, 22.2289394053326, 19.994555518886184, 19.374596097936085]}, \"tinfo\": {\"Term\": [\"surprise\", \"product\", \"gift\", \"flower\", \"cake\", \"happy\", \"delivery\", \"service\", \"Thanks\", \"felt\", \"loved\", \"team\", \"design\", \"fresh\", \"excellent\", \"delivering\", \"The\", \"bought\", \"super\", \"came\", \"thank\", \"received\", \"birthday\", \"Thank\", \"perfect\", \"n't\", \"taste\", \"quality\", \"nice\", \"Good\", \"flower\", \"fresh\", \"on-time\", \"delivering\", \"quick\", \"These\", \"Fresh\", \"midnight\", \"alot\", \"Tasty\", \"Simple\", \"Cake\", \"Perfect\", \"ride\", \"compliment\", \"highly\", \"designed\", \"Everyone\", \"Pika\", \"gift.Thank\", \"designer\", \"occasion\", \"carnation\", \"Beautifully\", \"colour\", \"unique\", \"smell\", \"rose\", \"cake\", \"prepared\", \"enjoyed\", \"delivery\", \"chocolate\", \"Thanks\", \"thank\", \"Good\", \"perfect\", \"service\", \"flavour\", \"beautiful\", \"Excellent\", \"perfectly\", \"Nice\", \"tasty\", \"lot\", \"taste\", \"team\", \"delicious\", \"like\", \"love\", \"nice\", \"loved\", \"good\", \"much\", \"Thank\", \"really\", \"time\", \"amazing\", \"experience\", \"design\", \"work\", \"The\", \"awesome\", \"rated\", \"product\", \"deadline\", \"store\", \"paid\", \"wrong\", \"value\", \"waiting\", \"beyond\", \"LOVED\", \"receive\", \"expectation\", \"freight\", \"model\", \"eating\", \"request\", \"All\", \"invoice\", \"post\", \"answer\", \"How\", \"await\", \"Many\", \"defect\", \"office\", \"fulfilled\", \"helped\", \"seller\", \"according\", \"merchandise\", \"far\", \"Lannister\", \"came\", \"return\", \"Product\", \"two\", \"new\", \"purchased\", \"bought\", \"WOW\", \"packaging\", \"set\", \"already\", \"purchase\", \"received\", \"buy\", \"mug\", \"come\", \"exchange\", \"arrived\", \"get\", \"quality\", \"The\", \"another\", \"sent\", \"delivered\", \"one\", \"image\", \"without\", \"frame\", \"would\", \"good\", \"make\", \"time\", \"day\", \"...\", \"gift\", \"n't\", \"pineapple\", \"creativity\", \"coming\", \"earlier\", \"toy\", \"falling\", \"tummy\", \"instruction\", \"inside\", \"noisy\", \"personalised\", \"kept\", \"assigned\", \"setting\", \"dark\", \"great\\u2026\", \"soft\", \"quote\", \"choice\", \"via\", \"breath\", \"button\", \"provided\", \"rather\", \"Highly\", \"song\", \"heavy\", \"GORGEOUS\", \"service.thanks\", \"belly\", \"volume\", \"minute\", \"Well\", \"Looks\", \"music\", \"baby\", \"soothing\", \"sleep\", \"noise\", \"light\", \"sound\", \"loud\", \"mechanism\", \"turn\", \"quite\", \"breathing\", \"asleep\", \"battery\", \"making\", \"also\", \"little\", \"thing\", \"hard\", \"game\", \"month\", \"design\", \"engine\", \"movement\", \"back\", \"great\", \"...\", \"The\", \"quality\", \"simply\", \"cute\", \"like\", \"love\", \"gift\", \"good\", \"taste\", \"super\", \"work\", \"superb\", \"well\", \"really\", \"father\", \"affordable\", \"balloon\", \"timely\", \"Team\", \"Your\", \"lot\\u2026thanks\", \"Wonderful\", \"happily\", \"prices\\u2026\", \"Flower\", \"bts\\u2026\", \"support\", \"shocked\", \"sorry\", \"Brilliant\", \"extremely\", \"show\", \"cake.Thanks\", \"seeing\", \"Totally\", \"Every\", \"fastener\", \"important.I\", \"idea.keep\", \"this.Thank\", \"Loved\", \"birthday.thanks\", \"responding\", \"personal\", \"surprise\", \"presented\", \"pikachu\", \"gift\", \"wonderful\", \"share\", \"felt\", \"excellent\", \"happy\", \"happiness\", \"actually\", \"idea\", \"way\", \"best\", \"One\", \"super\", \".the\", \"birthday\", \"Amazing\", \"great\", \"loved\", \"Flowers\", \"Thank\", \"brother\", \"BTS\", \"got\", \"team\", \"surprised\", \"nice\", \"really\", \"one\", \"fantastic\", \"good\", \"Very\", \"service\", \"work\", \"love\", \"awesome\", \"friend\"], \"Freq\": [905.0, 665.0, 1056.0, 771.0, 997.0, 536.0, 881.0, 874.0, 738.0, 271.0, 588.0, 683.0, 461.0, 308.0, 292.0, 280.0, 814.0, 189.0, 318.0, 162.0, 354.0, 233.0, 246.0, 534.0, 388.0, 121.0, 366.0, 231.0, 622.0, 288.0, 770.3278973960223, 307.558682259102, 118.14123274008986, 278.06979343129956, 95.15352230841202, 94.08759673412202, 54.38944429209361, 53.66775424887616, 90.4782633846212, 35.516266147540854, 33.76668286247479, 31.900594533074862, 31.244283788965927, 35.16438959258558, 29.38942112745975, 34.0667096125116, 61.004146471618625, 26.16604176354695, 22.60390942661671, 21.926880701743208, 43.3527669488529, 71.91072345272696, 19.77596401923616, 18.99924269669107, 37.71638460605081, 17.519371647313026, 20.087655261223155, 41.02537854337461, 955.2054377861512, 15.42319003789552, 148.1953708349897, 816.30208955202, 103.94451754283278, 662.0273050921494, 319.9243492278657, 258.5668945378077, 341.92628529916186, 726.1467403346292, 191.13054184113506, 396.47652569613564, 61.48551452032796, 62.00981053235832, 312.19659177038926, 179.4480581046364, 269.2914253591028, 289.3980364482389, 502.95740240277274, 106.0679542401306, 440.27972359771906, 484.39496928583526, 423.3719204679856, 390.71182571393047, 566.2870421084759, 232.82260108960227, 341.30581002456177, 402.8057289445423, 247.97355016818454, 141.19586384037444, 156.98167065200656, 232.46004465417346, 202.25155019742166, 251.16154111459602, 165.88098960475895, 52.58982821127112, 655.5543750237157, 54.5790948061982, 63.65218106091424, 46.96034231185047, 38.13839894851387, 32.75371513494412, 31.652643939169398, 26.18993678346014, 29.006019653016757, 81.20687103800931, 23.051888955766994, 25.71143299039014, 23.028942034607905, 23.787392233004308, 68.56595925248547, 23.073065722152844, 24.543341988559586, 20.536718109416043, 16.587998136141838, 16.575289536177916, 16.138429626387563, 15.467661623619808, 16.254019939288632, 15.335841452201418, 14.236440393486285, 14.89085629386449, 14.36920676422741, 16.559173983619047, 16.975887468232365, 40.30926278459934, 31.84684976257807, 149.7973616192446, 76.85754201960135, 50.35098090639677, 74.11286544725613, 29.503472833865565, 26.1431269058916, 165.3006660633254, 27.197359647608167, 25.965219207058766, 31.539157173420385, 77.42338826559016, 79.62323818763956, 173.64779517591757, 43.492029643371026, 50.93739269941026, 66.35591704914084, 35.091970521684914, 77.83346089153402, 69.70308762782055, 141.15711392719732, 357.34460817914584, 55.168996106109965, 56.30994738072213, 140.31246909821488, 139.17916362215692, 38.41737216561068, 45.651770874666084, 61.17860647036024, 65.00071830640489, 123.57350454261407, 57.181968486753625, 77.00462203647298, 59.01715700001944, 51.87347594482266, 53.62522428358458, 117.45057677762433, 22.370817359877584, 20.834700741776814, 18.0435086637868, 16.633813228552828, 51.662404081568745, 14.580513591800369, 14.767018037618941, 12.83417766756397, 39.02896805843605, 14.292282434088854, 11.680948157891052, 11.534886209756548, 16.936402965206234, 19.88953925040502, 11.485228089078795, 10.947677451188099, 83.61076344869109, 10.388329762181636, 10.110757939379296, 10.215071480287975, 17.518314543408206, 34.669015193811035, 9.812638568849966, 16.253114536060178, 10.566985898714814, 15.972954456238229, 20.241789249741984, 9.078014828477452, 8.782218106247376, 68.13241241386643, 47.74928505280146, 26.3091063849084, 22.344170807609487, 38.595426082627164, 101.74273980841106, 119.4137508059472, 22.932872544227042, 50.407400021873144, 67.04045212436172, 71.04653991726953, 87.77898680132662, 64.62897056018431, 30.26101856688657, 35.549113972726296, 35.844045324609404, 72.52219342338833, 38.6870668031659, 44.176987708376416, 40.8795211333197, 126.87654474178524, 67.89367301438148, 49.1602728315404, 34.818170198334215, 33.314861969213055, 68.52562184828946, 220.23621637448315, 40.92444042314528, 36.57424939299533, 47.60428839555613, 159.444389325013, 66.16425750803494, 176.14778489828004, 79.36830674272731, 61.05860102098767, 58.10086799132206, 100.48509108554286, 100.6332950394867, 114.277277995323, 98.85253993790208, 74.57796493484477, 70.3877103384583, 72.25451695342318, 66.42995762064002, 59.421737301650765, 71.41801513274719, 57.3916380523048, 60.20093513827547, 55.54223764146919, 30.56317467330862, 28.60793578253383, 29.0668404060166, 23.70084552432861, 24.168918720242047, 22.529266354408804, 19.088668915708134, 18.42270621172726, 15.724635837063877, 25.710052519833397, 12.112590521834804, 12.107943967922612, 11.807570133186733, 93.15424566938646, 25.23840930930011, 10.56525555149971, 10.700192418043862, 10.145766380127961, 10.00319341835914, 10.332682936282449, 8.756975343942427, 8.756959431086564, 8.756937983324313, 9.260521063029184, 8.607207003870034, 8.585943969119674, 8.048478268101253, 820.5798932590143, 23.720815466574223, 11.884909380137376, 795.0521079739699, 55.881643636048764, 15.628628734595251, 203.69735175857673, 215.582566942292, 364.52063231223696, 26.485362834403045, 35.948774193420654, 127.77978979277991, 40.690168726560536, 77.36223895177558, 30.090900483447175, 171.53285948107376, 46.21377560253511, 120.24637261650432, 41.35531226439608, 171.05407900875394, 189.9309990108007, 61.785872187016416, 160.38996380240624, 64.02854983629982, 98.15352809583281, 58.601839798995634, 165.94517222639948, 88.21154659093813, 146.0580653897821, 142.95593854648152, 99.15604355015057, 92.10583477130467, 158.45109716472527, 70.27380610941854, 139.19790315665273, 88.95932904859022, 101.42601935773645, 80.11962415073916, 65.93267940149369], \"Total\": [905.0, 665.0, 1056.0, 771.0, 997.0, 536.0, 881.0, 874.0, 738.0, 271.0, 588.0, 683.0, 461.0, 308.0, 292.0, 280.0, 814.0, 189.0, 318.0, 162.0, 354.0, 233.0, 246.0, 534.0, 388.0, 121.0, 366.0, 231.0, 622.0, 288.0, 771.8676310924687, 308.5304088220796, 118.86525370799535, 280.08820759709903, 95.91997637776669, 94.97397368838872, 55.16925985767373, 54.503152960340884, 91.88941735708107, 36.23301238827088, 34.509057153367166, 32.6439733770295, 31.974780480076642, 35.988797679114455, 30.11005753420763, 34.93578753397172, 62.69692404688754, 26.907356135388714, 23.317312985295136, 22.64896987571143, 44.82029903670455, 74.3800964944384, 20.501327525594657, 19.728399523149555, 39.25492316714047, 18.25001809698313, 20.926815926512145, 42.81095480009106, 997.9367976023125, 16.138306491870555, 155.58804931111172, 881.257688216226, 111.53715103195582, 738.5914869624086, 354.1388659888239, 288.92442209731894, 388.7167575518656, 874.0622743425887, 215.53246975828742, 468.79281573288915, 65.6034928746274, 66.48638519799376, 384.67199502972784, 211.0120188184016, 328.8682401600092, 366.92691447948175, 683.491349411583, 121.26462548101635, 606.4852617426313, 697.5291427158639, 622.3060306247918, 588.7636042754095, 947.1641837537173, 328.68677336350373, 534.463802666003, 664.4428753973725, 399.6596404161207, 180.1209121375846, 224.6572550238022, 461.3607384828185, 401.6637390976601, 814.6160014269436, 308.659951856179, 53.29931595132666, 665.2436610455384, 55.522682102506266, 64.75283763315421, 47.82073062298089, 38.921346055196366, 33.54350196508783, 32.422586583202566, 26.899575689072844, 29.80087957935371, 83.51936917028773, 23.776159803441548, 26.534550025454468, 23.77668927033776, 24.57312736012751, 70.8380203136479, 23.881337452759617, 25.447653959388305, 21.308489596654262, 17.314336169505044, 17.31349511711253, 16.878002840073542, 16.1865038706314, 17.022558139228558, 16.078799731411955, 14.953066296567874, 15.641654445210323, 15.099293951654383, 17.42334917396981, 17.865185936715225, 42.509897480948496, 33.6796080896171, 162.4763638181425, 82.24997040461805, 53.95672860928306, 80.19680281627036, 31.3785690336051, 27.780568435827114, 189.6018441601739, 28.965930086506862, 27.67465296261803, 34.02326718878312, 91.96909821643202, 95.41861809784552, 233.2036412205707, 49.45456326721386, 59.52922141922517, 81.8888371259914, 39.04788513680647, 103.96903930127976, 92.7916879339233, 231.02817487495213, 814.6160014269436, 71.50484621186328, 73.90450552925066, 317.2826294185569, 330.6308410216891, 45.39932909824097, 63.48285028291733, 123.3383608622222, 150.25064731839817, 947.1641837537173, 117.87795747971668, 399.6596404161207, 184.5777415909075, 123.650987788827, 1056.5142358234966, 121.16726070714374, 23.106038580085634, 21.5406186408498, 18.77952290252753, 17.32953637809035, 53.973982268471524, 15.29848299922934, 15.56169719699087, 13.536753057097593, 41.302583928061104, 15.138272218732055, 12.38744324920325, 12.235108787738078, 18.02130098561087, 21.16580894509781, 12.225710450534764, 11.657157922033555, 89.03808421440037, 11.085440135254627, 10.816711548170849, 10.93090670055842, 18.7559059600073, 37.132691901975555, 10.511409001281981, 17.421477073305308, 11.348221440850004, 17.1549167995708, 21.76787565941207, 9.781178714915853, 9.477776098137618, 74.25410305786002, 51.987349876039474, 28.54366858366496, 24.33903520397935, 42.68720073506574, 116.06448814389216, 137.3003450047077, 25.075454037278146, 57.18725834868632, 77.59270711634618, 83.89556153545253, 106.83315992068644, 79.65424235808958, 34.66528223611225, 41.5618254420038, 42.049600799767504, 93.34136859620537, 45.889631329956565, 53.693871493702275, 49.63753497643886, 193.35057522569667, 92.59952075809616, 64.87076363088454, 42.30466687183514, 40.0475805507359, 100.65191347249912, 461.3607384828185, 53.43008104227784, 46.197304028803785, 70.04029977562209, 496.0741859714192, 123.650987788827, 814.6160014269436, 231.02817487495213, 137.1712790554298, 135.24571898832437, 606.4852617426313, 697.5291427158639, 1056.5142358234966, 947.1641837537173, 366.92691447948175, 318.8534613044002, 401.6637390976601, 275.83152265825015, 171.42665486688895, 664.4428753973725, 58.23502325923637, 61.24596707622585, 56.67305367020513, 31.26627260314029, 29.310758357191204, 29.855600250496963, 24.40326096094433, 24.956033735495062, 23.295032518699827, 19.791057232131053, 19.126982328356625, 16.433119632244516, 26.894791913179915, 12.81747613165256, 12.817560425947061, 12.520561995899605, 98.83469493188264, 26.812422804832366, 11.267641377989596, 11.414834820229457, 10.861117474609692, 10.713816558987357, 11.117599125065253, 9.459866036039864, 9.45986457708678, 9.459864261213898, 10.010274284957767, 9.312202850213323, 9.309453759990548, 8.758191076774438, 905.7328509301188, 26.158785827772903, 12.948810398505191, 1056.5142358234966, 66.54775108990393, 17.405137592867458, 271.6900259671771, 292.1532769416643, 536.2768607282966, 31.413764582527076, 44.43946068394065, 188.4880140812117, 52.458847064732815, 109.87743304012898, 38.364560621491734, 318.8534613044002, 65.07744529788017, 246.03903823423002, 60.30249930049415, 496.0741859714192, 588.7636042754095, 110.99565589422076, 534.463802666003, 129.00049928113262, 262.09972984146424, 111.90707686081339, 683.491349411583, 245.6968958703297, 622.3060306247918, 664.4428753973725, 330.6308410216891, 289.2853304738072, 947.1641837537173, 180.09268294048792, 874.0622743425887, 401.6637390976601, 697.5291427158639, 308.659951856179, 219.82769061654324], \"Category\": [\"Default\", \"Default\", \"Default\", \"Default\", \"Default\", \"Default\", \"Default\", \"Default\", \"Default\", \"Default\", \"Default\", \"Default\", \"Default\", \"Default\", \"Default\", \"Default\", \"Default\", \"Default\", \"Default\", \"Default\", \"Default\", \"Default\", \"Default\", \"Default\", \"Default\", \"Default\", \"Default\", \"Default\", \"Default\", \"Default\", \"Topic1\", \"Topic1\", \"Topic1\", \"Topic1\", \"Topic1\", \"Topic1\", \"Topic1\", \"Topic1\", \"Topic1\", \"Topic1\", \"Topic1\", \"Topic1\", \"Topic1\", \"Topic1\", \"Topic1\", \"Topic1\", \"Topic1\", \"Topic1\", \"Topic1\", \"Topic1\", \"Topic1\", \"Topic1\", \"Topic1\", \"Topic1\", \"Topic1\", \"Topic1\", \"Topic1\", \"Topic1\", \"Topic1\", \"Topic1\", \"Topic1\", \"Topic1\", \"Topic1\", \"Topic1\", \"Topic1\", \"Topic1\", \"Topic1\", \"Topic1\", \"Topic1\", \"Topic1\", \"Topic1\", \"Topic1\", \"Topic1\", \"Topic1\", \"Topic1\", \"Topic1\", \"Topic1\", \"Topic1\", \"Topic1\", \"Topic1\", \"Topic1\", \"Topic1\", \"Topic1\", \"Topic1\", \"Topic1\", \"Topic1\", \"Topic1\", \"Topic1\", \"Topic1\", \"Topic1\", \"Topic1\", \"Topic1\", \"Topic1\", \"Topic2\", \"Topic2\", \"Topic2\", \"Topic2\", \"Topic2\", \"Topic2\", \"Topic2\", \"Topic2\", \"Topic2\", \"Topic2\", \"Topic2\", \"Topic2\", \"Topic2\", \"Topic2\", \"Topic2\", \"Topic2\", \"Topic2\", \"Topic2\", \"Topic2\", \"Topic2\", \"Topic2\", \"Topic2\", \"Topic2\", \"Topic2\", \"Topic2\", \"Topic2\", \"Topic2\", \"Topic2\", \"Topic2\", \"Topic2\", \"Topic2\", \"Topic2\", \"Topic2\", \"Topic2\", \"Topic2\", \"Topic2\", \"Topic2\", \"Topic2\", \"Topic2\", \"Topic2\", \"Topic2\", \"Topic2\", \"Topic2\", \"Topic2\", \"Topic2\", \"Topic2\", \"Topic2\", \"Topic2\", \"Topic2\", \"Topic2\", \"Topic2\", \"Topic2\", \"Topic2\", \"Topic2\", \"Topic2\", \"Topic2\", \"Topic2\", \"Topic2\", \"Topic2\", \"Topic2\", \"Topic2\", \"Topic2\", \"Topic2\", \"Topic2\", \"Topic2\", \"Topic2\", \"Topic2\", \"Topic3\", \"Topic3\", \"Topic3\", \"Topic3\", \"Topic3\", \"Topic3\", \"Topic3\", \"Topic3\", \"Topic3\", \"Topic3\", \"Topic3\", \"Topic3\", \"Topic3\", \"Topic3\", \"Topic3\", \"Topic3\", \"Topic3\", \"Topic3\", \"Topic3\", \"Topic3\", \"Topic3\", \"Topic3\", \"Topic3\", \"Topic3\", \"Topic3\", \"Topic3\", \"Topic3\", \"Topic3\", \"Topic3\", \"Topic3\", \"Topic3\", \"Topic3\", \"Topic3\", \"Topic3\", \"Topic3\", \"Topic3\", \"Topic3\", \"Topic3\", \"Topic3\", \"Topic3\", \"Topic3\", \"Topic3\", \"Topic3\", \"Topic3\", \"Topic3\", \"Topic3\", \"Topic3\", \"Topic3\", \"Topic3\", \"Topic3\", \"Topic3\", \"Topic3\", \"Topic3\", \"Topic3\", \"Topic3\", \"Topic3\", \"Topic3\", \"Topic3\", \"Topic3\", \"Topic3\", \"Topic3\", \"Topic3\", \"Topic3\", \"Topic3\", \"Topic3\", \"Topic3\", \"Topic3\", \"Topic3\", \"Topic3\", \"Topic3\", \"Topic3\", \"Topic3\", \"Topic3\", \"Topic3\", \"Topic3\", \"Topic3\", \"Topic4\", \"Topic4\", \"Topic4\", \"Topic4\", \"Topic4\", \"Topic4\", \"Topic4\", \"Topic4\", \"Topic4\", \"Topic4\", \"Topic4\", \"Topic4\", \"Topic4\", \"Topic4\", \"Topic4\", \"Topic4\", \"Topic4\", \"Topic4\", \"Topic4\", \"Topic4\", \"Topic4\", \"Topic4\", \"Topic4\", \"Topic4\", \"Topic4\", \"Topic4\", \"Topic4\", \"Topic4\", \"Topic4\", \"Topic4\", \"Topic4\", \"Topic4\", \"Topic4\", \"Topic4\", \"Topic4\", \"Topic4\", \"Topic4\", \"Topic4\", \"Topic4\", \"Topic4\", \"Topic4\", \"Topic4\", \"Topic4\", \"Topic4\", \"Topic4\", \"Topic4\", \"Topic4\", \"Topic4\", \"Topic4\", \"Topic4\", \"Topic4\", \"Topic4\", \"Topic4\", \"Topic4\", \"Topic4\", \"Topic4\", \"Topic4\", \"Topic4\", \"Topic4\", \"Topic4\", \"Topic4\", \"Topic4\", \"Topic4\", \"Topic4\", \"Topic4\", \"Topic4\", \"Topic4\", \"Topic4\", \"Topic4\"], \"logprob\": [30.0, 29.0, 28.0, 27.0, 26.0, 25.0, 24.0, 23.0, 22.0, 21.0, 20.0, 19.0, 18.0, 17.0, 16.0, 15.0, 14.0, 13.0, 12.0, 11.0, 10.0, 9.0, 8.0, 7.0, 6.0, 5.0, 4.0, 3.0, 2.0, 1.0, -3.4205, -4.3386, -5.2954, -4.4394, -5.5118, -5.523, -6.0711, -6.0845, -5.5622, -6.4973, -6.5478, -6.6046, -6.6254, -6.5072, -6.6866, -6.539, -5.9563, -6.8028, -6.9491, -6.9796, -6.2979, -5.7918, -7.0828, -7.1229, -6.4372, -7.204, -7.0672, -6.3531, -3.2053, -7.3314, -5.0687, -3.3625, -5.4234, -3.572, -4.2992, -4.5121, -4.2327, -3.4795, -4.8143, -4.0847, -5.9485, -5.94, -4.3236, -4.8774, -4.4715, -4.3995, -3.8468, -5.4032, -3.9799, -3.8844, -4.019, -4.0993, -3.7282, -4.617, -4.2345, -4.0688, -4.5539, -5.1171, -5.0111, -4.6186, -4.7578, -4.5412, -4.956, -5.558, -3.0351, -5.5209, -5.3671, -5.6713, -5.8793, -6.0315, -6.0657, -6.2552, -6.1531, -5.1236, -6.3828, -6.2736, -6.3838, -6.3514, -5.2928, -6.3819, -6.3201, -6.4983, -6.7119, -6.7126, -6.7394, -6.7818, -6.7322, -6.7904, -6.8648, -6.8198, -6.8555, -6.7136, -6.6888, -5.824, -6.0596, -4.5113, -5.1786, -5.6015, -5.215, -6.1361, -6.257, -4.4128, -6.2174, -6.2638, -6.0693, -5.1713, -5.1433, -4.3635, -5.748, -5.59, -5.3255, -5.9626, -5.166, -5.2763, -4.5707, -3.6419, -5.5102, -5.4897, -4.5767, -4.5848, -5.872, -5.6995, -5.4068, -5.3462, -4.7037, -5.4743, -5.1767, -5.4427, -5.5718, -5.5385, -4.6486, -6.3069, -6.378, -6.5218, -6.6032, -5.4699, -6.7349, -6.7222, -6.8625, -5.7503, -6.7549, -6.9567, -6.9692, -6.5852, -6.4244, -6.9736, -7.0215, -4.9885, -7.0739, -7.101, -7.0908, -6.5514, -5.8688, -7.131, -6.6263, -7.0569, -6.6437, -6.4069, -7.2088, -7.2419, -5.1932, -5.5487, -6.1447, -6.3081, -5.7615, -4.7922, -4.632, -6.2821, -5.4945, -5.2093, -5.1513, -4.9398, -5.246, -6.0048, -5.8437, -5.8354, -5.1307, -5.7591, -5.6264, -5.704, -4.5714, -5.1967, -5.5195, -5.8645, -5.9086, -5.1874, -4.0199, -5.7029, -5.8153, -5.5517, -4.3429, -5.2225, -4.2433, -5.0405, -5.3028, -5.3524, -4.8046, -4.8031, -4.676, -4.821, -5.1028, -5.1606, -5.1344, -5.2185, -5.33, -5.1461, -5.3332, -5.2854, -5.366, -5.9633, -6.0294, -6.0135, -6.2176, -6.1981, -6.2683, -6.434, -6.4695, -6.6279, -6.1362, -6.8889, -6.8893, -6.9144, -4.8489, -6.1548, -7.0256, -7.0129, -7.0661, -7.0802, -7.0478, -7.2133, -7.2133, -7.2133, -7.1574, -7.2305, -7.233, -7.2976, -2.6731, -6.2168, -6.9079, -2.7047, -5.3599, -6.634, -4.0665, -4.0098, -3.4845, -6.1065, -5.801, -4.5328, -5.6771, -5.0346, -5.9789, -4.2384, -5.5498, -4.5936, -5.6609, -4.2411, -4.1365, -5.2595, -4.3055, -5.2238, -4.7966, -5.3124, -4.2715, -4.9034, -4.3991, -4.4206, -4.7864, -4.8602, -4.3177, -5.1307, -4.4472, -4.8949, -4.7638, -4.9996, -5.1945], \"loglift\": [30.0, 29.0, 28.0, 27.0, 26.0, 25.0, 24.0, 23.0, 22.0, 21.0, 20.0, 19.0, 18.0, 17.0, 16.0, 15.0, 14.0, 13.0, 12.0, 11.0, 10.0, 9.0, 8.0, 7.0, 6.0, 5.0, 4.0, 3.0, 2.0, 1.0, 0.9551, 0.9539, 0.951, 0.9498, 0.949, 0.9477, 0.9428, 0.9416, 0.9416, 0.9371, 0.9353, 0.934, 0.934, 0.9339, 0.9328, 0.9319, 0.9297, 0.9291, 0.926, 0.9247, 0.9238, 0.9233, 0.921, 0.9194, 0.9171, 0.9162, 0.9161, 0.9145, 0.9133, 0.9117, 0.9084, 0.8805, 0.8866, 0.8476, 0.8555, 0.8461, 0.8288, 0.7717, 0.8369, 0.7895, 0.8922, 0.8874, 0.7483, 0.795, 0.7572, 0.7197, 0.6504, 0.8232, 0.6368, 0.5924, 0.5719, 0.547, 0.4427, 0.6122, 0.5086, 0.4566, 0.4798, 0.7136, 0.5986, 0.2716, 0.271, -0.2196, 0.3361, 1.4904, 1.4891, 1.4866, 1.4866, 1.4856, 1.4835, 1.4799, 1.4797, 1.477, 1.4767, 1.4757, 1.4728, 1.4723, 1.4718, 1.4713, 1.4712, 1.4693, 1.4676, 1.4669, 1.4609, 1.4602, 1.459, 1.4583, 1.4576, 1.4565, 1.4547, 1.4546, 1.4542, 1.4529, 1.4527, 1.4506, 1.4478, 1.4225, 1.436, 1.4346, 1.4249, 1.4422, 1.443, 1.3666, 1.4408, 1.44, 1.428, 1.3316, 1.3228, 1.2089, 1.3753, 1.3479, 1.2934, 1.397, 1.2143, 1.2177, 1.0111, 0.6798, 1.2444, 1.2319, 0.6879, 0.6385, 1.3368, 1.174, 0.8026, 0.6659, -0.5329, 0.7804, -0.143, 0.3635, 0.6351, -1.4769, 1.5786, 1.5774, 1.5764, 1.5697, 1.5687, 1.5659, 1.5616, 1.5573, 1.5564, 1.5531, 1.5522, 1.551, 1.5508, 1.5476, 1.5475, 1.5472, 1.5469, 1.5468, 1.5448, 1.5422, 1.542, 1.5414, 1.5411, 1.5409, 1.5403, 1.5384, 1.5383, 1.537, 1.5351, 1.5335, 1.5237, 1.5247, 1.5282, 1.5242, 1.5089, 1.478, 1.4701, 1.5204, 1.4835, 1.4635, 1.4435, 1.4133, 1.4007, 1.4738, 1.4534, 1.45, 1.3573, 1.439, 1.4146, 1.4156, 1.1884, 1.2994, 1.3324, 1.415, 1.4256, 1.2252, 0.8702, 1.3431, 1.3761, 1.2236, 0.4747, 0.9844, 0.0783, 0.5413, 0.8003, 0.7648, -0.188, -0.3264, -0.6144, -0.6501, 0.0164, 0.099, -0.1057, 0.1861, 0.5502, -0.6207, 1.6266, 1.624, 1.6211, 1.6185, 1.6169, 1.6144, 1.612, 1.6092, 1.6078, 1.6051, 1.6037, 1.5971, 1.5962, 1.5846, 1.5843, 1.5826, 1.582, 1.5807, 1.5768, 1.5766, 1.5731, 1.5726, 1.568, 1.564, 1.564, 1.564, 1.5634, 1.5625, 1.5603, 1.5567, 1.5425, 1.5434, 1.5555, 1.3569, 1.4665, 1.5335, 1.3532, 1.3373, 1.2551, 1.4706, 1.4292, 1.2525, 1.3872, 1.2903, 1.3983, 1.0213, 1.2989, 0.9253, 1.264, 0.5765, 0.5098, 1.0554, 0.4376, 0.9407, 0.659, 0.9943, 0.2257, 0.6168, 0.1918, 0.1048, 0.4369, 0.4967, -0.1468, 0.7001, -0.196, 0.1338, -0.287, 0.2925, 0.437]}, \"token.table\": {\"Topic\": [2, 3, 4, 1, 3, 4, 2, 3, 4, 1, 2, 3, 4, 1, 4, 1, 4, 1, 1, 4, 4, 1, 2, 4, 1, 3, 1, 2, 3, 4, 3, 2, 2, 2, 4, 2, 3, 4, 2, 1, 2, 3, 4, 2, 4, 1, 1, 2, 3, 4, 1, 1, 4, 1, 2, 3, 4, 1, 2, 3, 4, 1, 2, 3, 4, 1, 4, 1, 2, 3, 4, 1, 2, 2, 3, 4, 4, 2, 2, 3, 4, 1, 4, 1, 3, 2, 3, 4, 1, 2, 3, 4, 1, 2, 3, 4, 1, 2, 4, 2, 1, 2, 3, 2, 3, 4, 1, 3, 2, 1, 2, 3, 4, 2, 3, 4, 2, 3, 4, 1, 4, 2, 3, 1, 2, 3, 4, 2, 3, 4, 1, 2, 4, 2, 1, 4, 4, 2, 3, 2, 3, 2, 3, 4, 1, 3, 4, 4, 2, 3, 4, 2, 3, 4, 1, 2, 3, 4, 4, 2, 3, 1, 1, 2, 3, 3, 1, 3, 2, 3, 4, 3, 1, 3, 1, 2, 3, 4, 3, 1, 2, 3, 4, 2, 2, 1, 2, 3, 4, 1, 2, 3, 4, 1, 3, 4, 1, 2, 3, 4, 1, 2, 3, 4, 1, 3, 1, 2, 3, 3, 2, 2, 3, 4, 1, 3, 4, 1, 2, 3, 4, 2, 3, 2, 1, 2, 3, 4, 1, 2, 4, 3, 1, 3, 4, 2, 3, 4, 4, 1, 4, 1, 2, 3, 1, 4, 1, 2, 3, 2, 1, 1, 2, 3, 4, 2, 2, 3, 2, 3, 4, 1, 2, 3, 4, 1, 1, 2, 3, 4, 1, 2, 3, 4, 1, 2, 3, 4, 3, 4, 3, 4, 1, 2, 3, 4, 2, 3, 4, 2, 3, 4, 2, 1, 1, 2, 3, 4, 4, 1, 2, 4, 2, 3, 4, 3, 2, 3, 2, 3, 4, 1, 2, 3, 4, 2, 3, 4, 1, 2, 3, 4, 4, 2, 3, 4, 1, 2, 3, 4, 1, 2, 3, 4, 2, 3, 4, 2, 3, 4, 2, 3, 2, 1, 2, 3, 2, 2, 3, 4, 2, 3, 4, 1, 2, 3, 4, 2, 3, 4, 2, 3, 4, 2, 3, 4, 2, 3, 1, 2, 3, 4, 2, 3, 4, 3, 1, 3, 2, 1, 1, 2, 3, 4, 2, 3, 2, 1, 2, 3, 4, 1, 2, 4, 4, 3, 1, 4, 3, 2, 1, 3, 4, 4, 2, 3, 4, 3, 1, 2, 3, 4, 2, 3, 1, 2, 3, 1, 3, 4, 3, 2, 3, 1, 2, 3, 4, 2, 3, 1, 2, 3, 4, 2, 3, 4, 2, 3, 4, 1, 1, 2, 4, 2, 1, 2, 3, 1, 2, 3, 4, 3, 2, 3, 2, 3, 1, 3, 4, 4, 3, 4, 1, 3, 4, 2, 3, 4, 1, 1, 2, 3, 4, 3, 4, 2, 3, 4, 4, 2, 3, 2, 3, 1, 3, 4, 1, 2, 3, 4, 4, 1, 2, 4, 1, 4, 1, 2, 3, 4, 1, 2, 4, 1, 2, 3, 4, 1, 3, 4, 1, 2, 3, 4, 4, 1, 2, 3, 4, 4, 2, 3, 3, 2, 3, 4, 1, 2, 3, 1, 2, 3, 2, 3, 4, 2, 1, 2, 3, 4, 1, 2, 3, 4, 2, 3, 4, 3, 4, 1, 2, 3, 4, 1, 2, 3, 4, 2], \"Freq\": [0.4205384924931322, 0.5337603943182062, 0.04043639350895502, 0.21512829730665586, 0.061465227801901674, 0.7068501197218693, 0.963095138431714, 0.2984950907308829, 0.6799054844425665, 0.5608552137345415, 0.05341478226043252, 0.011446024770092683, 0.37390347582302763, 0.9630786307680539, 0.9584234321055168, 0.9802728249532685, 0.9333742037622842, 0.9662785102028157, 0.9298285400226329, 0.045729272460129484, 0.941078926669691, 0.38740254880766817, 0.04504680800089165, 0.5585804192110564, 0.9788059535203082, 0.9201345014047652, 0.8964282012572844, 0.0034611127461671213, 0.09691115689267939, 0.0034611127461671213, 0.9693148884461739, 0.981893019578544, 0.9731256395563384, 0.9501298208355669, 0.029691556901111464, 0.0937049029011211, 0.9136228032859307, 0.8990762634270786, 0.9266979528059682, 0.81108061941418, 0.005199234739834487, 0.07018966898776557, 0.11178354690644146, 0.208525781877935, 0.7819716820422563, 0.969514083742216, 0.986391528668194, 0.9266684858169418, 0.018533369716338836, 0.03706673943267767, 0.9852485928228991, 0.99356905835557, 0.9893978056314956, 0.6380226280975995, 0.018710340999929603, 0.04303378429983809, 0.29936545599887365, 0.8963006095867623, 0.01624714095927666, 0.01353928413273055, 0.07446606273001802, 0.3081206354409062, 0.43824329423268327, 0.21605271648446012, 0.036827167582578424, 0.9897448358685681, 0.9207155730869546, 0.2332132506120696, 0.2665294292709367, 0.10550123241974577, 0.388688751020116, 0.03452331746343018, 0.9321295715126149, 0.04108626293603057, 0.9038977845926726, 0.9616912789256535, 0.971342051631244, 0.9757021930891285, 0.11251261655852811, 0.06750756993511686, 0.8100908392214023, 0.016327605681455144, 0.9796563408873087, 0.9794381397616352, 0.010882645997351502, 0.8372377406462652, 0.14135182634287594, 0.010873217410990458, 0.18619029169154253, 0.14481467131564418, 0.6568379734673861, 0.015515857640961878, 0.7828074948471154, 0.07217374065966313, 0.0388627834321263, 0.10548469788719995, 0.15383572698566272, 0.7691786349283137, 0.06992533044802851, 0.9818453236423427, 0.10580072754278687, 0.7502233407579433, 0.14427371937652755, 0.0871656599557124, 0.8498651845681959, 0.0653742449667843, 0.05548988948125616, 0.9433281211813548, 0.947979458920999, 0.5378086758639429, 0.01619905650192599, 0.1846692441219563, 0.25918490403081584, 0.09468293761063937, 0.8667130442820065, 0.036416514465630524, 0.2427174077561122, 0.6853197395466697, 0.08566496744333371, 0.017645070015447795, 0.9881239208650764, 0.16761689462186768, 0.8194603737069087, 0.8447228428211123, 0.05759473928325766, 0.05972787777523016, 0.0362633543635326, 0.040401807798585224, 0.9157743101012651, 0.040401807798585224, 0.2548293969497263, 0.03640419956424661, 0.7007808416117474, 0.9665579970676538, 0.5080494579116326, 0.48772747959516727, 0.9664737919442797, 0.8702447000494864, 0.1265810472799253, 0.05331653944801559, 0.9596977100642806, 0.16070045067466257, 0.7820755266166912, 0.06428018026986504, 0.4728663868739131, 0.023255723944618674, 0.49612211081853175, 0.9736434930227938, 0.026930447236086254, 0.9425656532630189, 0.05386089447217251, 0.8694849809442572, 0.10110290476096014, 0.02022058095219203, 0.9569744319425094, 0.03006202404007883, 0.007014472276018394, 0.005010337340013138, 0.9762469030552915, 0.9232112073107008, 0.07385689658485607, 0.9755465822899136, 0.9324247485055773, 0.008965622581784398, 0.05379373549070639, 0.9244953935830009, 0.9680314450802201, 0.02547451171263737, 0.8059706587169461, 0.012211676647226456, 0.17096347306117038, 0.9584908037028665, 0.9631333306837255, 0.9749023623757691, 0.4362430133932255, 0.06654554441591576, 0.4288490640136793, 0.06654554441591576, 0.8997432128387147, 0.16253314046116726, 0.31964850957362895, 0.2221286252969286, 0.2979774241788066, 0.9905861517723281, 0.939929232089267, 0.8741213653984691, 0.04947856785274353, 0.024739283926371765, 0.05772499582820079, 0.4412469735786041, 0.4412469735786041, 0.04097293326087038, 0.0756423383277607, 0.9925444644206411, 0.003570303828851227, 0.003570303828851227, 0.9259493686252932, 0.03517699807277462, 0.03631173994608993, 0.0022694837466306207, 0.5028603013835342, 0.010837506495334789, 0.4768502857947307, 0.008670005196267832, 0.9729344928370249, 0.015949745784213522, 0.9593867270895748, 0.022311319234641275, 0.022311319234641275, 0.980984120353792, 0.9766766617969241, 0.01871604872185625, 0.7673579975961062, 0.20587653594041874, 0.9512298705157055, 0.012854457709671696, 0.03213614427417924, 0.19168020494660343, 0.02738288642094335, 0.04449719043403294, 0.7393379333654704, 0.8963353553560077, 0.07682874474480066, 0.967355543962604, 0.6988423319930888, 0.08457327584629737, 0.133536751336259, 0.08457327584629737, 0.040471617813530154, 0.010117904453382539, 0.9409651141645762, 0.9804893727538623, 0.5669143324045913, 0.11407422542287508, 0.3180251133001366, 0.9409573386509966, 0.04704786693254983, 0.8994747775582623, 0.9787924312532924, 0.24660456253956953, 0.7508556829563012, 0.886177382991065, 0.004639672162256885, 0.10671245973190835, 0.9975803738656259, 0.0012955589270982155, 0.47835887867771515, 0.49457443388712924, 0.02432333281412111, 0.9798545660302633, 0.9982808539874413, 0.6596075298490534, 0.009098034894469701, 0.031843122130643955, 0.30023515151750013, 0.9362628187646952, 0.14982178492402698, 0.8240198170821483, 0.7543779142141137, 0.22631337426423412, 0.01077682734591591, 0.08897182528423955, 0.05111147409945676, 0.10790200087663095, 0.7524744797975579, 0.9713466051978205, 0.5975732715703828, 0.13091711249951848, 0.10452253336655104, 0.1668137401203542, 0.20552766317546386, 0.06255189748818465, 0.20552766317546386, 0.5272231359718421, 0.23988347582927055, 0.09474389381492199, 0.3205165769483531, 0.34470650728407787, 0.9436262315026683, 0.9873349599978882, 0.12733271714351851, 0.8276626614328704, 0.292759228482811, 0.003729416923347911, 0.022376501540087464, 0.6806185885109938, 0.023638054000745777, 0.8273318900261023, 0.16546637800522046, 0.04593925542603954, 0.9187851085207909, 0.04593925542603954, 0.9589778403903555, 0.9732140707272806, 0.18568819970122846, 0.021221508537283253, 0.11671829695505789, 0.6790882731930641, 0.9513878266079367, 0.1321605433202861, 0.8370167743618119, 0.9513876798796217, 0.024211560268039233, 0.9442508504535301, 0.024211560268039233, 0.9603484635618611, 0.9824088318670667, 0.9807840868588188, 0.10727623530115817, 0.8462903007091367, 0.047678326800514745, 0.725491661142326, 0.07254916611423261, 0.16488446844143773, 0.036274583057116304, 0.1727870713477865, 0.7343450532280927, 0.08639353567389325, 0.8179567594277861, 0.05169243461067793, 0.015203657238434686, 0.1155477950121036, 0.9834751199198452, 0.012554259137943346, 0.8160268439663175, 0.17575962793120684, 0.6938778186607691, 0.01576995042410839, 0.14479681753044976, 0.14479681753044976, 0.6641035504923969, 0.008492372768444972, 0.005095423661066983, 0.32271016520090895, 0.48355096422338345, 0.30540060898318955, 0.2120837562383261, 0.14102231312096072, 0.8259878339941985, 0.020146044731565817, 0.11538922351057727, 0.8654191763293295, 0.9515714003884417, 0.9907683696628156, 0.07006807811468792, 0.910885015490943, 0.9673340025809772, 0.29805692673887246, 0.6855309314994067, 0.009935230891295749, 0.12987770880004232, 0.800912537600261, 0.08658513920002822, 0.7088815823517148, 0.0030424102246854713, 0.1399508703355317, 0.14603569078490264, 0.8567221069605552, 0.13438778148400865, 0.01679847268550108, 0.0947748977823659, 0.8788217794364839, 0.025847699395190705, 0.016506108897137793, 0.965607370482561, 0.008253054448568897, 0.9560665423547928, 0.03186888474515976, 0.6797298743438343, 0.009641558501330982, 0.07552554159375936, 0.23461125686572057, 0.11599028226331856, 0.8634832124047048, 0.025775618280737458, 0.9248083135059786, 0.9680008953118746, 0.02688891375866318, 0.9329054562882337, 0.9927207179473916, 0.24196169889291141, 0.4204084518264336, 0.03629425483393671, 0.2994276023799779, 0.9394878423631873, 0.03613414778319951, 0.9828373466425777, 0.8798179994963754, 0.002572567249989402, 0.02572567249989402, 0.09261242099961847, 0.9325217458486654, 0.04512201996041929, 0.015040673320139765, 0.9134306308085628, 0.9687229042015454, 0.07722717139448114, 0.9267260567337736, 0.9521320551659213, 0.9855226906039037, 0.9294655549859608, 0.076456147971386, 0.917473775656632, 0.9600295616928054, 0.9861048491149687, 0.00901925166873447, 0.004509625834367235, 0.9513472455291571, 0.03144040502581684, 0.8384108006884491, 0.11528148509466174, 0.010480135008605613, 0.9359059754324246, 0.03599638367047787, 0.043284763883940425, 0.61031517076356, 0.34194963468312933, 0.9904089178030706, 0.8561317899645565, 0.14268863166075943, 0.9020841642721392, 0.9943842440379536, 0.9184066272151276, 0.6065231713997751, 0.07073595299203332, 0.10685643962626311, 0.21521789952895246, 0.9698349114065866, 0.023946541022384853, 0.1114905404732015, 0.7461290016283486, 0.14150722444675576, 0.00428809771050775, 0.974053194802597, 0.028233425936307156, 0.9667591925403298, 0.9361705496209725, 0.04863223634394662, 0.012158059085986654, 0.972524848206077, 0.9576987990913203, 0.02335850729491025, 0.9636582721727797, 0.9271956718523294, 0.2300265711577161, 0.7577345873430649, 0.0135309747739833, 0.8306044332436711, 0.005720416206912335, 0.003432249724147401, 0.1590275705521629, 0.949589851755255, 0.9405328366156981, 0.05878330228848113, 0.04724600900414009, 0.9449201800828018, 0.05745430018374547, 0.05745430018374547, 0.9192688029399275, 0.9362217551056081, 0.03729614467439218, 0.9324036168598044, 0.437409349924881, 0.4446995057569624, 0.10935233748122025, 0.05245923806502807, 0.8743206344171346, 0.05245923806502807, 0.9557115650194082, 0.011231149106847778, 0.04492459642739111, 0.9434165249752133, 0.011231149106847778, 0.9326772135904678, 0.05829232584940424, 0.03987963681588222, 0.9172316467652911, 0.03987963681588222, 0.9362155980718418, 0.1684870129589287, 0.8237142855769848, 0.9883736734840983, 0.015443338648189036, 0.24149024346481948, 0.21953658496801773, 0.5394327516357007, 0.5764388292812996, 0.003625401442020753, 0.23927649517336969, 0.17764467065901687, 0.9667299187118299, 0.09163850015461546, 0.0022081566302316977, 0.906448296710112, 0.6389987119855969, 0.35816488315116257, 0.7876227897045166, 0.005450676745359977, 0.2044003779509991, 0.0027253383726799883, 0.8482929124243327, 0.004739066549856607, 0.14217199649569823, 0.7359273828893843, 0.011704610463449453, 0.010241534155518272, 0.24287066711657615, 0.9036003408055718, 0.08471253195052235, 0.011295004260069647, 0.015415264813129263, 0.09249158887877558, 0.7553479758433339, 0.13873738331816338, 0.9513878583755823, 0.6205280066353096, 0.19266393754402758, 0.13011071106869396, 0.05754896835730694, 0.9914837113294551, 0.03705489044799061, 0.9634271516477558, 0.9639051454426524, 0.12030270438860054, 0.8661794715979239, 0.024060540877720107, 0.012469325021484767, 0.9227300515898726, 0.06234662510742383, 0.9863003918322437, 0.9837971012790047, 0.9148371927361832, 0.038470897338850174, 0.9233015361324042, 0.038470897338850174, 0.9869662902397337, 0.019062561530679978, 0.09531280765339989, 0.11437536918407987, 0.7815650227578791, 0.385004304326234, 0.18666875361271953, 0.3441705144734516, 0.08166757970556479, 0.7246051460354512, 0.22053200096731124, 0.047256857350138126, 0.1502680381563956, 0.8415010136758153, 0.5029082297889129, 0.09460649867316183, 0.17925441853862242, 0.22157837847135273, 0.12645536201742175, 0.43261044900696916, 0.3793660860522653, 0.059899908324041885, 0.9763280012492436], \"Term\": [\"...\", \"...\", \"...\", \".the\", \".the\", \".the\", \"All\", \"Amazing\", \"Amazing\", \"BTS\", \"BTS\", \"BTS\", \"BTS\", \"Beautifully\", \"Brilliant\", \"Cake\", \"Every\", \"Everyone\", \"Excellent\", \"Excellent\", \"Flower\", \"Flowers\", \"Flowers\", \"Flowers\", \"Fresh\", \"GORGEOUS\", \"Good\", \"Good\", \"Good\", \"Good\", \"Highly\", \"How\", \"LOVED\", \"Lannister\", \"Lannister\", \"Looks\", \"Looks\", \"Loved\", \"Many\", \"Nice\", \"Nice\", \"Nice\", \"Nice\", \"One\", \"One\", \"Perfect\", \"Pika\", \"Product\", \"Product\", \"Product\", \"Simple\", \"Tasty\", \"Team\", \"Thank\", \"Thank\", \"Thank\", \"Thank\", \"Thanks\", \"Thanks\", \"Thanks\", \"Thanks\", \"The\", \"The\", \"The\", \"The\", \"These\", \"Totally\", \"Very\", \"Very\", \"Very\", \"Very\", \"WOW\", \"WOW\", \"Well\", \"Well\", \"Wonderful\", \"Your\", \"according\", \"actually\", \"actually\", \"actually\", \"affordable\", \"affordable\", \"alot\", \"alot\", \"already\", \"already\", \"already\", \"also\", \"also\", \"also\", \"also\", \"amazing\", \"amazing\", \"amazing\", \"amazing\", \"another\", \"another\", \"another\", \"answer\", \"arrived\", \"arrived\", \"arrived\", \"asleep\", \"asleep\", \"asleep\", \"assigned\", \"assigned\", \"await\", \"awesome\", \"awesome\", \"awesome\", \"awesome\", \"baby\", \"baby\", \"baby\", \"back\", \"back\", \"back\", \"balloon\", \"balloon\", \"battery\", \"battery\", \"beautiful\", \"beautiful\", \"beautiful\", \"beautiful\", \"belly\", \"belly\", \"belly\", \"best\", \"best\", \"best\", \"beyond\", \"birthday\", \"birthday\", \"birthday.thanks\", \"bought\", \"bought\", \"breath\", \"breath\", \"breathing\", \"breathing\", \"breathing\", \"brother\", \"brother\", \"brother\", \"bts\\u2026\", \"button\", \"button\", \"button\", \"buy\", \"buy\", \"buy\", \"cake\", \"cake\", \"cake\", \"cake\", \"cake.Thanks\", \"came\", \"came\", \"carnation\", \"chocolate\", \"chocolate\", \"chocolate\", \"choice\", \"colour\", \"colour\", \"come\", \"come\", \"come\", \"coming\", \"compliment\", \"creativity\", \"cute\", \"cute\", \"cute\", \"cute\", \"dark\", \"day\", \"day\", \"day\", \"day\", \"deadline\", \"defect\", \"delicious\", \"delicious\", \"delicious\", \"delicious\", \"delivered\", \"delivered\", \"delivered\", \"delivered\", \"delivering\", \"delivering\", \"delivering\", \"delivery\", \"delivery\", \"delivery\", \"delivery\", \"design\", \"design\", \"design\", \"design\", \"designed\", \"designed\", \"designer\", \"designer\", \"designer\", \"earlier\", \"eating\", \"engine\", \"engine\", \"engine\", \"enjoyed\", \"enjoyed\", \"enjoyed\", \"excellent\", \"excellent\", \"excellent\", \"excellent\", \"exchange\", \"exchange\", \"expectation\", \"experience\", \"experience\", \"experience\", \"experience\", \"extremely\", \"extremely\", \"extremely\", \"falling\", \"fantastic\", \"fantastic\", \"fantastic\", \"far\", \"far\", \"fastener\", \"father\", \"felt\", \"felt\", \"flavour\", \"flavour\", \"flavour\", \"flower\", \"flower\", \"frame\", \"frame\", \"frame\", \"freight\", \"fresh\", \"friend\", \"friend\", \"friend\", \"friend\", \"fulfilled\", \"game\", \"game\", \"get\", \"get\", \"get\", \"gift\", \"gift\", \"gift\", \"gift\", \"gift.Thank\", \"good\", \"good\", \"good\", \"good\", \"got\", \"got\", \"got\", \"got\", \"great\", \"great\", \"great\", \"great\", \"great\\u2026\", \"happily\", \"happiness\", \"happiness\", \"happy\", \"happy\", \"happy\", \"happy\", \"hard\", \"hard\", \"hard\", \"heavy\", \"heavy\", \"heavy\", \"helped\", \"highly\", \"idea\", \"idea\", \"idea\", \"idea\", \"idea.keep\", \"image\", \"image\", \"important.I\", \"inside\", \"inside\", \"inside\", \"instruction\", \"invoice\", \"kept\", \"light\", \"light\", \"light\", \"like\", \"like\", \"like\", \"like\", \"little\", \"little\", \"little\", \"lot\", \"lot\", \"lot\", \"lot\", \"lot\\u2026thanks\", \"loud\", \"loud\", \"loud\", \"love\", \"love\", \"love\", \"love\", \"loved\", \"loved\", \"loved\", \"loved\", \"make\", \"make\", \"make\", \"making\", \"making\", \"making\", \"mechanism\", \"mechanism\", \"merchandise\", \"midnight\", \"minute\", \"minute\", \"model\", \"month\", \"month\", \"month\", \"movement\", \"movement\", \"movement\", \"much\", \"much\", \"much\", \"much\", \"mug\", \"mug\", \"mug\", \"music\", \"music\", \"music\", \"n't\", \"n't\", \"n't\", \"new\", \"new\", \"nice\", \"nice\", \"nice\", \"nice\", \"noise\", \"noise\", \"noise\", \"noisy\", \"occasion\", \"occasion\", \"office\", \"on-time\", \"one\", \"one\", \"one\", \"one\", \"packaging\", \"packaging\", \"paid\", \"perfect\", \"perfect\", \"perfect\", \"perfect\", \"perfectly\", \"perfectly\", \"perfectly\", \"personal\", \"personalised\", \"pikachu\", \"pikachu\", \"pineapple\", \"post\", \"prepared\", \"presented\", \"presented\", \"prices\\u2026\", \"product\", \"product\", \"product\", \"provided\", \"purchase\", \"purchase\", \"purchase\", \"purchase\", \"purchased\", \"purchased\", \"quality\", \"quality\", \"quality\", \"quick\", \"quite\", \"quite\", \"quote\", \"rated\", \"rather\", \"really\", \"really\", \"really\", \"really\", \"receive\", \"receive\", \"received\", \"received\", \"received\", \"received\", \"request\", \"request\", \"responding\", \"return\", \"return\", \"return\", \"ride\", \"rose\", \"rose\", \"seeing\", \"seller\", \"sent\", \"sent\", \"sent\", \"service\", \"service\", \"service\", \"service\", \"service.thanks\", \"set\", \"set\", \"setting\", \"setting\", \"share\", \"share\", \"share\", \"shocked\", \"show\", \"show\", \"simply\", \"simply\", \"simply\", \"sleep\", \"sleep\", \"sleep\", \"smell\", \"soft\", \"soft\", \"soft\", \"soft\", \"song\", \"song\", \"soothing\", \"soothing\", \"soothing\", \"sorry\", \"sound\", \"sound\", \"store\", \"store\", \"super\", \"super\", \"super\", \"superb\", \"superb\", \"superb\", \"superb\", \"support\", \"surprise\", \"surprise\", \"surprise\", \"surprised\", \"surprised\", \"taste\", \"taste\", \"taste\", \"taste\", \"tasty\", \"tasty\", \"tasty\", \"team\", \"team\", \"team\", \"team\", \"thank\", \"thank\", \"thank\", \"thing\", \"thing\", \"thing\", \"thing\", \"this.Thank\", \"time\", \"time\", \"time\", \"time\", \"timely\", \"toy\", \"toy\", \"tummy\", \"turn\", \"turn\", \"turn\", \"two\", \"two\", \"two\", \"unique\", \"value\", \"via\", \"volume\", \"volume\", \"volume\", \"waiting\", \"way\", \"way\", \"way\", \"way\", \"well\", \"well\", \"well\", \"well\", \"without\", \"without\", \"without\", \"wonderful\", \"wonderful\", \"work\", \"work\", \"work\", \"work\", \"would\", \"would\", \"would\", \"would\", \"wrong\"]}, \"R\": 30, \"lambda.step\": 0.01, \"plot.opts\": {\"xlab\": \"PC1\", \"ylab\": \"PC2\"}, \"topic.order\": [4, 2, 3, 1]};\n",
       "\n",
       "function LDAvis_load_lib(url, callback){\n",
       "  var s = document.createElement('script');\n",
       "  s.src = url;\n",
       "  s.async = true;\n",
       "  s.onreadystatechange = s.onload = callback;\n",
       "  s.onerror = function(){console.warn(\"failed to load library \" + url);};\n",
       "  document.getElementsByTagName(\"head\")[0].appendChild(s);\n",
       "}\n",
       "\n",
       "if(typeof(LDAvis) !== \"undefined\"){\n",
       "   // already loaded: just create the visualization\n",
       "   !function(LDAvis){\n",
       "       new LDAvis(\"#\" + \"ldavis_el1525620192617548326709810234\", ldavis_el1525620192617548326709810234_data);\n",
       "   }(LDAvis);\n",
       "}else if(typeof define === \"function\" && define.amd){\n",
       "   // require.js is available: use it to load d3/LDAvis\n",
       "   require.config({paths: {d3: \"https://d3js.org/d3.v5\"}});\n",
       "   require([\"d3\"], function(d3){\n",
       "      window.d3 = d3;\n",
       "      LDAvis_load_lib(\"https://cdn.jsdelivr.net/gh/bmabey/pyLDAvis@3.3.1/pyLDAvis/js/ldavis.v3.0.0.js\", function(){\n",
       "        new LDAvis(\"#\" + \"ldavis_el1525620192617548326709810234\", ldavis_el1525620192617548326709810234_data);\n",
       "      });\n",
       "    });\n",
       "}else{\n",
       "    // require.js not available: dynamically load d3 & LDAvis\n",
       "    LDAvis_load_lib(\"https://d3js.org/d3.v5.js\", function(){\n",
       "         LDAvis_load_lib(\"https://cdn.jsdelivr.net/gh/bmabey/pyLDAvis@3.3.1/pyLDAvis/js/ldavis.v3.0.0.js\", function(){\n",
       "                 new LDAvis(\"#\" + \"ldavis_el1525620192617548326709810234\", ldavis_el1525620192617548326709810234_data);\n",
       "            })\n",
       "         });\n",
       "}\n",
       "</script>"
      ],
      "text/plain": [
       "PreparedData(topic_coordinates=              x         y  topics  cluster       Freq\n",
       "topic                                                \n",
       "3     -0.206235  0.130039       1        1  38.401909\n",
       "1      0.215866  0.025866       2        1  22.228939\n",
       "2      0.117562  0.005741       3        1  19.994556\n",
       "0     -0.127193 -0.161646       4        1  19.374596, topic_info=         Term         Freq        Total Category  logprob  loglift\n",
       "106  surprise   905.000000   905.000000  Default  30.0000  30.0000\n",
       "53    product   665.000000   665.000000  Default  29.0000  29.0000\n",
       "97       gift  1056.000000  1056.000000  Default  28.0000  28.0000\n",
       "70     flower   771.000000   771.000000  Default  27.0000  27.0000\n",
       "62       cake   997.000000   997.000000  Default  26.0000  26.0000\n",
       "..        ...          ...          ...      ...      ...      ...\n",
       "76    service   139.197903   874.062274   Topic4  -4.4472  -0.1960\n",
       "23       work    88.959329   401.663739   Topic4  -4.8949   0.1338\n",
       "124      love   101.426019   697.529143   Topic4  -4.7638  -0.2870\n",
       "571   awesome    80.119624   308.659952   Topic4  -4.9996   0.2925\n",
       "71     friend    65.932679   219.827691   Topic4  -5.1945   0.4370\n",
       "\n",
       "[305 rows x 6 columns], token_table=      Topic      Freq   Term\n",
       "term                        \n",
       "509       2  0.420538    ...\n",
       "509       3  0.533760    ...\n",
       "509       4  0.040436    ...\n",
       "202       1  0.215128   .the\n",
       "202       3  0.061465   .the\n",
       "...     ...       ...    ...\n",
       "495       1  0.126455  would\n",
       "495       2  0.432610  would\n",
       "495       3  0.379366  would\n",
       "495       4  0.059900  would\n",
       "698       2  0.976328  wrong\n",
       "\n",
       "[558 rows x 3 columns], R=30, lambda_step=0.01, plot_opts={'xlab': 'PC1', 'ylab': 'PC2'}, topic_order=[4, 2, 3, 1])"
      ]
     },
     "execution_count": 96,
     "metadata": {},
     "output_type": "execute_result"
    }
   ],
   "source": [
    "import pyLDAvis\n",
    "import pyLDAvis.gensim_models as gensimvis\n",
    "pyLDAvis.enable_notebook()\n",
    "vis = gensimvis.prepare(lda_model, bow_corpus, dic)\n",
    "vis"
   ]
  },
  {
   "cell_type": "code",
   "execution_count": null,
   "id": "d0ef2dd3",
   "metadata": {},
   "outputs": [],
   "source": []
  }
 ],
 "metadata": {
  "kernelspec": {
   "display_name": "Python 3 (ipykernel)",
   "language": "python",
   "name": "python3"
  },
  "language_info": {
   "codemirror_mode": {
    "name": "ipython",
    "version": 3
   },
   "file_extension": ".py",
   "mimetype": "text/x-python",
   "name": "python",
   "nbconvert_exporter": "python",
   "pygments_lexer": "ipython3",
   "version": "3.9.7"
  }
 },
 "nbformat": 4,
 "nbformat_minor": 5
}
