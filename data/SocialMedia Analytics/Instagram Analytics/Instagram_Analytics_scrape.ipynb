{
 "cells": [
  {
   "cell_type": "code",
   "execution_count": 3,
   "id": "eb0d10e4",
   "metadata": {
    "scrolled": true
   },
   "outputs": [
    {
     "name": "stdout",
     "output_type": "stream",
     "text": [
      "Collecting selenium\n",
      "  Downloading selenium-4.1.3-py3-none-any.whl (968 kB)\n",
      "Requirement already satisfied: urllib3[secure,socks]~=1.26 in c:\\users\\suhai\\anaconda3\\lib\\site-packages (from selenium) (1.26.7)\n",
      "Collecting trio-websocket~=0.9\n",
      "  Using cached trio_websocket-0.9.2-py3-none-any.whl (16 kB)\n",
      "Collecting trio~=0.17\n",
      "  Using cached trio-0.20.0-py3-none-any.whl (359 kB)\n",
      "Requirement already satisfied: attrs>=19.2.0 in c:\\users\\suhai\\anaconda3\\lib\\site-packages (from trio~=0.17->selenium) (21.2.0)\n",
      "Requirement already satisfied: sortedcontainers in c:\\users\\suhai\\anaconda3\\lib\\site-packages (from trio~=0.17->selenium) (2.4.0)\n",
      "Requirement already satisfied: sniffio in c:\\users\\suhai\\anaconda3\\lib\\site-packages (from trio~=0.17->selenium) (1.2.0)\n",
      "Requirement already satisfied: cffi>=1.14 in c:\\users\\suhai\\anaconda3\\lib\\site-packages (from trio~=0.17->selenium) (1.14.6)\n",
      "Collecting outcome\n",
      "  Using cached outcome-1.1.0-py2.py3-none-any.whl (9.7 kB)\n",
      "Requirement already satisfied: idna in c:\\users\\suhai\\anaconda3\\lib\\site-packages (from trio~=0.17->selenium) (3.2)\n",
      "Requirement already satisfied: async-generator>=1.9 in c:\\users\\suhai\\anaconda3\\lib\\site-packages (from trio~=0.17->selenium) (1.10)\n",
      "Requirement already satisfied: pycparser in c:\\users\\suhai\\anaconda3\\lib\\site-packages (from cffi>=1.14->trio~=0.17->selenium) (2.20)\n",
      "Collecting wsproto>=0.14\n",
      "  Using cached wsproto-1.1.0-py3-none-any.whl (24 kB)\n",
      "Requirement already satisfied: PySocks!=1.5.7,<2.0,>=1.5.6 in c:\\users\\suhai\\anaconda3\\lib\\site-packages (from urllib3[secure,socks]~=1.26->selenium) (1.7.1)\n",
      "Requirement already satisfied: pyOpenSSL>=0.14 in c:\\users\\suhai\\anaconda3\\lib\\site-packages (from urllib3[secure,socks]~=1.26->selenium) (21.0.0)\n",
      "Requirement already satisfied: cryptography>=1.3.4 in c:\\users\\suhai\\anaconda3\\lib\\site-packages (from urllib3[secure,socks]~=1.26->selenium) (3.4.8)\n",
      "Requirement already satisfied: certifi in c:\\users\\suhai\\anaconda3\\lib\\site-packages (from urllib3[secure,socks]~=1.26->selenium) (2021.10.8)\n",
      "Requirement already satisfied: six>=1.5.2 in c:\\users\\suhai\\anaconda3\\lib\\site-packages (from pyOpenSSL>=0.14->urllib3[secure,socks]~=1.26->selenium) (1.16.0)\n",
      "Collecting h11<1,>=0.9.0\n",
      "  Using cached h11-0.13.0-py3-none-any.whl (58 kB)\n",
      "Installing collected packages: outcome, h11, wsproto, trio, trio-websocket, selenium\n",
      "Successfully installed h11-0.13.0 outcome-1.1.0 selenium-4.1.3 trio-0.20.0 trio-websocket-0.9.2 wsproto-1.1.0\n"
     ]
    }
   ],
   "source": [
    "!pip install selenium"
   ]
  },
  {
   "cell_type": "code",
   "execution_count": 1,
   "id": "13079746",
   "metadata": {},
   "outputs": [],
   "source": [
    "from selenium import webdriver\n",
    "from selenium.webdriver.support.ui import WebDriverWait\n",
    "from selenium.webdriver.common.by import By\n",
    "from selenium.webdriver.support import expected_conditions as EC\n",
    "from bs4 import BeautifulSoup"
   ]
  },
  {
   "cell_type": "code",
   "execution_count": 40,
   "id": "634fed3f",
   "metadata": {},
   "outputs": [
    {
     "name": "stderr",
     "output_type": "stream",
     "text": [
      "C:\\Users\\suhai\\AppData\\Local\\Temp\\ipykernel_6420\\3775187516.py:1: DeprecationWarning: executable_path has been deprecated, please pass in a Service object\n",
      "  driver=webdriver.Chrome('./Downloads/chromedriver.exe')\n"
     ]
    }
   ],
   "source": [
    "driver=webdriver.Chrome('./Downloads/chromedriver.exe')\n",
    "base_url=\"https://www.instagram.com/\"\n",
    "driver.get(base_url)"
   ]
  },
  {
   "cell_type": "markdown",
   "id": "d13b5335",
   "metadata": {},
   "source": [
    "### Send username and password"
   ]
  },
  {
   "cell_type": "code",
   "execution_count": 41,
   "id": "75388c27",
   "metadata": {},
   "outputs": [],
   "source": [
    "wait=WebDriverWait(driver,10)\n",
    "username=wait.until(EC.element_to_be_clickable((By.CSS_SELECTOR ,\"input[name='username']\")))\n",
    "password=wait.until(EC.element_to_be_clickable((By.CSS_SELECTOR ,\"input[name='password']\")))\n",
    "\n",
    "username.clear()\n",
    "password.clear()\n",
    "\n",
    "username.send_keys('sma.rt998')\n",
    "password.send_keys('jk6197920jk')\n",
    "\n",
    "login=wait.until(EC.element_to_be_clickable((By.CSS_SELECTOR ,\"button[type='submit']\"))).click()\n",
    "not_now=load_more=wait.until(EC.element_to_be_clickable((By.XPATH ,\"//button[contains(text(),'Not Now')]\")))"
   ]
  },
  {
   "cell_type": "markdown",
   "id": "e7b37730",
   "metadata": {},
   "source": [
    "### Fetch all the post links"
   ]
  },
  {
   "cell_type": "code",
   "execution_count": null,
   "id": "44117fa7",
   "metadata": {},
   "outputs": [],
   "source": [
    "old_page = driver.page_source\n",
    "links=[]\n",
    "\n",
    "while True:\n",
    "    driver.execute_script('window.scrollTo(0,document.body.scrollHeight)')\n",
    "    time.sleep(5)\n",
    "    new_page = driver.page_source\n",
    "    if new_page != old_page:\n",
    "        old_page = new_page\n",
    "        \n",
    "        soup = BeautifulSoup(old_page,features=\"lxml\")\n",
    "        hrefs=soup.find_all('a', {'href': re.compile(r'/p/[a-zA-Z0-9]')})\n",
    "        for href in hrefs:\n",
    "            url=href['href']\n",
    "            full_url=base_url+url\n",
    "            links.append(full_url)\n"
   ]
  },
  {
   "cell_type": "markdown",
   "id": "cc09029d",
   "metadata": {},
   "source": [
    "### Fetch date, no of comments and likes"
   ]
  },
  {
   "cell_type": "code",
   "execution_count": 46,
   "id": "6dd44ef1",
   "metadata": {},
   "outputs": [],
   "source": [
    "from lxml import etree"
   ]
  },
  {
   "cell_type": "code",
   "execution_count": 65,
   "id": "c438dcb2",
   "metadata": {
    "scrolled": true
   },
   "outputs": [],
   "source": [
    "# timer=[]\n",
    "# liker=[]\n",
    "# commenter=[]\n",
    "for link in links[340:]:\n",
    "    driver.get(link)\n",
    "    soup = BeautifulSoup(driver.page_source,features=\"lxml\")\n",
    "    \n",
    "    try:\n",
    "        timings=soup.find('time', {'class': \"_1o9PC\"})\n",
    "        timer.append(timings.text)\n",
    "    except:\n",
    "        timer.append(\"None\")\n",
    "        pass\n",
    "    \n",
    "    try:\n",
    "        comments=soup.find_all('ul',{'class':'Mr508'})\n",
    "        commenter.append(len(comments))\n",
    "    except:\n",
    "        commenter.append(\"None\")\n",
    "        pass\n",
    "    \n",
    "    try:\n",
    "        dom = etree.HTML(str(soup))\n",
    "        likes=dom.xpath('//*[@id=\"react-root\"]/div/div/section/main/div/div[1]/article/div/div[3]/div/div/section[2]/div/div/div/a/div/span')[0]\n",
    "        liker.append(likes.text)\n",
    "\n",
    "    except:\n",
    "        liker.append(\"None\")\n",
    "        pass"
   ]
  },
  {
   "cell_type": "code",
   "execution_count": 80,
   "id": "648f5d38",
   "metadata": {},
   "outputs": [],
   "source": [
    "driver.quit()"
   ]
  },
  {
   "cell_type": "code",
   "execution_count": 73,
   "id": "8f891011",
   "metadata": {},
   "outputs": [],
   "source": [
    "timer=timer[:-18]\n",
    "commenter=commenter[:-18]\n",
    "liker=liker[:-18]"
   ]
  },
  {
   "cell_type": "code",
   "execution_count": 79,
   "id": "01ebdc2b",
   "metadata": {},
   "outputs": [],
   "source": [
    "import pandas as pd\n",
    "pd.DataFrame({\"Date\":timer,\"number_of_Likes\":liker,\"number_of_Comments\":commenter}).to_csv('InstaAnalytics.csv',index=False)"
   ]
  },
  {
   "cell_type": "code",
   "execution_count": null,
   "id": "6f568a3a",
   "metadata": {},
   "outputs": [],
   "source": []
  }
 ],
 "metadata": {
  "kernelspec": {
   "display_name": "Python 3 (ipykernel)",
   "language": "python",
   "name": "python3"
  },
  "language_info": {
   "codemirror_mode": {
    "name": "ipython",
    "version": 3
   },
   "file_extension": ".py",
   "mimetype": "text/x-python",
   "name": "python",
   "nbconvert_exporter": "python",
   "pygments_lexer": "ipython3",
   "version": "3.9.7"
  }
 },
 "nbformat": 4,
 "nbformat_minor": 5
}
