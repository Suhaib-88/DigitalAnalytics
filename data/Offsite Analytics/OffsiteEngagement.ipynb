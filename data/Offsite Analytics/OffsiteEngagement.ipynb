{
 "cells": [
  {
   "cell_type": "code",
   "execution_count": 1,
   "id": "85cac98e",
   "metadata": {},
   "outputs": [
    {
     "name": "stderr",
     "output_type": "stream",
     "text": [
      "[nltk_data] Downloading package vader_lexicon to\n",
      "[nltk_data]     C:\\Users\\suhai\\AppData\\Roaming\\nltk_data...\n",
      "[nltk_data]   Package vader_lexicon is already up-to-date!\n"
     ]
    },
    {
     "data": {
      "text/plain": [
       "True"
      ]
     },
     "execution_count": 1,
     "metadata": {},
     "output_type": "execute_result"
    }
   ],
   "source": [
    "import pandas as pd\n",
    "import seaborn as sns\n",
    "import numpy as np\n",
    "import matplotlib.pyplot as plt\n",
    "import nltk\n",
    "nltk.download('vader_lexicon')"
   ]
  },
  {
   "cell_type": "code",
   "execution_count": 2,
   "id": "b443c594",
   "metadata": {},
   "outputs": [],
   "source": [
    "df=pd.read_csv(\"C:\\\\Users\\\\suhai\\\\InstaFake\\\\Digital Analytics\\\\Offsite Analytics\\\\offsite.csv\")"
   ]
  },
  {
   "cell_type": "code",
   "execution_count": 3,
   "id": "2792f127",
   "metadata": {
    "scrolled": true
   },
   "outputs": [],
   "source": [
    "df['comment_agents']=df.comment_agent.apply(lambda x:str(x).split(\")\")[0].split('(')[-1].split(';')[0])"
   ]
  },
  {
   "cell_type": "code",
   "execution_count": 4,
   "id": "fcc1b512",
   "metadata": {},
   "outputs": [],
   "source": [
    "df=df.replace('X11','Linux')"
   ]
  },
  {
   "cell_type": "code",
   "execution_count": 6,
   "id": "5aec19b8",
   "metadata": {},
   "outputs": [],
   "source": [
    "df.drop('comment_agent',axis=1,inplace=True)"
   ]
  },
  {
   "cell_type": "code",
   "execution_count": 5,
   "id": "99b97f2b",
   "metadata": {},
   "outputs": [
    {
     "data": {
      "text/html": [
       "<div>\n",
       "<style scoped>\n",
       "    .dataframe tbody tr th:only-of-type {\n",
       "        vertical-align: middle;\n",
       "    }\n",
       "\n",
       "    .dataframe tbody tr th {\n",
       "        vertical-align: top;\n",
       "    }\n",
       "\n",
       "    .dataframe thead th {\n",
       "        text-align: right;\n",
       "    }\n",
       "</style>\n",
       "<table border=\"1\" class=\"dataframe\">\n",
       "  <thead>\n",
       "    <tr style=\"text-align: right;\">\n",
       "      <th></th>\n",
       "      <th>comment_date</th>\n",
       "      <th>comment_post_ID</th>\n",
       "      <th>post_title</th>\n",
       "      <th>comment_content</th>\n",
       "      <th>comment_author</th>\n",
       "      <th>comment_agent</th>\n",
       "      <th>comment_agents</th>\n",
       "    </tr>\n",
       "  </thead>\n",
       "  <tbody>\n",
       "    <tr>\n",
       "      <th>0</th>\n",
       "      <td>2020-06-23 08:09:02</td>\n",
       "      <td>158</td>\n",
       "      <td>Father day gifts</td>\n",
       "      <td>such a beautiful creativity person u r 😊</td>\n",
       "      <td>Major</td>\n",
       "      <td>Mozilla/5.0 (Windows NT 6.3; Win64; x64) Apple...</td>\n",
       "      <td>Windows NT 6.3</td>\n",
       "    </tr>\n",
       "    <tr>\n",
       "      <th>1</th>\n",
       "      <td>2020-06-29 22:17:21</td>\n",
       "      <td>158</td>\n",
       "      <td>anniversary gifts</td>\n",
       "      <td>Its a waste of time!!</td>\n",
       "      <td>Maria</td>\n",
       "      <td>Mozilla/5.0 (X11; Linux x86_64) AppleWebKit/53...</td>\n",
       "      <td>Linux</td>\n",
       "    </tr>\n",
       "    <tr>\n",
       "      <th>2</th>\n",
       "      <td>2020-06-30 18:17:59</td>\n",
       "      <td>158</td>\n",
       "      <td>Mothers day Surprises</td>\n",
       "      <td>I loved it thank you for this blog</td>\n",
       "      <td>Parbrize JAGUAR XF X250 2013</td>\n",
       "      <td>Mozilla/5.0 (Windows; U; Windows NT 5.2; en-US...</td>\n",
       "      <td>Windows</td>\n",
       "    </tr>\n",
       "    <tr>\n",
       "      <th>3</th>\n",
       "      <td>2020-07-09 09:56:30</td>\n",
       "      <td>157</td>\n",
       "      <td>Surprise your hubbies</td>\n",
       "      <td>did not expect these ideas</td>\n",
       "      <td>Barney stinson</td>\n",
       "      <td>The Incutio XML-RPC PHP Library -- WordPress/5...</td>\n",
       "      <td>The Incutio XML-RPC PHP Library -- WordPress/5...</td>\n",
       "    </tr>\n",
       "    <tr>\n",
       "      <th>4</th>\n",
       "      <td>2020-07-09 09:56:59</td>\n",
       "      <td>1</td>\n",
       "      <td>Friendship day surpise gifts</td>\n",
       "      <td>I am mad because this want upto expectations</td>\n",
       "      <td>Barney stinson</td>\n",
       "      <td>The Incutio XML-RPC PHP Library -- WordPress/5...</td>\n",
       "      <td>The Incutio XML-RPC PHP Library -- WordPress/5...</td>\n",
       "    </tr>\n",
       "    <tr>\n",
       "      <th>...</th>\n",
       "      <td>...</td>\n",
       "      <td>...</td>\n",
       "      <td>...</td>\n",
       "      <td>...</td>\n",
       "      <td>...</td>\n",
       "      <td>...</td>\n",
       "      <td>...</td>\n",
       "    </tr>\n",
       "    <tr>\n",
       "      <th>58</th>\n",
       "      <td>2021-12-03 17:47:38</td>\n",
       "      <td>666</td>\n",
       "      <td>Congrats surprise ideas</td>\n",
       "      <td>No offence but these were basic</td>\n",
       "      <td>Harry wells</td>\n",
       "      <td>Mozilla/5.0 (Windows NT 6.1; WOW64) AppleWebKi...</td>\n",
       "      <td>Windows NT 6.1</td>\n",
       "    </tr>\n",
       "    <tr>\n",
       "      <th>59</th>\n",
       "      <td>2021-12-03 17:47:51</td>\n",
       "      <td>707</td>\n",
       "      <td>gift ideas for your brother</td>\n",
       "      <td>Its such Cute ideas</td>\n",
       "      <td>Harry wells</td>\n",
       "      <td>Mozilla/5.0 (compatible; Konqueror/3.1-rc4; i6...</td>\n",
       "      <td>compatible</td>\n",
       "    </tr>\n",
       "    <tr>\n",
       "      <th>60</th>\n",
       "      <td>2021-12-03 17:48:10</td>\n",
       "      <td>834</td>\n",
       "      <td>gift ideas for your sister</td>\n",
       "      <td>what a waste of time.</td>\n",
       "      <td>Harry wells</td>\n",
       "      <td>Mozilla/5.0 (compatible; Konqueror/3.1-rc4; i6...</td>\n",
       "      <td>compatible</td>\n",
       "    </tr>\n",
       "    <tr>\n",
       "      <th>61</th>\n",
       "      <td>2021-12-06 19:18:51</td>\n",
       "      <td>666</td>\n",
       "      <td>Valentines day surpise gifts</td>\n",
       "      <td>Superb!  Definitely a great idea.</td>\n",
       "      <td>Shawna</td>\n",
       "      <td>Mozilla/5.0 (X11; Linux i686; rv:52.9) Gecko/2...</td>\n",
       "      <td>Linux</td>\n",
       "    </tr>\n",
       "    <tr>\n",
       "      <th>62</th>\n",
       "      <td>2021-12-19 11:53:38</td>\n",
       "      <td>1</td>\n",
       "      <td>Republic day surpise gifts</td>\n",
       "      <td>I cant believe how bad the ideas were</td>\n",
       "      <td>Antonioses</td>\n",
       "      <td>Mozilla/5.0 (Windows NT 6.3; Win64; x64) Apple...</td>\n",
       "      <td>Windows NT 6.3</td>\n",
       "    </tr>\n",
       "  </tbody>\n",
       "</table>\n",
       "<p>63 rows × 7 columns</p>\n",
       "</div>"
      ],
      "text/plain": [
       "           comment_date  comment_post_ID                    post_title  \\\n",
       "0   2020-06-23 08:09:02              158              Father day gifts   \n",
       "1   2020-06-29 22:17:21              158             anniversary gifts   \n",
       "2   2020-06-30 18:17:59              158         Mothers day Surprises   \n",
       "3   2020-07-09 09:56:30              157         Surprise your hubbies   \n",
       "4   2020-07-09 09:56:59                1  Friendship day surpise gifts   \n",
       "..                  ...              ...                           ...   \n",
       "58  2021-12-03 17:47:38              666       Congrats surprise ideas   \n",
       "59  2021-12-03 17:47:51              707   gift ideas for your brother   \n",
       "60  2021-12-03 17:48:10              834    gift ideas for your sister   \n",
       "61  2021-12-06 19:18:51              666  Valentines day surpise gifts   \n",
       "62  2021-12-19 11:53:38                1    Republic day surpise gifts   \n",
       "\n",
       "                                 comment_content  \\\n",
       "0       such a beautiful creativity person u r 😊   \n",
       "1                          Its a waste of time!!   \n",
       "2             I loved it thank you for this blog   \n",
       "3                     did not expect these ideas   \n",
       "4   I am mad because this want upto expectations   \n",
       "..                                           ...   \n",
       "58               No offence but these were basic   \n",
       "59                           Its such Cute ideas   \n",
       "60                         what a waste of time.   \n",
       "61             Superb!  Definitely a great idea.   \n",
       "62         I cant believe how bad the ideas were   \n",
       "\n",
       "                  comment_author  \\\n",
       "0                          Major   \n",
       "1                          Maria   \n",
       "2   Parbrize JAGUAR XF X250 2013   \n",
       "3                 Barney stinson   \n",
       "4                 Barney stinson   \n",
       "..                           ...   \n",
       "58                   Harry wells   \n",
       "59                   Harry wells   \n",
       "60                   Harry wells   \n",
       "61                        Shawna   \n",
       "62                    Antonioses   \n",
       "\n",
       "                                        comment_agent  \\\n",
       "0   Mozilla/5.0 (Windows NT 6.3; Win64; x64) Apple...   \n",
       "1   Mozilla/5.0 (X11; Linux x86_64) AppleWebKit/53...   \n",
       "2   Mozilla/5.0 (Windows; U; Windows NT 5.2; en-US...   \n",
       "3   The Incutio XML-RPC PHP Library -- WordPress/5...   \n",
       "4   The Incutio XML-RPC PHP Library -- WordPress/5...   \n",
       "..                                                ...   \n",
       "58  Mozilla/5.0 (Windows NT 6.1; WOW64) AppleWebKi...   \n",
       "59  Mozilla/5.0 (compatible; Konqueror/3.1-rc4; i6...   \n",
       "60  Mozilla/5.0 (compatible; Konqueror/3.1-rc4; i6...   \n",
       "61  Mozilla/5.0 (X11; Linux i686; rv:52.9) Gecko/2...   \n",
       "62  Mozilla/5.0 (Windows NT 6.3; Win64; x64) Apple...   \n",
       "\n",
       "                                       comment_agents  \n",
       "0                                      Windows NT 6.3  \n",
       "1                                               Linux  \n",
       "2                                             Windows  \n",
       "3   The Incutio XML-RPC PHP Library -- WordPress/5...  \n",
       "4   The Incutio XML-RPC PHP Library -- WordPress/5...  \n",
       "..                                                ...  \n",
       "58                                     Windows NT 6.1  \n",
       "59                                         compatible  \n",
       "60                                         compatible  \n",
       "61                                              Linux  \n",
       "62                                     Windows NT 6.3  \n",
       "\n",
       "[63 rows x 7 columns]"
      ]
     },
     "execution_count": 5,
     "metadata": {},
     "output_type": "execute_result"
    }
   ],
   "source": [
    "df"
   ]
  },
  {
   "cell_type": "markdown",
   "id": "7ba68e4d",
   "metadata": {},
   "source": [
    "#### Most Popular Operating System Used?"
   ]
  },
  {
   "cell_type": "code",
   "execution_count": 11,
   "id": "351e8d94",
   "metadata": {},
   "outputs": [
    {
     "name": "stderr",
     "output_type": "stream",
     "text": [
      "C:\\Users\\suhai\\anaconda3\\lib\\site-packages\\seaborn\\_decorators.py:36: FutureWarning: Pass the following variable as a keyword arg: x. From version 0.12, the only valid positional argument will be `data`, and passing other arguments without an explicit keyword will result in an error or misinterpretation.\n",
      "  warnings.warn(\n"
     ]
    },
    {
     "data": {
      "image/png": "[encoded data removed]",
      "text/plain": [
       "<Figure size 432x360 with 1 Axes>"
      ]
     },
     "metadata": {
      "needs_background": "light"
     },
     "output_type": "display_data"
    }
   ],
   "source": [
    "plt.figure(figsize=(6,5))\n",
    "sns.countplot(df.comment_agents)\n",
    "plt.xticks(rotation=90)\n",
    "plt.savefig('Os.jpg')"
   ]
  },
  {
   "cell_type": "markdown",
   "id": "e14ebea8",
   "metadata": {},
   "source": [
    "##### Windows followed by linux then macintosh"
   ]
  },
  {
   "cell_type": "code",
   "execution_count": 12,
   "id": "7f0b1003",
   "metadata": {},
   "outputs": [],
   "source": [
    "df.comment_date=pd.to_datetime(df.comment_date)"
   ]
  },
  {
   "cell_type": "code",
   "execution_count": 13,
   "id": "c83fe7d3",
   "metadata": {},
   "outputs": [],
   "source": [
    "df['year']=df.comment_date.dt.year\n",
    "df['month']=df.comment_date.dt.month\n",
    "df['day']=df.comment_date.dt.day\n",
    "df['hour']=df.comment_date.dt.hour\n",
    "df['minutes']=df.comment_date.dt.minute"
   ]
  },
  {
   "cell_type": "markdown",
   "id": "7521d87e",
   "metadata": {},
   "source": [
    "#### What time of day has most engagement?"
   ]
  },
  {
   "cell_type": "code",
   "execution_count": 14,
   "id": "ba90ea3a",
   "metadata": {},
   "outputs": [],
   "source": [
    "df['time_of_the_day']=''\n",
    "df.loc[(df.hour>=18)& (df.hour<24),'time_of_the_day']='Night'\n",
    "df.loc[(df.hour>=12)& (df.hour<18),'time_of_the_day']='Afternoon'\n",
    "df.loc[df['time_of_the_day']=='','time_of_the_day']='Morning'"
   ]
  },
  {
   "cell_type": "code",
   "execution_count": 16,
   "id": "832c0afc",
   "metadata": {},
   "outputs": [
    {
     "name": "stderr",
     "output_type": "stream",
     "text": [
      "C:\\Users\\suhai\\anaconda3\\lib\\site-packages\\seaborn\\_decorators.py:36: FutureWarning: Pass the following variable as a keyword arg: x. From version 0.12, the only valid positional argument will be `data`, and passing other arguments without an explicit keyword will result in an error or misinterpretation.\n",
      "  warnings.warn(\n"
     ]
    },
    {
     "data": {
      "image/png": "[encoded data removed]",
      "text/plain": [
       "<Figure size 432x360 with 1 Axes>"
      ]
     },
     "metadata": {
      "needs_background": "light"
     },
     "output_type": "display_data"
    }
   ],
   "source": [
    "plt.figure(figsize=(6,5))\n",
    "sns.countplot(df['time_of_the_day'])\n",
    "plt.xticks(rotation=90)\n",
    "plt.savefig('timeofday.jpg')"
   ]
  },
  {
   "cell_type": "markdown",
   "id": "4d897808",
   "metadata": {},
   "source": [
    "Morning time is the best for publishing articles"
   ]
  },
  {
   "cell_type": "markdown",
   "id": "915ac25b",
   "metadata": {},
   "source": [
    "#### What month has highest engagement?"
   ]
  },
  {
   "cell_type": "code",
   "execution_count": 17,
   "id": "fa4f1a4d",
   "metadata": {},
   "outputs": [
    {
     "name": "stderr",
     "output_type": "stream",
     "text": [
      "C:\\Users\\suhai\\anaconda3\\lib\\site-packages\\seaborn\\_decorators.py:36: FutureWarning: Pass the following variable as a keyword arg: x. From version 0.12, the only valid positional argument will be `data`, and passing other arguments without an explicit keyword will result in an error or misinterpretation.\n",
      "  warnings.warn(\n"
     ]
    },
    {
     "data": {
      "image/png": "[encoded data removed]",
      "text/plain": [
       "<Figure size 432x360 with 1 Axes>"
      ]
     },
     "metadata": {
      "needs_background": "light"
     },
     "output_type": "display_data"
    }
   ],
   "source": [
    "plt.figure(figsize=(6,5))\n",
    "sns.countplot(df['month'])\n",
    "plt.xticks(rotation=90)\n",
    "plt.savefig('monthly.jpg')"
   ]
  },
  {
   "cell_type": "markdown",
   "id": "61a1313b",
   "metadata": {},
   "source": [
    "December had the highest engagement"
   ]
  },
  {
   "cell_type": "code",
   "execution_count": 18,
   "id": "7cfa999f",
   "metadata": {},
   "outputs": [],
   "source": [
    "from nltk.sentiment import SentimentIntensityAnalyzer\n",
    "import operator\n",
    "sia = SentimentIntensityAnalyzer()\n",
    "df[\"sentiment_score\"] = df[\"comment_content\"].apply(lambda x: sia.polarity_scores(x)[\"compound\"])\n",
    "df[\"sentiment\"] = np.select([df[\"sentiment_score\"] < 0, df[\"sentiment_score\"] == 0, df[\"sentiment_score\"] > 0],\n",
    "                           ['negative', 'neutral', 'positive'])"
   ]
  },
  {
   "cell_type": "code",
   "execution_count": 19,
   "id": "180a18a9",
   "metadata": {},
   "outputs": [
    {
     "name": "stderr",
     "output_type": "stream",
     "text": [
      "C:\\Users\\suhai\\anaconda3\\lib\\site-packages\\seaborn\\_decorators.py:36: FutureWarning: Pass the following variable as a keyword arg: x. From version 0.12, the only valid positional argument will be `data`, and passing other arguments without an explicit keyword will result in an error or misinterpretation.\n",
      "  warnings.warn(\n"
     ]
    },
    {
     "data": {
      "image/png": "[encoded data removed]",
      "text/plain": [
       "<Figure size 432x360 with 1 Axes>"
      ]
     },
     "metadata": {
      "needs_background": "light"
     },
     "output_type": "display_data"
    }
   ],
   "source": [
    "plt.figure(figsize=(6,5))\n",
    "\n",
    "sns.countplot(df.sentiment)\n",
    "plt.savefig('sentimental.jpg')"
   ]
  },
  {
   "cell_type": "code",
   "execution_count": 114,
   "id": "6b48a047",
   "metadata": {},
   "outputs": [
    {
     "data": {
      "text/plain": [
       "0                     Father day gifts\n",
       "2                Mothers day Surprises\n",
       "5                babyshower gift ideas\n",
       "7     Raksha bandhan day surpise gifts\n",
       "8                   Easter Sunday gift\n",
       "10                  Surprise your pets\n",
       "13                    babyshower gifts\n",
       "14                  Surprise your pets\n",
       "16              anniversary gift ideas\n",
       "17               Fathers day Surprises\n",
       "20        Friendship day surpise gifts\n",
       "22                babyshower surprises\n",
       "23        Valentines day surpise gifts\n",
       "24          gift ideas for your mother\n",
       "26               Mothers day Surprises\n",
       "27                   Mothers day gifts\n",
       "28          Republic day surpise gifts\n",
       "30                  birthday surprises\n",
       "34          gift ideas for your father\n",
       "35          gift ideas for your sister\n",
       "37    Raksha bandhan day surpise gifts\n",
       "38                    Father day gifts\n",
       "42         gift ideas for your brother\n",
       "44               Surprise your hubbies\n",
       "46                      Birthday gifts\n",
       "48          gift ideas for your mother\n",
       "50          Surprise your well wishers\n",
       "52               anniversary surprises\n",
       "53          Republic day surpise gifts\n",
       "54                      Congrats gifts\n",
       "56        Friendship day surpise gifts\n",
       "57                   Mothers day gifts\n",
       "59         gift ideas for your brother\n",
       "61        Valentines day surpise gifts\n",
       "62          Republic day surpise gifts\n",
       "Name: post_title, dtype: object"
      ]
     },
     "execution_count": 114,
     "metadata": {},
     "output_type": "execute_result"
    }
   ],
   "source": [
    "df[df['sentiment']=='positive']['post_title']"
   ]
  },
  {
   "cell_type": "code",
   "execution_count": 115,
   "id": "bbf66d0a",
   "metadata": {},
   "outputs": [
    {
     "data": {
      "text/plain": [
       "1                    anniversary gifts\n",
       "4         Friendship day surpise gifts\n",
       "9                      Earth day gifts\n",
       "11          gift ideas for your father\n",
       "12          Surprise your well wishers\n",
       "21               Mothers day Surprises\n",
       "29                Surprise your friend\n",
       "31                 birthday gift ideas\n",
       "36          gift ideas for your sister\n",
       "39               Surprise your hubbies\n",
       "40                     Earth day gifts\n",
       "45         gift ideas for your brother\n",
       "47    Raksha bandhan day surpise gifts\n",
       "49                Good friday surprise\n",
       "51               Fathers day Surprises\n",
       "55          gift ideas for your mother\n",
       "58             Congrats surprise ideas\n",
       "60          gift ideas for your sister\n",
       "Name: post_title, dtype: object"
      ]
     },
     "execution_count": 115,
     "metadata": {},
     "output_type": "execute_result"
    }
   ],
   "source": [
    "df[df['sentiment']=='negative']['post_title']"
   ]
  },
  {
   "cell_type": "code",
   "execution_count": 116,
   "id": "e0901115",
   "metadata": {},
   "outputs": [
    {
     "data": {
      "text/plain": [
       "3          Surprise your hubbies\n",
       "6     Surprise your well wishers\n",
       "15          Surprise your friend\n",
       "18             Mothers day gifts\n",
       "19               Earth day gifts\n",
       "25              Father day gifts\n",
       "32          Surprise your friend\n",
       "33            Surprise your pets\n",
       "41         Fathers day Surprises\n",
       "43    gift ideas for your father\n",
       "Name: post_title, dtype: object"
      ]
     },
     "execution_count": 116,
     "metadata": {},
     "output_type": "execute_result"
    }
   ],
   "source": [
    "df[df['sentiment']=='neutral']['post_title']"
   ]
  },
  {
   "cell_type": "code",
   "execution_count": 25,
   "id": "17914e48",
   "metadata": {},
   "outputs": [
    {
     "data": {
      "image/png": "[encoded data removed]",
      "text/plain": [
       "<Figure size 432x360 with 1 Axes>"
      ]
     },
     "metadata": {
      "needs_background": "light"
     },
     "output_type": "display_data"
    }
   ],
   "source": [
    "plt.figure(figsize=(6,5))\n",
    "sns.histplot(df['sentiment_score'])\n",
    "plt.savefig('sentimentScore.jpg')"
   ]
  }
 ],
 "metadata": {
  "kernelspec": {
   "display_name": "Python 3 (ipykernel)",
   "language": "python",
   "name": "python3"
  },
  "language_info": {
   "codemirror_mode": {
    "name": "ipython",
    "version": 3
   },
   "file_extension": ".py",
   "mimetype": "text/x-python",
   "name": "python",
   "nbconvert_exporter": "python",
   "pygments_lexer": "ipython3",
   "version": "3.9.7"
  }
 },
 "nbformat": 4,
 "nbformat_minor": 5
}
